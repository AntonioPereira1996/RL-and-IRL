{
 "metadata": {
  "name": "Exp9"
 },
 "nbformat": 3,
 "nbformat_minor": 0,
 "worksheets": [
  {
   "cells": [
    {
     "cell_type": "code",
     "collapsed": false,
     "input": [
      "from stuff import *\n",
      "from pylab import *\n",
      "from random import *\n",
      "import numpy\n",
      "from rl import *"
     ],
     "language": "python",
     "metadata": {},
     "outputs": [],
     "prompt_number": 1
    },
    {
     "cell_type": "code",
     "collapsed": false,
     "input": [
      "#Classification code\n",
      "def asterix_single_phi(psi_a):\n",
      "    psi = psi_a[:1000]\n",
      "    a = psi_a[-1]\n",
      "    answer = zeros((18000,1))\n",
      "    index = a*1000\n",
      "    answer[index:index+1000,0] = psi\n",
      "    return answer\n",
      "asterix_phi = non_scalar_vectorize(asterix_single_phi, (1001,), (18000,1))\n",
      "\n",
      "\n",
      "\n",
      "#Structured Classifier\n",
      "class GradientDescent(object):\n",
      "   def alpha( self, t ):\n",
      "      raise NotImplementedError, \"Cannot call abstract method\"\n",
      "\n",
      "   theta_0=None\n",
      "   Threshold=None\n",
      "   T = -1\n",
      "   sign = None\n",
      "        \n",
      "   def run( self, f_grad, f_proj=None, b_norm=False ): #grad is a function of theta\n",
      "      theta = self.theta_0.copy()\n",
      "      best_theta = theta.copy()\n",
      "      best_norm = float(\"inf\")\n",
      "      best_iter = 0\n",
      "      t=0\n",
      "      while True:#Do...while loop\n",
      "         t+=1\n",
      "         DeltaTheta = f_grad( theta )\n",
      "         current_norm = norm( DeltaTheta )\n",
      "         if b_norm and  current_norm > 0.:\n",
      "             DeltaTheta /= norm( DeltaTheta )\n",
      "         theta = theta + self.sign * self.alpha( t )*DeltaTheta\n",
      "         if f_proj:\n",
      "             theta = f_proj( theta )\n",
      "         print \"Norme du gradient : \"+str(current_norm)+\", pas : \"+str(self.alpha(t))+\", iteration : \"+str(t)\n",
      "\n",
      "         if current_norm < best_norm:\n",
      "             best_norm = current_norm\n",
      "             best_theta = theta.copy()\n",
      "             best_iter = t\n",
      "         if current_norm < self.Threshold or (self.T != -1 and t >= self.T):\n",
      "             break\n",
      "\n",
      "      print \"Gradient de norme : \"+str(best_norm)+\", a l'iteration : \"+str(best_iter)\n",
      "      return best_theta\n",
      "\n",
      "\n",
      "class StructuredClassifier(GradientDescent):\n",
      "    sign=-1.\n",
      "    Threshold=0.1 #Sensible default\n",
      "    T=100 #Sensible default\n",
      "    phi=asterix_phi\n",
      "    label_set=None\n",
      "    \n",
      "    def alpha(self, t):\n",
      "        return 3./(t+1)#Sensible default\n",
      "    \n",
      "    def __init__(self, psi, actions, nb_actions):\n",
      "        self.label_set=range(0,nb_actions)\n",
      "        self.N,self.K = psi.shape\n",
      "        self.A = nb_actions\n",
      "        self.theta_0 = zeros(self.K*self.A)\n",
      "        self.ExpertDecision = zeros((self.N,self.A))\n",
      "        for i,j in zip( range(0,self.N), actions.reshape(self.N) ):\n",
      "            self.ExpertDecision[i,j] = 1.\n",
      "        self.Structure = array(self.ExpertDecision!=1)\n",
      "        self.ExpertDecision = self.ExpertDecision.reshape(self.N,self.A,1)\n",
      "        self.Psi_3 = array([[p for i in range(0,self.A)] for p in psi])\n",
      "        self.Phi = self.ExpertDecision*self.Psi_3\n",
      "        self.Phi = self.Phi.reshape(self.N,self.K*self.A)\n",
      "        self.Psi = psi\n",
      "    \n",
      "    def gradient(self, theta):\n",
      "        theta_2 = hstack([theta[i*self.K:(i+1)*self.K].reshape((self.K,1)) for i in range(0,self.A)])\n",
      "        score = dot(self.Psi,theta_2)+self.Structure\n",
      "        maxScore = dot(score.max(axis=1).reshape((self.N,1)),ones((1,self.A)))\n",
      "        decision = (score==maxScore).reshape(self.N,self.A,1)\n",
      "        #We restrict ourselves to one arbitrary decision\n",
      "        for i in range(0,self.N):\n",
      "            gotOne = False\n",
      "            for j in range(0,self.A):\n",
      "                if decision[i,j] and not gotOne:\n",
      "                    gotOne = True\n",
      "                elif decision[i,j] and gotOne:\n",
      "                    decision[i,j] = False\n",
      "        phi_star = decision*self.Psi_3\n",
      "        phi_star = phi_star.reshape(self.N,self.K*self.A)\n",
      "        return mean(phi_star-self.Phi,axis=0)\n",
      "    \n",
      "    def run(self):\n",
      "        f_grad = lambda theta: self.gradient(theta)\n",
      "        theta = super(StructuredClassifier,self).run( f_grad, b_norm=True)\n",
      "        return theta\n"
     ],
     "language": "python",
     "metadata": {},
     "outputs": [],
     "prompt_number": 7
    },
    {
     "cell_type": "code",
     "collapsed": false,
     "input": [
      "Psi = genfromtxt('asterix/psi2.mat')\n",
      "A = genfromtxt('asterix/actions2.mat')\n",
      "A = A.reshape((len(A),1))\n",
      "ACTION_SPACE = range(0,18)\n",
      "Psi.shape,A.shape"
     ],
     "language": "python",
     "metadata": {},
     "outputs": [
      {
       "output_type": "pyout",
       "prompt_number": 3,
       "text": [
        "((325, 1000), (325, 1))"
       ]
      }
     ],
     "prompt_number": 3
    },
    {
     "cell_type": "code",
     "collapsed": false,
     "input": [
      "#Running the classifier gives pi_c and q\n",
      "clf = StructuredClassifier(Psi, A, 18)\n",
      "theta_C = clf.run()\n",
      "q = lambda sa: squeeze(dot(theta_C.transpose(),asterix_phi(sa)))\n",
      "savetxt(\"CSI_asterix_theta_C.mat\", theta_C)"
     ],
     "language": "python",
     "metadata": {},
     "outputs": [
      {
       "output_type": "stream",
       "stream": "stdout",
       "text": [
        "Norme du gradient : 24.5704096822, pas : 1.5, iteration : 1\n",
        "Norme du gradient : 12.5215890252, pas : 1.0, iteration : 2"
       ]
      },
      {
       "output_type": "stream",
       "stream": "stdout",
       "text": [
        "\n",
        "Norme du gradient : 13.7506793807, pas : 0.75, iteration : 3"
       ]
      },
      {
       "output_type": "stream",
       "stream": "stdout",
       "text": [
        "\n",
        "Norme du gradient : 8.5642183932, pas : 0.6, iteration : 4"
       ]
      },
      {
       "output_type": "stream",
       "stream": "stdout",
       "text": [
        "\n",
        "Norme du gradient : 7.51692370667, pas : 0.5, iteration : 5"
       ]
      },
      {
       "output_type": "stream",
       "stream": "stdout",
       "text": [
        "\n",
        "Norme du gradient : 8.65101970937, pas : 0.428571428571, iteration : 6"
       ]
      },
      {
       "output_type": "stream",
       "stream": "stdout",
       "text": [
        "\n",
        "Norme du gradient : 7.32577325926, pas : 0.375, iteration : 7"
       ]
      },
      {
       "output_type": "stream",
       "stream": "stdout",
       "text": [
        "\n",
        "Norme du gradient : 6.31295540275, pas : 0.333333333333, iteration : 8"
       ]
      },
      {
       "output_type": "stream",
       "stream": "stdout",
       "text": [
        "\n",
        "Norme du gradient : 2.87877028316, pas : 0.3, iteration : 9"
       ]
      },
      {
       "output_type": "stream",
       "stream": "stdout",
       "text": [
        "\n",
        "Norme du gradient : 4.13831169303, pas : 0.272727272727, iteration : 10"
       ]
      },
      {
       "output_type": "stream",
       "stream": "stdout",
       "text": [
        "\n",
        "Norme du gradient : 1.71169869604, pas : 0.25, iteration : 11"
       ]
      },
      {
       "output_type": "stream",
       "stream": "stdout",
       "text": [
        "\n",
        "Norme du gradient : 3.31129249511, pas : 0.230769230769, iteration : 12"
       ]
      },
      {
       "output_type": "stream",
       "stream": "stdout",
       "text": [
        "\n",
        "Norme du gradient : 1.82454533527, pas : 0.214285714286, iteration : 13"
       ]
      },
      {
       "output_type": "stream",
       "stream": "stdout",
       "text": [
        "\n",
        "Norme du gradient : 0.788761293864, pas : 0.2, iteration : 14"
       ]
      },
      {
       "output_type": "stream",
       "stream": "stdout",
       "text": [
        "\n",
        "Norme du gradient : 4.88425268187, pas : 0.1875, iteration : 15"
       ]
      },
      {
       "output_type": "stream",
       "stream": "stdout",
       "text": [
        "\n",
        "Norme du gradient : 0.834078877544, pas : 0.176470588235, iteration : 16"
       ]
      },
      {
       "output_type": "stream",
       "stream": "stdout",
       "text": [
        "\n",
        "Norme du gradient : 1.20362371993, pas : 0.166666666667, iteration : 17"
       ]
      },
      {
       "output_type": "stream",
       "stream": "stdout",
       "text": [
        "\n",
        "Norme du gradient : 0.946192619593, pas : 0.157894736842, iteration : 18"
       ]
      },
      {
       "output_type": "stream",
       "stream": "stdout",
       "text": [
        "\n",
        "Norme du gradient : 0.635323148452, pas : 0.15, iteration : 19"
       ]
      },
      {
       "output_type": "stream",
       "stream": "stdout",
       "text": [
        "\n",
        "Norme du gradient : 1.73997755546, pas : 0.142857142857, iteration : 20"
       ]
      },
      {
       "output_type": "stream",
       "stream": "stdout",
       "text": [
        "\n",
        "Norme du gradient : 0.971294506188, pas : 0.136363636364, iteration : 21"
       ]
      },
      {
       "output_type": "stream",
       "stream": "stdout",
       "text": [
        "\n",
        "Norme du gradient : 0.424102254054, pas : 0.130434782609, iteration : 22"
       ]
      },
      {
       "output_type": "stream",
       "stream": "stdout",
       "text": [
        "\n",
        "Norme du gradient : 0.606411503224, pas : 0.125, iteration : 23"
       ]
      },
      {
       "output_type": "stream",
       "stream": "stdout",
       "text": [
        "\n",
        "Norme du gradient : 0.632694996487, pas : 0.12, iteration : 24"
       ]
      },
      {
       "output_type": "stream",
       "stream": "stdout",
       "text": [
        "\n",
        "Norme du gradient : 0.695411844259, pas : 0.115384615385, iteration : 25"
       ]
      },
      {
       "output_type": "stream",
       "stream": "stdout",
       "text": [
        "\n",
        "Norme du gradient : 0.402947718576, pas : 0.111111111111, iteration : 26"
       ]
      },
      {
       "output_type": "stream",
       "stream": "stdout",
       "text": [
        "\n",
        "Norme du gradient : 0.396935002802, pas : 0.107142857143, iteration : 27"
       ]
      },
      {
       "output_type": "stream",
       "stream": "stdout",
       "text": [
        "\n",
        "Norme du gradient : 0.462153436444, pas : 0.103448275862, iteration : 28"
       ]
      },
      {
       "output_type": "stream",
       "stream": "stdout",
       "text": [
        "\n",
        "Norme du gradient : 0.751588455939, pas : 0.1, iteration : 29"
       ]
      },
      {
       "output_type": "stream",
       "stream": "stdout",
       "text": [
        "\n",
        "Norme du gradient : 0.276101344913, pas : 0.0967741935484, iteration : 30"
       ]
      },
      {
       "output_type": "stream",
       "stream": "stdout",
       "text": [
        "\n",
        "Norme du gradient : 0.0, pas : 0.09375, iteration : 31"
       ]
      },
      {
       "output_type": "stream",
       "stream": "stdout",
       "text": [
        "\n",
        "Gradient de norme : 0.0, a l'iteration : 31\n"
       ]
      }
     ],
     "prompt_number": 8
    },
    {
     "cell_type": "code",
     "collapsed": false,
     "input": [
      "#Regressor code\n",
      "q = lambda sa: squeeze(dot(theta_C.transpose(),asterix_phi(sa)))"
     ],
     "language": "python",
     "metadata": {},
     "outputs": [],
     "prompt_number": 15
    },
    {
     "cell_type": "code",
     "collapsed": false,
     "input": [
      "#Running the regressio code yelds 18 theta matrices, one per action\n",
      "column_shape = (len(Psi)-1,1)\n",
      "s = Psi[:-1,:]\n",
      "s.shape\n",
      "a = A[:-1].reshape(column_shape)\n",
      "sa = hstack([s,a])\n",
      "s_dash = Psi[1:,:]\n",
      "a_dash = -ones(column_shape)\n",
      "#a_dash = pi_c(s_dash).reshape(column_shape)\n",
      "theta_2 = hstack([theta_C[i*1000:(i+1)*1000].reshape((1000,1)) for i in range(0,18)])\n",
      "score = dot(s_dash,theta_2)\n",
      "maxScore = dot(score.max(axis=1).reshape((len(Psi)-1,1)),ones((1,18)))\n",
      "decision = (score==maxScore).reshape(len(Psi)-1,18,1)\n",
      "for i in range(0,len(Psi)-1):\n",
      "    gotOne = False\n",
      "    for j in range(0,18):\n",
      "        if decision[i,j] and not gotOne:\n",
      "            gotOne = True\n",
      "            a_dash[i] = j\n",
      "        elif decision[i,j] and gotOne:\n",
      "            decision[i,j] = False\n",
      "sa_dash = hstack([s_dash,a_dash])\n",
      "hat_r = (q(sa)-GAMMA*q(sa_dash)).reshape(column_shape)\n",
      "r_min = min(hat_r)-1.*ones(column_shape)"
     ],
     "language": "python",
     "metadata": {},
     "outputs": [],
     "prompt_number": 20
    },
    {
     "cell_type": "code",
     "collapsed": false,
     "input": [
      "thetas = zeros((18,1000))\n",
      "for action in ACTION_SPACE:\n",
      "    X = s\n",
      "    hat_r_bool_table = array(a==action)\n",
      "    r_min_bool_table = array(hat_r_bool_table==False) #\"not hat_r_bool_table\" does not work as I expected\n",
      "    Y =  hat_r_bool_table*hat_r + r_min_bool_table*r_min\n",
      "    if sum(hat_r_bool_table) == 0:\n",
      "        thetas[action] = zeros(1000)\n",
      "    else:\n",
      "        thetas[action] = squeeze( dot(dot(inv(dot(X.transpose(),X)+0.1*identity(X.shape[1])),X.transpose()),Y) )\n",
      "    "
     ],
     "language": "python",
     "metadata": {},
     "outputs": [],
     "prompt_number": 21
    },
    {
     "cell_type": "code",
     "collapsed": false,
     "input": [
      "savetxt(\"CSI_asterix_thetas.mat\", thetas)"
     ],
     "language": "python",
     "metadata": {},
     "outputs": [
      {
       "output_type": "pyout",
       "prompt_number": 26,
       "text": [
        "0.12360699467094478"
       ]
      }
     ],
     "prompt_number": 26
    }
   ],
   "metadata": {}
  }
 ]
}