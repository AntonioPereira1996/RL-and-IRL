{
 "metadata": {
  "name": "Exp9"
 },
 "nbformat": 3,
 "nbformat_minor": 0,
 "worksheets": [
  {
   "cells": [
    {
     "cell_type": "code",
     "collapsed": false,
     "input": [
      "psi = genfromtxt('asterix/psi.mat')\n",
      "a = genfromtxt('asterix/actions.mat')\n",
      "psi.shape,a.shape"
     ],
     "language": "python",
     "metadata": {},
     "outputs": [
      {
       "output_type": "pyout",
       "prompt_number": 1,
       "text": [
        "((1047, 1000), (1047,))"
       ]
      }
     ],
     "prompt_number": 1
    }
   ],
   "metadata": {}
  }
 ]
}