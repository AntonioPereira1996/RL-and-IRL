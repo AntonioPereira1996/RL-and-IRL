{
 "metadata": {
  "name": "Exp16"
 },
 "nbformat": 3,
 "nbformat_minor": 0,
 "worksheets": [
  {
   "cells": [
    {
     "cell_type": "code",
     "collapsed": false,
     "input": [
      "#All IRL algs on the perturbed Highway\n",
      "from DP import *\n",
      "from pylab import *\n",
      "P = genfromtxt(\"Highway_P.mat\")\n",
      "perturbed_P = zeros(P.shape)\n",
      "#Let's add, with probability 0.1 a small value to each element of P\n",
      "for i in range(0,len(P)):\n",
      "    for j in range(0,len(P[i])):\n",
      "        perturbed_P[i,j] = P[i,j]\n",
      "        if rand()<0.1:\n",
      "            perturbed_P[i,j] += rand()*0.01\n",
      "    perturbed_P[i] /= sum(perturbed_P[i])\n",
      "assert all(f_eq(perturbed_P.sum(axis=1), 1)), \"A probabaility matrix's lines should sum to 1\"\n",
      "savetxt(\"Highway_perturbed_P.mat\",perturbed_P)"
     ],
     "language": "python",
     "metadata": {},
     "outputs": [],
     "prompt_number": 9
    }
   ],
   "metadata": {}
  }
 ]
}