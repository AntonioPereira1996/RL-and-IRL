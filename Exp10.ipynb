{
 "metadata": {
  "name": "Exp10"
 },
 "nbformat": 3,
 "nbformat_minor": 0,
 "worksheets": [
  {
   "cells": [
    {
     "cell_type": "code",
     "collapsed": false,
     "input": [
      "#Relative Entropy on the Highway\n",
      "from DP import *\n",
      "P = genfromtxt(\"Highway_P.mat\")\n",
      "R = genfromtxt(\"Highway_R.mat\")\n",
      "Gamma = 0.99"
     ],
     "language": "python",
     "metadata": {},
     "outputs": [],
     "prompt_number": 1
    },
    {
     "cell_type": "code",
     "collapsed": false,
     "input": [
      "%load_ext autoreload\n",
      "%autoreload 2"
     ],
     "language": "python",
     "metadata": {},
     "outputs": [],
     "prompt_number": 2
    },
    {
     "cell_type": "code",
     "collapsed": false,
     "input": [
      "sqrt(-log2(1-0.0001)/(2*100))*(pow(0.99,(100+1))-1)/(0.99-1)#Epsilon"
     ],
     "language": "python",
     "metadata": {},
     "outputs": [
      {
       "output_type": "pyout",
       "prompt_number": 27,
       "text": [
        "0.054156488522175208"
       ]
      }
     ],
     "prompt_number": 27
    },
    {
     "cell_type": "code",
     "collapsed": false,
     "input": [
      "#Relative Entropy\n",
      "class GradientDescent(object):\n",
      "   def alpha( self, t ):\n",
      "      raise NotImplementedError, \"Cannot call abstract method\"\n",
      "\n",
      "   theta_0=None\n",
      "   Threshold=None\n",
      "   T = -1\n",
      "   sign = None\n",
      "        \n",
      "   def run( self, f_grad, f_proj=None, b_norm=False, b_best=True ): #grad is a function of theta\n",
      "      theta = self.theta_0.copy()\n",
      "      best_theta = theta.copy()\n",
      "      best_norm = float(\"inf\")\n",
      "      best_iter = 0\n",
      "      t=0\n",
      "      while True:#Do...while loop\n",
      "         t+=1\n",
      "         DeltaTheta = f_grad( theta )\n",
      "         current_norm = norm( DeltaTheta )\n",
      "         if b_norm and  current_norm > 0.:\n",
      "             DeltaTheta /= norm( DeltaTheta )\n",
      "         theta = theta + self.sign * self.alpha( t )*DeltaTheta\n",
      "         if f_proj:\n",
      "             theta = f_proj( theta )\n",
      "         print \"Norme du gradient : \"+str(current_norm)+\", pas : \"+str(self.alpha(t))+\", iteration : \"+str(t)\n",
      "\n",
      "         if current_norm < best_norm or not b_best:\n",
      "             best_norm = current_norm\n",
      "             best_theta = theta.copy()\n",
      "             best_iter = t\n",
      "         if current_norm < self.Threshold or (self.T != -1 and t >= self.T):\n",
      "             break\n",
      "\n",
      "      print \"Gradient de norme : \"+str(best_norm)+\", a l'iteration : \"+str(best_iter)\n",
      "      return best_theta\n",
      "                            \n",
      "class RelativeEntropy(GradientDescent):\n",
      "    sign=+1.\n",
      "    Threshold=0.01 #Sensible default\n",
      "    T=50 #Sensible default\n",
      "    Epsilon = 0.05 #RelEnt parameter, sensible default\n",
      "\n",
      "    def alpha(self, t):\n",
      "        return 1./(t+1)#Sensible default\n",
      "    \n",
      "    def __init__(self, mu_E, mus):\n",
      "        self.theta_0 = zeros(mu_E.shape)\n",
      "        self.Mu_E = mu_E\n",
      "        self.Mus = mus\n",
      "    \n",
      "    def gradient(self, theta):\n",
      "        numerator = 0\n",
      "        denominator = 0\n",
      "        for mu in self.Mus:\n",
      "            c = exp(dot(theta.transpose(),mu))\n",
      "            numerator += c*mu\n",
      "            denominator += c\n",
      "        assert denominator != 0,\"A sum of exp(...) is null, some black magic happened here.\"\n",
      "        return self.Mu_E - numerator/denominator - sign(theta)*self.Epsilon\n",
      "    \n",
      "    def run(self):\n",
      "        f_grad = lambda theta: self.gradient(theta)\n",
      "        theta = super(RelativeEntropy,self).run( f_grad, b_norm=True, b_best=False)\n",
      "        return theta\n"
     ],
     "language": "python",
     "metadata": {},
     "outputs": [],
     "prompt_number": 39
    },
    {
     "cell_type": "code",
     "collapsed": false,
     "input": [
      "Highway = MDP(P,R)\n",
      "mPi_E, V_E, Pi_E = Highway.optimal_policy()"
     ],
     "language": "python",
     "metadata": {},
     "outputs": [
      {
       "output_type": "stream",
       "stream": "stdout",
       "text": [
        "MDP OK3\n",
        "Shape of P (3645, 729)\n",
        "Shape of R (3645,)\n",
        "Card of S 729\n",
        "Card of A 5\n",
        "Card of SA 3645\n",
        "Iteration 0, 729\tactions changed."
       ]
      },
      {
       "output_type": "stream",
       "stream": "stdout",
       "text": [
        "\n",
        "Iteration 0, 578\tactions changed."
       ]
      },
      {
       "output_type": "stream",
       "stream": "stdout",
       "text": [
        "\n",
        "Iteration 0, 730\tactions changed."
       ]
      },
      {
       "output_type": "stream",
       "stream": "stdout",
       "text": [
        "\n",
        "Iteration 0, 360\tactions changed."
       ]
      },
      {
       "output_type": "stream",
       "stream": "stdout",
       "text": [
        "\n",
        "Iteration 0, 190\tactions changed."
       ]
      },
      {
       "output_type": "stream",
       "stream": "stdout",
       "text": [
        "\n",
        "Iteration 0, 22\tactions changed."
       ]
      },
      {
       "output_type": "stream",
       "stream": "stdout",
       "text": [
        "\n",
        "Iteration 0, 2\tactions changed."
       ]
      },
      {
       "output_type": "stream",
       "stream": "stdout",
       "text": [
        "\n",
        "Iteration 0, 0\tactions changed."
       ]
      },
      {
       "output_type": "stream",
       "stream": "stdout",
       "text": [
        "\n"
       ]
      }
     ],
     "prompt_number": 4
    },
    {
     "cell_type": "code",
     "collapsed": false,
     "input": [
      "rho = lambda : int(rand()*729) #uniform distribtion over S\n",
      "D_E = Highway.D_func(Pi_E, 1, 100,  rho)"
     ],
     "language": "python",
     "metadata": {},
     "outputs": [],
     "prompt_number": 5
    },
    {
     "cell_type": "code",
     "collapsed": false,
     "input": [
      "Mu_E = zeros((3645,1))\n",
      "for i in range(0,100):\n",
      "    s = D_E[i][0]\n",
      "    a = D_E[i][1]\n",
      "    Mu_E[s + a*729] += pow(Gamma,i)\n",
      "Mu_E /= 100.\n",
      "Mu_E.shape"
     ],
     "language": "python",
     "metadata": {},
     "outputs": [
      {
       "output_type": "pyout",
       "prompt_number": 6,
       "text": [
        "(3645, 1)"
       ]
      }
     ],
     "prompt_number": 6
    },
    {
     "cell_type": "code",
     "collapsed": false,
     "input": [
      "random_policy = lambda s: int(rand()*5)\n",
      "Mus = []\n",
      "for i in range(0,100):\n",
      "    D = Highway.D_func(random_policy, 1, 10, rho)\n",
      "    mu = zeros((3645,1))\n",
      "    for i in range(0,10):\n",
      "        s = D[i][0]\n",
      "        a = D[i][1]\n",
      "        mu[s + a*729] += pow(Gamma,i)\n",
      "    mu /= 10.\n",
      "    Mus.append(mu)\n",
      "Mus.append(Mu_E)\n",
      "\n"
     ],
     "language": "python",
     "metadata": {},
     "outputs": [],
     "prompt_number": 17
    },
    {
     "cell_type": "code",
     "collapsed": false,
     "input": [
      "RE = RelativeEntropy(Mu_E, Mus)\n",
      "reward_RE = RE.run()"
     ],
     "language": "python",
     "metadata": {},
     "outputs": [
      {
       "output_type": "stream",
       "stream": "stdout",
       "text": [
        "Norme du gradient : 0.150566033387, pas : 0.5, iteration : 1\n",
        "Norme du gradient : 1.39369991395, pas : 0.333333333333, iteration : 2\n",
        "Norme du gradient : 1.4585096489, pas : 0.25, iteration : 3\n",
        "Norme du gradient : 1.39897420672, pas : 0.2, iteration : 4\n",
        "Norme du gradient : 1.45041541029, pas : 0.166666666667, iteration : 5\n",
        "Norme du gradient : 1.43812433149, pas : 0.142857142857, iteration : 6\n",
        "Norme du gradient : 1.41615622178, pas : 0.125, iteration : 7\n",
        "Norme du gradient : 1.43997017933, pas : 0.111111111111, iteration : 8\n",
        "Norme du gradient : 1.41634980953, pas : 0.1, iteration : 9\n",
        "Norme du gradient : 1.39997205794, pas : 0.0909090909091, iteration : 10\n",
        "Norme du gradient : 1.45572519117, pas : 0.0833333333333, iteration : 11\n",
        "Norme du gradient : 1.4248348251, pas : 0.0769230769231, iteration : 12\n",
        "Norme du gradient : 1.43010025519, pas : 0.0714285714286, iteration : 13\n",
        "Norme du gradient : 1.41052102246, pas : 0.0666666666667, iteration : 14\n",
        "Norme du gradient : 1.43689222929, pas : 0.0625, iteration : 15\n",
        "Norme du gradient : 1.42200260603, pas : 0.0588235294118, iteration : 16"
       ]
      },
      {
       "output_type": "stream",
       "stream": "stdout",
       "text": [
        "\n",
        "Norme du gradient : 1.42930157459, pas : 0.0555555555556, iteration : 17\n",
        "Norme du gradient : 1.42552230774, pas : 0.0526315789474, iteration : 18\n",
        "Norme du gradient : 1.43182124117, pas : 0.05, iteration : 19\n",
        "Norme du gradient : 1.41628842129, pas : 0.047619047619, iteration : 20\n",
        "Norme du gradient : 1.43921902171, pas : 0.0454545454545, iteration : 21\n",
        "Norme du gradient : 1.42231680823, pas : 0.0434782608696, iteration : 22\n",
        "Norme du gradient : 1.4356182074, pas : 0.0416666666667, iteration : 23\n",
        "Norme du gradient : 1.42201455242, pas : 0.04, iteration : 24\n",
        "Norme du gradient : 1.4345519148, pas : 0.0384615384615, iteration : 25\n",
        "Norme du gradient : 1.41495721196, pas : 0.037037037037, iteration : 26\n",
        "Norme du gradient : 1.44287188486, pas : 0.0357142857143, iteration : 27\n",
        "Norme du gradient : 1.41832944044, pas : 0.0344827586207, iteration : 28\n",
        "Norme du gradient : 1.43782116139, pas : 0.0333333333333, iteration : 29\n",
        "Norme du gradient : 1.417658883, pas : 0.0322580645161, iteration : 30\n",
        "Norme du gradient : 1.43881323644, pas : 0.03125, iteration : 31\n",
        "Norme du gradient : 1.4209746717, pas : 0.030303030303, iteration : 32\n",
        "Norme du gradient : 1.43645835567, pas : 0.0294117647059, iteration : 33\n",
        "Norme du gradient : 1.41316570444, pas : 0.0285714285714, iteration : 34"
       ]
      },
      {
       "output_type": "stream",
       "stream": "stdout",
       "text": [
        "\n",
        "Norme du gradient : 1.44462528046, pas : 0.0277777777778, iteration : 35\n",
        "Norme du gradient : 1.41609369877, pas : 0.027027027027, iteration : 36\n",
        "Norme du gradient : 1.43866115422, pas : 0.0263157894737, iteration : 37\n",
        "Norme du gradient : 1.41095516688, pas : 0.025641025641, iteration : 38\n",
        "Norme du gradient : 1.44678391577, pas : 0.025, iteration : 39\n",
        "Norme du gradient : 1.40058671449, pas : 0.0243902439024, iteration : 40\n",
        "Norme du gradient : 1.45682293434, pas : 0.0238095238095, iteration : 41\n",
        "Norme du gradient : 1.40284278694, pas : 0.0232558139535, iteration : 42\n",
        "Norme du gradient : 1.4529435771, pas : 0.0227272727273, iteration : 43\n",
        "Norme du gradient : 1.40613480799, pas : 0.0222222222222, iteration : 44\n",
        "Norme du gradient : 1.45264611518, pas : 0.0217391304348, iteration : 45\n",
        "Norme du gradient : 1.40487491526, pas : 0.0212765957447, iteration : 46\n",
        "Norme du gradient : 1.45137265074, pas : 0.0208333333333, iteration : 47\n",
        "Norme du gradient : 1.4085364903, pas : 0.0204081632653, iteration : 48\n",
        "Norme du gradient : 1.44887205458, pas : 0.02, iteration : 49\n",
        "Norme du gradient : 1.40068752989, pas : 0.0196078431373, iteration : 50\n",
        "Gradient de norme : 1.40068752989, a l'iteration : 50\n"
       ]
      }
     ],
     "prompt_number": 40
    },
    {
     "cell_type": "code",
     "collapsed": false,
     "input": [
      "reward_RE.shape\n",
      "Highway2 = MDP(P,reward_RE)\n",
      "mPi_A, V_A, Pi_A = Highway2.optimal_policy()\n",
      "true_V_A = linalg.solve( identity( 729 ) - 0.9*dot(mPi_A,P), dot( mPi_A, R) )\n",
      "mean(true_V_A),mean(V_E)"
     ],
     "language": "python",
     "metadata": {},
     "outputs": [
      {
       "output_type": "stream",
       "stream": "stdout",
       "text": [
        "MDP OK3\n",
        "Shape of P (3645, 729)\n",
        "Shape of R (3645, 1)\n",
        "Card of S 729\n",
        "Card of A 5\n",
        "Card of SA 3645\n",
        "Iteration 0, 729\tactions changed."
       ]
      },
      {
       "output_type": "stream",
       "stream": "stdout",
       "text": [
        "\n",
        "Iteration 0, 1002\tactions changed."
       ]
      },
      {
       "output_type": "stream",
       "stream": "stdout",
       "text": [
        "\n",
        "Iteration 0, 718\tactions changed."
       ]
      },
      {
       "output_type": "stream",
       "stream": "stdout",
       "text": [
        "\n",
        "Iteration 0, 342\tactions changed."
       ]
      },
      {
       "output_type": "stream",
       "stream": "stdout",
       "text": [
        "\n",
        "Iteration 0, 148\tactions changed."
       ]
      },
      {
       "output_type": "stream",
       "stream": "stdout",
       "text": [
        "\n",
        "Iteration 0, 42\tactions changed."
       ]
      },
      {
       "output_type": "stream",
       "stream": "stdout",
       "text": [
        "\n",
        "Iteration 0, 12\tactions changed."
       ]
      },
      {
       "output_type": "stream",
       "stream": "stdout",
       "text": [
        "\n",
        "Iteration 0, 2\tactions changed."
       ]
      },
      {
       "output_type": "stream",
       "stream": "stdout",
       "text": [
        "\n",
        "Iteration 0, 0\tactions changed."
       ]
      },
      {
       "output_type": "stream",
       "stream": "stdout",
       "text": [
        "\n"
       ]
      }
     ],
     "prompt_number": 42
    },
    {
     "cell_type": "code",
     "collapsed": false,
     "input": [
      "Highway3 = MDP(P,rand(3645,1))\n",
      "mPi_R, V_R, Pi_R = Highway3.optimal_policy()\n",
      "true_V_R = linalg.solve( identity( 729 ) - 0.9*dot(mPi_R,P), dot( mPi_R, R) )\n",
      "mean(true_V_A),mean(true_V_R),mean(V_E)"
     ],
     "language": "python",
     "metadata": {},
     "outputs": [
      {
       "output_type": "stream",
       "stream": "stdout",
       "text": [
        "MDP OK3\n",
        "Shape of P (3645, 729)\n",
        "Shape of R (3645, 1)\n",
        "Card of S 729\n",
        "Card of A 5\n",
        "Card of SA 3645\n",
        "Iteration 0, 729\tactions changed."
       ]
      },
      {
       "output_type": "stream",
       "stream": "stdout",
       "text": [
        "\n",
        "Iteration 0, 450\tactions changed."
       ]
      },
      {
       "output_type": "stream",
       "stream": "stdout",
       "text": [
        "\n",
        "Iteration 0, 222\tactions changed."
       ]
      },
      {
       "output_type": "stream",
       "stream": "stdout",
       "text": [
        "\n",
        "Iteration 0, 106\tactions changed."
       ]
      },
      {
       "output_type": "stream",
       "stream": "stdout",
       "text": [
        "\n",
        "Iteration 0, 48\tactions changed."
       ]
      },
      {
       "output_type": "stream",
       "stream": "stdout",
       "text": [
        "\n",
        "Iteration 0, 18\tactions changed."
       ]
      },
      {
       "output_type": "stream",
       "stream": "stdout",
       "text": [
        "\n",
        "Iteration 0, 4\tactions changed."
       ]
      },
      {
       "output_type": "stream",
       "stream": "stdout",
       "text": [
        "\n",
        "Iteration 0, 0\tactions changed."
       ]
      },
      {
       "output_type": "stream",
       "stream": "stdout",
       "text": [
        "\n"
       ]
      },
      {
       "output_type": "pyout",
       "prompt_number": 48,
       "text": [
        "(3.3311495980777068, -0.40121414013759238, 4.8854580487980499)"
       ]
      }
     ],
     "prompt_number": 48
    }
   ],
   "metadata": {}
  }
 ]
}