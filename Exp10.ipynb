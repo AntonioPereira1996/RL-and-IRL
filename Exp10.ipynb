{
 "metadata": {
  "name": "Exp10"
 },
 "nbformat": 3,
 "nbformat_minor": 0,
 "worksheets": [
  {
   "cells": [
    {
     "cell_type": "code",
     "collapsed": false,
     "input": [
      "#Relative Entropy on the Highway\n",
      "from DP import *\n",
      "P = genfromtxt(\"Highway_P.mat\")\n",
      "R = genfromtxt(\"Highway_R.mat\")\n",
      "Gamma = 0.99"
     ],
     "language": "python",
     "metadata": {},
     "outputs": [],
     "prompt_number": 1
    },
    {
     "cell_type": "code",
     "collapsed": false,
     "input": [
      "%load_ext autoreload\n",
      "%autoreload 2"
     ],
     "language": "python",
     "metadata": {},
     "outputs": [],
     "prompt_number": 2
    },
    {
     "cell_type": "code",
     "collapsed": false,
     "input": [
      "sqrt(-log2(1-0.0001)/(2*100))*(pow(0.99,(100+1))-1)/(0.99-1)#Epsilon"
     ],
     "language": "python",
     "metadata": {},
     "outputs": [
      {
       "output_type": "pyout",
       "prompt_number": 3,
       "text": [
        "0.054156488522175208"
       ]
      }
     ],
     "prompt_number": 3
    },
    {
     "cell_type": "code",
     "collapsed": false,
     "input": [
      "#Relative Entropy\n",
      "class GradientDescent(object):\n",
      "   def alpha( self, t ):\n",
      "      raise NotImplementedError, \"Cannot call abstract method\"\n",
      "\n",
      "   theta_0=None\n",
      "   Threshold=None\n",
      "   T = -1\n",
      "   sign = None\n",
      "        \n",
      "   def run( self, f_grad, f_proj=None, b_norm=False, b_best=True ): #grad is a function of theta\n",
      "      theta = self.theta_0.copy()\n",
      "      best_theta = theta.copy()\n",
      "      best_norm = float(\"inf\")\n",
      "      best_iter = 0\n",
      "      t=0\n",
      "      while True:#Do...while loop\n",
      "         t+=1\n",
      "         DeltaTheta = f_grad( theta )\n",
      "         current_norm = norm( DeltaTheta )\n",
      "         if b_norm and  current_norm > 0.:\n",
      "             DeltaTheta /= norm( DeltaTheta )\n",
      "         theta = theta + self.sign * self.alpha( t )*DeltaTheta\n",
      "         if f_proj:\n",
      "             theta = f_proj( theta )\n",
      "         print \"Norme du gradient : \"+str(current_norm)+\", pas : \"+str(self.alpha(t))+\", iteration : \"+str(t)\n",
      "\n",
      "         if current_norm < best_norm or not b_best:\n",
      "             best_norm = current_norm\n",
      "             best_theta = theta.copy()\n",
      "             best_iter = t\n",
      "         if current_norm < self.Threshold or (self.T != -1 and t >= self.T):\n",
      "             break\n",
      "\n",
      "      print \"Gradient de norme : \"+str(best_norm)+\", a l'iteration : \"+str(best_iter)\n",
      "      return best_theta\n",
      "                            \n",
      "class RelativeEntropy(GradientDescent):\n",
      "    sign=+1.\n",
      "    Threshold=0.01 #Sensible default\n",
      "    T=50 #Sensible default\n",
      "    Epsilon = 0.05 #RelEnt parameter, sensible default\n",
      "\n",
      "    def alpha(self, t):\n",
      "        return 1./(t+1)#Sensible default\n",
      "    \n",
      "    def __init__(self, mu_E, mus):\n",
      "        self.theta_0 = zeros(mu_E.shape)\n",
      "        self.Mu_E = mu_E\n",
      "        self.Mus = mus\n",
      "    \n",
      "    def gradient(self, theta):\n",
      "        numerator = 0\n",
      "        denominator = 0\n",
      "        for mu in self.Mus:\n",
      "            c = exp(dot(theta.transpose(),mu))\n",
      "            numerator += c*mu\n",
      "            denominator += c\n",
      "        assert denominator != 0,\"A sum of exp(...) is null, some black magic happened here.\"\n",
      "        return self.Mu_E - numerator/denominator - sign(theta)*self.Epsilon\n",
      "    \n",
      "    def run(self):\n",
      "        f_grad = lambda theta: self.gradient(theta)\n",
      "        theta = super(RelativeEntropy,self).run( f_grad, b_norm=True, b_best=False)\n",
      "        return theta\n"
     ],
     "language": "python",
     "metadata": {},
     "outputs": [],
     "prompt_number": 4
    },
    {
     "cell_type": "code",
     "collapsed": false,
     "input": [
      "Highway = MDP(P,R)\n",
      "mPi_E, V_E, Pi_E = Highway.optimal_policy()"
     ],
     "language": "python",
     "metadata": {},
     "outputs": [
      {
       "output_type": "stream",
       "stream": "stdout",
       "text": [
        "MDP OK3\n",
        "Shape of P (3645, 729)\n",
        "Shape of R (3645,)\n",
        "Card of S 729\n",
        "Card of A 5\n",
        "Card of SA 3645\n",
        "Iteration 0, 888\tactions changed."
       ]
      },
      {
       "output_type": "stream",
       "stream": "stdout",
       "text": [
        "\n",
        "Iteration 1, 800\tactions changed."
       ]
      },
      {
       "output_type": "stream",
       "stream": "stdout",
       "text": [
        "\n",
        "Iteration 2, 234\tactions changed."
       ]
      },
      {
       "output_type": "stream",
       "stream": "stdout",
       "text": [
        "\n",
        "Iteration 3, 50\tactions changed."
       ]
      },
      {
       "output_type": "stream",
       "stream": "stdout",
       "text": [
        "\n",
        "Iteration 4, 0\tactions changed."
       ]
      },
      {
       "output_type": "stream",
       "stream": "stdout",
       "text": [
        "\n"
       ]
      }
     ],
     "prompt_number": 5
    },
    {
     "cell_type": "code",
     "collapsed": false,
     "input": [
      "rho = lambda : int(rand()*729) #uniform distribtion over S\n",
      "l_D_E = [array(Highway.D_func(Pi_E, 1, 3,  rho)) for i in range(0,3)]\n",
      "D_E = vstack(l_D_E)"
     ],
     "language": "python",
     "metadata": {},
     "outputs": [],
     "prompt_number": 11
    },
    {
     "cell_type": "code",
     "collapsed": false,
     "input": [
      "Mu_E = zeros((3645,1))\n",
      "l_mu_E = []\n",
      "for episode in l_D_E:\n",
      "    mu = zeros((3645,1))\n",
      "    for i in range(0,len(episode)):\n",
      "        s = episode[i][0]\n",
      "        a = episode[i][1]\n",
      "        mu[s + a*729] += pow(Gamma,i)\n",
      "    mu /= float(len(episode))\n",
      "    l_mu_E.append(mu)\n",
      "Mu_E = mean(l_mu_E,axis=0)\n",
      "Mu_E.shape"
     ],
     "language": "python",
     "metadata": {},
     "outputs": [
      {
       "output_type": "pyout",
       "prompt_number": 12,
       "text": [
        "(3645, 1)"
       ]
      }
     ],
     "prompt_number": 12
    },
    {
     "cell_type": "code",
     "collapsed": false,
     "input": [
      "random_policy = lambda s: int(rand()*5)\n",
      "Mus = []\n",
      "for i in range(0,100):\n",
      "    D = Highway.D_func(random_policy, 1, 10, rho)\n",
      "    mu = zeros((3645,1))\n",
      "    for i in range(0,10):\n",
      "        s = D[i][0]\n",
      "        a = D[i][1]\n",
      "        mu[s + a*729] += pow(Gamma,i)\n",
      "    mu /= 10.\n",
      "    Mus.append(mu)\n",
      "Mus.append(Mu_E)\n",
      "\n"
     ],
     "language": "python",
     "metadata": {},
     "outputs": [],
     "prompt_number": 13
    },
    {
     "cell_type": "code",
     "collapsed": false,
     "input": [
      "RE = RelativeEntropy(Mu_E, Mus)\n",
      "reward_RE = RE.run()"
     ],
     "language": "python",
     "metadata": {},
     "outputs": [
      {
       "output_type": "stream",
       "stream": "stdout",
       "text": [
        "Norme du gradient : 0.327767989522, pas : 0.5, iteration : 1\n",
        "Norme du gradient : 1.40009407776, pas : 0.333333333333, iteration : 2\n",
        "Norme du gradient : 1.46584015817, pas : 0.25, iteration : 3\n",
        "Norme du gradient : 1.44306880582, pas : 0.2, iteration : 4\n",
        "Norme du gradient : 1.42355670231, pas : 0.166666666667, iteration : 5\n",
        "Norme du gradient : 1.46112558275, pas : 0.142857142857, iteration : 6\n",
        "Norme du gradient : 1.40498159006, pas : 0.125, iteration : 7\n",
        "Norme du gradient : 1.40008951036, pas : 0.111111111111, iteration : 8"
       ]
      },
      {
       "output_type": "stream",
       "stream": "stdout",
       "text": [
        "\n",
        "Norme du gradient : 1.46554697614, pas : 0.1, iteration : 9\n",
        "Norme du gradient : 1.42545637394, pas : 0.0909090909091, iteration : 10\n",
        "Norme du gradient : 1.44114103954, pas : 0.0833333333333, iteration : 11\n",
        "Norme du gradient : 1.42030892493, pas : 0.0769230769231, iteration : 12\n",
        "Norme du gradient : 1.44620540226, pas : 0.0714285714286, iteration : 13\n",
        "Norme du gradient : 1.40232700595, pas : 0.0666666666667, iteration : 14"
       ]
      },
      {
       "output_type": "stream",
       "stream": "stdout",
       "text": [
        "\n",
        "Norme du gradient : 1.46363945244, pas : 0.0625, iteration : 15\n",
        "Norme du gradient : 1.4131996038, pas : 0.0588235294118, iteration : 16\n",
        "Norme du gradient : 1.45274036508, pas : 0.0555555555556, iteration : 17\n",
        "Norme du gradient : 1.43143434358, pas : 0.0526315789474, iteration : 18\n",
        "Norme du gradient : 1.43221530492, pas : 0.05, iteration : 19\n",
        "Norme du gradient : 1.40824450806, pas : 0.047619047619, iteration : 20\n",
        "Norme du gradient : 1.45679758458, pas : 0.0454545454545, iteration : 21"
       ]
      },
      {
       "output_type": "stream",
       "stream": "stdout",
       "text": [
        "\n",
        "Norme du gradient : 1.40499050593, pas : 0.0434782608696, iteration : 22\n",
        "Norme du gradient : 1.46106543436, pas : 0.0416666666667, iteration : 23\n",
        "Norme du gradient : 1.42146569196, pas : 0.04, iteration : 24\n",
        "Norme du gradient : 1.44503881143, pas : 0.0384615384615, iteration : 25\n",
        "Norme du gradient : 1.41381259048, pas : 0.037037037037, iteration : 26\n",
        "Norme du gradient : 1.45252335814, pas : 0.0357142857143, iteration : 27\n",
        "Norme du gradient : 1.41338347957, pas : 0.0344827586207, iteration : 28"
       ]
      },
      {
       "output_type": "stream",
       "stream": "stdout",
       "text": [
        "\n",
        "Norme du gradient : 1.45293768491, pas : 0.0333333333333, iteration : 29\n",
        "Norme du gradient : 1.40871868428, pas : 0.0322580645161, iteration : 30\n",
        "Norme du gradient : 1.45745813851, pas : 0.03125, iteration : 31\n",
        "Norme du gradient : 1.41570621926, pas : 0.030303030303, iteration : 32\n",
        "Norme du gradient : 1.45066926838, pas : 0.0294117647059, iteration : 33\n",
        "Norme du gradient : 1.40943620028, pas : 0.0285714285714, iteration : 34\n",
        "Norme du gradient : 1.45675890597, pas : 0.0277777777778, iteration : 35"
       ]
      },
      {
       "output_type": "stream",
       "stream": "stdout",
       "text": [
        "\n",
        "Norme du gradient : 1.40022816019, pas : 0.027027027027, iteration : 36\n",
        "Norme du gradient : 1.46535604783, pas : 0.0263157894737, iteration : 37\n",
        "Norme du gradient : 1.41324639394, pas : 0.025641025641, iteration : 38\n",
        "Norme du gradient : 1.45305803249, pas : 0.025, iteration : 39\n",
        "Norme du gradient : 1.41286541461, pas : 0.0243902439024, iteration : 40\n",
        "Norme du gradient : 1.45342640995, pas : 0.0238095238095, iteration : 41\n",
        "Norme du gradient : 1.40498120245, pas : 0.0232558139535, iteration : 42\n",
        "Norme du gradient : 1.46104675539, pas : 0.0227272727273, iteration : 43"
       ]
      },
      {
       "output_type": "stream",
       "stream": "stdout",
       "text": [
        "\n",
        "Norme du gradient : 1.40480627223, pas : 0.0222222222222, iteration : 44\n",
        "Norme du gradient : 1.46121302863, pas : 0.0217391304348, iteration : 45\n",
        "Norme du gradient : 1.40492092723, pas : 0.0212765957447, iteration : 46\n",
        "Norme du gradient : 1.461100941, pas : 0.0208333333333, iteration : 47\n",
        "Norme du gradient : 1.41259336668, pas : 0.0204081632653, iteration : 48\n",
        "Norme du gradient : 1.45368294336, pas : 0.02, iteration : 49\n",
        "Norme du gradient : 1.40453766704, pas : 0.0196078431373, iteration : 50"
       ]
      },
      {
       "output_type": "stream",
       "stream": "stdout",
       "text": [
        "\n",
        "Gradient de norme : 1.40453766704, a l'iteration : 50\n"
       ]
      }
     ],
     "prompt_number": 14
    },
    {
     "cell_type": "code",
     "collapsed": false,
     "input": [
      "reward_RE.shape\n",
      "Highway2 = MDP(P,reward_RE)\n",
      "mPi_A, V_A, Pi_A = Highway2.optimal_policy()\n",
      "Highway.evaluate(mPi_A)"
     ],
     "language": "python",
     "metadata": {},
     "outputs": [
      {
       "output_type": "stream",
       "stream": "stdout",
       "text": [
        "MDP OK3\n",
        "Shape of P (3645, 729)\n",
        "Shape of R (3645, 1)\n",
        "Card of S 729\n",
        "Card of A 5\n",
        "Card of SA 3645\n",
        "Iteration 0, 1156\tactions changed."
       ]
      },
      {
       "output_type": "stream",
       "stream": "stdout",
       "text": [
        "\n",
        "Iteration 1, 922\tactions changed."
       ]
      },
      {
       "output_type": "stream",
       "stream": "stdout",
       "text": [
        "\n",
        "Iteration 2, 680\tactions changed."
       ]
      },
      {
       "output_type": "stream",
       "stream": "stdout",
       "text": [
        "\n",
        "Iteration 3, 348\tactions changed."
       ]
      },
      {
       "output_type": "stream",
       "stream": "stdout",
       "text": [
        "\n",
        "Iteration 4, 136\tactions changed."
       ]
      },
      {
       "output_type": "stream",
       "stream": "stdout",
       "text": [
        "\n",
        "Iteration 5, 52\tactions changed."
       ]
      },
      {
       "output_type": "stream",
       "stream": "stdout",
       "text": [
        "\n",
        "Iteration 6, 16\tactions changed."
       ]
      },
      {
       "output_type": "stream",
       "stream": "stdout",
       "text": [
        "\n",
        "Iteration 7, 0\tactions changed."
       ]
      },
      {
       "output_type": "stream",
       "stream": "stdout",
       "text": [
        "\n"
       ]
      },
      {
       "output_type": "pyout",
       "prompt_number": 15,
       "text": [
        "3.4241361609617362"
       ]
      }
     ],
     "prompt_number": 15
    },
    {
     "cell_type": "code",
     "collapsed": false,
     "input": [
      "Highway3 = MDP(P,rand(3645,1))\n",
      "mPi_R, V_R, Pi_R = Highway3.optimal_policy()\n",
      "true_V_R = linalg.solve( identity( 729 ) - 0.9*dot(mPi_R,P), dot( mPi_R, R) )\n",
      "mean(true_V_A),mean(true_V_R),mean(V_E)"
     ],
     "language": "python",
     "metadata": {},
     "outputs": [
      {
       "output_type": "stream",
       "stream": "stdout",
       "text": [
        "MDP OK3\n",
        "Shape of P (3645, 729)\n",
        "Shape of R (3645, 1)\n",
        "Card of S 729\n",
        "Card of A 5\n",
        "Card of SA 3645\n",
        "Iteration 0, 729\tactions changed."
       ]
      },
      {
       "output_type": "stream",
       "stream": "stdout",
       "text": [
        "\n",
        "Iteration 0, 450\tactions changed."
       ]
      },
      {
       "output_type": "stream",
       "stream": "stdout",
       "text": [
        "\n",
        "Iteration 0, 222\tactions changed."
       ]
      },
      {
       "output_type": "stream",
       "stream": "stdout",
       "text": [
        "\n",
        "Iteration 0, 106\tactions changed."
       ]
      },
      {
       "output_type": "stream",
       "stream": "stdout",
       "text": [
        "\n",
        "Iteration 0, 48\tactions changed."
       ]
      },
      {
       "output_type": "stream",
       "stream": "stdout",
       "text": [
        "\n",
        "Iteration 0, 18\tactions changed."
       ]
      },
      {
       "output_type": "stream",
       "stream": "stdout",
       "text": [
        "\n",
        "Iteration 0, 4\tactions changed."
       ]
      },
      {
       "output_type": "stream",
       "stream": "stdout",
       "text": [
        "\n",
        "Iteration 0, 0\tactions changed."
       ]
      },
      {
       "output_type": "stream",
       "stream": "stdout",
       "text": [
        "\n"
       ]
      },
      {
       "output_type": "pyout",
       "prompt_number": 48,
       "text": [
        "(3.3311495980777068, -0.40121414013759238, 4.8854580487980499)"
       ]
      }
     ],
     "prompt_number": 48
    }
   ],
   "metadata": {}
  }
 ]
}