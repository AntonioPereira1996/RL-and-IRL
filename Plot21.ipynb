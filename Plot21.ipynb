{
 "metadata": {
  "name": "Plot21"
 },
 "nbformat": 3,
 "nbformat_minor": 0,
 "worksheets": [
  {
   "cells": [
    {
     "cell_type": "code",
     "collapsed": false,
     "input": [
      "%load_ext autoreload\n",
      "%autoreload 2\n",
      "from DP import *\n",
      "from stuff import *\n",
      "from pylab import *\n",
      "from random import *\n",
      "import numpy\n",
      "from rl import *\n",
      "\n",
      "def next_states( state, action ):\n",
      "    \"Returns the list [[s,w],...] of next possible states and associated probability\"\n",
      "    x = state[0]\n",
      "    y = state[1]\n",
      "    x_south = x\n",
      "    y_south = y + 1 if y!=4 else 4\n",
      "    x_west = x - 1 if x!=0 else 0\n",
      "    y_west = y\n",
      "    x_east = x + 1 if x!=4 else 4\n",
      "    y_east = y \n",
      "    x_north = x\n",
      "    y_north = y - 1 if y!=0 else 0\n",
      "    weights = zeros((1,4)) + .1\n",
      "    weights[0,action] = 0.7\n",
      "    assert abs(sum(weights) - 1.) < 0.00001\n",
      "    states = map( array, [[x_south,y_south],[x_west,y_west],[x_east,y_east],[x_north,y_north]]) #Same order as specified in the textual description of the action space\n",
      "    return zip( states, weights[0] )\n",
      "def P( a ):\n",
      "    \"Returns the matrix of transition probability for action a.\"\n",
      "    P_a = zeros((5*5,5*5))\n",
      "    for state in Sgenerator():\n",
      "        current_index = s_index( state )\n",
      "        states = next_states( state, a )\n",
      "        for sdash,w in states:\n",
      "            index_dash = s_index( sdash )\n",
      "            P_a[current_index, index_dash] += w\n",
      "    return P_a\n",
      "def Sgenerator( ):\n",
      "    for x in range(0,5):\n",
      "        for y in range(0,5):\n",
      "            yield [x,y]\n",
      "\n",
      "def s_index( state ):\n",
      "    x = state[0]\n",
      "    y = state[1]\n",
      "    index = y*5 + x\n",
      "    return int(index)\n",
      "def sa_index( state, action ):\n",
      "    x = state[0]\n",
      "    y = state[1]\n",
      "    a = action\n",
      "    index = y*5*4 + x*4 + a\n",
      "    return int(index)\n",
      "P = vstack([P(a) for a in range(0,4)])\n",
      "def R():\n",
      "    reward = zeros((5*5*4,1))\n",
      "    indices = [sa_index([4,0],a) for a in range(0,4)]\n",
      "    reward[indices] = 1.\n",
      "    return reward\n",
      "GW = MDP(P,R())\n",
      "GW.optimal_policy()"
     ],
     "language": "python",
     "metadata": {},
     "outputs": [
      {
       "output_type": "stream",
       "stream": "stdout",
       "text": [
        "MDP OK3\n",
        "Shape of P (100, 25)\n",
        "Shape of R (100, 1)\n",
        "Card of S 25\n",
        "Card of A 4\n",
        "Card of SA 100\n",
        "Iteration 0, 20\tactions changed.\n",
        "Iteration 1, 8\tactions changed.\n",
        "Iteration 2, 2\tactions changed.\n",
        "Iteration 3, 0\tactions changed.\n",
        "Iteration 4, 0\tactions changed.\n",
        "Iteration 5, 0\tactions changed.\n",
        "Iteration 6, 0\tactions changed."
       ]
      },
      {
       "output_type": "stream",
       "stream": "stdout",
       "text": [
        "\n",
        "Iteration 7, 0\tactions changed.\n",
        "Iteration 8, 0\tactions changed.\n",
        "Iteration 9, 0\tactions changed.\n",
        "Iteration 10, 0\tactions changed.\n",
        "Iteration 11, 0\tactions changed.\n",
        "Iteration 12, 0\tactions changed.\n",
        "Iteration 13, 0\tactions changed.\n",
        "Iteration 14, 0\tactions changed."
       ]
      },
      {
       "output_type": "stream",
       "stream": "stdout",
       "text": [
        "\n",
        "Iteration 15, 0\tactions changed.\n",
        "Iteration 16, 0\tactions changed.\n",
        "Iteration 17, 0\tactions changed.\n",
        "Iteration 18, 0\tactions changed."
       ]
      },
      {
       "output_type": "stream",
       "stream": "stdout",
       "text": [
        "\n",
        "Iteration 19, 0\tactions changed.\n",
        "Iteration 20, 0\tactions changed.\n",
        "Iteration 21, 0\tactions changed.\n",
        "Iteration 22, 0\tactions changed.\n",
        "Iteration 23, 0\tactions changed.\n",
        "Iteration 24, 0\tactions changed.\n",
        "Iteration 25, 0\tactions changed."
       ]
      },
      {
       "output_type": "stream",
       "stream": "stdout",
       "text": [
        "\n",
        "Iteration 26, 0\tactions changed.\n",
        "Iteration 27, 0\tactions changed.\n",
        "Iteration 28, 0\tactions changed.\n",
        "Iteration 29, 0\tactions changed.\n",
        "Iteration 30, 0\tactions changed.\n",
        "Iteration 31, 0\tactions changed.\n",
        "Iteration 32, 0\tactions changed."
       ]
      },
      {
       "output_type": "stream",
       "stream": "stdout",
       "text": [
        "\n",
        "Iteration 33, 0\tactions changed.\n",
        "Iteration 34, 0\tactions changed.\n",
        "Iteration 35, 0\tactions changed.\n",
        "Iteration 36, 0\tactions changed.\n",
        "Iteration 37, 0\tactions changed.\n",
        "Iteration 38, 0\tactions changed."
       ]
      },
      {
       "output_type": "stream",
       "stream": "stdout",
       "text": [
        "\n",
        "Iteration 39, 0\tactions changed.\n",
        "Iteration 40, 0\tactions changed.\n",
        "Iteration 41, 0\tactions changed.\n",
        "Iteration 42, 0\tactions changed."
       ]
      },
      {
       "output_type": "stream",
       "stream": "stdout",
       "text": [
        "\n",
        "Iteration 43, 0\tactions changed.\n",
        "Iteration 44, 0\tactions changed.\n",
        "Iteration 45, 0\tactions changed.\n",
        "Iteration 46, 0\tactions changed.\n",
        "Iteration 47, 0\tactions changed.\n",
        "Iteration 48, 0\tactions changed.\n",
        "Iteration 49, 0\tactions changed.\n",
        "Iteration 50, 0\tactions changed."
       ]
      },
      {
       "output_type": "stream",
       "stream": "stdout",
       "text": [
        "\n",
        "Iteration 51, 0\tactions changed.\n",
        "Iteration 52, 0\tactions changed.\n",
        "Iteration 53, 0\tactions changed.\n",
        "Iteration 54, 0\tactions changed.\n",
        "Iteration 55, 0\tactions changed.\n",
        "Iteration 56, 0\tactions changed.\n",
        "Iteration 57, 0\tactions changed.\n",
        "Iteration 58, 0\tactions changed."
       ]
      },
      {
       "output_type": "stream",
       "stream": "stdout",
       "text": [
        "\n",
        "Iteration 59, 0\tactions changed.\n",
        "Iteration 60, 0\tactions changed.\n",
        "Iteration 61, 0\tactions changed.\n",
        "Iteration 62, 0\tactions changed.\n",
        "Iteration 63, 0\tactions changed.\n",
        "Iteration 64, 0\tactions changed.\n",
        "Iteration 65, 0\tactions changed.\n",
        "Iteration 66, 0\tactions changed."
       ]
      },
      {
       "output_type": "stream",
       "stream": "stdout",
       "text": [
        "\n",
        "Iteration 67, 0\tactions changed.\n",
        "Iteration 68, 0\tactions changed.\n",
        "Iteration 69, 0\tactions changed."
       ]
      },
      {
       "output_type": "stream",
       "stream": "stdout",
       "text": [
        "\n",
        "Iteration 70, 0\tactions changed.\n",
        "Iteration 71, 0\tactions changed.\n",
        "Iteration 72, 0\tactions changed.\n",
        "Iteration 73, 0\tactions changed.\n",
        "Iteration 74, 0\tactions changed.\n",
        "Iteration 75, 0\tactions changed.\n",
        "Iteration 76, 0\tactions changed.\n",
        "Iteration 77, 0\tactions changed.\n",
        "Iteration 78, 0\tactions changed.\n",
        "Iteration 79, 0\tactions changed."
       ]
      },
      {
       "output_type": "stream",
       "stream": "stdout",
       "text": [
        "\n",
        "Iteration 80, 0\tactions changed.\n",
        "Iteration 81, 0\tactions changed.\n",
        "Iteration 82, 0\tactions changed.\n",
        "Iteration 83, 0\tactions changed.\n",
        "Iteration 84, 0\tactions changed.\n",
        "Iteration 85, 0\tactions changed.\n",
        "Iteration 86, 0\tactions changed.\n",
        "Iteration 87, 0\tactions changed."
       ]
      },
      {
       "output_type": "stream",
       "stream": "stdout",
       "text": [
        "\n",
        "Iteration 88, 0\tactions changed.\n",
        "Iteration 89, 0\tactions changed.\n",
        "Iteration 90, 0\tactions changed.\n",
        "Iteration 91, 0\tactions changed.\n",
        "Iteration 92, 0\tactions changed.\n",
        "Iteration 93, 0\tactions changed.\n",
        "Iteration 94, 0\tactions changed.\n",
        "Iteration 95, 0\tactions changed.\n",
        "Iteration 96, 0\tactions changed.\n",
        "Iteration 97, 0\tactions changed.\n",
        "Iteration 98, 0\tactions changed.\n",
        "Iteration 99, 0\tactions changed.\n",
        "Iteration 100, 0\tactions changed."
       ]
      },
      {
       "output_type": "stream",
       "stream": "stdout",
       "text": [
        "\n",
        "Iteration 101, 0\tactions changed.\n",
        "Iteration 102, 0\tactions changed.\n",
        "Iteration 103, 0\tactions changed.\n",
        "Iteration 104, 0\tactions changed.\n",
        "Iteration 105, 0\tactions changed.\n",
        "Iteration 106, 0\tactions changed.\n",
        "Iteration 107, 0\tactions changed.\n",
        "Iteration 108, 0\tactions changed.\n",
        "Iteration 109, 0\tactions changed.\n",
        "Iteration 110, 0\tactions changed.\n",
        "Iteration 111, 0\tactions changed.\n",
        "Iteration 112, 0\tactions changed.\n",
        "Iteration 113, 0\tactions changed."
       ]
      },
      {
       "output_type": "stream",
       "stream": "stdout",
       "text": [
        "\n",
        "Iteration 114, 0\tactions changed.\n",
        "Iteration 115, 0\tactions changed.\n",
        "Iteration 116, 0\tactions changed.\n",
        "Iteration 117, 0\tactions changed.\n",
        "Iteration 118, 0\tactions changed.\n",
        "Iteration 119, 0\tactions changed.\n",
        "Iteration 120, 0\tactions changed.\n",
        "Iteration 121, 0\tactions changed.\n",
        "Iteration 122, 0\tactions changed.\n",
        "Iteration 123, 0\tactions changed.\n",
        "Iteration 124, 0\tactions changed.\n",
        "Iteration 125, 0\tactions changed.\n",
        "Iteration 126, 0\tactions changed.\n",
        "Iteration 127, 0\tactions changed."
       ]
      },
      {
       "output_type": "stream",
       "stream": "stdout",
       "text": [
        "\n",
        "Iteration 128, 0\tactions changed.\n",
        "Iteration 129, 0\tactions changed.\n",
        "Iteration 130, 0\tactions changed.\n",
        "Iteration 131, 0\tactions changed.\n",
        "Iteration 132, 0\tactions changed.\n",
        "Iteration 133, 0\tactions changed.\n",
        "Iteration 134, 0\tactions changed.\n",
        "Iteration 135, 0\tactions changed.\n",
        "Iteration 136, 0\tactions changed.\n",
        "Iteration 137, 0\tactions changed.\n",
        "Iteration 138, 0\tactions changed.\n",
        "Iteration 139, 0\tactions changed.\n",
        "Iteration 140, 0\tactions changed.\n",
        "Iteration 141, 0\tactions changed."
       ]
      },
      {
       "output_type": "stream",
       "stream": "stdout",
       "text": [
        "\n",
        "Iteration 142, 0\tactions changed.\n",
        "Iteration 143, 0\tactions changed.\n",
        "Iteration 144, 0\tactions changed.\n",
        "Iteration 145, 0\tactions changed.\n",
        "Iteration 146, 0\tactions changed.\n",
        "Iteration 147, 0\tactions changed.\n",
        "Iteration 148, 0\tactions changed.\n",
        "Iteration 149, 0\tactions changed.\n",
        "Iteration 150, 0\tactions changed.\n",
        "Iteration 151, 0\tactions changed.\n",
        "Iteration 152, 0\tactions changed."
       ]
      },
      {
       "output_type": "stream",
       "stream": "stdout",
       "text": [
        "\n",
        "Iteration 153, 0\tactions changed.\n",
        "Iteration 154, 0\tactions changed.\n",
        "Iteration 155, 0\tactions changed.\n",
        "Iteration 156, 0\tactions changed.\n",
        "Iteration 157, 0\tactions changed.\n",
        "Iteration 158, 0\tactions changed.\n",
        "Iteration 159, 0\tactions changed.\n",
        "Iteration 160, 0\tactions changed.\n",
        "Iteration 161, 0\tactions changed.\n",
        "Iteration 162, 0\tactions changed."
       ]
      },
      {
       "output_type": "stream",
       "stream": "stdout",
       "text": [
        "\n",
        "Iteration 163, 0\tactions changed.\n",
        "Iteration 164, 0\tactions changed.\n",
        "Iteration 165, 0\tactions changed.\n",
        "Iteration 166, 0\tactions changed.\n",
        "Iteration 167, 0\tactions changed.\n",
        "Iteration 168, 0\tactions changed.\n",
        "Iteration 169, 0\tactions changed.\n",
        "Iteration 170, 0\tactions changed.\n",
        "Iteration 171, 0\tactions changed.\n",
        "Iteration 172, 0\tactions changed."
       ]
      },
      {
       "output_type": "stream",
       "stream": "stdout",
       "text": [
        "\n",
        "Iteration 173, 0\tactions changed.\n",
        "Iteration 174, 0\tactions changed.\n",
        "Iteration 175, 0\tactions changed.\n",
        "Iteration 176, 0\tactions changed.\n",
        "Iteration 177, 0\tactions changed.\n",
        "Iteration 178, 0\tactions changed.\n",
        "Iteration 179, 0\tactions changed.\n",
        "Iteration 180, 0\tactions changed.\n",
        "Iteration 181, 0\tactions changed.\n",
        "Iteration 182, 0\tactions changed."
       ]
      },
      {
       "output_type": "stream",
       "stream": "stdout",
       "text": [
        "\n",
        "Iteration 183, 0\tactions changed.\n",
        "Iteration 184, 0\tactions changed.\n",
        "Iteration 185, 0\tactions changed.\n",
        "Iteration 186, 0\tactions changed.\n",
        "Iteration 187, 0\tactions changed.\n",
        "Iteration 188, 0\tactions changed.\n",
        "Iteration 189, 0\tactions changed.\n",
        "Iteration 190, 0\tactions changed.\n",
        "Iteration 191, 0\tactions changed.\n",
        "Iteration 192, 0\tactions changed."
       ]
      },
      {
       "output_type": "stream",
       "stream": "stdout",
       "text": [
        "\n",
        "Iteration 193, 0\tactions changed.\n",
        "Iteration 194, 0\tactions changed.\n",
        "Iteration 195, 0\tactions changed.\n",
        "Iteration 196, 0\tactions changed.\n",
        "Iteration 197, 0\tactions changed.\n",
        "Iteration 198, 0\tactions changed.\n",
        "Iteration 199, 0\tactions changed.\n",
        "Iteration 200, 0\tactions changed.\n",
        "Iteration 201, 0\tactions changed.\n",
        "Iteration 202, 0\tactions changed."
       ]
      },
      {
       "output_type": "stream",
       "stream": "stdout",
       "text": [
        "\n",
        "Iteration 203, 0\tactions changed.\n",
        "Iteration 204, 0\tactions changed.\n",
        "Iteration 205, 0\tactions changed.\n",
        "Iteration 206, 0\tactions changed.\n",
        "Iteration 207, 0\tactions changed.\n",
        "Iteration 208, 0\tactions changed.\n",
        "Iteration 209, 0\tactions changed.\n",
        "Iteration 210, 0\tactions changed.\n",
        "Iteration 211, 0\tactions changed.\n",
        "Iteration 212, 0\tactions changed.\n",
        "Iteration 213, 0\tactions changed.\n",
        "Iteration 214, 0\tactions changed."
       ]
      },
      {
       "output_type": "stream",
       "stream": "stdout",
       "text": [
        "\n",
        "Iteration 215, 0\tactions changed.\n",
        "Iteration 216, 0\tactions changed.\n",
        "Iteration 217, 0\tactions changed.\n",
        "Iteration 218, 0\tactions changed.\n",
        "Iteration 219, 0\tactions changed.\n",
        "Iteration 220, 0\tactions changed.\n",
        "Iteration 221, 0\tactions changed.\n",
        "Iteration 222, 0\tactions changed.\n",
        "Iteration 223, 0\tactions changed.\n",
        "Iteration 224, 0\tactions changed.\n",
        "Iteration 225, 0\tactions changed.\n",
        "Iteration 226, 0\tactions changed."
       ]
      },
      {
       "output_type": "stream",
       "stream": "stdout",
       "text": [
        "\n",
        "Iteration 227, 0\tactions changed.\n",
        "Iteration 228, 0\tactions changed.\n",
        "Iteration 229, 0\tactions changed.\n",
        "Iteration 230, 0\tactions changed.\n",
        "Iteration 231, 0\tactions changed.\n",
        "Iteration 232, 0\tactions changed.\n",
        "Iteration 233, 0\tactions changed.\n",
        "Iteration 234, 0\tactions changed.\n",
        "Iteration 235, 0\tactions changed.\n",
        "Iteration 236, 0\tactions changed.\n",
        "Iteration 237, 0\tactions changed."
       ]
      },
      {
       "output_type": "stream",
       "stream": "stdout",
       "text": [
        "\n",
        "Iteration 238, 0\tactions changed.\n",
        "Iteration 239, 0\tactions changed.\n",
        "Iteration 240, 0\tactions changed.\n",
        "Iteration 241, 0\tactions changed.\n",
        "Iteration 242, 0\tactions changed.\n",
        "Iteration 243, 0\tactions changed.\n",
        "Iteration 244, 0\tactions changed.\n",
        "Iteration 245, 0\tactions changed.\n",
        "Iteration 246, 0\tactions changed.\n",
        "Iteration 247, 0\tactions changed."
       ]
      },
      {
       "output_type": "stream",
       "stream": "stdout",
       "text": [
        "\n",
        "Iteration 248, 0\tactions changed.\n",
        "Iteration 249, 0\tactions changed.\n",
        "Iteration 250, 0\tactions changed.\n",
        "Iteration 251, 0\tactions changed.\n",
        "Iteration 252, 0\tactions changed.\n",
        "Iteration 253, 0\tactions changed.\n",
        "Iteration 254, 0\tactions changed.\n",
        "Iteration 255, 0\tactions changed.\n",
        "Iteration 256, 0\tactions changed.\n",
        "Iteration 257, 0\tactions changed.\n",
        "Iteration 258, 0\tactions changed."
       ]
      },
      {
       "output_type": "stream",
       "stream": "stdout",
       "text": [
        "\n",
        "Iteration 259, 0\tactions changed.\n",
        "Iteration 260, 0\tactions changed.\n",
        "Iteration 261, 0\tactions changed.\n",
        "Iteration 262, 0\tactions changed.\n",
        "Iteration 263, 0\tactions changed.\n",
        "Iteration 264, 0\tactions changed.\n",
        "Iteration 265, 0\tactions changed.\n",
        "Iteration 266, 0\tactions changed.\n",
        "Iteration 267, 0\tactions changed.\n",
        "Iteration 268, 0\tactions changed.\n",
        "Iteration 269, 0\tactions changed."
       ]
      },
      {
       "output_type": "stream",
       "stream": "stdout",
       "text": [
        "\n",
        "Iteration 270, 0\tactions changed.\n",
        "Iteration 271, 0\tactions changed.\n",
        "Iteration 272, 0\tactions changed.\n",
        "Iteration 273, 0\tactions changed.\n",
        "Iteration 274, 0\tactions changed.\n",
        "Iteration 275, 0\tactions changed.\n",
        "Iteration 276, 0\tactions changed.\n",
        "Iteration 277, 0\tactions changed.\n",
        "Iteration 278, 0\tactions changed.\n",
        "Iteration 279, 0\tactions changed.\n",
        "Iteration 280, 0\tactions changed."
       ]
      },
      {
       "output_type": "stream",
       "stream": "stdout",
       "text": [
        "\n",
        "Iteration 281, 0\tactions changed.\n",
        "Iteration 282, 0\tactions changed.\n",
        "Iteration 283, 0\tactions changed.\n",
        "Iteration 284, 0\tactions changed.\n",
        "Iteration 285, 0\tactions changed.\n",
        "Iteration 286, 0\tactions changed.\n",
        "Iteration 287, 0\tactions changed.\n",
        "Iteration 288, 0\tactions changed.\n",
        "Iteration 289, 0\tactions changed.\n",
        "Iteration 290, 0\tactions changed.\n",
        "Iteration 291, 0\tactions changed."
       ]
      },
      {
       "output_type": "stream",
       "stream": "stdout",
       "text": [
        "\n",
        "Iteration 292, 0\tactions changed.\n",
        "Iteration 293, 0\tactions changed.\n",
        "Iteration 294, 0\tactions changed.\n",
        "Iteration 295, 0\tactions changed.\n",
        "Iteration 296, 0\tactions changed.\n",
        "Iteration 297, 0\tactions changed.\n",
        "Iteration 298, 0\tactions changed.\n",
        "Iteration 299, 0\tactions changed.\n",
        "Iteration 300, 0\tactions changed.\n",
        "Iteration 301, 0\tactions changed."
       ]
      },
      {
       "output_type": "stream",
       "stream": "stdout",
       "text": [
        "\n",
        "Iteration 302, 0\tactions changed.\n",
        "Iteration 303, 0\tactions changed.\n",
        "Iteration 304, 0\tactions changed.\n",
        "Iteration 305, 0\tactions changed.\n",
        "Iteration 306, 0\tactions changed.\n",
        "Iteration 307, 0\tactions changed.\n",
        "Iteration 308, 0\tactions changed.\n",
        "Iteration 309, 0\tactions changed."
       ]
      },
      {
       "output_type": "stream",
       "stream": "stdout",
       "text": [
        "\n",
        "Iteration 310, 0\tactions changed.\n",
        "Iteration 311, 0\tactions changed.\n",
        "Iteration 312, 0\tactions changed.\n",
        "Iteration 313, 0\tactions changed.\n",
        "Iteration 314, 0\tactions changed.\n",
        "Iteration 315, 0\tactions changed.\n",
        "Iteration 316, 0\tactions changed.\n",
        "Iteration 317, 0\tactions changed.\n",
        "Iteration 318, 0\tactions changed."
       ]
      },
      {
       "output_type": "stream",
       "stream": "stdout",
       "text": [
        "\n",
        "Iteration 319, 0\tactions changed.\n",
        "Iteration 320, 0\tactions changed.\n",
        "Iteration 321, 0\tactions changed.\n",
        "Iteration 322, 0\tactions changed.\n",
        "Iteration 323, 0\tactions changed.\n",
        "Iteration 324, 0\tactions changed.\n",
        "Iteration 325, 0\tactions changed.\n",
        "Iteration 326, 0\tactions changed.\n",
        "Iteration 327, 0\tactions changed.\n",
        "Iteration 328, 0\tactions changed.\n",
        "Iteration 329, 0\tactions changed."
       ]
      },
      {
       "output_type": "stream",
       "stream": "stdout",
       "text": [
        "\n",
        "Iteration 330, 0\tactions changed.\n",
        "Iteration 331, 0\tactions changed.\n",
        "Iteration 332, 0\tactions changed.\n",
        "Iteration 333, 0\tactions changed.\n",
        "Iteration 334, 0\tactions changed.\n",
        "Iteration 335, 0\tactions changed.\n",
        "Iteration 336, 0\tactions changed.\n",
        "Iteration 337, 0\tactions changed.\n",
        "Iteration 338, 0\tactions changed.\n",
        "Iteration 339, 0\tactions changed.\n",
        "Iteration 340, 0\tactions changed.\n",
        "Iteration 341, 0\tactions changed."
       ]
      },
      {
       "output_type": "stream",
       "stream": "stdout",
       "text": [
        "\n",
        "Iteration 342, 0\tactions changed.\n",
        "Iteration 343, 0\tactions changed.\n",
        "Iteration 344, 0\tactions changed.\n",
        "Iteration 345, 0\tactions changed.\n",
        "Iteration 346, 0\tactions changed.\n",
        "Iteration 347, 0\tactions changed.\n",
        "Iteration 348, 0\tactions changed.\n",
        "Iteration 349, 0\tactions changed.\n",
        "Iteration 350, 0\tactions changed.\n",
        "Iteration 351, 0\tactions changed.\n",
        "Iteration 352, 0\tactions changed.\n",
        "Iteration 353, 0\tactions changed."
       ]
      },
      {
       "output_type": "stream",
       "stream": "stdout",
       "text": [
        "\n",
        "Iteration 354, 0\tactions changed.\n",
        "Iteration 355, 0\tactions changed.\n",
        "Iteration 356, 0\tactions changed.\n",
        "Iteration 357, 0\tactions changed.\n",
        "Iteration 358, 0\tactions changed.\n",
        "Iteration 359, 0\tactions changed.\n",
        "Iteration 360, 0\tactions changed.\n",
        "Iteration 361, 0\tactions changed.\n",
        "Iteration 362, 0\tactions changed.\n",
        "Iteration 363, 0\tactions changed."
       ]
      },
      {
       "output_type": "stream",
       "stream": "stdout",
       "text": [
        "\n",
        "Iteration 364, 0\tactions changed.\n",
        "Iteration 365, 0\tactions changed.\n",
        "Iteration 366, 0\tactions changed.\n",
        "Iteration 367, 0\tactions changed.\n",
        "Iteration 368, 0\tactions changed.\n",
        "Iteration 369, 0\tactions changed.\n",
        "Iteration 370, 0\tactions changed.\n",
        "Iteration 371, 0\tactions changed.\n",
        "Iteration 372, 0\tactions changed."
       ]
      },
      {
       "output_type": "stream",
       "stream": "stdout",
       "text": [
        "\n",
        "Iteration 373, 0\tactions changed.\n",
        "Iteration 374, 0\tactions changed.\n",
        "Iteration 375, 0\tactions changed.\n",
        "Iteration 376, 0\tactions changed.\n",
        "Iteration 377, 0\tactions changed.\n",
        "Iteration 378, 0\tactions changed.\n",
        "Iteration 379, 0\tactions changed.\n",
        "Iteration 380, 0\tactions changed."
       ]
      },
      {
       "output_type": "stream",
       "stream": "stdout",
       "text": [
        "\n",
        "Iteration 381, 0\tactions changed.\n",
        "Iteration 382, 0\tactions changed.\n",
        "Iteration 383, 0\tactions changed.\n",
        "Iteration 384, 0\tactions changed.\n",
        "Iteration 385, 0\tactions changed.\n",
        "Iteration 386, 0\tactions changed.\n",
        "Iteration 387, 0\tactions changed.\n",
        "Iteration 388, 0\tactions changed."
       ]
      },
      {
       "output_type": "stream",
       "stream": "stdout",
       "text": [
        "\n",
        "Iteration 389, 0\tactions changed.\n",
        "Iteration 390, 0\tactions changed.\n",
        "Iteration 391, 0\tactions changed.\n",
        "Iteration 392, 0\tactions changed.\n",
        "Iteration 393, 0\tactions changed.\n",
        "Iteration 394, 0\tactions changed.\n",
        "Iteration 395, 0\tactions changed.\n",
        "Iteration 396, 0\tactions changed.\n",
        "Iteration 397, 0\tactions changed.\n",
        "Iteration 398, 0\tactions changed.\n",
        "Iteration 399, 0\tactions changed."
       ]
      },
      {
       "output_type": "stream",
       "stream": "stdout",
       "text": [
        "\n",
        "Iteration 400, 0\tactions changed.\n",
        "Iteration 401, 0\tactions changed.\n",
        "Iteration 402, 0\tactions changed.\n",
        "Iteration 403, 0\tactions changed.\n",
        "Iteration 404, 0\tactions changed.\n",
        "Iteration 405, 0\tactions changed.\n",
        "Iteration 406, 0\tactions changed.\n",
        "Iteration 407, 0\tactions changed.\n",
        "Iteration 408, 0\tactions changed."
       ]
      },
      {
       "output_type": "stream",
       "stream": "stdout",
       "text": [
        "\n",
        "Iteration 409, 0\tactions changed.\n",
        "Iteration 410, 0\tactions changed.\n",
        "Iteration 411, 0\tactions changed.\n",
        "Iteration 412, 0\tactions changed.\n",
        "Iteration 413, 0\tactions changed.\n",
        "Iteration 414, 0\tactions changed.\n",
        "Iteration 415, 0\tactions changed.\n",
        "Iteration 416, 0\tactions changed.\n",
        "Iteration 417, 0\tactions changed.\n",
        "Iteration 418, 0\tactions changed."
       ]
      },
      {
       "output_type": "stream",
       "stream": "stdout",
       "text": [
        "\n",
        "Iteration 419, 0\tactions changed.\n",
        "Iteration 420, 0\tactions changed.\n",
        "Iteration 421, 0\tactions changed.\n",
        "Iteration 422, 0\tactions changed.\n",
        "Iteration 423, 0\tactions changed.\n",
        "Iteration 424, 0\tactions changed.\n",
        "Iteration 425, 0\tactions changed.\n",
        "Iteration 426, 0\tactions changed.\n",
        "Iteration 427, 0\tactions changed.\n",
        "Iteration 428, 0\tactions changed.\n",
        "Iteration 429, 0\tactions changed.\n",
        "Iteration 430, 0\tactions changed."
       ]
      },
      {
       "output_type": "stream",
       "stream": "stdout",
       "text": [
        "\n",
        "Iteration 431, 0\tactions changed.\n",
        "Iteration 432, 0\tactions changed.\n",
        "Iteration 433, 0\tactions changed.\n",
        "Iteration 434, 0\tactions changed.\n",
        "Iteration 435, 0\tactions changed.\n",
        "Iteration 436, 0\tactions changed.\n",
        "Iteration 437, 0\tactions changed.\n",
        "Iteration 438, 0\tactions changed.\n",
        "Iteration 439, 0\tactions changed.\n",
        "Iteration 440, 0\tactions changed.\n",
        "Iteration 441, 0\tactions changed.\n",
        "Iteration 442, 0\tactions changed.\n",
        "Iteration 443, 0\tactions changed."
       ]
      },
      {
       "output_type": "stream",
       "stream": "stdout",
       "text": [
        "\n",
        "Iteration 444, 0\tactions changed.\n",
        "Iteration 445, 0\tactions changed.\n",
        "Iteration 446, 0\tactions changed.\n",
        "Iteration 447, 0\tactions changed.\n",
        "Iteration 448, 0\tactions changed.\n",
        "Iteration 449, 0\tactions changed.\n",
        "Iteration 450, 0\tactions changed.\n",
        "Iteration 451, 0\tactions changed.\n",
        "Iteration 452, 0\tactions changed.\n",
        "Iteration 453, 0\tactions changed.\n",
        "Iteration 454, 0\tactions changed.\n",
        "Iteration 455, 0\tactions changed."
       ]
      },
      {
       "output_type": "stream",
       "stream": "stdout",
       "text": [
        "\n",
        "Iteration 456, 0\tactions changed.\n",
        "Iteration 457, 0\tactions changed.\n",
        "Iteration 458, 0\tactions changed.\n",
        "Iteration 459, 0\tactions changed.\n",
        "Iteration 460, 0\tactions changed.\n",
        "Iteration 461, 0\tactions changed.\n",
        "Iteration 462, 0\tactions changed.\n",
        "Iteration 463, 0\tactions changed.\n",
        "Iteration 464, 0\tactions changed.\n",
        "Iteration 465, 0\tactions changed."
       ]
      },
      {
       "output_type": "stream",
       "stream": "stdout",
       "text": [
        "\n",
        "Iteration 466, 0\tactions changed.\n",
        "Iteration 467, 0\tactions changed.\n",
        "Iteration 468, 0\tactions changed.\n",
        "Iteration 469, 0\tactions changed.\n",
        "Iteration 470, 0\tactions changed.\n",
        "Iteration 471, 0\tactions changed.\n",
        "Iteration 472, 0\tactions changed.\n",
        "Iteration 473, 0\tactions changed.\n",
        "Iteration 474, 0\tactions changed."
       ]
      },
      {
       "output_type": "stream",
       "stream": "stdout",
       "text": [
        "\n",
        "Iteration 475, 0\tactions changed.\n",
        "Iteration 476, 0\tactions changed.\n",
        "Iteration 477, 0\tactions changed.\n",
        "Iteration 478, 0\tactions changed.\n",
        "Iteration 479, 0\tactions changed.\n",
        "Iteration 480, 0\tactions changed.\n",
        "Iteration 481, 0\tactions changed.\n",
        "Iteration 482, 0\tactions changed.\n",
        "Iteration 483, 0\tactions changed.\n",
        "Iteration 484, 0\tactions changed.\n",
        "Iteration 485, 0\tactions changed.\n",
        "Iteration 486, 0\tactions changed."
       ]
      },
      {
       "output_type": "stream",
       "stream": "stdout",
       "text": [
        "\n",
        "Iteration 487, 0\tactions changed.\n",
        "Iteration 488, 0\tactions changed.\n",
        "Iteration 489, 0\tactions changed.\n",
        "Iteration 490, 0\tactions changed.\n",
        "Iteration 491, 0\tactions changed.\n",
        "Iteration 492, 0\tactions changed.\n",
        "Iteration 493, 0\tactions changed.\n",
        "Iteration 494, 0\tactions changed.\n",
        "Iteration 495, 0\tactions changed.\n",
        "Iteration 496, 0\tactions changed.\n",
        "Iteration 497, 0\tactions changed."
       ]
      },
      {
       "output_type": "stream",
       "stream": "stdout",
       "text": [
        "\n",
        "Iteration 498, 0\tactions changed.\n",
        "Iteration 499, 0\tactions changed.\n",
        "Iteration 500, 0\tactions changed.\n",
        "Iteration 501, 0\tactions changed.\n",
        "Iteration 502, 0\tactions changed.\n",
        "Iteration 503, 0\tactions changed.\n",
        "Iteration 504, 0\tactions changed.\n",
        "Iteration 505, 0\tactions changed.\n",
        "Iteration 506, 0\tactions changed.\n",
        "Iteration 507, 0\tactions changed."
       ]
      },
      {
       "output_type": "stream",
       "stream": "stdout",
       "text": [
        "\n",
        "Iteration 508, 0\tactions changed.\n",
        "Iteration 509, 0\tactions changed.\n",
        "Iteration 510, 0\tactions changed.\n",
        "Iteration 511, 0\tactions changed.\n",
        "Iteration 512, 0\tactions changed.\n",
        "Iteration 513, 0\tactions changed.\n",
        "Iteration 514, 0\tactions changed.\n",
        "Iteration 515, 0\tactions changed.\n",
        "Iteration 516, 0\tactions changed.\n",
        "Iteration 517, 0\tactions changed.\n",
        "Iteration 518, 0\tactions changed."
       ]
      },
      {
       "output_type": "stream",
       "stream": "stdout",
       "text": [
        "\n",
        "Iteration 519, 0\tactions changed.\n",
        "Iteration 520, 0\tactions changed.\n",
        "Iteration 521, 0\tactions changed.\n",
        "Iteration 522, 0\tactions changed.\n",
        "Iteration 523, 0\tactions changed.\n",
        "Iteration 524, 0\tactions changed.\n",
        "Iteration 525, 0\tactions changed.\n",
        "Iteration 526, 0\tactions changed.\n",
        "Iteration 527, 0\tactions changed.\n",
        "Iteration 528, 0\tactions changed."
       ]
      },
      {
       "output_type": "stream",
       "stream": "stdout",
       "text": [
        "\n",
        "Iteration 529, 0\tactions changed.\n",
        "Iteration 530, 0\tactions changed.\n",
        "Iteration 531, 0\tactions changed.\n",
        "Iteration 532, 0\tactions changed.\n",
        "Iteration 533, 0\tactions changed.\n",
        "Iteration 534, 0\tactions changed.\n",
        "Iteration 535, 0\tactions changed.\n",
        "Iteration 536, 0\tactions changed.\n",
        "Iteration 537, 0\tactions changed.\n",
        "Iteration 538, 0\tactions changed."
       ]
      },
      {
       "output_type": "stream",
       "stream": "stdout",
       "text": [
        "\n",
        "Iteration 539, 0\tactions changed.\n",
        "Iteration 540, 0\tactions changed.\n",
        "Iteration 541, 0\tactions changed.\n",
        "Iteration 542, 0\tactions changed.\n",
        "Iteration 543, 0\tactions changed.\n",
        "Iteration 544, 0\tactions changed.\n",
        "Iteration 545, 0\tactions changed.\n",
        "Iteration 546, 0\tactions changed.\n",
        "Iteration 547, 0\tactions changed.\n",
        "Iteration 548, 0\tactions changed."
       ]
      },
      {
       "output_type": "stream",
       "stream": "stdout",
       "text": [
        "\n",
        "Iteration 549, 0\tactions changed.\n",
        "Iteration 550, 0\tactions changed.\n",
        "Iteration 551, 0\tactions changed.\n",
        "Iteration 552, 0\tactions changed.\n",
        "Iteration 553, 0\tactions changed.\n",
        "Iteration 554, 0\tactions changed.\n",
        "Iteration 555, 0\tactions changed.\n",
        "Iteration 556, 0\tactions changed.\n",
        "Iteration 557, 0\tactions changed.\n",
        "Iteration 558, 0\tactions changed.\n",
        "Iteration 559, 0\tactions changed."
       ]
      },
      {
       "output_type": "stream",
       "stream": "stdout",
       "text": [
        "\n",
        "Iteration 560, 0\tactions changed.\n",
        "Iteration 561, 0\tactions changed.\n",
        "Iteration 562, 0\tactions changed.\n",
        "Iteration 563, 0\tactions changed.\n",
        "Iteration 564, 0\tactions changed.\n",
        "Iteration 565, 0\tactions changed.\n",
        "Iteration 566, 0\tactions changed.\n",
        "Iteration 567, 0\tactions changed.\n",
        "Iteration 568, 0\tactions changed."
       ]
      },
      {
       "output_type": "stream",
       "stream": "stdout",
       "text": [
        "\n",
        "Iteration 569, 0\tactions changed.\n",
        "Iteration 570, 0\tactions changed.\n",
        "Iteration 571, 0\tactions changed.\n",
        "Iteration 572, 0\tactions changed.\n",
        "Iteration 573, 0\tactions changed.\n",
        "Iteration 574, 0\tactions changed.\n",
        "Iteration 575, 0\tactions changed.\n",
        "Iteration 576, 0\tactions changed.\n",
        "Iteration 577, 0\tactions changed.\n",
        "Iteration 578, 0\tactions changed.\n",
        "Iteration 579, 0\tactions changed."
       ]
      },
      {
       "output_type": "stream",
       "stream": "stdout",
       "text": [
        "\n",
        "Iteration 580, 0\tactions changed.\n",
        "Iteration 581, 0\tactions changed.\n",
        "Iteration 582, 0\tactions changed.\n",
        "Iteration 583, 0\tactions changed.\n",
        "Iteration 584, 0\tactions changed.\n",
        "Iteration 585, 0\tactions changed.\n",
        "Iteration 586, 0\tactions changed.\n",
        "Iteration 587, 0\tactions changed.\n",
        "Iteration 588, 0\tactions changed.\n",
        "Iteration 589, 0\tactions changed."
       ]
      },
      {
       "output_type": "stream",
       "stream": "stdout",
       "text": [
        "\n",
        "Iteration 590, 0\tactions changed.\n",
        "Iteration 591, 0\tactions changed.\n",
        "Iteration 592, 0\tactions changed.\n",
        "Iteration 593, 0\tactions changed.\n",
        "Iteration 594, 0\tactions changed.\n",
        "Iteration 595, 0\tactions changed.\n",
        "Iteration 596, 0\tactions changed.\n",
        "Iteration 597, 0\tactions changed.\n",
        "Iteration 598, 0\tactions changed.\n",
        "Iteration 599, 0\tactions changed.\n",
        "Iteration 600, 0\tactions changed."
       ]
      },
      {
       "output_type": "stream",
       "stream": "stdout",
       "text": [
        "\n",
        "Iteration 601, 0\tactions changed.\n",
        "Iteration 602, 0\tactions changed.\n",
        "Iteration 603, 0\tactions changed.\n",
        "Iteration 604, 0\tactions changed.\n",
        "Iteration 605, 0\tactions changed.\n",
        "Iteration 606, 0\tactions changed.\n",
        "Iteration 607, 0\tactions changed.\n",
        "Iteration 608, 0\tactions changed.\n",
        "Iteration 609, 0\tactions changed."
       ]
      },
      {
       "output_type": "stream",
       "stream": "stdout",
       "text": [
        "\n",
        "Iteration 610, 0\tactions changed.\n",
        "Iteration 611, 0\tactions changed.\n",
        "Iteration 612, 0\tactions changed.\n",
        "Iteration 613, 0\tactions changed.\n",
        "Iteration 614, 0\tactions changed.\n",
        "Iteration 615, 0\tactions changed.\n",
        "Iteration 616, 0\tactions changed.\n",
        "Iteration 617, 0\tactions changed.\n",
        "Iteration 618, 0\tactions changed.\n",
        "Iteration 619, 0\tactions changed."
       ]
      },
      {
       "output_type": "stream",
       "stream": "stdout",
       "text": [
        "\n",
        "Iteration 620, 0\tactions changed.\n",
        "Iteration 621, 0\tactions changed.\n",
        "Iteration 622, 0\tactions changed.\n",
        "Iteration 623, 0\tactions changed.\n",
        "Iteration 624, 0\tactions changed.\n",
        "Iteration 625, 0\tactions changed.\n",
        "Iteration 626, 0\tactions changed.\n",
        "Iteration 627, 0\tactions changed.\n",
        "Iteration 628, 0\tactions changed.\n",
        "Iteration 629, 0\tactions changed."
       ]
      },
      {
       "output_type": "stream",
       "stream": "stdout",
       "text": [
        "\n",
        "Iteration 630, 0\tactions changed.\n",
        "Iteration 631, 0\tactions changed.\n",
        "Iteration 632, 0\tactions changed.\n",
        "Iteration 633, 0\tactions changed.\n",
        "Iteration 634, 0\tactions changed.\n",
        "Iteration 635, 0\tactions changed.\n",
        "Iteration 636, 0\tactions changed.\n",
        "Iteration 637, 0\tactions changed.\n",
        "Iteration 638, 0\tactions changed.\n",
        "Iteration 639, 0\tactions changed."
       ]
      },
      {
       "output_type": "stream",
       "stream": "stdout",
       "text": [
        "\n",
        "Iteration 640, 0\tactions changed.\n",
        "Iteration 641, 0\tactions changed.\n",
        "Iteration 642, 0\tactions changed.\n",
        "Iteration 643, 0\tactions changed.\n",
        "Iteration 644, 0\tactions changed.\n",
        "Iteration 645, 0\tactions changed.\n",
        "Iteration 646, 0\tactions changed.\n",
        "Iteration 647, 0\tactions changed.\n",
        "Iteration 648, 0\tactions changed.\n",
        "Iteration 649, 0\tactions changed."
       ]
      },
      {
       "output_type": "stream",
       "stream": "stdout",
       "text": [
        "\n",
        "Iteration 650, 0\tactions changed.\n",
        "Iteration 651, 0\tactions changed.\n",
        "Iteration 652, 0\tactions changed.\n",
        "Iteration 653, 0\tactions changed.\n",
        "Iteration 654, 0\tactions changed.\n",
        "Iteration 655, 0\tactions changed.\n",
        "Iteration 656, 0\tactions changed."
       ]
      },
      {
       "output_type": "stream",
       "stream": "stdout",
       "text": [
        "\n",
        "Iteration 657, 0\tactions changed.\n",
        "Iteration 658, 0\tactions changed.\n",
        "Iteration 659, 0\tactions changed.\n",
        "Iteration 660, 0\tactions changed.\n",
        "Iteration 661, 0\tactions changed.\n",
        "Iteration 662, 0\tactions changed.\n",
        "Iteration 663, 0\tactions changed.\n",
        "Iteration 664, 0\tactions changed.\n",
        "Iteration 665, 0\tactions changed.\n",
        "Iteration 666, 0\tactions changed.\n",
        "Iteration 667, 0\tactions changed."
       ]
      },
      {
       "output_type": "stream",
       "stream": "stdout",
       "text": [
        "\n",
        "Iteration 668, 0\tactions changed.\n",
        "Iteration 669, 0\tactions changed.\n",
        "Iteration 670, 0\tactions changed.\n",
        "Iteration 671, 0\tactions changed.\n",
        "Iteration 672, 0\tactions changed.\n",
        "Iteration 673, 0\tactions changed.\n",
        "Iteration 674, 0\tactions changed.\n",
        "Iteration 675, 0\tactions changed.\n",
        "Iteration 676, 0\tactions changed."
       ]
      },
      {
       "output_type": "stream",
       "stream": "stdout",
       "text": [
        "\n",
        "Iteration 677, 0\tactions changed.\n",
        "Iteration 678, 0\tactions changed.\n",
        "Iteration 679, 0\tactions changed.\n",
        "Iteration 680, 0\tactions changed.\n",
        "Iteration 681, 0\tactions changed.\n",
        "Iteration 682, 0\tactions changed.\n",
        "Iteration 683, 0\tactions changed.\n",
        "Iteration 684, 0\tactions changed.\n",
        "Iteration 685, 0\tactions changed."
       ]
      },
      {
       "output_type": "stream",
       "stream": "stdout",
       "text": [
        "\n",
        "Iteration 686, 0\tactions changed.\n",
        "Iteration 687, 0\tactions changed.\n",
        "Iteration 688, 0\tactions changed.\n",
        "Iteration 689, 0\tactions changed.\n",
        "Iteration 690, 0\tactions changed.\n",
        "Iteration 691, 0\tactions changed.\n",
        "Iteration 692, 0\tactions changed.\n",
        "Iteration 693, 0\tactions changed.\n",
        "Iteration 694, 0\tactions changed.\n",
        "Iteration 695, 0\tactions changed.\n",
        "Iteration 696, 0\tactions changed.\n",
        "Iteration 697, 0\tactions changed.\n",
        "Iteration 698, 0\tactions changed.\n",
        "Iteration 699, 0\tactions changed."
       ]
      },
      {
       "output_type": "stream",
       "stream": "stdout",
       "text": [
        "\n",
        "Iteration 700, 0\tactions changed.\n",
        "Iteration 701, 0\tactions changed.\n",
        "Iteration 702, 0\tactions changed.\n",
        "Iteration 703, 0\tactions changed.\n",
        "Iteration 704, 0\tactions changed.\n",
        "Iteration 705, 0\tactions changed.\n",
        "Iteration 706, 0\tactions changed.\n",
        "Iteration 707, 0\tactions changed.\n",
        "Iteration 708, 0\tactions changed."
       ]
      },
      {
       "output_type": "stream",
       "stream": "stdout",
       "text": [
        "\n",
        "Iteration 709, 0\tactions changed.\n",
        "Iteration 710, 0\tactions changed.\n",
        "Iteration 711, 0\tactions changed.\n",
        "Iteration 712, 0\tactions changed.\n",
        "Iteration 713, 0\tactions changed.\n",
        "Iteration 714, 0\tactions changed.\n",
        "Iteration 715, 0\tactions changed.\n",
        "Iteration 716, 0\tactions changed.\n",
        "Iteration 717, 0\tactions changed.\n",
        "Iteration 718, 0\tactions changed."
       ]
      },
      {
       "output_type": "stream",
       "stream": "stdout",
       "text": [
        "\n",
        "Iteration 719, 0\tactions changed.\n",
        "Iteration 720, 0\tactions changed.\n",
        "Iteration 721, 0\tactions changed.\n",
        "Iteration 722, 0\tactions changed.\n",
        "Iteration 723, 0\tactions changed.\n",
        "Iteration 724, 0\tactions changed.\n",
        "Iteration 725, 0\tactions changed.\n",
        "Iteration 726, 0\tactions changed.\n",
        "Iteration 727, 0\tactions changed.\n",
        "Iteration 728, 0\tactions changed."
       ]
      },
      {
       "output_type": "stream",
       "stream": "stdout",
       "text": [
        "\n",
        "Iteration 729, 0\tactions changed.\n",
        "Iteration 730, 0\tactions changed.\n",
        "Iteration 731, 0\tactions changed.\n",
        "Iteration 732, 0\tactions changed.\n",
        "Iteration 733, 0\tactions changed.\n",
        "Iteration 734, 0\tactions changed.\n",
        "Iteration 735, 0\tactions changed."
       ]
      },
      {
       "output_type": "stream",
       "stream": "stdout",
       "text": [
        "\n",
        "Iteration 736, 0\tactions changed.\n",
        "Iteration 737, 0\tactions changed.\n",
        "Iteration 738, 0\tactions changed.\n",
        "Iteration 739, 0\tactions changed.\n",
        "Iteration 740, 0\tactions changed.\n",
        "Iteration 741, 0\tactions changed.\n",
        "Iteration 742, 0\tactions changed.\n",
        "Iteration 743, 0\tactions changed.\n",
        "Iteration 744, 0\tactions changed.\n",
        "Iteration 745, 0\tactions changed."
       ]
      },
      {
       "output_type": "stream",
       "stream": "stdout",
       "text": [
        "\n",
        "Iteration 746, 0\tactions changed.\n",
        "Iteration 747, 0\tactions changed.\n",
        "Iteration 748, 0\tactions changed.\n",
        "Iteration 749, 0\tactions changed.\n",
        "Iteration 750, 0\tactions changed.\n",
        "Iteration 751, 0\tactions changed.\n",
        "Iteration 752, 0\tactions changed.\n",
        "Iteration 753, 0\tactions changed.\n",
        "Iteration 754, 0\tactions changed.\n",
        "Iteration 755, 0\tactions changed.\n",
        "Iteration 756, 0\tactions changed."
       ]
      },
      {
       "output_type": "stream",
       "stream": "stdout",
       "text": [
        "\n",
        "Iteration 757, 0\tactions changed.\n",
        "Iteration 758, 0\tactions changed.\n",
        "Iteration 759, 0\tactions changed.\n",
        "Iteration 760, 0\tactions changed.\n",
        "Iteration 761, 0\tactions changed.\n",
        "Iteration 762, 0\tactions changed.\n",
        "Iteration 763, 0\tactions changed.\n",
        "Iteration 764, 0\tactions changed.\n",
        "Iteration 765, 0\tactions changed.\n",
        "Iteration 766, 0\tactions changed.\n",
        "Iteration 767, 0\tactions changed.\n",
        "Iteration 768, 0\tactions changed.\n",
        "Iteration 769, 0\tactions changed.\n",
        "Iteration 770, 0\tactions changed."
       ]
      },
      {
       "output_type": "stream",
       "stream": "stdout",
       "text": [
        "\n",
        "Iteration 771, 0\tactions changed.\n",
        "Iteration 772, 0\tactions changed.\n",
        "Iteration 773, 0\tactions changed.\n",
        "Iteration 774, 0\tactions changed.\n",
        "Iteration 775, 0\tactions changed.\n",
        "Iteration 776, 0\tactions changed.\n",
        "Iteration 777, 0\tactions changed.\n",
        "Iteration 778, 0\tactions changed.\n",
        "Iteration 779, 0\tactions changed.\n",
        "Iteration 780, 0\tactions changed.\n",
        "Iteration 781, 0\tactions changed."
       ]
      },
      {
       "output_type": "stream",
       "stream": "stdout",
       "text": [
        "\n",
        "Iteration 782, 0\tactions changed.\n",
        "Iteration 783, 0\tactions changed.\n",
        "Iteration 784, 0\tactions changed.\n",
        "Iteration 785, 0\tactions changed.\n",
        "Iteration 786, 0\tactions changed.\n",
        "Iteration 787, 0\tactions changed.\n",
        "Iteration 788, 0\tactions changed.\n",
        "Iteration 789, 0\tactions changed.\n",
        "Iteration 790, 0\tactions changed.\n",
        "Iteration 791, 0\tactions changed."
       ]
      },
      {
       "output_type": "stream",
       "stream": "stdout",
       "text": [
        "\n",
        "Iteration 792, 0\tactions changed.\n",
        "Iteration 793, 0\tactions changed.\n",
        "Iteration 794, 0\tactions changed.\n",
        "Iteration 795, 0\tactions changed.\n",
        "Iteration 796, 0\tactions changed.\n",
        "Iteration 797, 0\tactions changed.\n",
        "Iteration 798, 0\tactions changed.\n",
        "Iteration 799, 0\tactions changed.\n",
        "Iteration 800, 0\tactions changed.\n",
        "Iteration 801, 0\tactions changed.\n",
        "Iteration 802, 0\tactions changed."
       ]
      },
      {
       "output_type": "stream",
       "stream": "stdout",
       "text": [
        "\n",
        "Iteration 803, 0\tactions changed.\n",
        "Iteration 804, 0\tactions changed.\n",
        "Iteration 805, 0\tactions changed.\n",
        "Iteration 806, 0\tactions changed.\n",
        "Iteration 807, 0\tactions changed.\n",
        "Iteration 808, 0\tactions changed.\n",
        "Iteration 809, 0\tactions changed.\n",
        "Iteration 810, 0\tactions changed.\n",
        "Iteration 811, 0\tactions changed."
       ]
      },
      {
       "output_type": "stream",
       "stream": "stdout",
       "text": [
        "\n",
        "Iteration 812, 0\tactions changed.\n",
        "Iteration 813, 0\tactions changed.\n",
        "Iteration 814, 0\tactions changed.\n",
        "Iteration 815, 0\tactions changed.\n",
        "Iteration 816, 0\tactions changed.\n",
        "Iteration 817, 0\tactions changed.\n",
        "Iteration 818, 0\tactions changed.\n",
        "Iteration 819, 0\tactions changed.\n",
        "Iteration 820, 0\tactions changed.\n",
        "Iteration 821, 0\tactions changed."
       ]
      },
      {
       "output_type": "stream",
       "stream": "stdout",
       "text": [
        "\n",
        "Iteration 822, 0\tactions changed.\n",
        "Iteration 823, 0\tactions changed.\n",
        "Iteration 824, 0\tactions changed.\n",
        "Iteration 825, 0\tactions changed.\n",
        "Iteration 826, 0\tactions changed.\n",
        "Iteration 827, 0\tactions changed.\n",
        "Iteration 828, 0\tactions changed.\n",
        "Iteration 829, 0\tactions changed.\n",
        "Iteration 830, 0\tactions changed.\n",
        "Iteration 831, 0\tactions changed."
       ]
      },
      {
       "output_type": "stream",
       "stream": "stdout",
       "text": [
        "\n",
        "Iteration 832, 0\tactions changed.\n",
        "Iteration 833, 0\tactions changed.\n",
        "Iteration 834, 0\tactions changed.\n",
        "Iteration 835, 0\tactions changed.\n",
        "Iteration 836, 0\tactions changed.\n",
        "Iteration 837, 0\tactions changed.\n",
        "Iteration 838, 0\tactions changed.\n",
        "Iteration 839, 0\tactions changed.\n",
        "Iteration 840, 0\tactions changed.\n",
        "Iteration 841, 0\tactions changed.\n",
        "Iteration 842, 0\tactions changed.\n",
        "Iteration 843, 0\tactions changed.\n",
        "Iteration 844, 0\tactions changed."
       ]
      },
      {
       "output_type": "stream",
       "stream": "stdout",
       "text": [
        "\n",
        "Iteration 845, 0\tactions changed.\n",
        "Iteration 846, 0\tactions changed.\n",
        "Iteration 847, 0\tactions changed.\n",
        "Iteration 848, 0\tactions changed.\n",
        "Iteration 849, 0\tactions changed.\n",
        "Iteration 850, 0\tactions changed.\n",
        "Iteration 851, 0\tactions changed.\n",
        "Iteration 852, 0\tactions changed.\n",
        "Iteration 853, 0\tactions changed.\n",
        "Iteration 854, 0\tactions changed.\n",
        "Iteration 855, 0\tactions changed.\n",
        "Iteration 856, 0\tactions changed.\n",
        "Iteration 857, 0\tactions changed.\n",
        "Iteration 858, 0\tactions changed."
       ]
      },
      {
       "output_type": "stream",
       "stream": "stdout",
       "text": [
        "\n",
        "Iteration 859, 0\tactions changed.\n",
        "Iteration 860, 0\tactions changed.\n",
        "Iteration 861, 0\tactions changed.\n",
        "Iteration 862, 0\tactions changed.\n",
        "Iteration 863, 0\tactions changed.\n",
        "Iteration 864, 0\tactions changed.\n",
        "Iteration 865, 0\tactions changed.\n",
        "Iteration 866, 0\tactions changed.\n",
        "Iteration 867, 0\tactions changed.\n",
        "Iteration 868, 0\tactions changed.\n",
        "Iteration 869, 0\tactions changed.\n",
        "Iteration 870, 0\tactions changed."
       ]
      },
      {
       "output_type": "stream",
       "stream": "stdout",
       "text": [
        "\n",
        "Iteration 871, 0\tactions changed.\n",
        "Iteration 872, 0\tactions changed.\n",
        "Iteration 873, 0\tactions changed.\n",
        "Iteration 874, 0\tactions changed.\n",
        "Iteration 875, 0\tactions changed.\n",
        "Iteration 876, 0\tactions changed.\n",
        "Iteration 877, 0\tactions changed.\n",
        "Iteration 878, 0\tactions changed.\n",
        "Iteration 879, 0\tactions changed."
       ]
      },
      {
       "output_type": "stream",
       "stream": "stdout",
       "text": [
        "\n",
        "Iteration 880, 0\tactions changed.\n",
        "Iteration 881, 0\tactions changed.\n",
        "Iteration 882, 0\tactions changed.\n",
        "Iteration 883, 0\tactions changed.\n",
        "Iteration 884, 0\tactions changed.\n",
        "Iteration 885, 0\tactions changed.\n",
        "Iteration 886, 0\tactions changed."
       ]
      },
      {
       "output_type": "stream",
       "stream": "stdout",
       "text": [
        "\n",
        "Iteration 887, 0\tactions changed.\n",
        "Iteration 888, 0\tactions changed.\n",
        "Iteration 889, 0\tactions changed.\n",
        "Iteration 890, 0\tactions changed.\n",
        "Iteration 891, 0\tactions changed.\n",
        "Iteration 892, 0\tactions changed.\n",
        "Iteration 893, 0\tactions changed."
       ]
      },
      {
       "output_type": "stream",
       "stream": "stdout",
       "text": [
        "\n",
        "Iteration 894, 0\tactions changed.\n",
        "Iteration 895, 0\tactions changed.\n",
        "Iteration 896, 0\tactions changed.\n",
        "Iteration 897, 0\tactions changed.\n",
        "Iteration 898, 0\tactions changed.\n",
        "Iteration 899, 0\tactions changed.\n",
        "Iteration 900, 0\tactions changed.\n",
        "Iteration 901, 0\tactions changed.\n",
        "Iteration 902, 0\tactions changed."
       ]
      },
      {
       "output_type": "stream",
       "stream": "stdout",
       "text": [
        "\n",
        "Iteration 903, 0\tactions changed.\n",
        "Iteration 904, 0\tactions changed.\n",
        "Iteration 905, 0\tactions changed.\n",
        "Iteration 906, 0\tactions changed.\n",
        "Iteration 907, 0\tactions changed.\n",
        "Iteration 908, 0\tactions changed.\n",
        "Iteration 909, 0\tactions changed.\n",
        "Iteration 910, 0\tactions changed.\n",
        "Iteration 911, 0\tactions changed."
       ]
      },
      {
       "output_type": "stream",
       "stream": "stdout",
       "text": [
        "\n",
        "Iteration 912, 0\tactions changed.\n",
        "Iteration 913, 0\tactions changed.\n",
        "Iteration 914, 0\tactions changed.\n",
        "Iteration 915, 0\tactions changed.\n",
        "Iteration 916, 0\tactions changed.\n",
        "Iteration 917, 0\tactions changed.\n",
        "Iteration 918, 0\tactions changed.\n",
        "Iteration 919, 0\tactions changed.\n",
        "Iteration 920, 0\tactions changed."
       ]
      },
      {
       "output_type": "stream",
       "stream": "stdout",
       "text": [
        "\n",
        "Iteration 921, 0\tactions changed.\n",
        "Iteration 922, 0\tactions changed.\n",
        "Iteration 923, 0\tactions changed.\n",
        "Iteration 924, 0\tactions changed.\n",
        "Iteration 925, 0\tactions changed.\n",
        "Iteration 926, 0\tactions changed.\n",
        "Iteration 927, 0\tactions changed.\n",
        "Iteration 928, 0\tactions changed.\n",
        "Iteration 929, 0\tactions changed.\n",
        "Iteration 930, 0\tactions changed."
       ]
      },
      {
       "output_type": "stream",
       "stream": "stdout",
       "text": [
        "\n",
        "Iteration 931, 0\tactions changed.\n",
        "Iteration 932, 0\tactions changed.\n",
        "Iteration 933, 0\tactions changed.\n",
        "Iteration 934, 0\tactions changed.\n",
        "Iteration 935, 0\tactions changed.\n",
        "Iteration 936, 0\tactions changed.\n",
        "Iteration 937, 0\tactions changed.\n",
        "Iteration 938, 0\tactions changed.\n",
        "Iteration 939, 0\tactions changed.\n",
        "Iteration 940, 0\tactions changed.\n",
        "Iteration 941, 0\tactions changed.\n",
        "Iteration 942, 0\tactions changed.\n",
        "Iteration 943, 0\tactions changed."
       ]
      },
      {
       "output_type": "stream",
       "stream": "stdout",
       "text": [
        "\n",
        "Iteration 944, 0\tactions changed.\n",
        "Iteration 945, 0\tactions changed.\n",
        "Iteration 946, 0\tactions changed.\n",
        "Iteration 947, 0\tactions changed.\n",
        "Iteration 948, 0\tactions changed.\n",
        "Iteration 949, 0\tactions changed.\n",
        "Iteration 950, 0\tactions changed.\n",
        "Iteration 951, 0\tactions changed.\n",
        "Iteration 952, 0\tactions changed.\n",
        "Iteration 953, 0\tactions changed.\n",
        "Iteration 954, 0\tactions changed.\n",
        "Iteration 955, 0\tactions changed."
       ]
      },
      {
       "output_type": "stream",
       "stream": "stdout",
       "text": [
        "\n",
        "Iteration 956, 0\tactions changed.\n",
        "Iteration 957, 0\tactions changed.\n",
        "Iteration 958, 0\tactions changed.\n",
        "Iteration 959, 0\tactions changed.\n",
        "Iteration 960, 0\tactions changed.\n",
        "Iteration 961, 0\tactions changed.\n",
        "Iteration 962, 0\tactions changed.\n",
        "Iteration 963, 0\tactions changed.\n",
        "Iteration 964, 0\tactions changed."
       ]
      },
      {
       "output_type": "stream",
       "stream": "stdout",
       "text": [
        "\n",
        "Iteration 965, 0\tactions changed.\n",
        "Iteration 966, 0\tactions changed.\n",
        "Iteration 967, 0\tactions changed.\n",
        "Iteration 968, 0\tactions changed.\n",
        "Iteration 969, 0\tactions changed.\n",
        "Iteration 970, 0\tactions changed.\n",
        "Iteration 971, 0\tactions changed.\n",
        "Iteration 972, 0\tactions changed.\n",
        "Iteration 973, 0\tactions changed.\n",
        "Iteration 974, 0\tactions changed.\n",
        "Iteration 975, 0\tactions changed.\n",
        "Iteration 976, 0\tactions changed."
       ]
      },
      {
       "output_type": "stream",
       "stream": "stdout",
       "text": [
        "\n",
        "Iteration 977, 0\tactions changed.\n",
        "Iteration 978, 0\tactions changed.\n",
        "Iteration 979, 0\tactions changed.\n",
        "Iteration 980, 0\tactions changed.\n",
        "Iteration 981, 0\tactions changed.\n",
        "Iteration 982, 0\tactions changed.\n",
        "Iteration 983, 0\tactions changed.\n",
        "Iteration 984, 0\tactions changed.\n",
        "Iteration 985, 0\tactions changed."
       ]
      },
      {
       "output_type": "stream",
       "stream": "stdout",
       "text": [
        "\n",
        "Iteration 986, 0\tactions changed.\n",
        "Iteration 987, 0\tactions changed.\n",
        "Iteration 988, 0\tactions changed.\n",
        "Iteration 989, 0\tactions changed.\n",
        "Iteration 990, 0\tactions changed.\n",
        "Iteration 991, 0\tactions changed.\n",
        "Iteration 992, 0\tactions changed.\n",
        "Iteration 993, 0\tactions changed.\n",
        "Iteration 994, 0\tactions changed.\n",
        "Iteration 995, 0\tactions changed.\n",
        "Iteration 996, 0\tactions changed."
       ]
      },
      {
       "output_type": "stream",
       "stream": "stdout",
       "text": [
        "\n",
        "Iteration 997, 0\tactions changed.\n",
        "Iteration 998, 0\tactions changed.\n",
        "Iteration 999, 0\tactions changed.\n",
        "Iteration 1000, 0\tactions changed.\n",
        "Iteration 1001, 0\tactions changed.\n",
        "Iteration 1002, 0\tactions changed.\n",
        "Iteration 1003, 0\tactions changed.\n",
        "Iteration 1004, 0\tactions changed.\n",
        "Iteration 1005, 0\tactions changed.\n",
        "Iteration 1006, 0\tactions changed.\n",
        "Iteration 1007, 0\tactions changed.\n",
        "Iteration 1008, 0\tactions changed.\n",
        "Iteration 1009, 0\tactions changed.\n",
        "Iteration 1010, 0\tactions changed."
       ]
      },
      {
       "output_type": "stream",
       "stream": "stdout",
       "text": [
        "\n",
        "Iteration 1011, 0\tactions changed.\n",
        "Iteration 1012, 0\tactions changed.\n",
        "Iteration 1013, 0\tactions changed.\n",
        "Iteration 1014, 0\tactions changed.\n",
        "Iteration 1015, 0\tactions changed.\n",
        "Iteration 1016, 0\tactions changed.\n",
        "Iteration 1017, 0\tactions changed.\n",
        "Iteration 1018, 0\tactions changed.\n",
        "Iteration 1019, 0\tactions changed.\n",
        "Iteration 1020, 0\tactions changed.\n",
        "Iteration 1021, 0\tactions changed.\n",
        "Iteration 1022, 0\tactions changed."
       ]
      },
      {
       "output_type": "stream",
       "stream": "stdout",
       "text": [
        "\n",
        "Iteration 1023, 0\tactions changed.\n",
        "Iteration 1024, 0\tactions changed.\n",
        "Iteration 1025, 0\tactions changed.\n",
        "Iteration 1026, 0\tactions changed.\n",
        "Iteration 1027, 0\tactions changed.\n",
        "Iteration 1028, 0\tactions changed.\n",
        "Iteration 1029, 0\tactions changed.\n",
        "Iteration 1030, 0\tactions changed.\n",
        "Iteration 1031, 0\tactions changed.\n",
        "Iteration 1032, 0\tactions changed.\n",
        "Iteration 1033, 0\tactions changed.\n",
        "Iteration 1034, 0\tactions changed.\n",
        "Iteration 1035, 0\tactions changed."
       ]
      },
      {
       "output_type": "stream",
       "stream": "stdout",
       "text": [
        "\n",
        "Iteration 1036, 0\tactions changed.\n",
        "Iteration 1037, 0\tactions changed.\n",
        "Iteration 1038, 0\tactions changed.\n",
        "Iteration 1039, 0\tactions changed.\n",
        "Iteration 1040, 0\tactions changed.\n",
        "Iteration 1041, 0\tactions changed.\n",
        "Iteration 1042, 0\tactions changed.\n",
        "Iteration 1043, 0\tactions changed.\n",
        "Iteration 1044, 0\tactions changed.\n",
        "Iteration 1045, 0\tactions changed.\n",
        "Iteration 1046, 0\tactions changed.\n",
        "Iteration 1047, 0\tactions changed."
       ]
      },
      {
       "output_type": "stream",
       "stream": "stdout",
       "text": [
        "\n",
        "Iteration 1048, 0\tactions changed.\n",
        "Iteration 1049, 0\tactions changed.\n",
        "Iteration 1050, 0\tactions changed.\n",
        "Iteration 1051, 0\tactions changed.\n",
        "Iteration 1052, 0\tactions changed.\n",
        "Iteration 1053, 0\tactions changed.\n",
        "Iteration 1054, 0\tactions changed.\n",
        "Iteration 1055, 0\tactions changed.\n",
        "Iteration 1056, 0\tactions changed.\n",
        "Iteration 1057, 0\tactions changed.\n",
        "Iteration 1058, 0\tactions changed.\n",
        "Iteration 1059, 0\tactions changed.\n",
        "Iteration 1060, 0\tactions changed.\n",
        "Iteration 1061, 0\tactions changed."
       ]
      },
      {
       "output_type": "stream",
       "stream": "stdout",
       "text": [
        "\n",
        "Iteration 1062, 0\tactions changed.\n",
        "Iteration 1063, 0\tactions changed.\n",
        "Iteration 1064, 0\tactions changed.\n",
        "Iteration 1065, 0\tactions changed.\n",
        "Iteration 1066, 0\tactions changed.\n",
        "Iteration 1067, 0\tactions changed.\n",
        "Iteration 1068, 0\tactions changed.\n",
        "Iteration 1069, 0\tactions changed.\n",
        "Iteration 1070, 0\tactions changed.\n",
        "Iteration 1071, 0\tactions changed."
       ]
      },
      {
       "output_type": "stream",
       "stream": "stdout",
       "text": [
        "\n",
        "Iteration 1072, 0\tactions changed.\n",
        "Iteration 1073, 0\tactions changed.\n",
        "Iteration 1074, 0\tactions changed.\n",
        "Iteration 1075, 0\tactions changed.\n",
        "Iteration 1076, 0\tactions changed.\n",
        "Iteration 1077, 0\tactions changed.\n",
        "Iteration 1078, 0\tactions changed.\n",
        "Iteration 1079, 0\tactions changed.\n",
        "Iteration 1080, 0\tactions changed.\n",
        "Iteration 1081, 0\tactions changed.\n",
        "Iteration 1082, 0\tactions changed."
       ]
      },
      {
       "output_type": "stream",
       "stream": "stdout",
       "text": [
        "\n",
        "Iteration 1083, 0\tactions changed.\n",
        "Iteration 1084, 0\tactions changed.\n",
        "Iteration 1085, 0\tactions changed.\n",
        "Iteration 1086, 0\tactions changed.\n",
        "Iteration 1087, 0\tactions changed.\n",
        "Iteration 1088, 0\tactions changed.\n",
        "Iteration 1089, 0\tactions changed.\n",
        "Iteration 1090, 0\tactions changed.\n",
        "Iteration 1091, 0\tactions changed.\n",
        "Iteration 1092, 0\tactions changed."
       ]
      },
      {
       "output_type": "stream",
       "stream": "stdout",
       "text": [
        "\n",
        "Iteration 1093, 0\tactions changed.\n",
        "Iteration 1094, 0\tactions changed.\n",
        "Iteration 1095, 0\tactions changed.\n",
        "Iteration 1096, 0\tactions changed.\n",
        "Iteration 1097, 0\tactions changed.\n",
        "Iteration 1098, 0\tactions changed.\n",
        "Iteration 1099, 0\tactions changed.\n",
        "Iteration 1100, 0\tactions changed.\n",
        "Iteration 1101, 0\tactions changed.\n",
        "Iteration 1102, 0\tactions changed."
       ]
      },
      {
       "output_type": "stream",
       "stream": "stdout",
       "text": [
        "\n",
        "Iteration 1103, 0\tactions changed.\n",
        "Iteration 1104, 0\tactions changed.\n",
        "Iteration 1105, 0\tactions changed.\n",
        "Iteration 1106, 0\tactions changed.\n",
        "Iteration 1107, 0\tactions changed.\n",
        "Iteration 1108, 0\tactions changed.\n",
        "Iteration 1109, 0\tactions changed.\n",
        "Iteration 1110, 0\tactions changed.\n",
        "Iteration 1111, 0\tactions changed.\n",
        "Iteration 1112, 0\tactions changed.\n",
        "Iteration 1113, 0\tactions changed."
       ]
      },
      {
       "output_type": "stream",
       "stream": "stdout",
       "text": [
        "\n",
        "Iteration 1114, 0\tactions changed.\n",
        "Iteration 1115, 0\tactions changed.\n",
        "Iteration 1116, 0\tactions changed.\n",
        "Iteration 1117, 0\tactions changed.\n",
        "Iteration 1118, 0\tactions changed.\n",
        "Iteration 1119, 0\tactions changed.\n",
        "Iteration 1120, 0\tactions changed.\n",
        "Iteration 1121, 0\tactions changed.\n",
        "Iteration 1122, 0\tactions changed."
       ]
      },
      {
       "output_type": "stream",
       "stream": "stdout",
       "text": [
        "\n",
        "Iteration 1123, 0\tactions changed.\n",
        "Iteration 1124, 0\tactions changed.\n",
        "Iteration 1125, 0\tactions changed.\n",
        "Iteration 1126, 0\tactions changed.\n",
        "Iteration 1127, 0\tactions changed.\n",
        "Iteration 1128, 0\tactions changed.\n",
        "Iteration 1129, 0\tactions changed.\n",
        "Iteration 1130, 0\tactions changed.\n",
        "Iteration 1131, 0\tactions changed.\n",
        "Iteration 1132, 0\tactions changed."
       ]
      },
      {
       "output_type": "stream",
       "stream": "stdout",
       "text": [
        "\n",
        "Iteration 1133, 0\tactions changed.\n",
        "Iteration 1134, 0\tactions changed.\n",
        "Iteration 1135, 0\tactions changed.\n",
        "Iteration 1136, 0\tactions changed.\n",
        "Iteration 1137, 0\tactions changed.\n",
        "Iteration 1138, 0\tactions changed.\n",
        "Iteration 1139, 0\tactions changed.\n",
        "Iteration 1140, 0\tactions changed.\n",
        "Iteration 1141, 0\tactions changed.\n",
        "Iteration 1142, 0\tactions changed.\n",
        "Iteration 1143, 0\tactions changed.\n",
        "Iteration 1144, 0\tactions changed.\n",
        "Iteration 1145, 0\tactions changed."
       ]
      },
      {
       "output_type": "stream",
       "stream": "stdout",
       "text": [
        "\n",
        "Iteration 1146, 0\tactions changed.\n",
        "Iteration 1147, 0\tactions changed.\n",
        "Iteration 1148, 0\tactions changed.\n",
        "Iteration 1149, 0\tactions changed.\n",
        "Iteration 1150, 0\tactions changed.\n",
        "Iteration 1151, 0\tactions changed.\n",
        "Iteration 1152, 0\tactions changed.\n",
        "Iteration 1153, 0\tactions changed.\n",
        "Iteration 1154, 0\tactions changed.\n",
        "Iteration 1155, 0\tactions changed.\n",
        "Iteration 1156, 0\tactions changed.\n",
        "Iteration 1157, 0\tactions changed.\n",
        "Iteration 1158, 0\tactions changed.\n",
        "Iteration 1159, 0\tactions changed."
       ]
      },
      {
       "output_type": "stream",
       "stream": "stdout",
       "text": [
        "\n",
        "Iteration 1160, 0\tactions changed.\n",
        "Iteration 1161, 0\tactions changed.\n",
        "Iteration 1162, 0\tactions changed.\n",
        "Iteration 1163, 0\tactions changed.\n",
        "Iteration 1164, 0\tactions changed.\n",
        "Iteration 1165, 0\tactions changed.\n",
        "Iteration 1166, 0\tactions changed.\n",
        "Iteration 1167, 0\tactions changed.\n",
        "Iteration 1168, 0\tactions changed.\n",
        "Iteration 1169, 0\tactions changed.\n",
        "Iteration 1170, 0\tactions changed.\n",
        "Iteration 1171, 0\tactions changed."
       ]
      },
      {
       "output_type": "stream",
       "stream": "stdout",
       "text": [
        "\n",
        "Iteration 1172, 0\tactions changed.\n",
        "Iteration 1173, 0\tactions changed.\n",
        "Iteration 1174, 0\tactions changed.\n",
        "Iteration 1175, 0\tactions changed.\n",
        "Iteration 1176, 0\tactions changed.\n",
        "Iteration 1177, 0\tactions changed.\n",
        "Iteration 1178, 0\tactions changed.\n",
        "Iteration 1179, 0\tactions changed.\n",
        "Iteration 1180, 0\tactions changed.\n",
        "Iteration 1181, 0\tactions changed.\n",
        "Iteration 1182, 0\tactions changed.\n",
        "Iteration 1183, 0\tactions changed.\n",
        "Iteration 1184, 0\tactions changed.\n",
        "Iteration 1185, 0\tactions changed."
       ]
      },
      {
       "ename": "KeyboardInterrupt",
       "evalue": "",
       "output_type": "pyerr",
       "traceback": [
        "\u001b[0;31m---------------------------------------------------------------------------\u001b[0m\n\u001b[0;31mKeyboardInterrupt\u001b[0m                         Traceback (most recent call last)",
        "\u001b[0;32m<ipython-input-9-bffea50c9a33>\u001b[0m in \u001b[0;36m<module>\u001b[0;34m()\u001b[0m\n\u001b[1;32m     58\u001b[0m     \u001b[0;32mreturn\u001b[0m \u001b[0mreward\u001b[0m\u001b[0;34m\u001b[0m\u001b[0m\n\u001b[1;32m     59\u001b[0m \u001b[0mGW\u001b[0m \u001b[0;34m=\u001b[0m \u001b[0mMDP\u001b[0m\u001b[0;34m(\u001b[0m\u001b[0mP\u001b[0m\u001b[0;34m,\u001b[0m\u001b[0mR\u001b[0m\u001b[0;34m(\u001b[0m\u001b[0;34m)\u001b[0m\u001b[0;34m)\u001b[0m\u001b[0;34m\u001b[0m\u001b[0m\n\u001b[0;32m---> 60\u001b[0;31m \u001b[0mGW\u001b[0m\u001b[0;34m.\u001b[0m\u001b[0moptimal_policy\u001b[0m\u001b[0;34m(\u001b[0m\u001b[0;34m)\u001b[0m\u001b[0;34m\u001b[0m\u001b[0m\n\u001b[0m",
        "\u001b[0;32m/Users/edouard/Documents/Miens/Travail/These/Soulless/DP.py\u001b[0m in \u001b[0;36moptimal_policy\u001b[0;34m(self)\u001b[0m\n\u001b[1;32m     51\u001b[0m             \u001b[0;32massert\u001b[0m \u001b[0mallclose\u001b[0m\u001b[0;34m(\u001b[0m\u001b[0mV\u001b[0m\u001b[0;34m,\u001b[0m \u001b[0mdot\u001b[0m\u001b[0;34m(\u001b[0m\u001b[0mPi\u001b[0m\u001b[0;34m,\u001b[0m\u001b[0mself\u001b[0m\u001b[0;34m.\u001b[0m\u001b[0mR\u001b[0m\u001b[0;34m)\u001b[0m \u001b[0;34m+\u001b[0m \u001b[0mself\u001b[0m\u001b[0;34m.\u001b[0m\u001b[0mgamma\u001b[0m\u001b[0;34m*\u001b[0m\u001b[0mdot\u001b[0m\u001b[0;34m(\u001b[0m\u001b[0mdot\u001b[0m\u001b[0;34m(\u001b[0m\u001b[0mPi\u001b[0m\u001b[0;34m,\u001b[0m\u001b[0mself\u001b[0m\u001b[0;34m.\u001b[0m\u001b[0mP\u001b[0m\u001b[0;34m)\u001b[0m\u001b[0;34m,\u001b[0m\u001b[0mV\u001b[0m\u001b[0;34m)\u001b[0m\u001b[0;34m)\u001b[0m\u001b[0;34m,\u001b[0m \u001b[0;34m\"Bellman equation\"\u001b[0m\u001b[0;34m\u001b[0m\u001b[0m\n\u001b[1;32m     52\u001b[0m             \u001b[0mQ\u001b[0m \u001b[0;34m=\u001b[0m \u001b[0mself\u001b[0m\u001b[0;34m.\u001b[0m\u001b[0mR\u001b[0m \u001b[0;34m+\u001b[0m \u001b[0mself\u001b[0m\u001b[0;34m.\u001b[0m\u001b[0mgamma\u001b[0m\u001b[0;34m*\u001b[0m\u001b[0mdot\u001b[0m\u001b[0;34m(\u001b[0m \u001b[0mself\u001b[0m\u001b[0;34m.\u001b[0m\u001b[0mP\u001b[0m\u001b[0;34m,\u001b[0m\u001b[0mV\u001b[0m\u001b[0;34m)\u001b[0m\u001b[0;34m\u001b[0m\u001b[0m\n\u001b[0;32m---> 53\u001b[0;31m             \u001b[0mPi\u001b[0m \u001b[0;34m=\u001b[0m \u001b[0mself\u001b[0m\u001b[0;34m.\u001b[0m\u001b[0mQ2Pi\u001b[0m\u001b[0;34m(\u001b[0m \u001b[0mQ\u001b[0m \u001b[0;34m)\u001b[0m\u001b[0;34m\u001b[0m\u001b[0m\n\u001b[0m\u001b[1;32m     54\u001b[0m             \u001b[0mprint\u001b[0m\u001b[0;34m(\u001b[0m\u001b[0;34m\"Iteration \"\u001b[0m\u001b[0;34m+\u001b[0m\u001b[0mstr\u001b[0m\u001b[0;34m(\u001b[0m\u001b[0mT\u001b[0m\u001b[0;34m)\u001b[0m\u001b[0;34m+\u001b[0m\u001b[0;34m\", \"\u001b[0m\u001b[0;34m+\u001b[0m\u001b[0mstr\u001b[0m\u001b[0;34m(\u001b[0m\u001b[0msum\u001b[0m\u001b[0;34m(\u001b[0m\u001b[0mPi\u001b[0m\u001b[0;34m!=\u001b[0m\u001b[0moldPi\u001b[0m\u001b[0;34m)\u001b[0m\u001b[0;34m)\u001b[0m\u001b[0;34m+\u001b[0m\u001b[0;34m\"\\tactions changed.\"\u001b[0m\u001b[0;34m)\u001b[0m\u001b[0;34m\u001b[0m\u001b[0m\n\u001b[1;32m     55\u001b[0m             \u001b[0mT\u001b[0m\u001b[0;34m+=\u001b[0m\u001b[0;36m1\u001b[0m\u001b[0;34m\u001b[0m\u001b[0m\n",
        "\u001b[0;32m/Users/edouard/Documents/Miens/Travail/These/Soulless/DP.py\u001b[0m in \u001b[0;36mQ2Pi\u001b[0;34m(self, Q)\u001b[0m\n\u001b[1;32m     71\u001b[0m                     \u001b[0manswer\u001b[0m\u001b[0;34m[\u001b[0m\u001b[0mi\u001b[0m\u001b[0;34m,\u001b[0m\u001b[0msa_index\u001b[0m\u001b[0;34m]\u001b[0m \u001b[0;34m=\u001b[0m \u001b[0;36m1.\u001b[0m\u001b[0;34m\u001b[0m\u001b[0m\n\u001b[1;32m     72\u001b[0m                     \u001b[0;32mbreak\u001b[0m \u001b[0;31m#Breaking here arbitrarily choose the lowest indexed action to break ties\u001b[0m\u001b[0;34m\u001b[0m\u001b[0m\n\u001b[0;32m---> 73\u001b[0;31m             \u001b[0;32massert\u001b[0m \u001b[0mall\u001b[0m\u001b[0;34m(\u001b[0m\u001b[0;34m[\u001b[0m \u001b[0mf_geq\u001b[0m\u001b[0;34m(\u001b[0m\u001b[0mQ\u001b[0m\u001b[0;34m[\u001b[0m\u001b[0mi\u001b[0m\u001b[0;34m+\u001b[0m\u001b[0mj\u001b[0m\u001b[0;34m*\u001b[0m\u001b[0mself\u001b[0m\u001b[0;34m.\u001b[0m\u001b[0mcardS\u001b[0m\u001b[0;34m]\u001b[0m\u001b[0;34m,\u001b[0m \u001b[0mQ\u001b[0m\u001b[0;34m[\u001b[0m\u001b[0mi\u001b[0m\u001b[0;34m+\u001b[0m\u001b[0ma\u001b[0m\u001b[0;34m*\u001b[0m\u001b[0mself\u001b[0m\u001b[0;34m.\u001b[0m\u001b[0mcardS\u001b[0m\u001b[0;34m]\u001b[0m\u001b[0;34m)\u001b[0m \u001b[0;32mfor\u001b[0m \u001b[0ma\u001b[0m \u001b[0;32min\u001b[0m \u001b[0mrange\u001b[0m\u001b[0;34m(\u001b[0m\u001b[0;36m0\u001b[0m\u001b[0;34m,\u001b[0m\u001b[0mself\u001b[0m\u001b[0;34m.\u001b[0m\u001b[0mcardA\u001b[0m\u001b[0;34m)\u001b[0m\u001b[0;34m]\u001b[0m\u001b[0;34m)\u001b[0m\u001b[0;34m,\u001b[0m \u001b[0;34mr\"$Q(s,pi(s)) = \\arg\\max_a Q(s,a)$\"\u001b[0m\u001b[0;34m\u001b[0m\u001b[0m\n\u001b[0m\u001b[1;32m     74\u001b[0m         \u001b[0;32massert\u001b[0m \u001b[0mall\u001b[0m\u001b[0;34m(\u001b[0m\u001b[0manswer\u001b[0m\u001b[0;34m.\u001b[0m\u001b[0msum\u001b[0m\u001b[0;34m(\u001b[0m\u001b[0maxis\u001b[0m\u001b[0;34m=\u001b[0m\u001b[0;36m1\u001b[0m\u001b[0;34m)\u001b[0m \u001b[0;34m==\u001b[0m \u001b[0;36m1\u001b[0m\u001b[0;34m)\u001b[0m\u001b[0;34m,\u001b[0m \u001b[0;34m\"A sum of probabilities should give 1.\"\u001b[0m\u001b[0;34m\u001b[0m\u001b[0m\n\u001b[1;32m     75\u001b[0m         \u001b[0;32mreturn\u001b[0m \u001b[0manswer\u001b[0m\u001b[0;34m\u001b[0m\u001b[0m\n",
        "\u001b[0;32m/Library/Frameworks/Python.framework/Versions/3.3/lib/python3.3/site-packages/numpy/core/fromnumeric.py\u001b[0m in \u001b[0;36mall\u001b[0;34m(a, axis, out, keepdims)\u001b[0m\n\u001b[1;32m   1710\u001b[0m \u001b[0;34m\u001b[0m\u001b[0m\n\u001b[1;32m   1711\u001b[0m     \u001b[0;32mtry\u001b[0m\u001b[0;34m:\u001b[0m\u001b[0;34m\u001b[0m\u001b[0m\n\u001b[0;32m-> 1712\u001b[0;31m         \u001b[0;32mreturn\u001b[0m \u001b[0marr\u001b[0m\u001b[0;34m.\u001b[0m\u001b[0mall\u001b[0m\u001b[0;34m(\u001b[0m\u001b[0maxis\u001b[0m\u001b[0;34m=\u001b[0m\u001b[0maxis\u001b[0m\u001b[0;34m,\u001b[0m \u001b[0mout\u001b[0m\u001b[0;34m=\u001b[0m\u001b[0mout\u001b[0m\u001b[0;34m,\u001b[0m \u001b[0mkeepdims\u001b[0m\u001b[0;34m=\u001b[0m\u001b[0mkeepdims\u001b[0m\u001b[0;34m)\u001b[0m\u001b[0;34m\u001b[0m\u001b[0m\n\u001b[0m\u001b[1;32m   1713\u001b[0m     \u001b[0;32mexcept\u001b[0m \u001b[0mTypeError\u001b[0m\u001b[0;34m:\u001b[0m\u001b[0;34m\u001b[0m\u001b[0m\n\u001b[1;32m   1714\u001b[0m         \u001b[0;32mreturn\u001b[0m \u001b[0marr\u001b[0m\u001b[0;34m.\u001b[0m\u001b[0mall\u001b[0m\u001b[0;34m(\u001b[0m\u001b[0maxis\u001b[0m\u001b[0;34m=\u001b[0m\u001b[0maxis\u001b[0m\u001b[0;34m,\u001b[0m \u001b[0mout\u001b[0m\u001b[0;34m=\u001b[0m\u001b[0mout\u001b[0m\u001b[0;34m)\u001b[0m\u001b[0;34m\u001b[0m\u001b[0m\n",
        "\u001b[0;32m/Library/Frameworks/Python.framework/Versions/3.3/lib/python3.3/site-packages/numpy/core/_methods.py\u001b[0m in \u001b[0;36m_all\u001b[0;34m(a, axis, dtype, out, keepdims)\u001b[0m\n\u001b[1;32m     28\u001b[0m \u001b[0;32mdef\u001b[0m \u001b[0m_all\u001b[0m\u001b[0;34m(\u001b[0m\u001b[0ma\u001b[0m\u001b[0;34m,\u001b[0m \u001b[0maxis\u001b[0m\u001b[0;34m=\u001b[0m\u001b[0;32mNone\u001b[0m\u001b[0;34m,\u001b[0m \u001b[0mdtype\u001b[0m\u001b[0;34m=\u001b[0m\u001b[0;32mNone\u001b[0m\u001b[0;34m,\u001b[0m \u001b[0mout\u001b[0m\u001b[0;34m=\u001b[0m\u001b[0;32mNone\u001b[0m\u001b[0;34m,\u001b[0m \u001b[0mkeepdims\u001b[0m\u001b[0;34m=\u001b[0m\u001b[0;32mFalse\u001b[0m\u001b[0;34m)\u001b[0m\u001b[0;34m:\u001b[0m\u001b[0;34m\u001b[0m\u001b[0m\n\u001b[1;32m     29\u001b[0m     return um.logical_and.reduce(a, axis=axis, dtype=dtype, out=out,\n\u001b[0;32m---> 30\u001b[0;31m                                  keepdims=keepdims)\n\u001b[0m\u001b[1;32m     31\u001b[0m \u001b[0;34m\u001b[0m\u001b[0m\n\u001b[1;32m     32\u001b[0m \u001b[0;32mdef\u001b[0m \u001b[0m_count_reduce_items\u001b[0m\u001b[0;34m(\u001b[0m\u001b[0marr\u001b[0m\u001b[0;34m,\u001b[0m \u001b[0maxis\u001b[0m\u001b[0;34m)\u001b[0m\u001b[0;34m:\u001b[0m\u001b[0;34m\u001b[0m\u001b[0m\n",
        "\u001b[0;31mKeyboardInterrupt\u001b[0m: "
       ]
      },
      {
       "output_type": "stream",
       "stream": "stdout",
       "text": [
        "\n"
       ]
      }
     ],
     "prompt_number": 9
    }
   ],
   "metadata": {}
  }
 ]
}