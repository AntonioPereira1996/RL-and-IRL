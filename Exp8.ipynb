{
 "metadata": {
  "name": "Exp8"
 },
 "nbformat": 3,
 "nbformat_minor": 0,
 "worksheets": [
  {
   "cells": [
    {
     "cell_type": "code",
     "collapsed": false,
     "input": [
      "#Mountain Car\n",
      "from stuff import *\n",
      "from pylab import *\n",
      "from random import *\n",
      "import numpy\n",
      "from rl import *\n",
      "\n",
      "ACTION_SPACE=[-1,0,1]\n",
      "\n",
      "def mountain_car_next_state(state,action):\n",
      "    position,speed=state\n",
      "    next_speed = squeeze(speed+action*0.001+cos(3*position)*(-0.0025))\n",
      "    next_position = squeeze(position+next_speed)\n",
      "    if not -0.07 <= next_speed <= 0.07:\n",
      "        next_speed = sign(next_speed)*0.07\n",
      "    if not -1.2 <= next_position <= 0.6:\n",
      "        next_speed=0.\n",
      "        next_position = -1.2 if next_position < -1.2 else 0.6\n",
      "    return array([next_position,next_speed])\n",
      "\n",
      "def mountain_car_uniform_state():\n",
      "    return array([numpy.random.uniform(low=-1.2,high=0.6),numpy.random.uniform(low=-0.07,high=0.07)])\n",
      "mountain_car_mu_position, mountain_car_mu_speed = meshgrid(linspace(-1.2,0.6,7),linspace(-0.07,0.07,7))\n",
      "\n",
      "mountain_car_sigma_position = 2*pow((0.6+1.2)/10.,2)\n",
      "mountain_car_sigma_speed = 2*pow((0.07+0.07)/10.,2)\n",
      "\n",
      "def mountain_car_single_psi(state):\n",
      "    position,speed=state\n",
      "    psi=[]\n",
      "    for mu in zip_stack(mountain_car_mu_position, mountain_car_mu_speed).reshape(7*7,2):\n",
      "        psi.append(exp( -pow(position-mu[0],2)/mountain_car_sigma_position \n",
      "                        -pow(speed-mu[1],2)/mountain_car_sigma_speed))\n",
      "    psi.append(1.)\n",
      "    return array(psi).reshape((7*7+1,1))\n",
      "\n",
      "mountain_car_psi= non_scalar_vectorize(mountain_car_single_psi,(2,),(50,1))\n",
      "\n",
      "def mountain_car_single_phi(sa):\n",
      "    state=sa[:2]\n",
      "    index_action = int(sa[-1])+1\n",
      "    answer=zeros(((7*7+1)*3,1))\n",
      "    answer[index_action*(7*7+1):index_action*(7*7+1)+7*7+1] = mountain_car_single_psi(state)\n",
      "    return answer\n",
      "\n",
      "mountain_car_phi= non_scalar_vectorize(mountain_car_single_phi,(3,),(150,1))\n",
      "\n",
      "def mountain_car_reward(sas):\n",
      "    position=sas[0]\n",
      "    return 1 if position > 0.5 else 0\n",
      "\n",
      "def mountain_car_episode_length(initial_position,initial_speed,policy):\n",
      "    answer = 0\n",
      "    reward = 0.\n",
      "    state = array([initial_position,initial_speed])\n",
      "    while answer < 300 and reward == 0. :\n",
      "        action = policy(state)\n",
      "        next_state = mountain_car_next_state(state,action)\n",
      "        reward = mountain_car_reward(hstack([state, action, next_state]))\n",
      "        state=next_state\n",
      "        answer+=1\n",
      "    return answer\n",
      "\n",
      "def mountain_car_episode_vlength(policy):\n",
      "    return vectorize(lambda p,s:mountain_car_episode_length(p,s,policy))\n",
      "\n",
      "\n",
      "def mountain_car_training_data(freward=mountain_car_reward,traj_length=5,nb_traj=1000):\n",
      "    traj = []\n",
      "    random_policy = lambda s:choice(ACTION_SPACE)\n",
      "    for i in range(0,nb_traj):\n",
      "        state = mountain_car_uniform_state()\n",
      "        reward=0\n",
      "        t=0\n",
      "        while t < traj_length and reward == 0:\n",
      "            t+=1\n",
      "            action = random_policy(state)\n",
      "            next_state = mountain_car_next_state(state, action)\n",
      "            reward = freward(hstack([state, action, next_state]))\n",
      "            traj.append(hstack([state, action, next_state, reward]))\n",
      "            state=next_state\n",
      "    return array(traj)\n",
      "def mountain_car_plot( f, draw_contour=True, contour_levels=50, draw_surface=False ):\n",
      "    '''Display a surface plot of function f over the state space'''\n",
      "    pos = linspace(-1.2,0.6,30)\n",
      "    speed = linspace(-0.07,0.07,30)\n",
      "    pos,speed = meshgrid(pos,speed)\n",
      "    Z = f(pos,speed)\n",
      "    #fig = figure()\n",
      "    if draw_surface:\n",
      "        ax=Axes3D(fig)\n",
      "        ax.plot_surface(pos,speed,Z)\n",
      "    if draw_contour:\n",
      "        contourf(pos,speed,Z,levels=linspace(min(Z.reshape(-1)),max(Z.reshape(-1)),contour_levels+1))\n",
      "        colorbar()\n",
      "def mountain_car_plot_policy( policy ):\n",
      "    two_args_pol = lambda p,s:squeeze(policy(zip_stack(p,s)))\n",
      "    mountain_car_plot(two_args_pol,contour_levels=3)\n",
      "\n",
      "def mountain_car_V(omega):\n",
      "    policy = greedy_policy( omega, mountain_car_phi, ACTION_SPACE )\n",
      "    def V(pos,speed):\n",
      "        actions = policy(zip_stack(pos,speed))\n",
      "        Phi=mountain_car_phi(zip_stack(pos,speed,actions))\n",
      "        return squeeze(dot(omega.transpose(),Phi))\n",
      "    return V\n",
      "\n",
      "def mountain_car_interesting_state():\n",
      "    position = numpy.random.uniform(low=-1.2,high=-0.9)\n",
      "    speed = numpy.random.uniform(low=-0.07,high=0)\n",
      "    return array([position,speed])\n",
      "\n",
      "def mountain_car_IRL_traj():\n",
      "    traj = []\n",
      "    state = mountain_car_interesting_state()\n",
      "    reward = 0\n",
      "    while reward == 0:\n",
      "        action = mountain_car_manual_policy(state)\n",
      "        next_state = mountain_car_next_state(state, action)\n",
      "        next_action = mountain_car_manual_policy(next_state)\n",
      "        reward = mountain_car_reward(hstack([state, action, next_state]))\n",
      "        traj.append(hstack([state, action, next_state, next_action, reward]))\n",
      "        state=next_state\n",
      "    return array(traj)\n",
      "\n",
      "def mountain_car_IRL_data(nbsamples):\n",
      "    data = mountain_car_IRL_traj()\n",
      "    while len(data) < nbsamples:\n",
      "        data = vstack([data,mountain_car_IRL_traj()])\n",
      "    return data[:nbsamples]\n",
      "\n",
      "def mountain_car_manual_policy(state):\n",
      "    position,speed = state\n",
      "    return -1. if speed <=0 else 1.\n",
      "\n",
      "TRAJS = mountain_car_IRL_data(1000)\n",
      "scatter(TRAJS[:,0],TRAJS[:,1],c=TRAJS[:,2])\n",
      "axis([-1.2,0.6,-0.07,0.07])\n",
      "phi=mountain_car_phi"
     ],
     "language": "python",
     "metadata": {},
     "outputs": [
      {
       "output_type": "display_data",
       "png": "[encoded data removed]"
      }
     ],
     "prompt_number": 1
    },
    {
     "cell_type": "code",
     "collapsed": false,
     "input": [
      "def mountain_car_boubou_traj():\n",
      "    traj = []\n",
      "    state = mountain_car_interesting_state()\n",
      "    reward = 0\n",
      "    t=0\n",
      "    while reward == 0 and t<60:\n",
      "        t+=1\n",
      "        action = choice(ACTION_SPACE)\n",
      "        next_state = mountain_car_next_state(state, action)\n",
      "        reward = mountain_car_reward(hstack([state, action, next_state]))\n",
      "        traj.append(hstack([state, action, next_state, reward]))\n",
      "        state=next_state\n",
      "    return array(traj)\n",
      "\n",
      "data_r = vstack([mountain_car_boubou_traj() for i in range(0,400)])\n",
      "savetxt(\"mountain_car_boubou_trajs.mat\",data_r)"
     ],
     "language": "python",
     "metadata": {},
     "outputs": [],
     "prompt_number": 23
    },
    {
     "cell_type": "code",
     "collapsed": false,
     "input": [
      "GAMMA = 0.99\n",
      "\n",
      "def end_of_episode(data,i):\n",
      "    try:\n",
      "        if all(data[i,3:5] == data[i+1,:2]):\n",
      "            return False\n",
      "        else:\n",
      "            return True\n",
      "    except:\n",
      "        return True\n",
      "\n",
      "#function reward=relative_entropy_boularias(phi,n_s,gamma,data_c,data_r,L_c,H_c,L_r,H_r,delta,epsilon_re,N_final)\n",
      "def relative_entropy(data_c,data_r,delta):\n",
      "    #size_phi=size(phi);\n",
      "    \n",
      "    #feature_c=zeros(L_c,size_phi(2));\n",
      "    #feature_r=zeros(L_r,size_phi(2));\n",
      "    feature_c=[]\n",
      "    feature_r=[]\n",
      "    \n",
      "    #theta=zeros(1,size_phi(2));\n",
      "    theta=zeros((1,150))\n",
      "    #for i=1:L_c\n",
      "        #for j=1:H_c\n",
      "    eoe_indices = [i for i in range(0,len(data_c)) if end_of_episode(data_c,i)]\n",
      "    for start_index,end_index in zip( [0] + map(lambda x:x+1,eoe_indices[:-1]),eoe_indices):\n",
      "        #feature_c(i,:)=feature_c(i,:)+gamma^j*phi(data_c(j+H_c*(i-1),1)+n_s*(data_c(j+H_c*(i-1),2)-1),:);\n",
      "        data_MC=data_c[start_index:end_index+1,:3]\n",
      "        GAMMAS = range(0,len(data_MC))\n",
      "        GAMMAS = array(map( lambda x: pow(GAMMA,x), GAMMAS))\n",
      "        state_action = data_MC[0,:3]\n",
      "        mu = None\n",
      "        if len(data_MC) > 1:\n",
      "            mu = dot( GAMMAS,squeeze(phi(data_MC[:,:3])))\n",
      "        else:\n",
      "            mu = squeeze(phi(squeeze(data_MC[:,:3])))\n",
      "        feature_c.append(mu)   \n",
      "    feature_c=array(feature_c)\n",
      "\n",
      "    #feature_c_mean=mean(feature_c,1);\n",
      "    feature_c_mean=mean(feature_c,0);\n",
      "    \n",
      "    #epsilon=sqrt(-log2(1-delta)/(2*H_c))*(gamma^(H_c+1)-1)/(gamma-1);\n",
      "    #epsilon=sqrt(-log2(1-delta)/(2*300))*(pow(GAMMA,(300+1))-1)/(GAMMA-1);\n",
      "    epsilon = 0.01\n",
      "    print \"epsilon \"+str(epsilon)\n",
      "    \n",
      "    #for i=1:L_r\n",
      "    #    for j=1:H_r\n",
      "    eoe_indices = [i for i in range(0,len(data_r)) if end_of_episode(data_r,i)]\n",
      "    for start_index,end_index in zip( [0] + map(lambda x:x+1,eoe_indices[:-1]),eoe_indices):\n",
      "        #feature_r(i,:)=feature_r(i,:)+gamma^j*phi(data_r(j+H_r*(i-1),1)+n_s*(data_r(j+H_r*(i-1),2)-1),:)\n",
      "        data_MC=data_r[start_index:end_index+1,:3]\n",
      "        GAMMAS = range(0,len(data_MC))\n",
      "        GAMMAS = array(map( lambda x: pow(GAMMA,x), GAMMAS))\n",
      "        state_action = data_MC[0,:3]\n",
      "        mu = None\n",
      "        if len(data_MC) > 1:\n",
      "            mu = dot( GAMMAS,squeeze(phi(data_MC[:,:3])))\n",
      "        else:\n",
      "            mu = squeeze(phi(squeeze(data_MC[:,:3])))\n",
      "        feature_r.append(mu)\n",
      "        #    end   \n",
      "        #end\n",
      "    feature_r=array(feature_r)\n",
      "\n",
      "    #Criterion=epsilon_re+1;\n",
      "    criterion=numpy.inf\n",
      "    #counter=1;\n",
      "    counter=1\n",
      "\n",
      "    #while Criterion>epsilon_re&&counter<N_final\n",
      "    while criterion > 0.01 and counter < 1000:\n",
      "        #buffer_derivative_t=zeros(1,size_phi(2));\n",
      "        derivative = zeros((1,150))\n",
      "        #buffer_t=0;\n",
      "        t = 0\n",
      "        #buffer_theta=theta;\n",
      "        #for i=1:L_r\n",
      "        for i in range(0,len(feature_r)):\n",
      "            #buffer_derivative_t=buffer_derivative_t+exp(theta*feature_r(i,:)')*feature_r(i,:);\n",
      "            derivative += exp(dot(theta,feature_r[i,:].transpose()))*feature_r[i,:]\n",
      "            #buffer_t=buffer_t+exp(theta*feature_r(i,:)');\n",
      "            t +=  exp(dot(theta,feature_r[i,:].transpose()))\n",
      "            #end    \n",
      "\n",
      "        #buffer_derivative=feature_c_mean-buffer_derivative_t/(buffer_t)-sign(theta)*epsilon;\n",
      "        derivative=feature_c_mean-derivative/(t)-sign(theta)*epsilon\n",
      "\n",
      "        print \"Boubou run \\t\"+str(counter)+\" criterion is \\t\"+str(criterion)+\" ||derivative|| is \\t\"+str(norm(derivative))\n",
      "        \n",
      "        #if norm(buffer_derivative)==0\n",
      "        if norm(derivative)==0:\n",
      "            #theta=buffer_theta;\n",
      "            break\n",
      "        else:\n",
      "            #theta=buffer_theta+(1/counter)*buffer_derivative/norm(buffer_derivative,2);\n",
      "            delta_theta = (100./float(counter))*derivative/norm(derivative,2)\n",
      "            #end\n",
      "        #Criterion=norm(buffer_theta-theta,2);\n",
      "        criterion=norm(delta_theta,2)\n",
      "        theta+=delta_theta\n",
      "        #counter=counter+1;    \n",
      "        counter += 1\n",
      "        #end    \n",
      "    print \"Stop boubou @ run \"+str(counter-1)+\" criterion is \"+str(criterion)\n",
      "    #reward=phi*theta';\n",
      "    return lambda sas: dot(theta,phi(sas[:3]))[0]\n",
      "    \n",
      "\n",
      "#data_r = genfromtxt(\"mountain_car_batch_data.mat\")\n",
      "data_r = genfromtxt(\"mountain_car_boubou_trajs.mat\")\n",
      "\n",
      "RE_reward = relative_entropy(TRAJS, data_r, 0.99)\n",
      "vRE_reward = non_scalar_vectorize( RE_reward, (5,),(1,1) )\n",
      "data = genfromtxt(\"mountain_car_batch_data.mat\")\n",
      "data[:,5] = squeeze(vRE_reward(data[:,:5]))\n",
      "policy_RE,omega_RE = lspi( data, s_dim=2,a_dim=1, A=ACTION_SPACE, phi=mountain_car_phi, phi_dim=150, iterations_max=20 )#None,zeros((75,1))#"
     ],
     "language": "python",
     "metadata": {},
     "outputs": [
      {
       "output_type": "stream",
       "stream": "stdout",
       "text": [
        "epsilon 0.01\n",
        "Boubou run \t1 criterion is \tinf ||derivative|| is \t27.4683423209"
       ]
      },
      {
       "output_type": "stream",
       "stream": "stdout",
       "text": [
        "\n",
        "Boubou run \t2 criterion is \t100.0 ||derivative|| is \t17.0704519307\n",
        "Boubou run \t3 criterion is \t50.0 ||derivative|| is \t17.0669606976\n",
        "Boubou run \t4 criterion is \t33.3333333333 ||derivative|| is \t17.0669566277\n",
        "Boubou run \t5 criterion is \t25.0 ||derivative|| is \t17.0669588457\n",
        "Boubou run \t6 criterion is \t20.0 ||derivative|| is \t17.0669588702\n",
        "Boubou run \t7 criterion is \t16.6666666667 ||derivative|| is \t17.0669570443\n",
        "Boubou run \t8 criterion is \t14.2857142857 ||derivative|| is \t17.0669544662"
       ]
      },
      {
       "output_type": "stream",
       "stream": "stdout",
       "text": [
        "\n",
        "Boubou run \t9 criterion is \t12.5 ||derivative|| is \t17.0669637866\n",
        "Boubou run \t10 criterion is \t11.1111111111 ||derivative|| is \t17.0669570676\n",
        "Boubou run \t11 criterion is \t10.0 ||derivative|| is \t17.0669574976\n",
        "Boubou run \t12 criterion is \t9.09090909091 ||derivative|| is \t17.0669647252\n",
        "Boubou run \t13 criterion is \t8.33333333333 ||derivative|| is \t17.066956172\n",
        "Boubou run \t14 criterion is \t7.69230769231 ||derivative|| is \t17.0669610449\n",
        "Boubou run \t15 criterion is \t7.14285714286 ||derivative|| is \t17.0669602586"
       ]
      },
      {
       "output_type": "stream",
       "stream": "stdout",
       "text": [
        "\n",
        "Boubou run \t16 criterion is \t6.66666666667 ||derivative|| is \t17.0669554365\n",
        "Boubou run \t17 criterion is \t6.25 ||derivative|| is \t16.977709015\n",
        "Boubou run \t18 criterion is \t5.88235294118 ||derivative|| is \t18.2967916037\n",
        "Boubou run \t19 criterion is \t5.55555555556 ||derivative|| is \t17.0669610646\n",
        "Boubou run \t20 criterion is \t5.26315789474 ||derivative|| is \t17.0669615662\n",
        "Boubou run \t21 criterion is \t5.0 ||derivative|| is \t17.0669559598\n",
        "Boubou run \t22 criterion is \t4.7619047619 ||derivative|| is \t17.065023215"
       ]
      },
      {
       "output_type": "stream",
       "stream": "stdout",
       "text": [
        "\n",
        "Boubou run \t23 criterion is \t4.54545454545 ||derivative|| is \t18.395083909\n",
        "Boubou run \t24 criterion is \t4.34782608696 ||derivative|| is \t17.0669566324\n",
        "Boubou run \t25 criterion is \t4.16666666667 ||derivative|| is \t17.0669588778\n",
        "Boubou run \t26 criterion is \t4.0 ||derivative|| is \t17.0669422942\n",
        "Boubou run \t27 criterion is \t3.84615384615 ||derivative|| is \t17.0604556736\n",
        "Boubou run \t28 criterion is \t3.7037037037 ||derivative|| is \t18.0902585535\n",
        "Boubou run \t29 criterion is \t3.57142857143 ||derivative|| is \t17.0669591902"
       ]
      },
      {
       "output_type": "stream",
       "stream": "stdout",
       "text": [
        "\n",
        "Boubou run \t30 criterion is \t3.44827586207 ||derivative|| is \t17.0669501014\n",
        "Boubou run \t31 criterion is \t3.33333333333 ||derivative|| is \t17.0660346293\n",
        "Boubou run \t32 criterion is \t3.22580645161 ||derivative|| is \t16.9784294844\n",
        "Boubou run \t33 criterion is \t3.125 ||derivative|| is \t17.1586386652\n",
        "Boubou run \t34 criterion is \t3.0303030303 ||derivative|| is \t17.0661074631\n",
        "Boubou run \t35 criterion is \t2.94117647059 ||derivative|| is \t17.0016568329\n",
        "Boubou run \t36 criterion is \t2.85714285714 ||derivative|| is \t17.5549478412"
       ]
      },
      {
       "output_type": "stream",
       "stream": "stdout",
       "text": [
        "\n",
        "Boubou run \t37 criterion is \t2.77777777778 ||derivative|| is \t17.0669275136\n",
        "Boubou run \t38 criterion is \t2.7027027027 ||derivative|| is \t17.064754943\n",
        "Boubou run \t39 criterion is \t2.63157894737 ||derivative|| is \t16.9820675251\n",
        "Boubou run \t40 criterion is \t2.5641025641 ||derivative|| is \t17.1060841674\n",
        "Boubou run \t41 criterion is \t2.5 ||derivative|| is \t17.0616152973\n",
        "Boubou run \t42 criterion is \t2.43902439024 ||derivative|| is \t16.9697833354\n",
        "Boubou run \t43 criterion is \t2.38095238095 ||derivative|| is \t16.9703096089"
       ]
      },
      {
       "output_type": "stream",
       "stream": "stdout",
       "text": [
        "\n",
        "Boubou run \t44 criterion is \t2.32558139535 ||derivative|| is \t16.9734142515\n",
        "Boubou run \t45 criterion is \t2.27272727273 ||derivative|| is \t16.9825783669\n",
        "Boubou run \t46 criterion is \t2.22222222222 ||derivative|| is \t17.0500465403\n",
        "Boubou run \t47 criterion is \t2.17391304348 ||derivative|| is \t17.0470981122\n",
        "Boubou run \t48 criterion is \t2.12765957447 ||derivative|| is \t17.0223530079\n",
        "Boubou run \t49 criterion is \t2.08333333333 ||derivative|| is \t17.0335267039\n",
        "Boubou run \t50 criterion is \t2.04081632653 ||derivative|| is \t17.0685529893"
       ]
      },
      {
       "output_type": "stream",
       "stream": "stdout",
       "text": [
        "\n",
        "Boubou run \t51 criterion is \t2.0 ||derivative|| is \t17.0469923515\n",
        "Boubou run \t52 criterion is \t1.96078431373 ||derivative|| is \t16.988530081\n",
        "Boubou run \t53 criterion is \t1.92307692308 ||derivative|| is \t17.0010651661\n",
        "Boubou run \t54 criterion is \t1.88679245283 ||derivative|| is \t17.0503950989\n",
        "Boubou run \t55 criterion is \t1.85185185185 ||derivative|| is \t17.0367859023\n",
        "Boubou run \t56 criterion is \t1.81818181818 ||derivative|| is \t16.997518929\n",
        "Boubou run \t57 criterion is \t1.78571428571 ||derivative|| is \t17.0052512908"
       ]
      },
      {
       "output_type": "stream",
       "stream": "stdout",
       "text": [
        "\n",
        "Boubou run \t58 criterion is \t1.75438596491 ||derivative|| is \t17.0249510995\n",
        "Boubou run \t59 criterion is \t1.72413793103 ||derivative|| is \t17.0207528365\n",
        "Boubou run \t60 criterion is \t1.69491525424 ||derivative|| is \t17.005113714\n",
        "Boubou run \t61 criterion is \t1.66666666667 ||derivative|| is \t17.006377636\n",
        "Boubou run \t62 criterion is \t1.6393442623 ||derivative|| is \t17.0053520086\n",
        "Boubou run \t63 criterion is \t1.61290322581 ||derivative|| is \t17.0042730678\n",
        "Boubou run \t64 criterion is \t1.5873015873 ||derivative|| is \t16.9985353959"
       ]
      },
      {
       "output_type": "stream",
       "stream": "stdout",
       "text": [
        "\n",
        "Boubou run \t65 criterion is \t1.5625 ||derivative|| is \t16.9974403817\n",
        "Boubou run \t66 criterion is \t1.53846153846 ||derivative|| is \t16.9928274051\n",
        "Boubou run \t67 criterion is \t1.51515151515 ||derivative|| is \t16.9914550935\n",
        "Boubou run \t68 criterion is \t1.49253731343 ||derivative|| is \t16.9872862394\n",
        "Boubou run \t69 criterion is \t1.47058823529 ||derivative|| is \t16.9857679633\n",
        "Boubou run \t70 criterion is \t1.44927536232 ||derivative|| is \t16.982208252\n",
        "Boubou run \t71 criterion is \t1.42857142857 ||derivative|| is \t16.9806850134"
       ]
      },
      {
       "output_type": "stream",
       "stream": "stdout",
       "text": [
        "\n",
        "Boubou run \t72 criterion is \t1.40845070423 ||derivative|| is \t16.9778561684\n",
        "Boubou run \t73 criterion is \t1.38888888889 ||derivative|| is \t16.9764846892\n",
        "Boubou run \t74 criterion is \t1.3698630137 ||derivative|| is \t16.9744695597\n",
        "Boubou run \t75 criterion is \t1.35135135135 ||derivative|| is \t16.9733798239\n",
        "Boubou run \t76 criterion is \t1.33333333333 ||derivative|| is \t16.9720997966\n",
        "Boubou run \t77 criterion is \t1.31578947368 ||derivative|| is \t16.9713891164\n",
        "Boubou run \t78 criterion is \t1.2987012987 ||derivative|| is \t16.970696754"
       ]
      },
      {
       "output_type": "stream",
       "stream": "stdout",
       "text": [
        "\n",
        "Boubou run \t79 criterion is \t1.28205128205 ||derivative|| is \t16.9703279789\n",
        "Boubou run \t80 criterion is \t1.26582278481 ||derivative|| is \t16.9700158466\n",
        "Boubou run \t81 criterion is \t1.25 ||derivative|| is \t16.9698526136\n",
        "Boubou run \t82 criterion is \t1.23456790123 ||derivative|| is \t16.9697463157\n",
        "Boubou run \t83 criterion is \t1.21951219512 ||derivative|| is \t16.9697006408\n",
        "Boubou run \t84 criterion is \t1.20481927711 ||derivative|| is \t16.9696594744\n",
        "Boubou run \t85 criterion is \t1.19047619048 ||derivative|| is \t16.9696644302"
       ]
      },
      {
       "output_type": "stream",
       "stream": "stdout",
       "text": [
        "\n",
        "Boubou run \t86 criterion is \t1.17647058824 ||derivative|| is \t16.9696434382\n",
        "Boubou run \t87 criterion is \t1.16279069767 ||derivative|| is \t16.9696427167\n",
        "Boubou run \t88 criterion is \t1.14942528736 ||derivative|| is \t16.9696473131\n",
        "Boubou run \t89 criterion is \t1.13636363636 ||derivative|| is \t16.969639467\n",
        "Boubou run \t90 criterion is \t1.12359550562 ||derivative|| is \t16.9696446261\n",
        "Boubou run \t91 criterion is \t1.11111111111 ||derivative|| is \t16.9696452268\n",
        "Boubou run \t92 criterion is \t1.0989010989 ||derivative|| is \t16.9696444642"
       ]
      },
      {
       "output_type": "stream",
       "stream": "stdout",
       "text": [
        "\n",
        "Boubou run \t93 criterion is \t1.08695652174 ||derivative|| is \t16.9696365019\n",
        "Boubou run \t94 criterion is \t1.0752688172 ||derivative|| is \t16.9696393507\n",
        "Boubou run \t95 criterion is \t1.06382978723 ||derivative|| is \t16.9696546717\n",
        "Boubou run \t96 criterion is \t1.05263157895 ||derivative|| is \t16.9696392652\n",
        "Boubou run \t97 criterion is \t1.04166666667 ||derivative|| is \t16.9696385227\n",
        "Boubou run \t98 criterion is \t1.03092783505 ||derivative|| is \t16.9696373826"
       ]
      },
      {
       "output_type": "stream",
       "stream": "stdout",
       "text": [
        "\n",
        "Boubou run \t99 criterion is \t1.02040816327 ||derivative|| is \t16.969648952\n",
        "Boubou run \t100 criterion is \t1.0101010101 ||derivative|| is \t16.9696490891\n",
        "Boubou run \t101 criterion is \t1.0 ||derivative|| is \t16.9696339877\n",
        "Boubou run \t102 criterion is \t0.990099009901 ||derivative|| is \t16.9696417798\n",
        "Boubou run \t103 criterion is \t0.980392156863 ||derivative|| is \t16.9696449585\n",
        "Boubou run \t104 criterion is \t0.970873786408 ||derivative|| is \t16.9696388307\n",
        "Boubou run \t105 criterion is \t0.961538461538 ||derivative|| is \t16.969648262"
       ]
      },
      {
       "output_type": "stream",
       "stream": "stdout",
       "text": [
        "\n",
        "Boubou run \t106 criterion is \t0.952380952381 ||derivative|| is \t16.9696398745\n",
        "Boubou run \t107 criterion is \t0.943396226415 ||derivative|| is \t16.9696469659\n",
        "Boubou run \t108 criterion is \t0.934579439252 ||derivative|| is \t16.9696387305\n",
        "Boubou run \t109 criterion is \t0.925925925926 ||derivative|| is \t16.9696349134\n",
        "Boubou run \t110 criterion is \t0.917431192661 ||derivative|| is \t16.9696457645\n",
        "Boubou run \t111 criterion is \t0.909090909091 ||derivative|| is \t16.9696522862\n",
        "Boubou run \t112 criterion is \t0.900900900901 ||derivative|| is \t16.9696364986"
       ]
      },
      {
       "output_type": "stream",
       "stream": "stdout",
       "text": [
        "\n",
        "Boubou run \t113 criterion is \t0.892857142857 ||derivative|| is \t16.9696445736\n",
        "Boubou run \t114 criterion is \t0.884955752212 ||derivative|| is \t16.9696383304\n",
        "Boubou run \t115 criterion is \t0.877192982456 ||derivative|| is \t16.9696432053\n",
        "Boubou run \t116 criterion is \t0.869565217391 ||derivative|| is \t16.969645652\n",
        "Boubou run \t117 criterion is \t0.862068965517 ||derivative|| is \t16.9696457325\n",
        "Boubou run \t118 criterion is \t0.854700854701 ||derivative|| is \t16.9696351873\n",
        "Boubou run \t119 criterion is \t0.847457627119 ||derivative|| is \t16.9696443525"
       ]
      },
      {
       "output_type": "stream",
       "stream": "stdout",
       "text": [
        "\n",
        "Boubou run \t120 criterion is \t0.840336134454 ||derivative|| is \t16.9696465496\n",
        "Boubou run \t121 criterion is \t0.833333333333 ||derivative|| is \t16.9696415765\n",
        "Boubou run \t122 criterion is \t0.826446280992 ||derivative|| is \t16.9696414839\n",
        "Boubou run \t123 criterion is \t0.819672131148 ||derivative|| is \t16.9696442081\n",
        "Boubou run \t124 criterion is \t0.813008130081 ||derivative|| is \t16.9696425407\n",
        "Boubou run \t125 criterion is \t0.806451612903 ||derivative|| is \t16.9696385313\n",
        "Boubou run \t126 criterion is \t0.8 ||derivative|| is \t16.9696464248"
       ]
      },
      {
       "output_type": "stream",
       "stream": "stdout",
       "text": [
        "\n",
        "Boubou run \t127 criterion is \t0.793650793651 ||derivative|| is \t16.9696423054\n",
        "Boubou run \t128 criterion is \t0.787401574803 ||derivative|| is \t16.9696445306\n",
        "Boubou run \t129 criterion is \t0.78125 ||derivative|| is \t16.9696405702\n",
        "Boubou run \t130 criterion is \t0.77519379845 ||derivative|| is \t16.9696339066\n",
        "Boubou run \t131 criterion is \t0.769230769231 ||derivative|| is \t16.9696579792\n",
        "Boubou run \t132 criterion is \t0.763358778626 ||derivative|| is \t16.9696400765\n",
        "Boubou run \t133 criterion is \t0.757575757576 ||derivative|| is \t16.9696356912"
       ]
      },
      {
       "output_type": "stream",
       "stream": "stdout",
       "text": [
        "\n",
        "Boubou run \t134 criterion is \t0.751879699248 ||derivative|| is \t16.9696360971\n",
        "Boubou run \t135 criterion is \t0.746268656716 ||derivative|| is \t16.9696547848\n",
        "Boubou run \t136 criterion is \t0.740740740741 ||derivative|| is \t16.9696338983\n",
        "Boubou run \t137 criterion is \t0.735294117647 ||derivative|| is \t16.9696450221\n",
        "Boubou run \t138 criterion is \t0.729927007299 ||derivative|| is \t16.969647306\n",
        "Boubou run \t139 criterion is \t0.724637681159 ||derivative|| is \t16.969643563"
       ]
      },
      {
       "output_type": "stream",
       "stream": "stdout",
       "text": [
        "\n",
        "Boubou run \t140 criterion is \t0.719424460432 ||derivative|| is \t16.9696339377\n",
        "Boubou run \t141 criterion is \t0.714285714286 ||derivative|| is \t16.9696425577\n",
        "Boubou run \t142 criterion is \t0.709219858156 ||derivative|| is \t16.9696497487\n",
        "Boubou run \t143 criterion is \t0.704225352113 ||derivative|| is \t16.9696401299\n",
        "Boubou run \t144 criterion is \t0.699300699301 ||derivative|| is \t16.9696455261\n",
        "Boubou run \t145 criterion is \t0.694444444444 ||derivative|| is \t16.9696343847\n",
        "Boubou run \t146 criterion is \t0.689655172414 ||derivative|| is \t16.9696425164"
       ]
      },
      {
       "output_type": "stream",
       "stream": "stdout",
       "text": [
        "\n",
        "Boubou run \t147 criterion is \t0.684931506849 ||derivative|| is \t16.9696555599\n",
        "Boubou run \t148 criterion is \t0.680272108844 ||derivative|| is \t16.9696352321\n",
        "Boubou run \t149 criterion is \t0.675675675676 ||derivative|| is \t16.9696416709\n",
        "Boubou run \t150 criterion is \t0.671140939597 ||derivative|| is \t16.9696433836\n",
        "Boubou run \t151 criterion is \t0.666666666667 ||derivative|| is \t16.9696423084\n",
        "Boubou run \t152 criterion is \t0.662251655629 ||derivative|| is \t16.9696424037\n",
        "Boubou run \t153 criterion is \t0.657894736842 ||derivative|| is \t16.9696437266"
       ]
      },
      {
       "output_type": "stream",
       "stream": "stdout",
       "text": [
        "\n",
        "Boubou run \t154 criterion is \t0.653594771242 ||derivative|| is \t16.9696413555\n",
        "Boubou run \t155 criterion is \t0.649350649351 ||derivative|| is \t16.96964018\n",
        "Boubou run \t156 criterion is \t0.645161290323 ||derivative|| is \t16.9696458051\n",
        "Boubou run \t157 criterion is \t0.641025641026 ||derivative|| is \t16.9696464774\n",
        "Boubou run \t158 criterion is \t0.636942675159 ||derivative|| is \t16.9696343116\n",
        "Boubou run \t159 criterion is \t0.632911392405 ||derivative|| is \t16.9696473645"
       ]
      },
      {
       "output_type": "stream",
       "stream": "stdout",
       "text": [
        "\n",
        "Boubou run \t160 criterion is \t0.62893081761 ||derivative|| is \t16.9696435058\n",
        "Boubou run \t161 criterion is \t0.625 ||derivative|| is \t16.9696370475\n",
        "Boubou run \t162 criterion is \t0.621118012422 ||derivative|| is \t16.9696388498\n",
        "Boubou run \t163 criterion is \t0.617283950617 ||derivative|| is \t16.9696519005\n",
        "Boubou run \t164 criterion is \t0.613496932515 ||derivative|| is \t16.9696420155\n",
        "Boubou run \t165 criterion is \t0.609756097561 ||derivative|| is \t16.9696390565\n",
        "Boubou run \t166 criterion is \t0.606060606061 ||derivative|| is \t16.9696408432"
       ]
      },
      {
       "output_type": "stream",
       "stream": "stdout",
       "text": [
        "\n",
        "Boubou run \t167 criterion is \t0.602409638554 ||derivative|| is \t16.9696458694\n",
        "Boubou run \t168 criterion is \t0.59880239521 ||derivative|| is \t16.96964402\n",
        "Boubou run \t169 criterion is \t0.595238095238 ||derivative|| is \t16.9696421873\n",
        "Boubou run \t170 criterion is \t0.591715976331 ||derivative|| is \t16.9696356061\n",
        "Boubou run \t171 criterion is \t0.588235294118 ||derivative|| is \t16.9696471034\n",
        "Boubou run \t172 criterion is \t0.584795321637 ||derivative|| is \t16.9696433717"
       ]
      },
      {
       "output_type": "stream",
       "stream": "stdout",
       "text": [
        "\n",
        "Boubou run \t173 criterion is \t0.581395348837 ||derivative|| is \t16.9696437209\n",
        "Boubou run \t174 criterion is \t0.578034682081 ||derivative|| is \t16.9696403646\n",
        "Boubou run \t175 criterion is \t0.574712643678 ||derivative|| is \t16.9696483681\n",
        "Boubou run \t176 criterion is \t0.571428571429 ||derivative|| is \t16.9696373378\n",
        "Boubou run \t177 criterion is \t0.568181818182 ||derivative|| is \t16.9696344008\n",
        "Boubou run \t178 criterion is \t0.564971751412 ||derivative|| is \t16.9696636654"
       ]
      },
      {
       "output_type": "stream",
       "stream": "stdout",
       "text": [
        "\n",
        "Boubou run \t179 criterion is \t0.561797752809 ||derivative|| is \t16.9696344113\n",
        "Boubou run \t180 criterion is \t0.558659217877 ||derivative|| is \t16.9696351744\n",
        "Boubou run \t181 criterion is \t0.555555555556 ||derivative|| is \t16.9696499007\n",
        "Boubou run \t182 criterion is \t0.552486187845 ||derivative|| is \t16.9696401036\n",
        "Boubou run \t183 criterion is \t0.549450549451 ||derivative|| is \t16.9696446106\n",
        "Boubou run \t184 criterion is \t0.546448087432 ||derivative|| is \t16.9696424613"
       ]
      },
      {
       "output_type": "stream",
       "stream": "stdout",
       "text": [
        "\n",
        "Boubou run \t185 criterion is \t0.54347826087 ||derivative|| is \t16.9696405032\n",
        "Boubou run \t186 criterion is \t0.540540540541 ||derivative|| is \t16.9696422249\n",
        "Boubou run \t187 criterion is \t0.537634408602 ||derivative|| is \t16.9696439245\n",
        "Boubou run \t188 criterion is \t0.534759358289 ||derivative|| is \t16.9696364252\n",
        "Boubou run \t189 criterion is \t0.531914893617 ||derivative|| is \t16.9696481553\n",
        "Boubou run \t190 criterion is \t0.529100529101 ||derivative|| is \t16.9696482429"
       ]
      },
      {
       "output_type": "stream",
       "stream": "stdout",
       "text": [
        "\n",
        "Boubou run \t191 criterion is \t0.526315789474 ||derivative|| is \t16.9696379323\n",
        "Boubou run \t192 criterion is \t0.523560209424 ||derivative|| is \t16.9696391083\n",
        "Boubou run \t193 criterion is \t0.520833333333 ||derivative|| is \t16.9696464371\n",
        "Boubou run \t194 criterion is \t0.518134715026 ||derivative|| is \t16.9696468919\n",
        "Boubou run \t195 criterion is \t0.515463917526 ||derivative|| is \t16.9696373995\n",
        "Boubou run \t196 criterion is \t0.512820512821 ||derivative|| is \t16.9696481798"
       ]
      },
      {
       "output_type": "stream",
       "stream": "stdout",
       "text": [
        "\n",
        "Boubou run \t197 criterion is \t0.510204081633 ||derivative|| is \t16.9696352472\n",
        "Boubou run \t198 criterion is \t0.507614213198 ||derivative|| is \t16.9696427462\n",
        "Boubou run \t199 criterion is \t0.505050505051 ||derivative|| is \t16.9696511916\n",
        "Boubou run \t200 criterion is \t0.502512562814 ||derivative|| is \t16.9696415513\n",
        "Boubou run \t201 criterion is \t0.5 ||derivative|| is \t16.9696343995\n",
        "Boubou run \t202 criterion is \t0.497512437811 ||derivative|| is \t16.9696454948"
       ]
      },
      {
       "output_type": "stream",
       "stream": "stdout",
       "text": [
        "\n",
        "Boubou run \t203 criterion is \t0.49504950495 ||derivative|| is \t16.9696458495\n",
        "Boubou run \t204 criterion is \t0.492610837438 ||derivative|| is \t16.9696429163\n",
        "Boubou run \t205 criterion is \t0.490196078431 ||derivative|| is \t16.9696405209\n",
        "Boubou run \t206 criterion is \t0.487804878049 ||derivative|| is \t16.9696507801\n",
        "Boubou run \t207 criterion is \t0.485436893204 ||derivative|| is \t16.969634412\n",
        "Boubou run \t208 criterion is \t0.48309178744 ||derivative|| is \t16.9696409467\n",
        "Boubou run \t209 criterion is \t0.480769230769 ||derivative|| is \t16.9696466213"
       ]
      },
      {
       "output_type": "stream",
       "stream": "stdout",
       "text": [
        "\n",
        "Boubou run \t210 criterion is \t0.478468899522 ||derivative|| is \t16.9696478749\n",
        "Boubou run \t211 criterion is \t0.47619047619 ||derivative|| is \t16.9696393259\n",
        "Boubou run \t212 criterion is \t0.473933649289 ||derivative|| is \t16.9696389299\n",
        "Boubou run \t213 criterion is \t0.471698113208 ||derivative|| is \t16.9696374403\n",
        "Boubou run \t214 criterion is \t0.469483568075 ||derivative|| is \t16.9696569738\n",
        "Boubou run \t215 criterion is \t0.467289719626 ||derivative|| is \t16.9696415523\n",
        "Boubou run \t216 criterion is \t0.46511627907 ||derivative|| is \t16.9696347989"
       ]
      },
      {
       "output_type": "stream",
       "stream": "stdout",
       "text": [
        "\n",
        "Boubou run \t217 criterion is \t0.462962962963 ||derivative|| is \t16.9696425921\n",
        "Boubou run \t218 criterion is \t0.460829493088 ||derivative|| is \t16.9696487402\n",
        "Boubou run \t219 criterion is \t0.45871559633 ||derivative|| is \t16.9696352908\n",
        "Boubou run \t220 criterion is \t0.456621004566 ||derivative|| is \t16.969644119\n",
        "Boubou run \t221 criterion is \t0.454545454545 ||derivative|| is \t16.9696477535\n",
        "Boubou run \t222 criterion is \t0.452488687783 ||derivative|| is \t16.9696435895"
       ]
      },
      {
       "output_type": "stream",
       "stream": "stdout",
       "text": [
        "\n",
        "Boubou run \t223 criterion is \t0.45045045045 ||derivative|| is \t16.9696340145\n",
        "Boubou run \t224 criterion is \t0.448430493274 ||derivative|| is \t16.9696489519\n",
        "Boubou run \t225 criterion is \t0.446428571429 ||derivative|| is \t16.9696438059\n",
        "Boubou run \t226 criterion is \t0.444444444444 ||derivative|| is \t16.9696413757\n",
        "Boubou run \t227 criterion is \t0.442477876106 ||derivative|| is \t16.9696447916\n",
        "Boubou run \t228 criterion is \t0.440528634361 ||derivative|| is \t16.9696407694\n",
        "Boubou run \t229 criterion is \t0.438596491228 ||derivative|| is \t16.9696344981"
       ]
      },
      {
       "output_type": "stream",
       "stream": "stdout",
       "text": [
        "\n",
        "Boubou run \t230 criterion is \t0.436681222707 ||derivative|| is \t16.9696584827\n",
        "Boubou run \t231 criterion is \t0.434782608696 ||derivative|| is \t16.9696348663\n",
        "Boubou run \t232 criterion is \t0.4329004329 ||derivative|| is \t16.9696425135\n",
        "Boubou run \t233 criterion is \t0.431034482759 ||derivative|| is \t16.9696389062\n",
        "Boubou run \t234 criterion is \t0.429184549356 ||derivative|| is \t16.9696442254\n",
        "Boubou run \t235 criterion is \t0.42735042735 ||derivative|| is \t16.9696502847"
       ]
      },
      {
       "output_type": "stream",
       "stream": "stdout",
       "text": [
        "\n",
        "Boubou run \t236 criterion is \t0.425531914894 ||derivative|| is \t16.9696383393\n",
        "Boubou run \t237 criterion is \t0.423728813559 ||derivative|| is \t16.9696420598\n",
        "Boubou run \t238 criterion is \t0.42194092827 ||derivative|| is \t16.9696400771\n",
        "Boubou run \t239 criterion is \t0.420168067227 ||derivative|| is \t16.9696471108\n",
        "Boubou run \t240 criterion is \t0.418410041841 ||derivative|| is \t16.969645632\n",
        "Boubou run \t241 criterion is \t0.416666666667 ||derivative|| is \t16.9696357837\n",
        "Boubou run \t242 criterion is \t0.414937759336 ||derivative|| is \t16.9696514175"
       ]
      },
      {
       "output_type": "stream",
       "stream": "stdout",
       "text": [
        "\n",
        "Boubou run \t243 criterion is \t0.413223140496 ||derivative|| is \t16.9696399267\n",
        "Boubou run \t244 criterion is \t0.411522633745 ||derivative|| is \t16.9696364446\n",
        "Boubou run \t245 criterion is \t0.409836065574 ||derivative|| is \t16.9696470053\n",
        "Boubou run \t246 criterion is \t0.408163265306 ||derivative|| is \t16.9696493833\n",
        "Boubou run \t247 criterion is \t0.406504065041 ||derivative|| is \t16.9696370214\n",
        "Boubou run \t248 criterion is \t0.404858299595 ||derivative|| is \t16.9696392561\n",
        "Boubou run \t249 criterion is \t0.403225806452 ||derivative|| is \t16.9696516179"
       ]
      },
      {
       "output_type": "stream",
       "stream": "stdout",
       "text": [
        "\n",
        "Boubou run \t250 criterion is \t0.401606425703 ||derivative|| is \t16.9696356773\n",
        "Boubou run \t251 criterion is \t0.4 ||derivative|| is \t16.9696456236\n",
        "Boubou run \t252 criterion is \t0.398406374502 ||derivative|| is \t16.9696419422\n",
        "Boubou run \t253 criterion is \t0.396825396825 ||derivative|| is \t16.9696453734\n",
        "Boubou run \t254 criterion is \t0.395256916996 ||derivative|| is \t16.9696414497\n",
        "Boubou run \t255 criterion is \t0.393700787402 ||derivative|| is \t16.9696389493\n",
        "Boubou run \t256 criterion is \t0.392156862745 ||derivative|| is \t16.9696424804"
       ]
      },
      {
       "output_type": "stream",
       "stream": "stdout",
       "text": [
        "\n",
        "Boubou run \t257 criterion is \t0.390625 ||derivative|| is \t16.969651902\n",
        "Boubou run \t258 criterion is \t0.389105058366 ||derivative|| is \t16.9696394283\n",
        "Boubou run \t259 criterion is \t0.387596899225 ||derivative|| is \t16.9696369292\n",
        "Boubou run \t260 criterion is \t0.3861003861 ||derivative|| is \t16.9696435982\n",
        "Boubou run \t261 criterion is \t0.384615384615 ||derivative|| is \t16.9696545467\n",
        "Boubou run \t262 criterion is \t0.383141762452 ||derivative|| is \t16.9696347887\n",
        "Boubou run \t263 criterion is \t0.381679389313 ||derivative|| is \t16.9696393177"
       ]
      },
      {
       "output_type": "stream",
       "stream": "stdout",
       "text": [
        "\n",
        "Boubou run \t264 criterion is \t0.380228136882 ||derivative|| is \t16.9696462534\n",
        "Boubou run \t265 criterion is \t0.378787878788 ||derivative|| is \t16.969641075\n",
        "Boubou run \t266 criterion is \t0.377358490566 ||derivative|| is \t16.9696481336\n",
        "Boubou run \t267 criterion is \t0.375939849624 ||derivative|| is \t16.9696404678\n",
        "Boubou run \t268 criterion is \t0.374531835206 ||derivative|| is \t16.9696389317\n",
        "Boubou run \t269 criterion is \t0.373134328358 ||derivative|| is \t16.9696472355\n",
        "Boubou run \t270 criterion is \t0.371747211896 ||derivative|| is \t16.9696347805"
       ]
      },
      {
       "output_type": "stream",
       "stream": "stdout",
       "text": [
        "\n",
        "Boubou run \t271 criterion is \t0.37037037037 ||derivative|| is \t16.9696539486\n",
        "Boubou run \t272 criterion is \t0.369003690037 ||derivative|| is \t16.969638834\n",
        "Boubou run \t273 criterion is \t0.367647058824 ||derivative|| is \t16.9696401682\n",
        "Boubou run \t274 criterion is \t0.3663003663 ||derivative|| is \t16.9696466524\n",
        "Boubou run \t275 criterion is \t0.36496350365 ||derivative|| is \t16.969638898\n",
        "Boubou run \t276 criterion is \t0.363636363636 ||derivative|| is \t16.9696445468\n",
        "Boubou run \t277 criterion is \t0.36231884058 ||derivative|| is \t16.9696447863"
       ]
      },
      {
       "output_type": "stream",
       "stream": "stdout",
       "text": [
        "\n",
        "Boubou run \t278 criterion is \t0.361010830325 ||derivative|| is \t16.9696444204\n",
        "Boubou run \t279 criterion is \t0.359712230216 ||derivative|| is \t16.9696369992\n",
        "Boubou run \t280 criterion is \t0.358422939068 ||derivative|| is \t16.9696393679\n",
        "Boubou run \t281 criterion is \t0.357142857143 ||derivative|| is \t16.9696467993\n",
        "Boubou run \t282 criterion is \t0.355871886121 ||derivative|| is \t16.9696475881\n",
        "Boubou run \t283 criterion is \t0.354609929078 ||derivative|| is \t16.969641141\n",
        "Boubou run \t284 criterion is \t0.353356890459 ||derivative|| is \t16.9696392429"
       ]
      },
      {
       "output_type": "stream",
       "stream": "stdout",
       "text": [
        "\n",
        "Boubou run \t285 criterion is \t0.352112676056 ||derivative|| is \t16.9696454562\n",
        "Boubou run \t286 criterion is \t0.350877192982 ||derivative|| is \t16.9696409554\n",
        "Boubou run \t287 criterion is \t0.34965034965 ||derivative|| is \t16.9696425838\n",
        "Boubou run \t288 criterion is \t0.348432055749 ||derivative|| is \t16.969640861\n",
        "Boubou run \t289 criterion is \t0.347222222222 ||derivative|| is \t16.9696504833\n",
        "Boubou run \t290 criterion is \t0.346020761246 ||derivative|| is \t16.9696343008\n",
        "Boubou run \t291 criterion is \t0.344827586207 ||derivative|| is \t16.9696419418"
       ]
      },
      {
       "output_type": "stream",
       "stream": "stdout",
       "text": [
        "\n",
        "Boubou run \t292 criterion is \t0.343642611684 ||derivative|| is \t16.9696508092\n",
        "Boubou run \t293 criterion is \t0.342465753425 ||derivative|| is \t16.969643701\n",
        "Boubou run \t294 criterion is \t0.341296928328 ||derivative|| is \t16.9696383313\n",
        "Boubou run \t295 criterion is \t0.340136054422 ||derivative|| is \t16.9696399314\n",
        "Boubou run \t296 criterion is \t0.338983050847 ||derivative|| is \t16.9696416008\n",
        "Boubou run \t297 criterion is \t0.337837837838 ||derivative|| is \t16.9696527817\n",
        "Boubou run \t298 criterion is \t0.3367003367 ||derivative|| is \t16.9696405743"
       ]
      },
      {
       "output_type": "stream",
       "stream": "stdout",
       "text": [
        "\n",
        "Boubou run \t299 criterion is \t0.335570469799 ||derivative|| is \t16.9696344148\n",
        "Boubou run \t300 criterion is \t0.334448160535 ||derivative|| is \t16.9696448682\n",
        "Boubou run \t301 criterion is \t0.333333333333 ||derivative|| is \t16.9696464761\n",
        "Boubou run \t302 criterion is \t0.332225913621 ||derivative|| is \t16.9696428718\n",
        "Boubou run \t303 criterion is \t0.331125827815 ||derivative|| is \t16.9696457424\n",
        "Boubou run \t304 criterion is \t0.3300330033 ||derivative|| is \t16.9696356789\n",
        "Boubou run \t305 criterion is \t0.328947368421 ||derivative|| is \t16.9696464596"
       ]
      },
      {
       "output_type": "stream",
       "stream": "stdout",
       "text": [
        "\n",
        "Boubou run \t306 criterion is \t0.327868852459 ||derivative|| is \t16.9696396916\n",
        "Boubou run \t307 criterion is \t0.326797385621 ||derivative|| is \t16.9696467992\n",
        "Boubou run \t308 criterion is \t0.325732899023 ||derivative|| is \t16.9696419438\n",
        "Boubou run \t309 criterion is \t0.324675324675 ||derivative|| is \t16.9696442106\n",
        "Boubou run \t310 criterion is \t0.323624595469 ||derivative|| is \t16.9696429762\n",
        "Boubou run \t311 criterion is \t0.322580645161 ||derivative|| is \t16.9696385583\n",
        "Boubou run \t312 criterion is \t0.32154340836 ||derivative|| is \t16.9696445741"
       ]
      },
      {
       "output_type": "stream",
       "stream": "stdout",
       "text": [
        "\n",
        "Boubou run \t313 criterion is \t0.320512820513 ||derivative|| is \t16.9696446441\n",
        "Boubou run \t314 criterion is \t0.319488817891 ||derivative|| is \t16.9696440917\n",
        "Boubou run \t315 criterion is \t0.31847133758 ||derivative|| is \t16.9696414716\n",
        "Boubou run \t316 criterion is \t0.31746031746 ||derivative|| is \t16.9696405534\n",
        "Boubou run \t317 criterion is \t0.316455696203 ||derivative|| is \t16.9696446258\n",
        "Boubou run \t318 criterion is \t0.315457413249 ||derivative|| is \t16.9696477461\n",
        "Boubou run \t319 criterion is \t0.314465408805 ||derivative|| is \t16.9696357039"
       ]
      },
      {
       "output_type": "stream",
       "stream": "stdout",
       "text": [
        "\n",
        "Boubou run \t320 criterion is \t0.313479623824 ||derivative|| is \t16.9696464405\n",
        "Boubou run \t321 criterion is \t0.3125 ||derivative|| is \t16.969644497\n",
        "Boubou run \t322 criterion is \t0.311526479751 ||derivative|| is \t16.9696369249\n",
        "Boubou run \t323 criterion is \t0.310559006211 ||derivative|| is \t16.9696466271\n",
        "Boubou run \t324 criterion is \t0.30959752322 ||derivative|| is \t16.9696441196\n",
        "Boubou run \t325 criterion is \t0.308641975309 ||derivative|| is \t16.9696421831\n",
        "Boubou run \t326 criterion is \t0.307692307692 ||derivative|| is \t16.9696393582"
       ]
      },
      {
       "output_type": "stream",
       "stream": "stdout",
       "text": [
        "\n",
        "Boubou run \t327 criterion is \t0.306748466258 ||derivative|| is \t16.969641028\n",
        "Boubou run \t328 criterion is \t0.305810397554 ||derivative|| is \t16.9696533605\n",
        "Boubou run \t329 criterion is \t0.30487804878 ||derivative|| is \t16.9696390134\n",
        "Boubou run \t330 criterion is \t0.303951367781 ||derivative|| is \t16.9696413815\n",
        "Boubou run \t331 criterion is \t0.30303030303 ||derivative|| is \t16.9696348612\n",
        "Boubou run \t332 criterion is \t0.302114803625 ||derivative|| is \t16.9696524521\n",
        "Boubou run \t333 criterion is \t0.301204819277 ||derivative|| is \t16.9696460995"
       ]
      },
      {
       "output_type": "stream",
       "stream": "stdout",
       "text": [
        "\n",
        "Boubou run \t334 criterion is \t0.3003003003 ||derivative|| is \t16.9696351955\n",
        "Boubou run \t335 criterion is \t0.299401197605 ||derivative|| is \t16.9696463261\n",
        "Boubou run \t336 criterion is \t0.298507462687 ||derivative|| is \t16.9696450177\n",
        "Boubou run \t337 criterion is \t0.297619047619 ||derivative|| is \t16.969637006\n",
        "Boubou run \t338 criterion is \t0.296735905045 ||derivative|| is \t16.9696415192\n",
        "Boubou run \t339 criterion is \t0.295857988166 ||derivative|| is \t16.9696491023\n",
        "Boubou run \t340 criterion is \t0.294985250737 ||derivative|| is \t16.9696422293"
       ]
      },
      {
       "output_type": "stream",
       "stream": "stdout",
       "text": [
        "\n",
        "Boubou run \t341 criterion is \t0.294117647059 ||derivative|| is \t16.9696357679\n",
        "Boubou run \t342 criterion is \t0.293255131965 ||derivative|| is \t16.9696497981\n",
        "Boubou run \t343 criterion is \t0.292397660819 ||derivative|| is \t16.9696429619\n",
        "Boubou run \t344 criterion is \t0.291545189504 ||derivative|| is \t16.9696400994\n",
        "Boubou run \t345 criterion is \t0.290697674419 ||derivative|| is \t16.9696460701\n",
        "Boubou run \t346 criterion is \t0.289855072464 ||derivative|| is \t16.9696394977\n",
        "Boubou run \t347 criterion is \t0.28901734104 ||derivative|| is \t16.9696378955"
       ]
      },
      {
       "output_type": "stream",
       "stream": "stdout",
       "text": [
        "\n",
        "Boubou run \t348 criterion is \t0.28818443804 ||derivative|| is \t16.9696482654\n",
        "Boubou run \t349 criterion is \t0.287356321839 ||derivative|| is \t16.9696442502\n",
        "Boubou run \t350 criterion is \t0.286532951289 ||derivative|| is \t16.9696399504\n",
        "Boubou run \t351 criterion is \t0.285714285714 ||derivative|| is \t16.9696425936\n",
        "Boubou run \t352 criterion is \t0.2849002849 ||derivative|| is \t16.9696435691\n",
        "Boubou run \t353 criterion is \t0.284090909091 ||derivative|| is \t16.9696395923\n",
        "Boubou run \t354 criterion is \t0.28328611898 ||derivative|| is \t16.9696491476"
       ]
      },
      {
       "output_type": "stream",
       "stream": "stdout",
       "text": [
        "\n",
        "Boubou run \t355 criterion is \t0.282485875706 ||derivative|| is \t16.9696384408\n",
        "Boubou run \t356 criterion is \t0.281690140845 ||derivative|| is \t16.969641452\n",
        "Boubou run \t357 criterion is \t0.280898876404 ||derivative|| is \t16.9696458711\n",
        "Boubou run \t358 criterion is \t0.280112044818 ||derivative|| is \t16.9696396939\n",
        "Boubou run \t359 criterion is \t0.279329608939 ||derivative|| is \t16.9696437509\n",
        "Boubou run \t360 criterion is \t0.278551532033 ||derivative|| is \t16.9696507663\n",
        "Boubou run \t361 criterion is \t0.277777777778 ||derivative|| is \t16.9696384494"
       ]
      },
      {
       "output_type": "stream",
       "stream": "stdout",
       "text": [
        "\n",
        "Boubou run \t362 criterion is \t0.277008310249 ||derivative|| is \t16.9696378095\n",
        "Boubou run \t363 criterion is \t0.276243093923 ||derivative|| is \t16.9696385555\n",
        "Boubou run \t364 criterion is \t0.275482093664 ||derivative|| is \t16.9696590905\n",
        "Boubou run \t365 criterion is \t0.274725274725 ||derivative|| is \t16.9696353124\n",
        "Boubou run \t366 criterion is \t0.27397260274 ||derivative|| is \t16.9696410468\n",
        "Boubou run \t367 criterion is \t0.273224043716 ||derivative|| is \t16.969644524\n",
        "Boubou run \t368 criterion is \t0.272479564033 ||derivative|| is \t16.9696405476"
       ]
      },
      {
       "output_type": "stream",
       "stream": "stdout",
       "text": [
        "\n",
        "Boubou run \t369 criterion is \t0.271739130435 ||derivative|| is \t16.9696488059\n",
        "Boubou run \t370 criterion is \t0.271002710027 ||derivative|| is \t16.9696387974\n",
        "Boubou run \t371 criterion is \t0.27027027027 ||derivative|| is \t16.9696426171\n",
        "Boubou run \t372 criterion is \t0.269541778976 ||derivative|| is \t16.9696405476\n",
        "Boubou run \t373 criterion is \t0.268817204301 ||derivative|| is \t16.969643491\n",
        "Boubou run \t374 criterion is \t0.268096514745 ||derivative|| is \t16.9696436275\n",
        "Boubou run \t375 criterion is \t0.267379679144 ||derivative|| is \t16.9696467466"
       ]
      },
      {
       "output_type": "stream",
       "stream": "stdout",
       "text": [
        "\n",
        "Boubou run \t376 criterion is \t0.266666666667 ||derivative|| is \t16.9696446111\n",
        "Boubou run \t377 criterion is \t0.265957446809 ||derivative|| is \t16.9696348846\n",
        "Boubou run \t378 criterion is \t0.26525198939 ||derivative|| is \t16.96964038\n",
        "Boubou run \t379 criterion is \t0.26455026455 ||derivative|| is \t16.969650578\n",
        "Boubou run \t380 criterion is \t0.263852242744 ||derivative|| is \t16.9696424046\n",
        "Boubou run \t381 criterion is \t0.263157894737 ||derivative|| is \t16.9696370114\n",
        "Boubou run \t382 criterion is \t0.262467191601 ||derivative|| is \t16.96964856"
       ]
      },
      {
       "output_type": "stream",
       "stream": "stdout",
       "text": [
        "\n",
        "Boubou run \t383 criterion is \t0.261780104712 ||derivative|| is \t16.9696406557\n",
        "Boubou run \t384 criterion is \t0.261096605744 ||derivative|| is \t16.9696373527\n",
        "Boubou run \t385 criterion is \t0.260416666667 ||derivative|| is \t16.9696554127\n",
        "Boubou run \t386 criterion is \t0.25974025974 ||derivative|| is \t16.969637355\n",
        "Boubou run \t387 criterion is \t0.259067357513 ||derivative|| is \t16.9696406476"
       ]
      },
      {
       "output_type": "stream",
       "stream": "stdout",
       "text": [
        "\n",
        "Boubou run \t388 criterion is \t0.258397932817 ||derivative|| is \t16.9696455187\n",
        "Boubou run \t389 criterion is \t0.257731958763 ||derivative|| is \t16.9696400522\n",
        "Boubou run \t390 criterion is \t0.25706940874 ||derivative|| is \t16.9696415134\n",
        "Boubou run \t391 criterion is \t0.25641025641 ||derivative|| is \t16.969651856\n",
        "Boubou run \t392 criterion is \t0.255754475703 ||derivative|| is \t16.9696394891\n",
        "Boubou run \t393 criterion is \t0.255102040816 ||derivative|| is \t16.9696379223"
       ]
      },
      {
       "output_type": "stream",
       "stream": "stdout",
       "text": [
        "\n",
        "Boubou run \t394 criterion is \t0.254452926209 ||derivative|| is \t16.9696424798\n",
        "Boubou run \t395 criterion is \t0.253807106599 ||derivative|| is \t16.9696487405\n",
        "Boubou run \t396 criterion is \t0.253164556962 ||derivative|| is \t16.9696416256\n",
        "Boubou run \t397 criterion is \t0.252525252525 ||derivative|| is \t16.9696439453\n",
        "Boubou run \t398 criterion is \t0.251889168766 ||derivative|| is \t16.9696364548\n",
        "Boubou run \t399 criterion is \t0.251256281407 ||derivative|| is \t16.9696410774\n",
        "Boubou run \t400 criterion is \t0.250626566416 ||derivative|| is \t16.9696553265"
       ]
      },
      {
       "output_type": "stream",
       "stream": "stdout",
       "text": [
        "\n",
        "Boubou run \t401 criterion is \t0.25 ||derivative|| is \t16.9696374389\n",
        "Boubou run \t402 criterion is \t0.249376558603 ||derivative|| is \t16.9696347826\n",
        "Boubou run \t403 criterion is \t0.248756218905 ||derivative|| is \t16.9696556713\n",
        "Boubou run \t404 criterion is \t0.248138957816 ||derivative|| is \t16.9696356952\n",
        "Boubou run \t405 criterion is \t0.247524752475 ||derivative|| is \t16.9696415846\n",
        "Boubou run \t406 criterion is \t0.246913580247 ||derivative|| is \t16.9696418456\n",
        "Boubou run \t407 criterion is \t0.246305418719 ||derivative|| is \t16.9696495063"
       ]
      },
      {
       "output_type": "stream",
       "stream": "stdout",
       "text": [
        "\n",
        "Boubou run \t408 criterion is \t0.2457002457 ||derivative|| is \t16.969637817\n",
        "Boubou run \t409 criterion is \t0.245098039216 ||derivative|| is \t16.9696384333\n",
        "Boubou run \t410 criterion is \t0.244498777506 ||derivative|| is \t16.9696518019\n",
        "Boubou run \t411 criterion is \t0.243902439024 ||derivative|| is \t16.9696423377\n",
        "Boubou run \t412 criterion is \t0.243309002433 ||derivative|| is \t16.9696397081\n",
        "Boubou run \t413 criterion is \t0.242718446602 ||derivative|| is \t16.9696406857\n",
        "Boubou run \t414 criterion is \t0.242130750605 ||derivative|| is \t16.9696408419"
       ]
      },
      {
       "output_type": "stream",
       "stream": "stdout",
       "text": [
        "\n",
        "Boubou run \t415 criterion is \t0.24154589372 ||derivative|| is \t16.9696463665\n",
        "Boubou run \t416 criterion is \t0.240963855422 ||derivative|| is \t16.9696461049\n",
        "Boubou run \t417 criterion is \t0.240384615385 ||derivative|| is \t16.9696353185\n",
        "Boubou run \t418 criterion is \t0.239808153477 ||derivative|| is \t16.9696461151\n",
        "Boubou run \t419 criterion is \t0.239234449761 ||derivative|| is \t16.9696452368\n",
        "Boubou run \t420 criterion is \t0.238663484487 ||derivative|| is \t16.9696369031"
       ]
      },
      {
       "output_type": "stream",
       "stream": "stdout",
       "text": [
        "\n",
        "Boubou run \t421 criterion is \t0.238095238095 ||derivative|| is \t16.9696517188\n",
        "Boubou run \t422 criterion is \t0.237529691211 ||derivative|| is \t16.9696389185\n",
        "Boubou run \t423 criterion is \t0.236966824645 ||derivative|| is \t16.9696432277\n",
        "Boubou run \t424 criterion is \t0.236406619385 ||derivative|| is \t16.9696383253\n",
        "Boubou run \t425 criterion is \t0.235849056604 ||derivative|| is \t16.9696472456\n",
        "Boubou run \t426 criterion is \t0.235294117647 ||derivative|| is \t16.9696414973\n",
        "Boubou run \t427 criterion is \t0.234741784038 ||derivative|| is \t16.9696415636"
       ]
      },
      {
       "output_type": "stream",
       "stream": "stdout",
       "text": [
        "\n",
        "Boubou run \t428 criterion is \t0.234192037471 ||derivative|| is \t16.9696497821\n",
        "Boubou run \t429 criterion is \t0.233644859813 ||derivative|| is \t16.9696348907\n",
        "Boubou run \t430 criterion is \t0.2331002331 ||derivative|| is \t16.9696373308\n",
        "Boubou run \t431 criterion is \t0.232558139535 ||derivative|| is \t16.9696560386\n",
        "Boubou run \t432 criterion is \t0.232018561485 ||derivative|| is \t16.969642516\n",
        "Boubou run \t433 criterion is \t0.231481481481 ||derivative|| is \t16.9696348825\n",
        "Boubou run \t434 criterion is \t0.230946882217 ||derivative|| is \t16.9696433732"
       ]
      },
      {
       "output_type": "stream",
       "stream": "stdout",
       "text": [
        "\n",
        "Boubou run \t435 criterion is \t0.230414746544 ||derivative|| is \t16.9696479916\n",
        "Boubou run \t436 criterion is \t0.229885057471 ||derivative|| is \t16.9696423763\n",
        "Boubou run \t437 criterion is \t0.229357798165 ||derivative|| is \t16.9696451992\n",
        "Boubou run \t438 criterion is \t0.228832951945 ||derivative|| is \t16.9696409756\n",
        "Boubou run \t439 criterion is \t0.228310502283 ||derivative|| is \t16.9696396738\n",
        "Boubou run \t440 criterion is \t0.227790432802 ||derivative|| is \t16.9696417535\n",
        "Boubou run \t441 criterion is \t0.227272727273 ||derivative|| is \t16.9696458348"
       ]
      },
      {
       "output_type": "stream",
       "stream": "stdout",
       "text": [
        "\n",
        "Boubou run \t442 criterion is \t0.226757369615 ||derivative|| is \t16.9696422438\n",
        "Boubou run \t443 criterion is \t0.226244343891 ||derivative|| is \t16.9696449646\n",
        "Boubou run \t444 criterion is \t0.225733634312 ||derivative|| is \t16.9696384561\n",
        "Boubou run \t445 criterion is \t0.225225225225 ||derivative|| is \t16.969637909\n",
        "Boubou run \t446 criterion is \t0.224719101124 ||derivative|| is \t16.9696492989\n",
        "Boubou run \t447 criterion is \t0.224215246637 ||derivative|| is \t16.9696492476\n",
        "Boubou run \t448 criterion is \t0.223713646532 ||derivative|| is \t16.9696343188"
       ]
      },
      {
       "output_type": "stream",
       "stream": "stdout",
       "text": [
        "\n",
        "Boubou run \t449 criterion is \t0.223214285714 ||derivative|| is \t16.9696393249\n",
        "Boubou run \t450 criterion is \t0.22271714922 ||derivative|| is \t16.9696520203\n",
        "Boubou run \t451 criterion is \t0.222222222222 ||derivative|| is \t16.9696353029\n",
        "Boubou run \t452 criterion is \t0.221729490022 ||derivative|| is \t16.9696481505\n",
        "Boubou run \t453 criterion is \t0.221238938053 ||derivative|| is \t16.9696446149\n",
        "Boubou run \t454 criterion is \t0.220750551876 ||derivative|| is \t16.9696426997\n",
        "Boubou run \t455 criterion is \t0.220264317181 ||derivative|| is \t16.9696384336"
       ]
      },
      {
       "output_type": "stream",
       "stream": "stdout",
       "text": [
        "\n",
        "Boubou run \t456 criterion is \t0.21978021978 ||derivative|| is \t16.9696398308\n",
        "Boubou run \t457 criterion is \t0.219298245614 ||derivative|| is \t16.9696489059\n",
        "Boubou run \t458 criterion is \t0.218818380744 ||derivative|| is \t16.9696454903\n",
        "Boubou run \t459 criterion is \t0.218340611354 ||derivative|| is \t16.9696406846\n",
        "Boubou run \t460 criterion is \t0.217864923747 ||derivative|| is \t16.969640858\n",
        "Boubou run \t461 criterion is \t0.217391304348 ||derivative|| is \t16.9696384331\n",
        "Boubou run \t462 criterion is \t0.216919739696 ||derivative|| is \t16.9696549359"
       ]
      },
      {
       "output_type": "stream",
       "stream": "stdout",
       "text": [
        "\n",
        "Boubou run \t463 criterion is \t0.21645021645 ||derivative|| is \t16.9696344048\n",
        "Boubou run \t464 criterion is \t0.215982721382 ||derivative|| is \t16.9696470374\n",
        "Boubou run \t465 criterion is \t0.215517241379 ||derivative|| is \t16.9696385334\n",
        "Boubou run \t466 criterion is \t0.215053763441 ||derivative|| is \t16.9696414615\n",
        "Boubou run \t467 criterion is \t0.214592274678 ||derivative|| is \t16.9696477644\n",
        "Boubou run \t468 criterion is \t0.214132762313 ||derivative|| is \t16.9696441034\n",
        "Boubou run \t469 criterion is \t0.213675213675 ||derivative|| is \t16.9696374387"
       ]
      },
      {
       "output_type": "stream",
       "stream": "stdout",
       "text": [
        "\n",
        "Boubou run \t470 criterion is \t0.213219616205 ||derivative|| is \t16.9696441982\n",
        "Boubou run \t471 criterion is \t0.212765957447 ||derivative|| is \t16.9696450175\n",
        "Boubou run \t472 criterion is \t0.212314225053 ||derivative|| is \t16.969643726\n",
        "Boubou run \t473 criterion is \t0.21186440678 ||derivative|| is \t16.9696393407\n",
        "Boubou run \t474 criterion is \t0.211416490486 ||derivative|| is \t16.9696463571\n",
        "Boubou run \t475 criterion is \t0.210970464135 ||derivative|| is \t16.9696409661\n",
        "Boubou run \t476 criterion is \t0.210526315789 ||derivative|| is \t16.9696404698"
       ]
      },
      {
       "output_type": "stream",
       "stream": "stdout",
       "text": [
        "\n",
        "Boubou run \t477 criterion is \t0.210084033613 ||derivative|| is \t16.9696429749\n",
        "Boubou run \t478 criterion is \t0.20964360587 ||derivative|| is \t16.9696493979\n",
        "Boubou run \t479 criterion is \t0.209205020921 ||derivative|| is \t16.969641954\n",
        "Boubou run \t480 criterion is \t0.208768267223 ||derivative|| is \t16.969634303\n",
        "Boubou run \t481 criterion is \t0.208333333333 ||derivative|| is \t16.9696411639\n",
        "Boubou run \t482 criterion is \t0.2079002079 ||derivative|| is \t16.9696501812"
       ]
      },
      {
       "output_type": "stream",
       "stream": "stdout",
       "text": [
        "\n",
        "Boubou run \t483 criterion is \t0.207468879668 ||derivative|| is \t16.9696420854\n",
        "Boubou run \t484 criterion is \t0.207039337474 ||derivative|| is \t16.9696414747\n",
        "Boubou run \t485 criterion is \t0.206611570248 ||derivative|| is \t16.9696440962\n",
        "Boubou run \t486 criterion is \t0.20618556701 ||derivative|| is \t16.9696431116\n",
        "Boubou run \t487 criterion is \t0.205761316872 ||derivative|| is \t16.9696390345\n",
        "Boubou run \t488 criterion is \t0.205338809035 ||derivative|| is \t16.9696464262\n",
        "Boubou run \t489 criterion is \t0.204918032787 ||derivative|| is \t16.9696421956"
       ]
      },
      {
       "output_type": "stream",
       "stream": "stdout",
       "text": [
        "\n",
        "Boubou run \t490 criterion is \t0.204498977505 ||derivative|| is \t16.9696451253\n",
        "Boubou run \t491 criterion is \t0.204081632653 ||derivative|| is \t16.9696410496\n",
        "Boubou run \t492 criterion is \t0.20366598778 ||derivative|| is \t16.9696351948\n",
        "Boubou run \t493 criterion is \t0.20325203252 ||derivative|| is \t16.9696514056\n",
        "Boubou run \t494 criterion is \t0.202839756592 ||derivative|| is \t16.9696462423\n",
        "Boubou run \t495 criterion is \t0.202429149798 ||derivative|| is \t16.9696357913\n",
        "Boubou run \t496 criterion is \t0.20202020202 ||derivative|| is \t16.969645751"
       ]
      },
      {
       "output_type": "stream",
       "stream": "stdout",
       "text": [
        "\n",
        "Boubou run \t497 criterion is \t0.201612903226 ||derivative|| is \t16.9696455986\n",
        "Boubou run \t498 criterion is \t0.201207243461 ||derivative|| is \t16.9696436336\n",
        "Boubou run \t499 criterion is \t0.200803212851 ||derivative|| is \t16.969639064\n",
        "Boubou run \t500 criterion is \t0.200400801603 ||derivative|| is \t16.9696403436\n",
        "Boubou run \t501 criterion is \t0.2 ||derivative|| is \t16.9696468625\n",
        "Boubou run \t502 criterion is \t0.199600798403 ||derivative|| is \t16.9696393043\n",
        "Boubou run \t503 criterion is \t0.199203187251 ||derivative|| is \t16.9696494323"
       ]
      },
      {
       "output_type": "stream",
       "stream": "stdout",
       "text": [
        "\n",
        "Boubou run \t504 criterion is \t0.198807157058 ||derivative|| is \t16.9696388113\n",
        "Boubou run \t505 criterion is \t0.198412698413 ||derivative|| is \t16.9696452296\n",
        "Boubou run \t506 criterion is \t0.19801980198 ||derivative|| is \t16.9696369229\n",
        "Boubou run \t507 criterion is \t0.197628458498 ||derivative|| is \t16.969643604\n",
        "Boubou run \t508 criterion is \t0.197238658777 ||derivative|| is \t16.969649155\n",
        "Boubou run \t509 criterion is \t0.196850393701 ||derivative|| is \t16.969640188\n",
        "Boubou run \t510 criterion is \t0.196463654224 ||derivative|| is \t16.9696448842"
       ]
      },
      {
       "output_type": "stream",
       "stream": "stdout",
       "text": [
        "\n",
        "Boubou run \t511 criterion is \t0.196078431373 ||derivative|| is \t16.9696365408\n",
        "Boubou run \t512 criterion is \t0.195694716243 ||derivative|| is \t16.9696398242\n",
        "Boubou run \t513 criterion is \t0.1953125 ||derivative|| is \t16.9696463507\n",
        "Boubou run \t514 criterion is \t0.194931773879 ||derivative|| is \t16.9696480604\n",
        "Boubou run \t515 criterion is \t0.194552529183 ||derivative|| is \t16.9696385423\n",
        "Boubou run \t516 criterion is \t0.194174757282 ||derivative|| is \t16.9696418497\n",
        "Boubou run \t517 criterion is \t0.193798449612 ||derivative|| is \t16.9696401794"
       ]
      },
      {
       "output_type": "stream",
       "stream": "stdout",
       "text": [
        "\n",
        "Boubou run \t518 criterion is \t0.193423597679 ||derivative|| is \t16.9696471376\n",
        "Boubou run \t519 criterion is \t0.19305019305 ||derivative|| is \t16.9696456301\n",
        "Boubou run \t520 criterion is \t0.19267822736 ||derivative|| is \t16.9696369165\n",
        "Boubou run \t521 criterion is \t0.192307692308 ||derivative|| is \t16.9696504044\n",
        "Boubou run \t522 criterion is \t0.191938579655 ||derivative|| is \t16.9696388114\n",
        "Boubou run \t523 criterion is \t0.191570881226 ||derivative|| is \t16.9696374389\n",
        "Boubou run \t524 criterion is \t0.19120458891 ||derivative|| is \t16.9696456567"
       ]
      },
      {
       "output_type": "stream",
       "stream": "stdout",
       "text": [
        "\n",
        "Boubou run \t525 criterion is \t0.190839694656 ||derivative|| is \t16.9696528921\n",
        "Boubou run \t526 criterion is \t0.190476190476 ||derivative|| is \t16.96963431\n",
        "Boubou run \t527 criterion is \t0.190114068441 ||derivative|| is \t16.9696399165\n",
        "Boubou run \t528 criterion is \t0.189753320683 ||derivative|| is \t16.9696456624\n",
        "Boubou run \t529 criterion is \t0.189393939394 ||derivative|| is \t16.9696487035\n",
        "Boubou run \t530 criterion is \t0.189035916824 ||derivative|| is \t16.9696402352\n",
        "Boubou run \t531 criterion is \t0.188679245283 ||derivative|| is \t16.9696401564"
       ]
      },
      {
       "output_type": "stream",
       "stream": "stdout",
       "text": [
        "\n",
        "Boubou run \t532 criterion is \t0.188323917137 ||derivative|| is \t16.9696391346\n",
        "Boubou run \t533 criterion is \t0.187969924812 ||derivative|| is \t16.9696472905\n",
        "Boubou run \t534 criterion is \t0.187617260788 ||derivative|| is \t16.9696460853\n",
        "Boubou run \t535 criterion is \t0.187265917603 ||derivative|| is \t16.9696421606\n",
        "Boubou run \t536 criterion is \t0.18691588785 ||derivative|| is \t16.9696393751\n",
        "Boubou run \t537 criterion is \t0.186567164179 ||derivative|| is \t16.9696446613\n",
        "Boubou run \t538 criterion is \t0.186219739292 ||derivative|| is \t16.9696373701"
       ]
      },
      {
       "output_type": "stream",
       "stream": "stdout",
       "text": [
        "\n",
        "Boubou run \t539 criterion is \t0.185873605948 ||derivative|| is \t16.9696513688\n",
        "Boubou run \t540 criterion is \t0.185528756957 ||derivative|| is \t16.9696413965\n",
        "Boubou run \t541 criterion is \t0.185185185185 ||derivative|| is \t16.9696406325\n",
        "Boubou run \t542 criterion is \t0.184842883549 ||derivative|| is \t16.9696415218\n",
        "Boubou run \t543 criterion is \t0.184501845018 ||derivative|| is \t16.969644049\n",
        "Boubou run \t544 criterion is \t0.184162062615 ||derivative|| is \t16.9696424347"
       ]
      },
      {
       "output_type": "stream",
       "stream": "stdout",
       "text": [
        "\n",
        "Boubou run \t545 criterion is \t0.183823529412 ||derivative|| is \t16.9696469083\n",
        "Boubou run \t546 criterion is \t0.183486238532 ||derivative|| is \t16.9696435393\n",
        "Boubou run \t547 criterion is \t0.18315018315 ||derivative|| is \t16.9696378857\n",
        "Boubou run \t548 criterion is \t0.18281535649 ||derivative|| is \t16.9696343357\n",
        "Boubou run \t549 criterion is \t0.182481751825 ||derivative|| is \t16.9696492349\n",
        "Boubou run \t550 criterion is \t0.182149362477 ||derivative|| is \t16.9696493116\n",
        "Boubou run \t551 criterion is \t0.181818181818 ||derivative|| is \t16.9696352792"
       ]
      },
      {
       "output_type": "stream",
       "stream": "stdout",
       "text": [
        "\n",
        "Boubou run \t552 criterion is \t0.181488203267 ||derivative|| is \t16.9696451146\n",
        "Boubou run \t553 criterion is \t0.18115942029 ||derivative|| is \t16.9696462373\n",
        "Boubou run \t554 criterion is \t0.180831826401 ||derivative|| is \t16.9696348124\n",
        "Boubou run \t555 criterion is \t0.180505415162 ||derivative|| is \t16.9696527782\n",
        "Boubou run \t556 criterion is \t0.18018018018 ||derivative|| is \t16.9696405846\n",
        "Boubou run \t557 criterion is \t0.179856115108 ||derivative|| is \t16.9696425928\n",
        "Boubou run \t558 criterion is \t0.179533213645 ||derivative|| is \t16.9696429786"
       ]
      },
      {
       "output_type": "stream",
       "stream": "stdout",
       "text": [
        "\n",
        "Boubou run \t559 criterion is \t0.179211469534 ||derivative|| is \t16.9696339892\n",
        "Boubou run \t560 criterion is \t0.178890876565 ||derivative|| is \t16.9696563926\n",
        "Boubou run \t561 criterion is \t0.178571428571 ||derivative|| is \t16.9696421516\n",
        "Boubou run \t562 criterion is \t0.17825311943 ||derivative|| is \t16.9696382346\n",
        "Boubou run \t563 criterion is \t0.17793594306 ||derivative|| is \t16.9696339869\n",
        "Boubou run \t564 criterion is \t0.177619893428 ||derivative|| is \t16.9696573708\n",
        "Boubou run \t565 criterion is \t0.177304964539 ||derivative|| is \t16.9696411779"
       ]
      },
      {
       "output_type": "stream",
       "stream": "stdout",
       "text": [
        "\n",
        "Boubou run \t566 criterion is \t0.176991150442 ||derivative|| is \t16.9696357179\n",
        "Boubou run \t567 criterion is \t0.17667844523 ||derivative|| is \t16.9696446736\n",
        "Boubou run \t568 criterion is \t0.176366843034 ||derivative|| is \t16.9696466778\n",
        "Boubou run \t569 criterion is \t0.176056338028 ||derivative|| is \t16.9696365041\n",
        "Boubou run \t570 criterion is \t0.175746924429 ||derivative|| is \t16.9696510847\n",
        "Boubou run \t571 criterion is \t0.175438596491 ||derivative|| is \t16.9696395421\n",
        "Boubou run \t572 criterion is \t0.175131348511 ||derivative|| is \t16.969643637"
       ]
      },
      {
       "output_type": "stream",
       "stream": "stdout",
       "text": [
        "\n",
        "Boubou run \t573 criterion is \t0.174825174825 ||derivative|| is \t16.9696385091\n",
        "Boubou run \t574 criterion is \t0.174520069808 ||derivative|| is \t16.9696409931\n",
        "Boubou run \t575 criterion is \t0.174216027875 ||derivative|| is \t16.969647631\n",
        "Boubou run \t576 criterion is \t0.173913043478 ||derivative|| is \t16.9696442739\n",
        "Boubou run \t577 criterion is \t0.173611111111 ||derivative|| is \t16.9696418987\n",
        "Boubou run \t578 criterion is \t0.173310225303 ||derivative|| is \t16.9696395367\n",
        "Boubou run \t579 criterion is \t0.173010380623 ||derivative|| is \t16.9696420055"
       ]
      },
      {
       "output_type": "stream",
       "stream": "stdout",
       "text": [
        "\n",
        "Boubou run \t580 criterion is \t0.172711571675 ||derivative|| is \t16.9696513559\n",
        "Boubou run \t581 criterion is \t0.172413793103 ||derivative|| is \t16.969635736\n",
        "Boubou run \t582 criterion is \t0.172117039587 ||derivative|| is \t16.9696416625\n",
        "Boubou run \t583 criterion is \t0.171821305842 ||derivative|| is \t16.9696439061\n",
        "Boubou run \t584 criterion is \t0.171526586621 ||derivative|| is \t16.9696422752\n",
        "Boubou run \t585 criterion is \t0.171232876712 ||derivative|| is \t16.9696409067\n",
        "Boubou run \t586 criterion is \t0.17094017094 ||derivative|| is \t16.9696518523"
       ]
      },
      {
       "output_type": "stream",
       "stream": "stdout",
       "text": [
        "\n",
        "Boubou run \t587 criterion is \t0.170648464164 ||derivative|| is \t16.9696348357\n",
        "Boubou run \t588 criterion is \t0.170357751278 ||derivative|| is \t16.9696406368\n",
        "Boubou run \t589 criterion is \t0.170068027211 ||derivative|| is \t16.9696507151\n",
        "Boubou run \t590 criterion is \t0.169779286927 ||derivative|| is \t16.9696348557\n",
        "Boubou run \t591 criterion is \t0.169491525424 ||derivative|| is \t16.9696445627\n",
        "Boubou run \t592 criterion is \t0.169204737733 ||derivative|| is \t16.9696488068\n",
        "Boubou run \t593 criterion is \t0.168918918919 ||derivative|| is \t16.9696404066"
       ]
      },
      {
       "output_type": "stream",
       "stream": "stdout",
       "text": [
        "\n",
        "Boubou run \t594 criterion is \t0.168634064081 ||derivative|| is \t16.9696369919\n",
        "Boubou run \t595 criterion is \t0.16835016835 ||derivative|| is \t16.9696434042\n",
        "Boubou run \t596 criterion is \t0.168067226891 ||derivative|| is \t16.9696551487\n",
        "Boubou run \t597 criterion is \t0.167785234899 ||derivative|| is \t16.9696348451\n",
        "Boubou run \t598 criterion is \t0.167504187605 ||derivative|| is \t16.9696434061\n",
        "Boubou run \t599 criterion is \t0.167224080268 ||derivative|| is \t16.9696369877\n",
        "Boubou run \t600 criterion is \t0.16694490818 ||derivative|| is \t16.969645302"
       ]
      },
      {
       "output_type": "stream",
       "stream": "stdout",
       "text": [
        "\n",
        "Boubou run \t601 criterion is \t0.166666666667 ||derivative|| is \t16.9696527764\n",
        "Boubou run \t602 criterion is \t0.166389351082 ||derivative|| is \t16.9696348038\n",
        "Boubou run \t603 criterion is \t0.166112956811 ||derivative|| is \t16.9696404563\n",
        "Boubou run \t604 criterion is \t0.16583747927 ||derivative|| is \t16.9696508957\n",
        "Boubou run \t605 criterion is \t0.165562913907 ||derivative|| is \t16.9696352792\n",
        "Boubou run \t606 criterion is \t0.165289256198 ||derivative|| is \t16.9696441431\n",
        "Boubou run \t607 criterion is \t0.16501650165 ||derivative|| is \t16.9696486246"
       ]
      },
      {
       "output_type": "stream",
       "stream": "stdout",
       "text": [
        "\n",
        "Boubou run \t608 criterion is \t0.164744645799 ||derivative|| is \t16.9696427211\n",
        "Boubou run \t609 criterion is \t0.164473684211 ||derivative|| is \t16.9696352792\n",
        "Boubou run \t610 criterion is \t0.164203612479 ||derivative|| is \t16.9696481554\n",
        "Boubou run \t611 criterion is \t0.16393442623 ||derivative|| is \t16.9696446123\n",
        "Boubou run \t612 criterion is \t0.163666121113 ||derivative|| is \t16.9696405849\n",
        "Boubou run \t613 criterion is \t0.16339869281 ||derivative|| is \t16.9696446896\n",
        "Boubou run \t614 criterion is \t0.163132137031 ||derivative|| is \t16.9696408812"
       ]
      },
      {
       "output_type": "stream",
       "stream": "stdout",
       "text": [
        "\n",
        "Boubou run \t615 criterion is \t0.162866449511 ||derivative|| is \t16.9696401622\n",
        "Boubou run \t616 criterion is \t0.162601626016 ||derivative|| is \t16.9696532073\n",
        "Boubou run \t617 criterion is \t0.162337662338 ||derivative|| is \t16.9696343834\n",
        "Boubou run \t618 criterion is \t0.162074554295 ||derivative|| is \t16.9696430215\n",
        "Boubou run \t619 criterion is \t0.161812297735 ||derivative|| is \t16.9696437907\n",
        "Boubou run \t620 criterion is \t0.16155088853 ||derivative|| is \t16.9696402417\n",
        "Boubou run \t621 criterion is \t0.161290322581 ||derivative|| is \t16.9696413027"
       ]
      },
      {
       "output_type": "stream",
       "stream": "stdout",
       "text": [
        "\n",
        "Boubou run \t622 criterion is \t0.161030595813 ||derivative|| is \t16.969647319\n",
        "Boubou run \t623 criterion is \t0.16077170418 ||derivative|| is \t16.9696460143\n",
        "Boubou run \t624 criterion is \t0.16051364366 ||derivative|| is \t16.9696361319\n",
        "Boubou run \t625 criterion is \t0.160256410256 ||derivative|| is \t16.9696431591\n",
        "Boubou run \t626 criterion is \t0.16 ||derivative|| is \t16.9696410433\n",
        "Boubou run \t627 criterion is \t0.159744408946 ||derivative|| is \t16.9696482997\n",
        "Boubou run \t628 criterion is \t0.159489633174 ||derivative|| is \t16.9696457332"
       ]
      },
      {
       "output_type": "stream",
       "stream": "stdout",
       "text": [
        "\n",
        "Boubou run \t629 criterion is \t0.15923566879 ||derivative|| is \t16.9696398353\n",
        "Boubou run \t630 criterion is \t0.158982511924 ||derivative|| is \t16.9696365279\n",
        "Boubou run \t631 criterion is \t0.15873015873 ||derivative|| is \t16.9696455035\n",
        "Boubou run \t632 criterion is \t0.158478605388 ||derivative|| is \t16.9696509005\n",
        "Boubou run \t633 criterion is \t0.158227848101 ||derivative|| is \t16.9696378385\n",
        "Boubou run \t634 criterion is \t0.157977883096 ||derivative|| is \t16.9696384118\n",
        "Boubou run \t635 criterion is \t0.157728706625 ||derivative|| is \t16.9696529379"
       ]
      },
      {
       "output_type": "stream",
       "stream": "stdout",
       "text": [
        "\n",
        "Boubou run \t636 criterion is \t0.157480314961 ||derivative|| is \t16.9696343853\n",
        "Boubou run \t637 criterion is \t0.157232704403 ||derivative|| is \t16.9696469255\n",
        "Boubou run \t638 criterion is \t0.156985871272 ||derivative|| is \t16.9696406628\n",
        "Boubou run \t639 criterion is \t0.156739811912 ||derivative|| is \t16.96964576\n",
        "Boubou run \t640 criterion is \t0.156494522692 ||derivative|| is \t16.9696414485\n",
        "Boubou run \t641 criterion is \t0.15625 ||derivative|| is \t16.9696389454\n",
        "Boubou run \t642 criterion is \t0.15600624025 ||derivative|| is \t16.9696424779"
       ]
      },
      {
       "output_type": "stream",
       "stream": "stdout",
       "text": [
        "\n",
        "Boubou run \t643 criterion is \t0.155763239875 ||derivative|| is \t16.9696519272\n",
        "Boubou run \t644 criterion is \t0.155520995334 ||derivative|| is \t16.9696394308\n",
        "Boubou run \t645 criterion is \t0.155279503106 ||derivative|| is \t16.969636932\n",
        "Boubou run \t646 criterion is \t0.15503875969 ||derivative|| is \t16.9696404607\n",
        "Boubou run \t647 criterion is \t0.15479876161 ||derivative|| is \t16.9696559495\n",
        "Boubou run \t648 criterion is \t0.15455950541 ||derivative|| is \t16.9696370255\n",
        "Boubou run \t649 criterion is \t0.154320987654 ||derivative|| is \t16.969634728"
       ]
      },
      {
       "output_type": "stream",
       "stream": "stdout",
       "text": [
        "\n",
        "Boubou run \t650 criterion is \t0.154083204931 ||derivative|| is \t16.9696508432\n",
        "Boubou run \t651 criterion is \t0.153846153846 ||derivative|| is \t16.9696405065\n",
        "Boubou run \t652 criterion is \t0.153609831029 ||derivative|| is \t16.9696437924\n",
        "Boubou run \t653 criterion is \t0.153374233129 ||derivative|| is \t16.9696448317\n",
        "Boubou run \t654 criterion is \t0.153139356815 ||derivative|| is \t16.969638603\n",
        "Boubou run \t655 criterion is \t0.152905198777 ||derivative|| is \t16.9696435408\n",
        "Boubou run \t656 criterion is \t0.152671755725 ||derivative|| is \t16.9696384967"
       ]
      },
      {
       "output_type": "stream",
       "stream": "stdout",
       "text": [
        "\n",
        "Boubou run \t657 criterion is \t0.15243902439 ||derivative|| is \t16.9696470741\n",
        "Boubou run \t658 criterion is \t0.152207001522 ||derivative|| is \t16.9696416563\n",
        "Boubou run \t659 criterion is \t0.151975683891 ||derivative|| is \t16.9696450575\n",
        "Boubou run \t660 criterion is \t0.151745068285 ||derivative|| is \t16.9696462944\n",
        "Boubou run \t661 criterion is \t0.151515151515 ||derivative|| is \t16.9696352454\n",
        "Boubou run \t662 criterion is \t0.151285930408 ||derivative|| is \t16.9696410049\n",
        "Boubou run \t663 criterion is \t0.151057401813 ||derivative|| is \t16.9696523646"
       ]
      },
      {
       "output_type": "stream",
       "stream": "stdout",
       "text": [
        "\n",
        "Boubou run \t664 criterion is \t0.150829562594 ||derivative|| is \t16.969640025\n",
        "Boubou run \t665 criterion is \t0.150602409639 ||derivative|| is \t16.9696405065\n",
        "Boubou run \t666 criterion is \t0.15037593985 ||derivative|| is \t16.9696398793\n",
        "Boubou run \t667 criterion is \t0.15015015015 ||derivative|| is \t16.9696422646\n",
        "Boubou run \t668 criterion is \t0.149925037481 ||derivative|| is \t16.9696521382\n",
        "Boubou run \t669 criterion is \t0.149700598802 ||derivative|| is \t16.9696384909\n",
        "Boubou run \t670 criterion is \t0.149476831091 ||derivative|| is \t16.9696436616"
       ]
      },
      {
       "output_type": "stream",
       "stream": "stdout",
       "text": [
        "\n",
        "Boubou run \t671 criterion is \t0.149253731343 ||derivative|| is \t16.969643549\n",
        "Boubou run \t672 criterion is \t0.149031296572 ||derivative|| is \t16.9696420155\n",
        "Boubou run \t673 criterion is \t0.14880952381 ||derivative|| is \t16.9696415419\n",
        "Boubou run \t674 criterion is \t0.148588410104 ||derivative|| is \t16.969647684\n",
        "Boubou run \t675 criterion is \t0.148367952522 ||derivative|| is \t16.9696436702\n",
        "Boubou run \t676 criterion is \t0.148148148148 ||derivative|| is \t16.9696352653\n",
        "Boubou run \t677 criterion is \t0.147928994083 ||derivative|| is \t16.9696409826"
       ]
      },
      {
       "output_type": "stream",
       "stream": "stdout",
       "text": [
        "\n",
        "Boubou run \t678 criterion is \t0.147710487445 ||derivative|| is \t16.9696566658\n",
        "Boubou run \t679 criterion is \t0.147492625369 ||derivative|| is \t16.969637458\n",
        "Boubou run \t680 criterion is \t0.147275405007 ||derivative|| is \t16.9696387922\n",
        "Boubou run \t681 criterion is \t0.147058823529 ||derivative|| is \t16.9696394677\n",
        "Boubou run \t682 criterion is \t0.14684287812 ||derivative|| is \t16.9696478556\n",
        "Boubou run \t683 criterion is \t0.146627565982 ||derivative|| is \t16.969646545\n",
        "Boubou run \t684 criterion is \t0.146412884334 ||derivative|| is \t16.9696410433"
       ]
      },
      {
       "output_type": "stream",
       "stream": "stdout",
       "text": [
        "\n",
        "Boubou run \t685 criterion is \t0.146198830409 ||derivative|| is \t16.9696404989\n",
        "Boubou run \t686 criterion is \t0.14598540146 ||derivative|| is \t16.9696445796\n",
        "Boubou run \t687 criterion is \t0.145772594752 ||derivative|| is \t16.9696415975\n",
        "Boubou run \t688 criterion is \t0.145560407569 ||derivative|| is \t16.9696347611\n",
        "Boubou run \t689 criterion is \t0.145348837209 ||derivative|| is \t16.9696538584\n",
        "Boubou run \t690 criterion is \t0.145137880987 ||derivative|| is \t16.9696401664\n",
        "Boubou run \t691 criterion is \t0.144927536232 ||derivative|| is \t16.9696389477"
       ]
      },
      {
       "output_type": "stream",
       "stream": "stdout",
       "text": [
        "\n",
        "Boubou run \t692 criterion is \t0.144717800289 ||derivative|| is \t16.9696414461\n",
        "Boubou run \t693 criterion is \t0.14450867052 ||derivative|| is \t16.9696399789\n",
        "Boubou run \t694 criterion is \t0.1443001443 ||derivative|| is \t16.9696545389\n",
        "Boubou run \t695 criterion is \t0.14409221902 ||derivative|| is \t16.9696388306\n",
        "Boubou run \t696 criterion is \t0.143884892086 ||derivative|| is \t16.9696425967\n",
        "Boubou run \t697 criterion is \t0.14367816092 ||derivative|| is \t16.9696389477\n",
        "Boubou run \t698 criterion is \t0.143472022956 ||derivative|| is \t16.969645091"
       ]
      },
      {
       "output_type": "stream",
       "stream": "stdout",
       "text": [
        "\n",
        "Boubou run \t699 criterion is \t0.143266475645 ||derivative|| is \t16.9696441326\n",
        "Boubou run \t700 criterion is \t0.143061516452 ||derivative|| is \t16.969644604\n",
        "Boubou run \t701 criterion is \t0.142857142857 ||derivative|| is \t16.9696404966\n",
        "Boubou run \t702 criterion is \t0.142653352354 ||derivative|| is \t16.9696415412\n",
        "Boubou run \t703 criterion is \t0.14245014245 ||derivative|| is \t16.9696436481\n",
        "Boubou run \t704 criterion is \t0.142247510669 ||derivative|| is \t16.9696482128\n",
        "Boubou run \t705 criterion is \t0.142045454545 ||derivative|| is \t16.9696352297"
       ]
      },
      {
       "output_type": "stream",
       "stream": "stdout",
       "text": [
        "\n",
        "Boubou run \t706 criterion is \t0.141843971631 ||derivative|| is \t16.9696469165\n",
        "Boubou run \t707 criterion is \t0.14164305949 ||derivative|| is \t16.9696444354\n",
        "Boubou run \t708 criterion is \t0.1414427157 ||derivative|| is \t16.9696344617\n",
        "Boubou run \t709 criterion is \t0.141242937853 ||derivative|| is \t16.9696491002\n",
        "Boubou run \t710 criterion is \t0.141043723554 ||derivative|| is \t16.969649446\n",
        "Boubou run \t711 criterion is \t0.140845070423 ||derivative|| is \t16.9696377601\n",
        "Boubou run \t712 criterion is \t0.14064697609 ||derivative|| is \t16.9696386055"
       ]
      },
      {
       "output_type": "stream",
       "stream": "stdout",
       "text": [
        "\n",
        "Boubou run \t713 criterion is \t0.140449438202 ||derivative|| is \t16.9696396544\n",
        "Boubou run \t714 criterion is \t0.140252454418 ||derivative|| is \t16.9696547481\n",
        "Boubou run \t715 criterion is \t0.140056022409 ||derivative|| is \t16.9696397674\n",
        "Boubou run \t716 criterion is \t0.13986013986 ||derivative|| is \t16.9696406269\n",
        "Boubou run \t717 criterion is \t0.139664804469 ||derivative|| is \t16.9696347252\n",
        "Boubou run \t718 criterion is \t0.139470013947 ||derivative|| is \t16.9696526038\n",
        "Boubou run \t719 criterion is \t0.139275766017 ||derivative|| is \t16.9696419162"
       ]
      },
      {
       "output_type": "stream",
       "stream": "stdout",
       "text": [
        "\n",
        "Boubou run \t720 criterion is \t0.139082058414 ||derivative|| is \t16.9696393865\n",
        "Boubou run \t721 criterion is \t0.138888888889 ||derivative|| is \t16.9696458039\n",
        "Boubou run \t722 criterion is \t0.138696255201 ||derivative|| is \t16.9696415188\n",
        "Boubou run \t723 criterion is \t0.138504155125 ||derivative|| is \t16.9696405125\n",
        "Boubou run \t724 criterion is \t0.138312586445 ||derivative|| is \t16.9696357382\n",
        "Boubou run \t725 criterion is \t0.138121546961 ||derivative|| is \t16.9696508645\n",
        "Boubou run \t726 criterion is \t0.137931034483 ||derivative|| is \t16.9696472112"
       ]
      },
      {
       "output_type": "stream",
       "stream": "stdout",
       "text": [
        "\n",
        "Boubou run \t727 criterion is \t0.137741046832 ||derivative|| is \t16.9696348179\n",
        "Boubou run \t728 criterion is \t0.137551581843 ||derivative|| is \t16.9696467248\n",
        "Boubou run \t729 criterion is \t0.137362637363 ||derivative|| is \t16.9696446272\n",
        "Boubou run \t730 criterion is \t0.137174211248 ||derivative|| is \t16.9696415638\n",
        "Boubou run \t731 criterion is \t0.13698630137 ||derivative|| is \t16.9696419981\n",
        "Boubou run \t732 criterion is \t0.136798905609 ||derivative|| is \t16.9696435731\n",
        "Boubou run \t733 criterion is \t0.136612021858 ||derivative|| is \t16.969643633"
       ]
      },
      {
       "output_type": "stream",
       "stream": "stdout",
       "text": [
        "\n",
        "Boubou run \t734 criterion is \t0.136425648022 ||derivative|| is \t16.9696385131\n",
        "Boubou run \t735 criterion is \t0.136239782016 ||derivative|| is \t16.9696521161\n",
        "Boubou run \t736 criterion is \t0.136054421769 ||derivative|| is \t16.9696365058\n",
        "Boubou run \t737 criterion is \t0.135869565217 ||derivative|| is \t16.9696456426\n",
        "Boubou run \t738 criterion is \t0.135685210312 ||derivative|| is \t16.9696405386\n",
        "Boubou run \t739 criterion is \t0.135501355014 ||derivative|| is \t16.9696404925\n",
        "Boubou run \t740 criterion is \t0.135317997294 ||derivative|| is \t16.9696482378"
       ]
      },
      {
       "output_type": "stream",
       "stream": "stdout",
       "text": [
        "\n",
        "Boubou run \t741 criterion is \t0.135135135135 ||derivative|| is \t16.9696451339\n",
        "Boubou run \t742 criterion is \t0.134952766532 ||derivative|| is \t16.9696347612\n",
        "Boubou run \t743 criterion is \t0.134770889488 ||derivative|| is \t16.9696458806\n",
        "Boubou run \t744 criterion is \t0.134589502019 ||derivative|| is \t16.9696396904\n",
        "Boubou run \t745 criterion is \t0.134408602151 ||derivative|| is \t16.9696495355\n",
        "Boubou run \t746 criterion is \t0.134228187919 ||derivative|| is \t16.9696449821\n",
        "Boubou run \t747 criterion is \t0.134048257373 ||derivative|| is \t16.9696384548"
       ]
      },
      {
       "output_type": "stream",
       "stream": "stdout",
       "text": [
        "\n",
        "Boubou run \t748 criterion is \t0.133868808568 ||derivative|| is \t16.9696377956\n",
        "Boubou run \t749 criterion is \t0.133689839572 ||derivative|| is \t16.9696443483\n",
        "Boubou run \t750 criterion is \t0.133511348465 ||derivative|| is \t16.9696541981\n",
        "Boubou run \t751 criterion is \t0.133333333333 ||derivative|| is \t16.9696339534\n",
        "Boubou run \t752 criterion is \t0.133155792277 ||derivative|| is \t16.9696398973\n",
        "Boubou run \t753 criterion is \t0.132978723404 ||derivative|| is \t16.9696514569\n",
        "Boubou run \t754 criterion is \t0.132802124834 ||derivative|| is \t16.9696357514"
       ]
      },
      {
       "output_type": "stream",
       "stream": "stdout",
       "text": [
        "\n",
        "Boubou run \t755 criterion is \t0.132625994695 ||derivative|| is \t16.9696478059\n",
        "Boubou run \t756 criterion is \t0.132450331126 ||derivative|| is \t16.9696388844\n",
        "Boubou run \t757 criterion is \t0.132275132275 ||derivative|| is \t16.9696461877\n",
        "Boubou run \t758 criterion is \t0.132100396301 ||derivative|| is \t16.9696411417\n",
        "Boubou run \t759 criterion is \t0.131926121372 ||derivative|| is \t16.9696392544\n",
        "Boubou run \t760 criterion is \t0.131752305665 ||derivative|| is \t16.9696421667\n",
        "Boubou run \t761 criterion is \t0.131578947368 ||derivative|| is \t16.9696482052"
       ]
      },
      {
       "output_type": "stream",
       "stream": "stdout",
       "text": [
        "\n",
        "Boubou run \t762 criterion is \t0.131406044678 ||derivative|| is \t16.9696451642\n",
        "Boubou run \t763 criterion is \t0.131233595801 ||derivative|| is \t16.9696352297\n",
        "Boubou run \t764 criterion is \t0.131061598952 ||derivative|| is \t16.9696400327\n",
        "Boubou run \t765 criterion is \t0.130890052356 ||derivative|| is \t16.9696513215\n",
        "Boubou run \t766 criterion is \t0.130718954248 ||derivative|| is \t16.9696420478"
       ]
      },
      {
       "output_type": "stream",
       "stream": "stdout",
       "text": [
        "\n",
        "Boubou run \t767 criterion is \t0.130548302872 ||derivative|| is \t16.969642543\n",
        "Boubou run \t768 criterion is \t0.13037809648 ||derivative|| is \t16.9696426338\n",
        "Boubou run \t769 criterion is \t0.130208333333 ||derivative|| is \t16.9696405068\n",
        "Boubou run \t770 criterion is \t0.130039011704 ||derivative|| is \t16.9696374963\n",
        "Boubou run \t771 criterion is \t0.12987012987 ||derivative|| is \t16.9696552714\n",
        "Boubou run \t772 criterion is \t0.129701686122 ||derivative|| is \t16.9696374935\n",
        "Boubou run \t773 criterion is \t0.129533678756 ||derivative|| is \t16.9696405068"
       ]
      },
      {
       "output_type": "stream",
       "stream": "stdout",
       "text": [
        "\n",
        "Boubou run \t774 criterion is \t0.12936610608 ||derivative|| is \t16.9696435324\n",
        "Boubou run \t775 criterion is \t0.129198966408 ||derivative|| is \t16.9696420408\n",
        "Boubou run \t776 criterion is \t0.129032258065 ||derivative|| is \t16.9696420815\n",
        "Boubou run \t777 criterion is \t0.128865979381 ||derivative|| is \t16.9696512856\n",
        "Boubou run \t778 criterion is \t0.1287001287 ||derivative|| is \t16.9696400668\n",
        "Boubou run \t779 criterion is \t0.12853470437 ||derivative|| is \t16.9696351955\n",
        "Boubou run \t780 criterion is \t0.12836970475 ||derivative|| is \t16.9696451978"
       ]
      },
      {
       "output_type": "stream",
       "stream": "stdout",
       "text": [
        "\n",
        "Boubou run \t781 criterion is \t0.128205128205 ||derivative|| is \t16.9696481739\n",
        "Boubou run \t782 criterion is \t0.128040973111 ||derivative|| is \t16.969641309\n",
        "Boubou run \t783 criterion is \t0.127877237852 ||derivative|| is \t16.9696438815\n",
        "Boubou run \t784 criterion is \t0.127713920817 ||derivative|| is \t16.9696422866\n",
        "Boubou run \t785 criterion is \t0.127551020408 ||derivative|| is \t16.969640893\n",
        "Boubou run \t786 criterion is \t0.127388535032 ||derivative|| is \t16.9696497366\n",
        "Boubou run \t787 criterion is \t0.127226463104 ||derivative|| is \t16.969637854"
       ]
      },
      {
       "output_type": "stream",
       "stream": "stdout",
       "text": [
        "\n",
        "Boubou run \t788 criterion is \t0.12706480305 ||derivative|| is \t16.9696401481\n",
        "Boubou run \t789 criterion is \t0.126903553299 ||derivative|| is \t16.9696512016\n",
        "Boubou run \t790 criterion is \t0.126742712294 ||derivative|| is \t16.9696343698\n",
        "Boubou run \t791 criterion is \t0.126582278481 ||derivative|| is \t16.96964291\n",
        "Boubou run \t792 criterion is \t0.126422250316 ||derivative|| is \t16.9696556359\n",
        "Boubou run \t793 criterion is \t0.126262626263 ||derivative|| is \t16.9696357183\n",
        "Boubou run \t794 criterion is \t0.126103404792 ||derivative|| is \t16.9696365038"
       ]
      },
      {
       "output_type": "stream",
       "stream": "stdout",
       "text": [
        "\n",
        "Boubou run \t795 criterion is \t0.125944584383 ||derivative|| is \t16.9696348174\n",
        "Boubou run \t796 criterion is \t0.125786163522 ||derivative|| is \t16.9696543978\n",
        "Boubou run \t797 criterion is \t0.125628140704 ||derivative|| is \t16.9696437547\n",
        "Boubou run \t798 criterion is \t0.125470514429 ||derivative|| is \t16.9696356618\n",
        "Boubou run \t799 criterion is \t0.125313283208 ||derivative|| is \t16.9696447343\n",
        "Boubou run \t800 criterion is \t0.125156445557 ||derivative|| is \t16.9696466172\n",
        "Boubou run \t801 criterion is \t0.125 ||derivative|| is \t16.9696339536"
       ]
      },
      {
       "output_type": "stream",
       "stream": "stdout",
       "text": [
        "\n",
        "Boubou run \t802 criterion is \t0.124843945069 ||derivative|| is \t16.9696536352\n",
        "Boubou run \t803 criterion is \t0.124688279302 ||derivative|| is \t16.9696391302\n",
        "Boubou run \t804 criterion is \t0.124533001245 ||derivative|| is \t16.9696440489\n",
        "Boubou run \t805 criterion is \t0.124378109453 ||derivative|| is \t16.9696421282\n",
        "Boubou run \t806 criterion is \t0.124223602484 ||derivative|| is \t16.9696382659\n",
        "Boubou run \t807 criterion is \t0.124069478908 ||derivative|| is \t16.9696463249\n",
        "Boubou run \t808 criterion is \t0.123915737299 ||derivative|| is \t16.9696491934"
       ]
      },
      {
       "output_type": "stream",
       "stream": "stdout",
       "text": [
        "\n",
        "Boubou run \t809 criterion is \t0.123762376238 ||derivative|| is \t16.9696369814\n",
        "Boubou run \t810 criterion is \t0.123609394314 ||derivative|| is \t16.9696404109\n",
        "Boubou run \t811 criterion is \t0.123456790123 ||derivative|| is \t16.9696451623\n",
        "Boubou run \t812 criterion is \t0.123304562269 ||derivative|| is \t16.969648207\n",
        "Boubou run \t813 criterion is \t0.12315270936 ||derivative|| is \t16.9696348515\n",
        "Boubou run \t814 criterion is \t0.123001230012 ||derivative|| is \t16.9696503413\n",
        "Boubou run \t815 criterion is \t0.12285012285 ||derivative|| is \t16.9696352296"
       ]
      },
      {
       "output_type": "stream",
       "stream": "stdout",
       "text": [
        "\n",
        "Boubou run \t816 criterion is \t0.122699386503 ||derivative|| is \t16.9696427729\n",
        "Boubou run \t817 criterion is \t0.122549019608 ||derivative|| is \t16.9696557758\n",
        "Boubou run \t818 criterion is \t0.122399020808 ||derivative|| is \t16.9696348534\n",
        "Boubou run \t819 criterion is \t0.122249388753 ||derivative|| is \t16.9696373659\n",
        "Boubou run \t820 criterion is \t0.1221001221 ||derivative|| is \t16.969648809\n",
        "Boubou run \t821 criterion is \t0.121951219512 ||derivative|| is \t16.969642543\n",
        "Boubou run \t822 criterion is \t0.121802679659 ||derivative|| is \t16.9696420499"
       ]
      },
      {
       "output_type": "stream",
       "stream": "stdout",
       "text": [
        "\n",
        "Boubou run \t823 criterion is \t0.121654501217 ||derivative|| is \t16.9696446426\n",
        "Boubou run \t824 criterion is \t0.121506682868 ||derivative|| is \t16.9696415327\n",
        "Boubou run \t825 criterion is \t0.121359223301 ||derivative|| is \t16.9696395083\n",
        "Boubou run \t826 criterion is \t0.121212121212 ||derivative|| is \t16.9696455917\n",
        "Boubou run \t827 criterion is \t0.121065375303 ||derivative|| is \t16.9696419989\n",
        "Boubou run \t828 criterion is \t0.120918984281 ||derivative|| is \t16.9696479818\n",
        "Boubou run \t829 criterion is \t0.12077294686 ||derivative|| is \t16.9696433678"
       ]
      },
      {
       "output_type": "stream",
       "stream": "stdout",
       "text": [
        "\n",
        "Boubou run \t830 criterion is \t0.120627261761 ||derivative|| is \t16.9696348893\n",
        "Boubou run \t831 criterion is \t0.120481927711 ||derivative|| is \t16.9696373323\n",
        "Boubou run \t832 criterion is \t0.120336943442 ||derivative|| is \t16.9696498766\n",
        "Boubou run \t833 criterion is \t0.120192307692 ||derivative|| is \t16.9696486721\n",
        "Boubou run \t834 criterion is \t0.120048019208 ||derivative|| is \t16.969634887\n",
        "Boubou run \t835 criterion is \t0.119904076739 ||derivative|| is \t16.9696444018"
       ]
      },
      {
       "output_type": "stream",
       "stream": "stdout",
       "text": [
        "\n",
        "Boubou run \t836 criterion is \t0.119760479042 ||derivative|| is \t16.9696460525\n",
        "Boubou run \t837 criterion is \t0.11961722488 ||derivative|| is \t16.9696360936\n",
        "Boubou run \t838 criterion is \t0.119474313023 ||derivative|| is \t16.9696473507\n",
        "Boubou run \t839 criterion is \t0.119331742243 ||derivative|| is \t16.9696511981\n",
        "Boubou run \t840 criterion is \t0.119189511323 ||derivative|| is \t16.9696339501\n",
        "Boubou run \t841 criterion is \t0.119047619048 ||derivative|| is \t16.9696422979\n",
        "Boubou run \t842 criterion is \t0.118906064209 ||derivative|| is \t16.9696432725"
       ]
      },
      {
       "output_type": "stream",
       "stream": "stdout",
       "text": [
        "\n",
        "Boubou run \t843 criterion is \t0.118764845606 ||derivative|| is \t16.9696512452\n",
        "Boubou run \t844 criterion is \t0.11862396204 ||derivative|| is \t16.9696379811\n",
        "Boubou run \t845 criterion is \t0.118483412322 ||derivative|| is \t16.9696420368\n",
        "Boubou run \t846 criterion is \t0.118343195266 ||derivative|| is \t16.9696395111\n",
        "Boubou run \t847 criterion is \t0.118203309693 ||derivative|| is \t16.9696455587\n",
        "Boubou run \t848 criterion is \t0.118063754427 ||derivative|| is \t16.9696478049"
       ]
      },
      {
       "output_type": "stream",
       "stream": "stdout",
       "text": [
        "\n",
        "Boubou run \t849 criterion is \t0.117924528302 ||derivative|| is \t16.9696348566\n",
        "Boubou run \t850 criterion is \t0.117785630153 ||derivative|| is \t16.9696465702\n",
        "Boubou run \t851 criterion is \t0.117647058824 ||derivative|| is \t16.9696443137\n",
        "Boubou run \t852 criterion is \t0.117508813161 ||derivative|| is \t16.9696356966\n",
        "Boubou run \t853 criterion is \t0.117370892019 ||derivative|| is \t16.9696529229\n",
        "Boubou run \t854 criterion is \t0.117233294256 ||derivative|| is \t16.969639842\n",
        "Boubou run \t855 criterion is \t0.117096018735 ||derivative|| is \t16.9696423041"
       ]
      },
      {
       "output_type": "stream",
       "stream": "stdout",
       "text": [
        "\n",
        "Boubou run \t856 criterion is \t0.116959064327 ||derivative|| is \t16.9696397277\n",
        "Boubou run \t857 criterion is \t0.116822429907 ||derivative|| is \t16.9696433153\n",
        "Boubou run \t858 criterion is \t0.116686114352 ||derivative|| is \t16.9696454209\n",
        "Boubou run \t859 criterion is \t0.11655011655 ||derivative|| is \t16.9696438027\n",
        "Boubou run \t860 criterion is \t0.11641443539 ||derivative|| is \t16.9696475497\n",
        "Boubou run \t861 criterion is \t0.116279069767 ||derivative|| is \t16.9696339924\n",
        "Boubou run \t862 criterion is \t0.116144018583 ||derivative|| is \t16.969639223"
       ]
      },
      {
       "output_type": "stream",
       "stream": "stdout",
       "text": [
        "\n",
        "Boubou run \t863 criterion is \t0.116009280742 ||derivative|| is \t16.9696541487\n",
        "Boubou run \t864 criterion is \t0.115874855156 ||derivative|| is \t16.9696403695\n",
        "Boubou run \t865 criterion is \t0.115740740741 ||derivative|| is \t16.9696410502\n",
        "Boubou run \t866 criterion is \t0.115606936416 ||derivative|| is \t16.9696351996\n",
        "Boubou run \t867 criterion is \t0.115473441109 ||derivative|| is \t16.9696521235\n",
        "Boubou run \t868 criterion is \t0.115340253749 ||derivative|| is \t16.9696392289\n",
        "Boubou run \t869 criterion is \t0.115207373272 ||derivative|| is \t16.9696420819"
       ]
      },
      {
       "output_type": "stream",
       "stream": "stdout",
       "text": [
        "\n",
        "Boubou run \t870 criterion is \t0.115074798619 ||derivative|| is \t16.9696414772\n",
        "Boubou run \t871 criterion is \t0.114942528736 ||derivative|| is \t16.9696458491\n",
        "Boubou run \t872 criterion is \t0.114810562572 ||derivative|| is \t16.9696413593\n",
        "Boubou run \t873 criterion is \t0.114678899083 ||derivative|| is \t16.9696390292\n",
        "Boubou run \t874 criterion is \t0.114547537228 ||derivative|| is \t16.9696423946\n",
        "Boubou run \t875 criterion is \t0.114416475973 ||derivative|| is \t16.9696511124\n",
        "Boubou run \t876 criterion is \t0.114285714286 ||derivative|| is \t16.9696397687"
       ]
      },
      {
       "output_type": "stream",
       "stream": "stdout",
       "text": [
        "\n",
        "Boubou run \t877 criterion is \t0.114155251142 ||derivative|| is \t16.9696365941\n",
        "Boubou run \t878 criterion is \t0.114025085519 ||derivative|| is \t16.9696444556\n",
        "Boubou run \t879 criterion is \t0.113895216401 ||derivative|| is \t16.9696519546\n",
        "Boubou run \t880 criterion is \t0.113765642776 ||derivative|| is \t16.9696373855\n",
        "Boubou run \t881 criterion is \t0.113636363636 ||derivative|| is \t16.9696388647\n",
        "Boubou run \t882 criterion is \t0.11350737798 ||derivative|| is \t16.9696467066\n",
        "Boubou run \t883 criterion is \t0.113378684807 ||derivative|| is \t16.9696406188"
       ]
      },
      {
       "output_type": "stream",
       "stream": "stdout",
       "text": [
        "\n",
        "Boubou run \t884 criterion is \t0.113250283126 ||derivative|| is \t16.9696464703\n",
        "Boubou run \t885 criterion is \t0.113122171946 ||derivative|| is \t16.9696462928\n",
        "Boubou run \t886 criterion is \t0.112994350282 ||derivative|| is \t16.9696352498\n",
        "Boubou run \t887 criterion is \t0.112866817156 ||derivative|| is \t16.9696467815\n",
        "Boubou run \t888 criterion is \t0.11273957159 ||derivative|| is \t16.9696381008\n",
        "Boubou run \t889 criterion is \t0.112612612613 ||derivative|| is \t16.9696506381\n",
        "Boubou run \t890 criterion is \t0.112485939258 ||derivative|| is \t16.9696379842"
       ]
      },
      {
       "output_type": "stream",
       "stream": "stdout",
       "text": [
        "\n",
        "Boubou run \t891 criterion is \t0.112359550562 ||derivative|| is \t16.9696460575\n",
        "Boubou run \t892 criterion is \t0.112233445567 ||derivative|| is \t16.9696412652\n",
        "Boubou run \t893 criterion is \t0.112107623318 ||derivative|| is \t16.9696401568\n",
        "Boubou run \t894 criterion is \t0.111982082867 ||derivative|| is \t16.9696474321\n",
        "Boubou run \t895 criterion is \t0.111856823266 ||derivative|| is \t16.9696419109\n",
        "Boubou run \t896 criterion is \t0.111731843575 ||derivative|| is \t16.9696431607\n",
        "Boubou run \t897 criterion is \t0.111607142857 ||derivative|| is \t16.9696424078"
       ]
      },
      {
       "output_type": "stream",
       "stream": "stdout",
       "text": [
        "\n",
        "Boubou run \t898 criterion is \t0.111482720178 ||derivative|| is \t16.9696397388\n",
        "Boubou run \t899 criterion is \t0.11135857461 ||derivative|| is \t16.969649487\n",
        "Boubou run \t900 criterion is \t0.111234705228 ||derivative|| is \t16.9696432778\n",
        "Boubou run \t901 criterion is \t0.111111111111 ||derivative|| is \t16.9696347619\n",
        "Boubou run \t902 criterion is \t0.110987791343 ||derivative|| is \t16.9696472699\n",
        "Boubou run \t903 criterion is \t0.110864745011 ||derivative|| is \t16.9696399362\n",
        "Boubou run \t904 criterion is \t0.110741971207 ||derivative|| is \t16.9696416055"
       ]
      },
      {
       "output_type": "stream",
       "stream": "stdout",
       "text": [
        "\n",
        "Boubou run \t905 criterion is \t0.110619469027 ||derivative|| is \t16.9696459829\n",
        "Boubou run \t906 criterion is \t0.110497237569 ||derivative|| is \t16.9696411072\n",
        "Boubou run \t907 criterion is \t0.110375275938 ||derivative|| is \t16.9696462183\n",
        "Boubou run \t908 criterion is \t0.110253583241 ||derivative|| is \t16.9696393521\n",
        "Boubou run \t909 criterion is \t0.11013215859 ||derivative|| is \t16.9696365177\n",
        "Boubou run \t910 criterion is \t0.1100110011 ||derivative|| is \t16.9696580005\n",
        "Boubou run \t911 criterion is \t0.10989010989 ||derivative|| is \t16.969640546"
       ]
      },
      {
       "output_type": "stream",
       "stream": "stdout",
       "text": [
        "\n",
        "Boubou run \t912 criterion is \t0.109769484083 ||derivative|| is \t16.9696357038\n",
        "Boubou run \t913 criterion is \t0.109649122807 ||derivative|| is \t16.9696385273\n",
        "Boubou run \t914 criterion is \t0.109529025192 ||derivative|| is \t16.969651927\n",
        "Boubou run \t915 criterion is \t0.109409190372 ||derivative|| is \t16.9696424789\n",
        "Boubou run \t916 criterion is \t0.109289617486 ||derivative|| is \t16.9696410802\n",
        "Boubou run \t917 criterion is \t0.109170305677 ||derivative|| is \t16.9696440914"
       ]
      },
      {
       "output_type": "stream",
       "stream": "stdout",
       "text": [
        "\n",
        "Boubou run \t918 criterion is \t0.109051254089 ||derivative|| is \t16.9696409809\n",
        "Boubou run \t919 criterion is \t0.108932461874 ||derivative|| is \t16.9696411675\n",
        "Boubou run \t920 criterion is \t0.108813928183 ||derivative|| is \t16.9696464209\n",
        "Boubou run \t921 criterion is \t0.108695652174 ||derivative|| is \t16.9696421987\n",
        "Boubou run \t922 criterion is \t0.108577633008 ||derivative|| is \t16.9696483438\n",
        "Boubou run \t923 criterion is \t0.108459869848 ||derivative|| is \t16.9696389142\n",
        "Boubou run \t924 criterion is \t0.108342361863 ||derivative|| is \t16.9696405554"
       ]
      },
      {
       "output_type": "stream",
       "stream": "stdout",
       "text": [
        "\n",
        "Boubou run \t925 criterion is \t0.108225108225 ||derivative|| is \t16.9696514028\n",
        "Boubou run \t926 criterion is \t0.108108108108 ||derivative|| is \t16.9696466733\n",
        "Boubou run \t927 criterion is \t0.107991360691 ||derivative|| is \t16.9696376769\n",
        "Boubou run \t928 criterion is \t0.107874865156 ||derivative|| is \t16.9696449483\n",
        "Boubou run \t929 criterion is \t0.10775862069 ||derivative|| is \t16.9696406226\n",
        "Boubou run \t930 criterion is \t0.10764262648 ||derivative|| is \t16.9696518225\n",
        "Boubou run \t931 criterion is \t0.10752688172 ||derivative|| is \t16.9696407397"
       ]
      },
      {
       "output_type": "stream",
       "stream": "stdout",
       "text": [
        "\n",
        "Boubou run \t932 criterion is \t0.107411385607 ||derivative|| is \t16.9696448312\n",
        "Boubou run \t933 criterion is \t0.107296137339 ||derivative|| is \t16.9696398131\n",
        "Boubou run \t934 criterion is \t0.10718113612 ||derivative|| is \t16.9696455521\n",
        "Boubou run \t935 criterion is \t0.107066381156 ||derivative|| is \t16.9696540774\n",
        "Boubou run \t936 criterion is \t0.106951871658 ||derivative|| is \t16.9696377642\n",
        "Boubou run \t937 criterion is \t0.106837606838 ||derivative|| is \t16.9696344596\n",
        "Boubou run \t938 criterion is \t0.106723585912 ||derivative|| is \t16.9696549341"
       ]
      },
      {
       "output_type": "stream",
       "stream": "stdout",
       "text": [
        "\n",
        "Boubou run \t939 criterion is \t0.106609808102 ||derivative|| is \t16.9696396349\n",
        "Boubou run \t940 criterion is \t0.10649627263 ||derivative|| is \t16.9696343517\n",
        "Boubou run \t941 criterion is \t0.106382978723 ||derivative|| is \t16.9696564613\n",
        "Boubou run \t942 criterion is \t0.106269925611 ||derivative|| is \t16.9696453039\n",
        "Boubou run \t943 criterion is \t0.106157112527 ||derivative|| is \t16.9696378726\n",
        "Boubou run \t944 criterion is \t0.106044538706 ||derivative|| is \t16.9696417122\n",
        "Boubou run \t945 criterion is \t0.10593220339 ||derivative|| is \t16.9696397623"
       ]
      },
      {
       "output_type": "stream",
       "stream": "stdout",
       "text": [
        "\n",
        "Boubou run \t946 criterion is \t0.10582010582 ||derivative|| is \t16.9696578594\n",
        "Boubou run \t947 criterion is \t0.105708245243 ||derivative|| is \t16.9696398776\n",
        "Boubou run \t948 criterion is \t0.105596620908 ||derivative|| is \t16.9696401227\n",
        "Boubou run \t949 criterion is \t0.105485232068 ||derivative|| is \t16.9696393468\n",
        "Boubou run \t950 criterion is \t0.105374077977 ||derivative|| is \t16.9696490589\n",
        "Boubou run \t951 criterion is \t0.105263157895 ||derivative|| is \t16.9696490195\n",
        "Boubou run \t952 criterion is \t0.105152471083 ||derivative|| is \t16.969637645"
       ]
      },
      {
       "output_type": "stream",
       "stream": "stdout",
       "text": [
        "\n",
        "Boubou run \t953 criterion is \t0.105042016807 ||derivative|| is \t16.969651997\n",
        "Boubou run \t954 criterion is \t0.104931794334 ||derivative|| is \t16.9696393544\n",
        "Boubou run \t955 criterion is \t0.104821802935 ||derivative|| is \t16.9696401151\n",
        "Boubou run \t956 criterion is \t0.104712041885 ||derivative|| is \t16.9696466642\n",
        "Boubou run \t957 criterion is \t0.10460251046 ||derivative|| is \t16.9696497482\n",
        "Boubou run \t958 criterion is \t0.104493207941 ||derivative|| is \t16.9696406789\n",
        "Boubou run \t959 criterion is \t0.104384133612 ||derivative|| is \t16.9696389032"
       ]
      },
      {
       "output_type": "stream",
       "stream": "stdout",
       "text": [
        "\n",
        "Boubou run \t960 criterion is \t0.104275286757 ||derivative|| is \t16.9696498875\n",
        "Boubou run \t961 criterion is \t0.104166666667 ||derivative|| is \t16.9696477347\n",
        "Boubou run \t962 criterion is \t0.104058272633 ||derivative|| is \t16.9696394692\n",
        "Boubou run \t963 criterion is \t0.10395010395 ||derivative|| is \t16.9696441462\n",
        "Boubou run \t964 criterion is \t0.103842159917 ||derivative|| is \t16.9696405006\n",
        "Boubou run \t965 criterion is \t0.103734439834 ||derivative|| is \t16.9696468203"
       ]
      },
      {
       "output_type": "stream",
       "stream": "stdout",
       "text": [
        "\n",
        "Boubou run \t966 criterion is \t0.103626943005 ||derivative|| is \t16.9696488704\n",
        "Boubou run \t967 criterion is \t0.103519668737 ||derivative|| is \t16.9696408345\n",
        "Boubou run \t968 criterion is \t0.103412616339 ||derivative|| is \t16.9696407076\n",
        "Boubou run \t969 criterion is \t0.103305785124 ||derivative|| is \t16.9696486889\n",
        "Boubou run \t970 criterion is \t0.103199174407 ||derivative|| is \t16.9696365618\n",
        "Boubou run \t971 criterion is \t0.103092783505 ||derivative|| is \t16.9696550191"
       ]
      },
      {
       "output_type": "stream",
       "stream": "stdout",
       "text": [
        "\n",
        "Boubou run \t972 criterion is \t0.10298661174 ||derivative|| is \t16.9696388293\n",
        "Boubou run \t973 criterion is \t0.102880658436 ||derivative|| is \t16.9696431967\n",
        "Boubou run \t974 criterion is \t0.102774922919 ||derivative|| is \t16.9696380253\n",
        "Boubou run \t975 criterion is \t0.102669404517 ||derivative|| is \t16.9696507672\n",
        "Boubou run \t976 criterion is \t0.102564102564 ||derivative|| is \t16.9696343333\n",
        "Boubou run \t977 criterion is \t0.102459016393 ||derivative|| is \t16.9696536869\n",
        "Boubou run \t978 criterion is \t0.102354145343 ||derivative|| is \t16.969648079"
       ]
      },
      {
       "output_type": "stream",
       "stream": "stdout",
       "text": [
        "\n",
        "Boubou run \t979 criterion is \t0.102249488753 ||derivative|| is \t16.9696344575\n",
        "Boubou run \t980 criterion is \t0.102145045965 ||derivative|| is \t16.9696409832\n",
        "Boubou run \t981 criterion is \t0.102040816327 ||derivative|| is \t16.969648411\n",
        "Boubou run \t982 criterion is \t0.101936799185 ||derivative|| is \t16.9696533548\n",
        "Boubou run \t983 criterion is \t0.10183299389 ||derivative|| is \t16.9696344598\n",
        "Boubou run \t984 criterion is \t0.101729399797 ||derivative|| is \t16.9696437639\n",
        "Boubou run \t985 criterion is \t0.10162601626 ||derivative|| is \t16.969650805"
       ]
      },
      {
       "output_type": "stream",
       "stream": "stdout",
       "text": [
        "\n",
        "Boubou run \t986 criterion is \t0.10152284264 ||derivative|| is \t16.9696355939\n",
        "Boubou run \t987 criterion is \t0.101419878296 ||derivative|| is \t16.9696519944\n",
        "Boubou run \t988 criterion is \t0.101317122594 ||derivative|| is \t16.9696388131\n",
        "Boubou run \t989 criterion is \t0.101214574899 ||derivative|| is \t16.9696454518\n",
        "Boubou run \t990 criterion is \t0.10111223458 ||derivative|| is \t16.9696459002\n",
        "Boubou run \t991 criterion is \t0.10101010101 ||derivative|| is \t16.9696377106\n",
        "Boubou run \t992 criterion is \t0.100908173562 ||derivative|| is \t16.9696492034"
       ]
      },
      {
       "output_type": "stream",
       "stream": "stdout",
       "text": [
        "\n",
        "Boubou run \t993 criterion is \t0.100806451613 ||derivative|| is \t16.9696525624\n",
        "Boubou run \t994 criterion is \t0.100704934542 ||derivative|| is \t16.969634696\n",
        "Boubou run \t995 criterion is \t0.10060362173 ||derivative|| is \t16.9696375278\n",
        "Boubou run \t996 criterion is \t0.100502512563 ||derivative|| is \t16.9696512619\n",
        "Boubou run \t997 criterion is \t0.100401606426 ||derivative|| is \t16.9696505016\n",
        "Boubou run \t998 criterion is \t0.100300902708 ||derivative|| is \t16.969634696\n",
        "Boubou run \t999 criterion is \t0.100200400802 ||derivative|| is \t16.9696489171"
       ]
      },
      {
       "output_type": "stream",
       "stream": "stdout",
       "text": [
        "\n",
        "Stop boubou @ run 999 criterion is 0.1001001001\n",
        "LSPI, iter :1, diff : 6658.66984148"
       ]
      },
      {
       "output_type": "stream",
       "stream": "stdout",
       "text": [
        "\n",
        "LSPI, iter :2, diff : 16038.7100794"
       ]
      },
      {
       "output_type": "stream",
       "stream": "stdout",
       "text": [
        "\n",
        "LSPI, iter :3, diff : 0.0"
       ]
      },
      {
       "output_type": "stream",
       "stream": "stdout",
       "text": [
        "\n"
       ]
      }
     ],
     "prompt_number": 40
    },
    {
     "cell_type": "code",
     "collapsed": false,
     "input": [
      "plottable_episode_length = mountain_car_episode_vlength(policy_RE)\n",
      "X = linspace(-1.2,0.6,20)\n",
      "Y = linspace(-0.07,0.07,20)\n",
      "X,Y = meshgrid(X,Y)\n",
      "#Z2 = plottable_episode_length(X,Y)\n",
      "figure()\n",
      "mountain_car_plot_policy(policy_RE)\n",
      "figure()\n",
      "#contourf(X,Y,Z2,50)\n",
      "#colorbar()"
     ],
     "language": "python",
     "metadata": {},
     "outputs": [],
     "prompt_number": "*"
    },
    {
     "cell_type": "code",
     "collapsed": false,
     "input": [
      "def mountain_car_testing_state():\n",
      "    position = numpy.random.uniform(low=-1.2,high=0.5)\n",
      "    speed = numpy.random.uniform(low=-0.07,high=0.07)\n",
      "    return array([position,speed])\n",
      "\n",
      "def mountain_car_mean_performance(policy):\n",
      "    return mean([mountain_car_episode_length(state[0],state[1],policy) for state in [mountain_car_testing_state() for i in range(0,100)]])\n",
      "\n",
      "mountain_car_plot_policy(policy_RE)\n",
      "print mountain_car_mean_performance(policy_RE)"
     ],
     "language": "python",
     "metadata": {},
     "outputs": [
      {
       "output_type": "stream",
       "stream": "stdout",
       "text": [
        "103.08\n"
       ]
      },
      {
       "output_type": "display_data",
       "png": "[encoded data removed]"
      }
     ],
     "prompt_number": 42
    }
   ],
   "metadata": {}
  }
 ]
}