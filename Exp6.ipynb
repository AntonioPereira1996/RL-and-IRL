{
 "metadata": {
  "name": "Exp6"
 },
 "nbformat": 3,
 "nbformat_minor": 0,
 "worksheets": [
  {
   "cells": [
    {
     "cell_type": "code",
     "collapsed": false,
     "input": [
      "#Mountain Car\n",
      "from stuff import *\n",
      "from pylab import *\n",
      "from random import *\n",
      "import numpy\n",
      "from rl import *\n",
      "ACTION_SPACE=[-1,0,1]\n",
      "NB_SAMPLES=100\n",
      "def mountain_car_next_state(state,action):\n",
      "    position,speed=state\n",
      "    next_speed = squeeze(speed+action*0.001+cos(3*position)*(-0.0025))\n",
      "    next_position = squeeze(position+next_speed)\n",
      "    next_speed = next_speed if next_speed > -0.07 else -0.07\n",
      "    next_speed = next_speed if next_speed < 0.07 else 0.07\n",
      "    next_position = next_position if next_position > -1.2 else -1.2\n",
      "    next_position = next_position if next_position < 0.6 else 0.6\n",
      "    return array([next_position,next_speed])\n",
      "def mountain_car_uniform_state():\n",
      "    return array([numpy.random.uniform(low=-1.2,high=0.6),numpy.random.uniform(low=-0.07,high=0.07)])\n",
      "def mountain_car_interesting_state():\n",
      "    position = choice([numpy.random.uniform(low=-1.2,high=-0.8),numpy.random.uniform(low=0,high=0.6)])\n",
      "    speed = choice([numpy.random.uniform(low=-0.07,high=-0.04),numpy.random.uniform(low=0.04,high=0.07)])\n",
      "    if position < 0 and speed < 0:\n",
      "        speed=-speed\n",
      "    return array([position,speed])\n",
      "\n",
      "def mountain_car_reward(sas):\n",
      "    position=sas[0]\n",
      "    return 1 if position > 0.5 else 0\n",
      "\n",
      "mountain_car_mu_position, mountain_car_mu_speed = meshgrid(linspace(-1.2,0.6,5),linspace(-0.07,0.07,5))\n",
      "\n",
      "mountain_car_sigma_position = 2*pow((0.6+1.2)/5.,2)\n",
      "mountain_car_sigma_speed = 2*pow((0.07+0.07)/5.,2)\n",
      "\n",
      "\n",
      "def mountain_car_psi(state):\n",
      "    position,speed=state\n",
      "    psi=[]\n",
      "    for mu in zip_stack(mountain_car_mu_position, mountain_car_mu_speed).reshape(5*5,2):\n",
      "        psi.append(exp( -pow(position-mu[0],2)/mountain_car_sigma_position \n",
      "                        -pow(speed-mu[1],2)/mountain_car_sigma_speed))\n",
      "    return array(psi).reshape((5*5,1))\n",
      "\n",
      "def mountain_car_single_phi(sa):\n",
      "    state=sa[:2]\n",
      "    index_action = int(sa[-1])+1\n",
      "    answer=zeros((5*5*3,1))\n",
      "    answer[index_action*5*5:index_action*5*5+5*5] = mountain_car_psi(state)\n",
      "    return answer\n",
      "\n",
      "mountain_car_phi= non_scalar_vectorize(mountain_car_single_phi,(3,),(75,1))\n",
      "omega=genfromtxt(\"mountain_car_expert_omega.mat\")\n",
      "policy=greedy_policy(omega, mountain_car_phi, ACTION_SPACE)"
     ],
     "language": "python",
     "metadata": {},
     "outputs": [],
     "prompt_number": 21
    },
    {
     "cell_type": "code",
     "collapsed": false,
     "input": [
      "starting_states = [array([numpy.random.uniform(low=-1.2,high=-0.8),numpy.random.uniform(low=-0.07,high=-0.04)]) for i in range(0,2)]"
     ],
     "language": "python",
     "metadata": {},
     "outputs": [],
     "prompt_number": 38
    },
    {
     "cell_type": "code",
     "collapsed": false,
     "input": [
      "def mountain_car_episode_length(initial_position,initial_speed,policy):\n",
      "    answer = 0\n",
      "    reward = 0.\n",
      "    state = array([initial_position,initial_speed])\n",
      "    while answer < 300 and reward == 0. :\n",
      "        action = policy(state)\n",
      "        next_state = mountain_car_next_state(state,action)\n",
      "        reward = mountain_car_reward(hstack([state, action, next_state]))\n",
      "        state=next_state\n",
      "        answer+=1\n",
      "    return answer\n",
      "\n",
      "def mountain_car_tricky_episode_length(policy):\n",
      "    #return mountain_car_episode_length(-0.9,-0.04,policy)\n",
      "    return mean([mountain_car_episode_length(state[0],state[1], policy) for state in starting_states])"
     ],
     "language": "python",
     "metadata": {},
     "outputs": [],
     "prompt_number": 39
    },
    {
     "cell_type": "code",
     "collapsed": false,
     "input": [
      "import glob\n",
      "import pickle\n",
      "\n",
      "ABCISSAS=[10,100]\n",
      "for x in ABCISSAS:\n",
      "    CSI_files = glob.glob(\"data/CSI_omega_\"+str(x)+\"_*.mat\")\n",
      "    Classif_files = glob.glob(\"data/Classif_\"+str(x)+\"_*.obj\")\n",
      "    print CSI_files\n",
      "    print Classif_files\n",
      "\n",
      "    data_CSI=[]\n",
      "    data_Classif=[]\n",
      "    data_Expert=[]\n",
      "\n",
      "    for CSI_file,Classif_file in zip(CSI_files,Classif_files):\n",
      "        omega_CSI=genfromtxt(CSI_file)\n",
      "        with open(Classif_file, 'rb') as input:\n",
      "            clf = pickle.load(input)\n",
      "        clf_predict= lambda state : clf.predict(squeeze(state))\n",
      "        vpredict = non_scalar_vectorize( clf_predict, (2,), (1,1) )\n",
      "        pi_c = lambda state: vpredict(state).reshape(state.shape[:-1]+(1,))\n",
      "        policy_CSI=greedy_policy(omega_CSI, mountain_car_phi, ACTION_SPACE)\n",
      "        perf_CSI = mountain_car_tricky_episode_length(policy_CSI)\n",
      "        perf_Classif = mountain_car_tricky_episode_length(pi_c)\n",
      "        perf_Expert = mountain_car_tricky_episode_length(policy)\n",
      "        data_CSI.append(perf_CSI) \n",
      "        data_Classif.append(perf_Classif) \n",
      "        data_Expert.append(perf_Expert) \n",
      "        #print \"Nb_samples :\\t\"+str(x)\n",
      "        #print \"Length CSI :\\t\"+str(perf_CSI)\n",
      "        #print \"Length Class :\\t\"+str(perf_Classif)\n",
      "        #print \"Length exp :\\t\"+str(perf_Expert)\n",
      "    print \"Nb_samples :\\t\"+str(x)\n",
      "    print \"Mean length CSI :\\t\"+str(mean(data_CSI))\n",
      "    print \"Mean length Class :\\t\"+str(mean(data_Classif))\n",
      "    print \"Mean length exp :\\t\"+str(mean(data_Expert))\n"
     ],
     "language": "python",
     "metadata": {},
     "outputs": [
      {
       "output_type": "stream",
       "stream": "stdout",
       "text": [
        "['data/CSI_omega_10_18048.mat', 'data/CSI_omega_10_61552.mat', 'data/CSI_omega_10_75073.mat']\n",
        "['data/Classif_10_18048.obj', 'data/Classif_10_61552.obj', 'data/Classif_10_75073.obj']\n",
        "Nb_samples :\t10"
       ]
      },
      {
       "output_type": "stream",
       "stream": "stdout",
       "text": [
        "\n",
        "Mean length CSI :\t57.5\n",
        "Mean length Class :\t57.5\n",
        "Mean length exp :\t75.0\n",
        "['data/CSI_omega_100_25253.mat', 'data/CSI_omega_100_74216.mat', 'data/CSI_omega_100_84322.mat', 'data/CSI_omega_100_89174.mat', 'data/CSI_omega_100_92431.mat']\n",
        "['data/Classif_100_25253.obj', 'data/Classif_100_74216.obj', 'data/Classif_100_84322.obj', 'data/Classif_100_89174.obj', 'data/Classif_100_92431.obj']\n",
        "Nb_samples :\t100"
       ]
      },
      {
       "output_type": "stream",
       "stream": "stdout",
       "text": [
        "\n",
        "Mean length CSI :\t57.5\n",
        "Mean length Class :\t69.9\n",
        "Mean length exp :\t75.0\n"
       ]
      }
     ],
     "prompt_number": 40
    }
   ],
   "metadata": {}
  }
 ]
}