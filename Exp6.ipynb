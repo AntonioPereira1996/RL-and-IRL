{
 "metadata": {
  "name": "Exp6"
 },
 "nbformat": 3,
 "nbformat_minor": 0,
 "worksheets": [
  {
   "cells": [
    {
     "cell_type": "code",
     "collapsed": false,
     "input": [
      "#Mountain Car\n",
      "from stuff import *\n",
      "from pylab import *\n",
      "from random import *\n",
      "import numpy\n",
      "from rl import *\n",
      "ACTION_SPACE=[-1,0,1]\n",
      "NB_SAMPLES=100\n",
      "def mountain_car_next_state(state,action):\n",
      "    position,speed=state\n",
      "    next_speed = squeeze(speed+action*0.001+cos(3*position)*(-0.0025))\n",
      "    next_position = squeeze(position+next_speed)\n",
      "    next_speed = next_speed if next_speed > -0.07 else -0.07\n",
      "    next_speed = next_speed if next_speed < 0.07 else 0.07\n",
      "    next_position = next_position if next_position > -1.2 else -1.2\n",
      "    next_position = next_position if next_position < 0.6 else 0.6\n",
      "    return array([next_position,next_speed])\n",
      "def mountain_car_uniform_state():\n",
      "    return array([numpy.random.uniform(low=-1.2,high=0.6),numpy.random.uniform(low=-0.07,high=0.07)])\n",
      "def mountain_car_interesting_state():\n",
      "    position = choice([numpy.random.uniform(low=-1.2,high=-0.8),numpy.random.uniform(low=0,high=0.6)])\n",
      "    speed = choice([numpy.random.uniform(low=-0.07,high=-0.04),numpy.random.uniform(low=0.04,high=0.07)])\n",
      "    if position < 0 and speed < 0:\n",
      "        speed=-speed\n",
      "    return array([position,speed])\n",
      "\n",
      "def mountain_car_reward(sas):\n",
      "    position=sas[0]\n",
      "    return 1 if position > 0.5 else 0\n",
      "\n",
      "mountain_car_mu_position, mountain_car_mu_speed = meshgrid(linspace(-1.2,0.6,5),linspace(-0.07,0.07,5))\n",
      "\n",
      "mountain_car_sigma_position = 2*pow((0.6+1.2)/5.,2)\n",
      "mountain_car_sigma_speed = 2*pow((0.07+0.07)/5.,2)\n",
      "\n",
      "\n",
      "def mountain_car_psi(state):\n",
      "    position,speed=state\n",
      "    psi=[]\n",
      "    for mu in zip_stack(mountain_car_mu_position, mountain_car_mu_speed).reshape(5*5,2):\n",
      "        psi.append(exp( -pow(position-mu[0],2)/mountain_car_sigma_position \n",
      "                        -pow(speed-mu[1],2)/mountain_car_sigma_speed))\n",
      "    return array(psi).reshape((5*5,1))\n",
      "\n",
      "def mountain_car_single_phi(sa):\n",
      "    state=sa[:2]\n",
      "    index_action = int(sa[-1])+1\n",
      "    answer=zeros((5*5*3,1))\n",
      "    answer[index_action*5*5:index_action*5*5+5*5] = mountain_car_psi(state)\n",
      "    return answer\n",
      "\n",
      "mountain_car_phi= non_scalar_vectorize(mountain_car_single_phi,(3,),(75,1))\n",
      "omega=genfromtxt(\"mountain_car_expert_omega.mat\")\n",
      "policy=greedy_policy(omega, mountain_car_phi, ACTION_SPACE)"
     ],
     "language": "python",
     "metadata": {},
     "outputs": [],
     "prompt_number": 1
    },
    {
     "cell_type": "code",
     "collapsed": false,
     "input": [
      "starting_states = [array([numpy.random.uniform(low=-1.2,high=-0.8),numpy.random.uniform(low=-0.07,high=-0.04)]) for i in range(0,2)]"
     ],
     "language": "python",
     "metadata": {},
     "outputs": [],
     "prompt_number": 2
    },
    {
     "cell_type": "code",
     "collapsed": false,
     "input": [
      "def mountain_car_episode_length(initial_position,initial_speed,policy):\n",
      "    answer = 0\n",
      "    reward = 0.\n",
      "    state = array([initial_position,initial_speed])\n",
      "    while answer < 300 and reward == 0. :\n",
      "        action = policy(state)\n",
      "        next_state = mountain_car_next_state(state,action)\n",
      "        reward = mountain_car_reward(hstack([state, action, next_state]))\n",
      "        state=next_state\n",
      "        answer+=1\n",
      "    return answer\n",
      "\n",
      "def mountain_car_tricky_episode_length(policy):\n",
      "    return mountain_car_episode_length(-0.9,-0.04,policy)\n",
      "    #return mean([mountain_car_episode_length(state[0],state[1], policy) for state in starting_states])"
     ],
     "language": "python",
     "metadata": {},
     "outputs": [],
     "prompt_number": 5
    },
    {
     "cell_type": "code",
     "collapsed": false,
     "input": [
      "import glob\n",
      "import pickle\n",
      "\n",
      "X=[10,100]\n",
      "Y_mean_CSI=[]\n",
      "Y_deviation_CSI=[]\n",
      "Y_min_CSI=[]\n",
      "Y_max_CSI=[]\n",
      "Y_mean_Class=[]\n",
      "Y_deviation_Class=[]\n",
      "Y_min_Class=[]\n",
      "Y_max_Class=[]\n",
      "Y_expert=mountain_car_tricky_episode_length(policy)\n",
      "for x in X:\n",
      "    CSI_files = glob.glob(\"data/CSI_omega_\"+str(x)+\"_*.mat\")\n",
      "    Classif_files = glob.glob(\"data/Classif_\"+str(x)+\"_*.obj\")\n",
      "    print CSI_files\n",
      "    print Classif_files\n",
      "\n",
      "    data_CSI=[]\n",
      "    data_Classif=[]\n",
      "    data_Expert=[]\n",
      "\n",
      "    for CSI_file,Classif_file in zip(CSI_files,Classif_files):\n",
      "        omega_CSI=genfromtxt(CSI_file)\n",
      "        with open(Classif_file, 'rb') as input:\n",
      "            clf = pickle.load(input)\n",
      "        clf_predict= lambda state : clf.predict(squeeze(state))\n",
      "        vpredict = non_scalar_vectorize( clf_predict, (2,), (1,1) )\n",
      "        pi_c = lambda state: vpredict(state).reshape(state.shape[:-1]+(1,))\n",
      "        policy_CSI=greedy_policy(omega_CSI, mountain_car_phi, ACTION_SPACE)\n",
      "        perf_CSI = mountain_car_tricky_episode_length(policy_CSI)\n",
      "        perf_Classif = mountain_car_tricky_episode_length(pi_c)\n",
      "        data_CSI.append(perf_CSI) \n",
      "        data_Classif.append(perf_Classif) \n",
      "        #print \"Nb_samples :\\t\"+str(x)\n",
      "        #print \"Length CSI :\\t\"+str(perf_CSI)\n",
      "        #print \"Length Class :\\t\"+str(perf_Classif)\n",
      "        #print \"Length exp :\\t\"+str(perf_Expert)\n",
      "    print \"Nb_samples :\\t\"+str(x)\n",
      "    print \"Mean length CSI :\\t\"+str(mean(data_CSI))\n",
      "    print \"Mean length Class :\\t\"+str(mean(data_Classif))\n",
      "    Y_mean_CSI.append(mean(data_CSI))\n",
      "    Y_deviation_CSI.append(sqrt(var(data_CSI)))\n",
      "    Y_min_CSI.append(min(data_CSI))\n",
      "    Y_max_CSI.append(max(data_CSI))\n",
      "    Y_mean_Class.append(mean(data_Classif))\n",
      "    Y_deviation_Class.append(sqrt(var(data_Classif)))\n",
      "    Y_min_Class.append(min(data_Classif))\n",
      "    Y_max_Class.append(max(data_Classif))\n",
      "Y_mean_CSI=array(Y_mean_CSI)\n",
      "Y_deviation_CSI=array(Y_deviation_CSI)\n",
      "Y_min_CSI=array(Y_min_CSI)\n",
      "Y_max_CSI=array(Y_max_CSI)\n",
      "Y_mean_Class=array(Y_mean_Class)\n",
      "Y_deviation_Class=array(Y_deviation_Class)\n",
      "Y_min_Class=array(Y_min_Class)\n",
      "Y_max_Class=array(Y_max_Class)\n",
      "    \n"
     ],
     "language": "python",
     "metadata": {},
     "outputs": [
      {
       "output_type": "stream",
       "stream": "stdout",
       "text": [
        "['data/CSI_omega_10_93839.mat', 'data/CSI_omega_10_36946.mat', 'data/CSI_omega_10_77325.mat', 'data/CSI_omega_10_75744.mat', 'data/CSI_omega_10_6119.mat', 'data/CSI_omega_10_4345.mat', 'data/CSI_omega_10_99057.mat', 'data/CSI_omega_10_51823.mat', 'data/CSI_omega_10_87729.mat', 'data/CSI_omega_10_88073.mat', 'data/CSI_omega_10_42626.mat', 'data/CSI_omega_10_95766.mat', 'data/CSI_omega_10_89471.mat', 'data/CSI_omega_10_4641.mat', 'data/CSI_omega_10_74671.mat', 'data/CSI_omega_10_24919.mat', 'data/CSI_omega_10_94921.mat', 'data/CSI_omega_10_24599.mat', 'data/CSI_omega_10_99571.mat', 'data/CSI_omega_10_23581.mat', 'data/CSI_omega_10_24959.mat', 'data/CSI_omega_10_38565.mat', 'data/CSI_omega_10_68814.mat', 'data/CSI_omega_10_12197.mat', 'data/CSI_omega_10_88218.mat', 'data/CSI_omega_10_82632.mat', 'data/CSI_omega_10_69153.mat', 'data/CSI_omega_10_25649.mat', 'data/CSI_omega_10_64828.mat', 'data/CSI_omega_10_5885.mat', 'data/CSI_omega_10_98346.mat', 'data/CSI_omega_10_10336.mat', 'data/CSI_omega_10_13133.mat', 'data/CSI_omega_10_65951.mat', 'data/CSI_omega_10_51613.mat', 'data/CSI_omega_10_21222.mat', 'data/CSI_omega_10_49502.mat', 'data/CSI_omega_10_81128.mat', 'data/CSI_omega_10_14070.mat', 'data/CSI_omega_10_3766.mat', 'data/CSI_omega_10_38845.mat', 'data/CSI_omega_10_29188.mat', 'data/CSI_omega_10_85211.mat', 'data/CSI_omega_10_93027.mat', 'data/CSI_omega_10_48001.mat', 'data/CSI_omega_10_25670.mat', 'data/CSI_omega_10_5058.mat', 'data/CSI_omega_10_3478.mat', 'data/CSI_omega_10_52080.mat', 'data/CSI_omega_10_97177.mat', 'data/CSI_omega_10_65733.mat', 'data/CSI_omega_10_53617.mat', 'data/CSI_omega_10_56907.mat', 'data/CSI_omega_10_7511.mat', 'data/CSI_omega_10_47569.mat', 'data/CSI_omega_10_93450.mat', 'data/CSI_omega_10_35710.mat', 'data/CSI_omega_10_78337.mat', 'data/CSI_omega_10_51815.mat', 'data/CSI_omega_10_92543.mat', 'data/CSI_omega_10_98874.mat', 'data/CSI_omega_10_73344.mat', 'data/CSI_omega_10_58323.mat', 'data/CSI_omega_10_36713.mat', 'data/CSI_omega_10_64602.mat', 'data/CSI_omega_10_90504.mat', 'data/CSI_omega_10_49796.mat', 'data/CSI_omega_10_37417.mat', 'data/CSI_omega_10_71060.mat', 'data/CSI_omega_10_9693.mat', 'data/CSI_omega_10_3821.mat', 'data/CSI_omega_10_10360.mat', 'data/CSI_omega_10_15917.mat', 'data/CSI_omega_10_35695.mat', 'data/CSI_omega_10_63123.mat', 'data/CSI_omega_10_11716.mat', 'data/CSI_omega_10_73620.mat', 'data/CSI_omega_10_10136.mat', 'data/CSI_omega_10_51499.mat', 'data/CSI_omega_10_68658.mat', 'data/CSI_omega_10_21490.mat', 'data/CSI_omega_10_46183.mat', 'data/CSI_omega_10_54940.mat', 'data/CSI_omega_10_29157.mat', 'data/CSI_omega_10_35458.mat', 'data/CSI_omega_10_12092.mat', 'data/CSI_omega_10_64309.mat', 'data/CSI_omega_10_32886.mat', 'data/CSI_omega_10_12103.mat', 'data/CSI_omega_10_2580.mat', 'data/CSI_omega_10_85501.mat', 'data/CSI_omega_10_69043.mat', 'data/CSI_omega_10_69305.mat', 'data/CSI_omega_10_3363.mat', 'data/CSI_omega_10_82030.mat', 'data/CSI_omega_10_7916.mat', 'data/CSI_omega_10_91562.mat', 'data/CSI_omega_10_75880.mat', 'data/CSI_omega_10_56734.mat', 'data/CSI_omega_10_67180.mat', 'data/CSI_omega_10_98414.mat', 'data/CSI_omega_10_5567.mat', 'data/CSI_omega_10_38699.mat']\n",
        "['data/Classif_10_21222.obj', 'data/Classif_10_29157.obj', 'data/Classif_10_4641.obj', 'data/Classif_10_65733.obj', 'data/Classif_10_10360.obj', 'data/Classif_10_25670.obj', 'data/Classif_10_12092.obj', 'data/Classif_10_51613.obj', 'data/Classif_10_85501.obj', 'data/Classif_10_15917.obj', 'data/Classif_10_7511.obj', 'data/Classif_10_51823.obj', 'data/Classif_10_77325.obj', 'data/Classif_10_54940.obj', 'data/Classif_10_53617.obj', 'data/Classif_10_90504.obj', 'data/Classif_10_12197.obj', 'data/Classif_10_51815.obj', 'data/Classif_10_38699.obj', 'data/Classif_10_56734.obj', 'data/Classif_10_93839.obj', 'data/Classif_10_6119.obj', 'data/Classif_10_69043.obj', 'data/Classif_10_35458.obj', 'data/Classif_10_25649.obj', 'data/Classif_10_5058.obj', 'data/Classif_10_38845.obj', 'data/Classif_10_64309.obj', 'data/Classif_10_14070.obj', 'data/Classif_10_73620.obj', 'data/Classif_10_69305.obj', 'data/Classif_10_3766.obj', 'data/Classif_10_95766.obj', 'data/Classif_10_81128.obj', 'data/Classif_10_67180.obj', 'data/Classif_10_63123.obj', 'data/Classif_10_74671.obj', 'data/Classif_10_52080.obj', 'data/Classif_10_35695.obj', 'data/Classif_10_71060.obj', 'data/Classif_10_68814.obj', 'data/Classif_10_56907.obj', 'data/Classif_10_89471.obj', 'data/Classif_10_48001.obj', 'data/Classif_10_36713.obj', 'data/Classif_10_93450.obj', 'data/Classif_10_92543.obj', 'data/Classif_10_64602.obj', 'data/Classif_10_35710.obj', 'data/Classif_10_37417.obj', 'data/Classif_10_24959.obj', 'data/Classif_10_73344.obj', 'data/Classif_10_88073.obj', 'data/Classif_10_24599.obj', 'data/Classif_10_87729.obj', 'data/Classif_10_51499.obj', 'data/Classif_10_65951.obj', 'data/Classif_10_2580.obj', 'data/Classif_10_29188.obj', 'data/Classif_10_32886.obj', 'data/Classif_10_5885.obj', 'data/Classif_10_36946.obj', 'data/Classif_10_10336.obj', 'data/Classif_10_94921.obj', 'data/Classif_10_42626.obj', 'data/Classif_10_3821.obj', 'data/Classif_10_64828.obj', 'data/Classif_10_3363.obj', 'data/Classif_10_4345.obj', 'data/Classif_10_49502.obj', 'data/Classif_10_82632.obj', 'data/Classif_10_75744.obj', 'data/Classif_10_49796.obj', 'data/Classif_10_91562.obj', 'data/Classif_10_47569.obj', 'data/Classif_10_23581.obj', 'data/Classif_10_93027.obj', 'data/Classif_10_11716.obj', 'data/Classif_10_68658.obj', 'data/Classif_10_24919.obj', 'data/Classif_10_38565.obj', 'data/Classif_10_69153.obj', 'data/Classif_10_5567.obj', 'data/Classif_10_99571.obj', 'data/Classif_10_21490.obj', 'data/Classif_10_85211.obj', 'data/Classif_10_3478.obj', 'data/Classif_10_58323.obj', 'data/Classif_10_97177.obj', 'data/Classif_10_98346.obj', 'data/Classif_10_9693.obj', 'data/Classif_10_12103.obj', 'data/Classif_10_99057.obj', 'data/Classif_10_98874.obj', 'data/Classif_10_75880.obj', 'data/Classif_10_7916.obj', 'data/Classif_10_10136.obj', 'data/Classif_10_98414.obj', 'data/Classif_10_82030.obj', 'data/Classif_10_13133.obj', 'data/Classif_10_88218.obj', 'data/Classif_10_46183.obj', 'data/Classif_10_78337.obj']\n",
        "Nb_samples :\t10"
       ]
      },
      {
       "output_type": "stream",
       "stream": "stdout",
       "text": [
        "\n",
        "Mean length CSI :\t64.2524271845\n",
        "Mean length Class :\t89.4854368932\n",
        "['data/CSI_omega_100_37052.mat', 'data/CSI_omega_100_39821.mat', 'data/CSI_omega_100_9185.mat', 'data/CSI_omega_100_40267.mat', 'data/CSI_omega_100_89229.mat', 'data/CSI_omega_100_1279.mat', 'data/CSI_omega_100_52098.mat', 'data/CSI_omega_100_53971.mat', 'data/CSI_omega_100_9853.mat', 'data/CSI_omega_100_14633.mat', 'data/CSI_omega_100_27043.mat', 'data/CSI_omega_100_29763.mat', 'data/CSI_omega_100_87549.mat', 'data/CSI_omega_100_83804.mat', 'data/CSI_omega_100_89357.mat', 'data/CSI_omega_100_63945.mat', 'data/CSI_omega_100_59955.mat', 'data/CSI_omega_100_16743.mat', 'data/CSI_omega_100_10677.mat', 'data/CSI_omega_100_87113.mat', 'data/CSI_omega_100_96206.mat', 'data/CSI_omega_100_85697.mat', 'data/CSI_omega_100_17247.mat', 'data/CSI_omega_100_52508.mat', 'data/CSI_omega_100_29310.mat', 'data/CSI_omega_100_63740.mat', 'data/CSI_omega_100_47269.mat', 'data/CSI_omega_100_27649.mat', 'data/CSI_omega_100_74160.mat', 'data/CSI_omega_100_69871.mat', 'data/CSI_omega_100_63578.mat', 'data/CSI_omega_100_77014.mat', 'data/CSI_omega_100_14087.mat', 'data/CSI_omega_100_88146.mat', 'data/CSI_omega_100_83978.mat', 'data/CSI_omega_100_94261.mat', 'data/CSI_omega_100_97077.mat', 'data/CSI_omega_100_5614.mat', 'data/CSI_omega_100_36824.mat', 'data/CSI_omega_100_11630.mat', 'data/CSI_omega_100_90821.mat', 'data/CSI_omega_100_49248.mat', 'data/CSI_omega_100_26637.mat', 'data/CSI_omega_100_70938.mat', 'data/CSI_omega_100_60193.mat', 'data/CSI_omega_100_52563.mat', 'data/CSI_omega_100_41622.mat', 'data/CSI_omega_100_62086.mat', 'data/CSI_omega_100_90531.mat', 'data/CSI_omega_100_24587.mat', 'data/CSI_omega_100_3678.mat', 'data/CSI_omega_100_3777.mat', 'data/CSI_omega_100_88857.mat', 'data/CSI_omega_100_61622.mat', 'data/CSI_omega_100_22153.mat', 'data/CSI_omega_100_69278.mat', 'data/CSI_omega_100_65795.mat', 'data/CSI_omega_100_13933.mat', 'data/CSI_omega_100_27241.mat', 'data/CSI_omega_100_93933.mat', 'data/CSI_omega_100_42954.mat', 'data/CSI_omega_100_70921.mat', 'data/CSI_omega_100_32339.mat', 'data/CSI_omega_100_5811.mat', 'data/CSI_omega_100_50280.mat', 'data/CSI_omega_100_41459.mat', 'data/CSI_omega_100_211.mat', 'data/CSI_omega_100_43370.mat', 'data/CSI_omega_100_56840.mat', 'data/CSI_omega_100_2452.mat', 'data/CSI_omega_100_61972.mat', 'data/CSI_omega_100_84192.mat', 'data/CSI_omega_100_98146.mat', 'data/CSI_omega_100_4501.mat', 'data/CSI_omega_100_71874.mat', 'data/CSI_omega_100_42539.mat', 'data/CSI_omega_100_97501.mat', 'data/CSI_omega_100_50735.mat', 'data/CSI_omega_100_65614.mat', 'data/CSI_omega_100_22694.mat', 'data/CSI_omega_100_17109.mat', 'data/CSI_omega_100_24826.mat', 'data/CSI_omega_100_98424.mat', 'data/CSI_omega_100_46571.mat', 'data/CSI_omega_100_20356.mat', 'data/CSI_omega_100_6074.mat', 'data/CSI_omega_100_18171.mat', 'data/CSI_omega_100_18545.mat', 'data/CSI_omega_100_31950.mat', 'data/CSI_omega_100_43425.mat']\n",
        "['data/Classif_100_77014.obj', 'data/Classif_100_61622.obj', 'data/Classif_100_37052.obj', 'data/Classif_100_32339.obj', 'data/Classif_100_56840.obj', 'data/Classif_100_22694.obj', 'data/Classif_100_49248.obj', 'data/Classif_100_70938.obj', 'data/Classif_100_17247.obj', 'data/Classif_100_70921.obj', 'data/Classif_100_89357.obj', 'data/Classif_100_62086.obj', 'data/Classif_100_211.obj', 'data/Classif_100_13933.obj', 'data/Classif_100_2452.obj', 'data/Classif_100_98424.obj', 'data/Classif_100_1279.obj', 'data/Classif_100_84192.obj', 'data/Classif_100_6074.obj', 'data/Classif_100_24826.obj', 'data/Classif_100_11630.obj', 'data/Classif_100_26637.obj', 'data/Classif_100_42539.obj', 'data/Classif_100_85697.obj', 'data/Classif_100_69871.obj', 'data/Classif_100_88146.obj', 'data/Classif_100_4501.obj', 'data/Classif_100_17109.obj', 'data/Classif_100_46571.obj', 'data/Classif_100_31950.obj', 'data/Classif_100_20356.obj', 'data/Classif_100_89229.obj', 'data/Classif_100_5811.obj', 'data/Classif_100_97077.obj', 'data/Classif_100_27649.obj', 'data/Classif_100_50735.obj', 'data/Classif_100_5614.obj', 'data/Classif_100_63578.obj', 'data/Classif_100_90821.obj', 'data/Classif_100_50280.obj', 'data/Classif_100_3777.obj', 'data/Classif_100_65614.obj', 'data/Classif_100_9853.obj', 'data/Classif_100_83978.obj', 'data/Classif_100_98146.obj', 'data/Classif_100_93933.obj', 'data/Classif_100_24587.obj', 'data/Classif_100_18171.obj', 'data/Classif_100_43370.obj', 'data/Classif_100_47269.obj', 'data/Classif_100_29763.obj', 'data/Classif_100_36824.obj', 'data/Classif_100_3678.obj', 'data/Classif_100_87113.obj', 'data/Classif_100_42954.obj', 'data/Classif_100_59955.obj', 'data/Classif_100_29310.obj', 'data/Classif_100_52508.obj', 'data/Classif_100_53971.obj', 'data/Classif_100_63945.obj', 'data/Classif_100_41622.obj', 'data/Classif_100_83804.obj', 'data/Classif_100_43425.obj', 'data/Classif_100_40267.obj', 'data/Classif_100_10677.obj', 'data/Classif_100_16743.obj', 'data/Classif_100_14633.obj', 'data/Classif_100_97501.obj', 'data/Classif_100_14087.obj', 'data/Classif_100_27241.obj', 'data/Classif_100_61972.obj', 'data/Classif_100_22153.obj', 'data/Classif_100_87549.obj', 'data/Classif_100_71874.obj', 'data/Classif_100_27043.obj', 'data/Classif_100_96206.obj', 'data/Classif_100_65795.obj', 'data/Classif_100_39821.obj', 'data/Classif_100_88857.obj', 'data/Classif_100_60193.obj', 'data/Classif_100_94261.obj', 'data/Classif_100_9185.obj', 'data/Classif_100_74160.obj', 'data/Classif_100_18545.obj', 'data/Classif_100_69278.obj', 'data/Classif_100_63740.obj', 'data/Classif_100_52098.obj', 'data/Classif_100_52563.obj', 'data/Classif_100_90531.obj', 'data/Classif_100_41459.obj']\n",
        "Nb_samples :\t100"
       ]
      },
      {
       "output_type": "stream",
       "stream": "stdout",
       "text": [
        "\n",
        "Mean length CSI :\t52.0111111111\n",
        "Mean length Class :\t61.5444444444\n"
       ]
      }
     ],
     "prompt_number": 14
    },
    {
     "cell_type": "code",
     "collapsed": false,
     "input": [
      "def filled_mean_min_max(X, Y_mean, Y_min, Y_max, color, _alpha, style, lblmain,lblminmax ):\n",
      "    \"Plot data, with bold mean line, and a light color fill betwee the min and max\"\n",
      "    if lblmain == None:\n",
      "        plot( X, Y_mean,color=color,lw=2)\n",
      "    else:\n",
      "        plot( X, Y_mean,color=color,lw=2, label=lblmain)\n",
      "    if lblminmax == None:\n",
      "        plot( X, Y_min, color=color,lw=1,linestyle=style)\n",
      "    else:\n",
      "        plot( X, Y_min, color=color,lw=1,linestyle=style, label=lblminmax)\n",
      "    plot( X, Y_max, color=color,lw=1,linestyle=style)\n",
      "    fill_between(X,Y_min,Y_max,facecolor=color,alpha=_alpha)\n",
      "\n",
      "#filled_mean_min_max(X,Y_mean_CSI, Y_mean_CSI-Y_deviation_CSI, Y_mean_CSI+Y_deviation_CSI,'red',\n",
      "                    #0.4,'-.',None,None)\n",
      "filled_mean_min_max(X,Y_mean_CSI, Y_min_CSI, Y_max_CSI,'red',\n",
      "                    0.2,'--',None,None)\n",
      "\n",
      "#filled_mean_min_max(X,Y_mean_Class, Y_mean_Class-Y_deviation_Class, Y_mean_Class+Y_deviation_Class,'blue',\n",
      "                    #0.4,'-.',None,None)\n",
      "filled_mean_min_max(X,Y_mean_Class, Y_min_Class, Y_max_Class,'blue',\n",
      "                    0.2,'--',None,None)\n",
      "#plot( X,Y_expert*ones(array(X).shape) , color='purple',lw=5)\n",
      "axis([10,100,0,310])"
     ],
     "language": "python",
     "metadata": {},
     "outputs": [
      {
       "output_type": "pyout",
       "prompt_number": 20,
       "text": [
        "[10, 100, 0, 310]"
       ]
      },
      {
       "output_type": "display_data",
       "png": "[encoded data removed]"
      }
     ],
     "prompt_number": 20
    }
   ],
   "metadata": {}
  }
 ]
}