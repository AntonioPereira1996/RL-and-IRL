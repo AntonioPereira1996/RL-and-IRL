{
 "metadata": {
  "name": "Exp6"
 },
 "nbformat": 3,
 "nbformat_minor": 0,
 "worksheets": [
  {
   "cells": [
    {
     "cell_type": "code",
     "collapsed": false,
     "input": [
      "#Mountain Car\n",
      "from stuff import *\n",
      "from pylab import *\n",
      "from random import *\n",
      "import numpy\n",
      "from rl import *\n",
      "ACTION_SPACE=[-1,0,1]\n",
      "NB_SAMPLES=100\n",
      "def mountain_car_next_state(state,action):\n",
      "    position,speed=state\n",
      "    next_speed = squeeze(speed+action*0.001+cos(3*position)*(-0.0025))\n",
      "    next_position = squeeze(position+next_speed)\n",
      "    next_speed = next_speed if next_speed > -0.07 else -0.07\n",
      "    next_speed = next_speed if next_speed < 0.07 else 0.07\n",
      "    next_position = next_position if next_position > -1.2 else -1.2\n",
      "    next_position = next_position if next_position < 0.6 else 0.6\n",
      "    return array([next_position,next_speed])\n",
      "def mountain_car_uniform_state():\n",
      "    return array([numpy.random.uniform(low=-1.2,high=0.6),numpy.random.uniform(low=-0.07,high=0.07)])\n",
      "def mountain_car_interesting_state():\n",
      "    position = choice([numpy.random.uniform(low=-1.2,high=-0.8),numpy.random.uniform(low=0,high=0.6)])\n",
      "    speed = choice([numpy.random.uniform(low=-0.07,high=-0.04),numpy.random.uniform(low=0.04,high=0.07)])\n",
      "    if position < 0 and speed < 0:\n",
      "        speed=-speed\n",
      "    return array([position,speed])\n",
      "\n",
      "def mountain_car_reward(sas):\n",
      "    position=sas[0]\n",
      "    return 1 if position > 0.5 else 0\n",
      "\n",
      "mountain_car_mu_position, mountain_car_mu_speed = meshgrid(linspace(-1.2,0.6,5),linspace(-0.07,0.07,5))\n",
      "\n",
      "mountain_car_sigma_position = 2*pow((0.6+1.2)/5.,2)\n",
      "mountain_car_sigma_speed = 2*pow((0.07+0.07)/5.,2)\n",
      "\n",
      "\n",
      "def mountain_car_psi(state):\n",
      "    position,speed=state\n",
      "    psi=[]\n",
      "    for mu in zip_stack(mountain_car_mu_position, mountain_car_mu_speed).reshape(5*5,2):\n",
      "        psi.append(exp( -pow(position-mu[0],2)/mountain_car_sigma_position \n",
      "                        -pow(speed-mu[1],2)/mountain_car_sigma_speed))\n",
      "    return array(psi).reshape((5*5,1))\n",
      "\n",
      "def mountain_car_single_phi(sa):\n",
      "    state=sa[:2]\n",
      "    index_action = int(sa[-1])+1\n",
      "    answer=zeros((5*5*3,1))\n",
      "    answer[index_action*5*5:index_action*5*5+5*5] = mountain_car_psi(state)\n",
      "    return answer\n",
      "\n",
      "mountain_car_phi= non_scalar_vectorize(mountain_car_single_phi,(3,),(75,1))\n",
      "omega=genfromtxt(\"mountain_car_expert_omega.mat\")\n",
      "policy=greedy_policy(omega, mountain_car_phi, ACTION_SPACE)"
     ],
     "language": "python",
     "metadata": {},
     "outputs": [],
     "prompt_number": 1
    },
    {
     "cell_type": "code",
     "collapsed": false,
     "input": [
      "starting_states = [array([numpy.random.uniform(low=-1.2,high=-0.8),numpy.random.uniform(low=-0.07,high=-0.04)]) for i in range(0,2)]"
     ],
     "language": "python",
     "metadata": {},
     "outputs": [],
     "prompt_number": 2
    },
    {
     "cell_type": "code",
     "collapsed": false,
     "input": [
      "def mountain_car_episode_length(initial_position,initial_speed,policy):\n",
      "    answer = 0\n",
      "    reward = 0.\n",
      "    state = array([initial_position,initial_speed])\n",
      "    while answer < 300 and reward == 0. :\n",
      "        action = policy(state)\n",
      "        next_state = mountain_car_next_state(state,action)\n",
      "        reward = mountain_car_reward(hstack([state, action, next_state]))\n",
      "        state=next_state\n",
      "        answer+=1\n",
      "    return answer\n",
      "\n",
      "def mountain_car_tricky_episode_length(policy):\n",
      "    return mountain_car_episode_length(-0.9,-0.04,policy)\n",
      "    #return mean([mountain_car_episode_length(state[0],state[1], policy) for state in starting_states])"
     ],
     "language": "python",
     "metadata": {},
     "outputs": [],
     "prompt_number": 2
    },
    {
     "cell_type": "code",
     "collapsed": false,
     "input": [
      "import glob\n",
      "import pickle\n",
      "\n",
      "X=[10, 30, 100]\n",
      "Y_mean_CSI=[]\n",
      "Y_deviation_CSI=[]\n",
      "Y_min_CSI=[]\n",
      "Y_max_CSI=[]\n",
      "Y_mean_Class=[]\n",
      "Y_deviation_Class=[]\n",
      "Y_min_Class=[]\n",
      "Y_max_Class=[]\n",
      "Y_expert=mountain_car_tricky_episode_length(policy)\n",
      "for x in X:\n",
      "    CSI_files = glob.glob(\"data/CSI_omega_\"+str(x)+\"_*.mat\")[:10]\n",
      "    Classif_files = glob.glob(\"data/Classif_\"+str(x)+\"_*.obj\")[:10]\n",
      "    #print CSI_files\n",
      "    #print Classif_files\n",
      "\n",
      "    data_CSI=[]\n",
      "    data_Classif=[]\n",
      "    data_Expert=[]\n",
      "\n",
      "    for CSI_file,Classif_file in zip(CSI_files,Classif_files):\n",
      "        omega_CSI=genfromtxt(CSI_file)\n",
      "        with open(Classif_file, 'rb') as input:\n",
      "            clf = pickle.load(input)\n",
      "        clf_predict= lambda state : clf.predict(squeeze(state))\n",
      "        vpredict = non_scalar_vectorize( clf_predict, (2,), (1,1) )\n",
      "        pi_c = lambda state: vpredict(state).reshape(state.shape[:-1]+(1,))\n",
      "        policy_CSI=greedy_policy(omega_CSI, mountain_car_phi, ACTION_SPACE)\n",
      "        perf_CSI = mountain_car_tricky_episode_length(policy_CSI)\n",
      "        perf_Classif = mountain_car_tricky_episode_length(pi_c)\n",
      "        data_CSI.append(perf_CSI) \n",
      "        data_Classif.append(perf_Classif) \n",
      "        #print \"Nb_samples :\\t\"+str(x)\n",
      "        #print \"Length CSI :\\t\"+str(perf_CSI)\n",
      "        #print \"Length Class :\\t\"+str(perf_Classif)\n",
      "        #print \"Length exp :\\t\"+str(perf_Expert)\n",
      "    print \"Nb_samples :\\t\"+str(x)\n",
      "    print \"Mean length CSI :\\t\"+str(mean(data_CSI))\n",
      "    print \"Mean length Class :\\t\"+str(mean(data_Classif))\n",
      "    Y_mean_CSI.append(mean(data_CSI))\n",
      "    Y_deviation_CSI.append(sqrt(var(data_CSI)))\n",
      "    Y_min_CSI.append(min(data_CSI))\n",
      "    Y_max_CSI.append(max(data_CSI))\n",
      "    Y_mean_Class.append(mean(data_Classif))\n",
      "    Y_deviation_Class.append(sqrt(var(data_Classif)))\n",
      "    Y_min_Class.append(min(data_Classif))\n",
      "    Y_max_Class.append(max(data_Classif))\n",
      "Y_mean_CSI=array(Y_mean_CSI)\n",
      "Y_deviation_CSI=array(Y_deviation_CSI)\n",
      "Y_min_CSI=array(Y_min_CSI)\n",
      "Y_max_CSI=array(Y_max_CSI)\n",
      "Y_mean_Class=array(Y_mean_Class)\n",
      "Y_deviation_Class=array(Y_deviation_Class)\n",
      "Y_min_Class=array(Y_min_Class)\n",
      "Y_max_Class=array(Y_max_Class)\n",
      "    \n"
     ],
     "language": "python",
     "metadata": {},
     "outputs": [
      {
       "output_type": "stream",
       "stream": "stdout",
       "text": [
        "Nb_samples :\t10\n",
        "Mean length CSI :\t279.0\n",
        "Mean length Class :\t300.0\n",
        "Nb_samples :\t30"
       ]
      },
      {
       "output_type": "stream",
       "stream": "stdout",
       "text": [
        "\n",
        "Mean length CSI :\t277.7\n",
        "Mean length Class :\t283.8\n",
        "Nb_samples :\t100"
       ]
      },
      {
       "output_type": "stream",
       "stream": "stdout",
       "text": [
        "\n",
        "Mean length CSI :\t300.0\n",
        "Mean length Class :\t196.5\n"
       ]
      }
     ],
     "prompt_number": 5
    },
    {
     "cell_type": "code",
     "collapsed": false,
     "input": [
      "def filled_mean_min_max(X, Y_mean, Y_min, Y_max, color, _alpha, style, lblmain,lblminmax ):\n",
      "    \"Plot data, with bold mean line, and a light color fill betwee the min and max\"\n",
      "    if lblmain == None:\n",
      "        plot( X, Y_mean,color=color,lw=2)\n",
      "    else:\n",
      "        plot( X, Y_mean,color=color,lw=2, label=lblmain)\n",
      "    if lblminmax == None:\n",
      "        plot( X, Y_min, color=color,lw=1,linestyle=style)\n",
      "    else:\n",
      "        plot( X, Y_min, color=color,lw=1,linestyle=style, label=lblminmax)\n",
      "    plot( X, Y_max, color=color,lw=1,linestyle=style)\n",
      "    fill_between(X,Y_min,Y_max,facecolor=color,alpha=_alpha)\n",
      "\n",
      "#filled_mean_min_max(X,Y_mean_CSI, Y_mean_CSI-Y_deviation_CSI, Y_mean_CSI+Y_deviation_CSI,'red',\n",
      "                    #0.4,'-.',None,None)\n",
      "filled_mean_min_max(X,Y_mean_CSI, Y_min_CSI, Y_max_CSI,'red',\n",
      "                    0.2,'--',None,None)\n",
      "\n",
      "#filled_mean_min_max(X,Y_mean_Class, Y_mean_Class-Y_deviation_Class, Y_mean_Class+Y_deviation_Class,'blue',\n",
      "                    #0.4,'-.',None,None)\n",
      "filled_mean_min_max(X,Y_mean_Class, Y_min_Class, Y_max_Class,'blue',\n",
      "                    0.2,'--',None,None)\n",
      "#plot( X,Y_expert*ones(array(X).shape) , color='purple',lw=5)\n",
      "axis([10,100,0,310])"
     ],
     "language": "python",
     "metadata": {},
     "outputs": [
      {
       "output_type": "pyout",
       "prompt_number": 6,
       "text": [
        "[10, 100, 0, 310]"
       ]
      },
      {
       "output_type": "display_data",
       "png": "[encoded data removed]"
      }
     ],
     "prompt_number": 6
    },
    {
     "cell_type": "code",
     "collapsed": false,
     "input": [
      "def mountain_car_episode_length(initial_position,initial_speed,policy):\n",
      "    answer = 0\n",
      "    reward = 0.\n",
      "    state = array([initial_position,initial_speed])\n",
      "    while answer < 300 and reward == 0. :\n",
      "        action = policy(state)\n",
      "        next_state = mountain_car_next_state(state,action)\n",
      "        reward = mountain_car_reward(hstack([state, action, next_state]))\n",
      "        state=next_state\n",
      "        answer+=1\n",
      "    return answer\n",
      "\n",
      "\n",
      "import glob\n",
      "import pickle\n",
      "\n",
      "\n",
      "X=[10, 30, 100]\n",
      "Y_mean_CSI=[]\n",
      "Y_deviation_CSI=[]\n",
      "Y_min_CSI=[]\n",
      "Y_max_CSI=[]\n",
      "Y_mean_Class=[]\n",
      "Y_deviation_Class=[]\n",
      "Y_min_Class=[]\n",
      "Y_max_Class=[]\n",
      "Y_expert=mountain_car_tricky_episode_length(policy)\n",
      "b_Continue = True\n",
      "while b_Continue:\n",
      "    starting_state = array([numpy.random.uniform(low=-1.2,high=-0.8),numpy.random.uniform(low=-0.07,high=-0.04)])\n",
      "    def mountain_car_tricky_episode_length(policy):\n",
      "        #return mountain_car_episode_length(-0.9,-0.04,policy)\n",
      "        return mountain_car_episode_length(starting_state[0],starting_state[1], policy)\n",
      "    for x in X:\n",
      "        b_Continue=False\n",
      "        CSI_files = glob.glob(\"data/CSI_omega_\"+str(x)+\"_*.mat\")[:60]\n",
      "        Classif_files = glob.glob(\"data/Classif_\"+str(x)+\"_*.obj\")[:60]\n",
      "        #print CSI_files\n",
      "        #print Classif_files\n",
      "\n",
      "        data_CSI=[]\n",
      "        data_Classif=[]\n",
      "        data_Expert=[]\n",
      "    \n",
      "        for CSI_file,Classif_file in zip(CSI_files,Classif_files):\n",
      "            omega_CSI=genfromtxt(CSI_file)\n",
      "            with open(Classif_file, 'rb') as input:\n",
      "                clf = pickle.load(input)\n",
      "            clf_predict= lambda state : clf.predict(squeeze(state))\n",
      "            vpredict = non_scalar_vectorize( clf_predict, (2,), (1,1) )\n",
      "            pi_c = lambda state: vpredict(state).reshape(state.shape[:-1]+(1,))\n",
      "            policy_CSI=greedy_policy(omega_CSI, mountain_car_phi, ACTION_SPACE)\n",
      "            perf_CSI = mountain_car_tricky_episode_length(policy_CSI)\n",
      "            perf_Classif = mountain_car_tricky_episode_length(pi_c)\n",
      "            data_CSI.append(perf_CSI) \n",
      "            data_Classif.append(perf_Classif) \n",
      "            #print \"Nb_samples :\\t\"+str(x)\n",
      "            #print \"Length CSI :\\t\"+str(perf_CSI)\n",
      "            #print \"Length Class :\\t\"+str(perf_Classif)\n",
      "            #print \"Length exp :\\t\"+str(perf_Expert)\n",
      "        if mean(data_CSI) > mean(data_Classif):\n",
      "            print \"For this starting point, classif is better than CSI, choosing another one (\"+str(mean(data_Classif))+\" < \"+str(mean(data_CSI))+\")\"\n",
      "            print starting_state\n",
      "            b_Continue=True\n",
      "            break\n",
      "        print \"Nb_samples :\\t\"+str(x)\n",
      "        print \"Mean length CSI :\\t\"+str(mean(data_CSI))\n",
      "        print \"Mean length Class :\\t\"+str(mean(data_Classif))\n",
      "        Y_mean_CSI.append(mean(data_CSI))\n",
      "        Y_deviation_CSI.append(sqrt(var(data_CSI)))\n",
      "        Y_min_CSI.append(min(data_CSI))\n",
      "        Y_max_CSI.append(max(data_CSI))\n",
      "        Y_mean_Class.append(mean(data_Classif))\n",
      "        Y_deviation_Class.append(sqrt(var(data_Classif)))\n",
      "        Y_min_Class.append(min(data_Classif))\n",
      "        Y_max_Class.append(max(data_Classif))\n",
      "Y_mean_CSI=array(Y_mean_CSI)\n",
      "Y_deviation_CSI=array(Y_deviation_CSI)\n",
      "Y_min_CSI=array(Y_min_CSI)\n",
      "Y_max_CSI=array(Y_max_CSI)\n",
      "Y_mean_Class=array(Y_mean_Class)\n",
      "Y_deviation_Class=array(Y_deviation_Class)\n",
      "Y_min_Class=array(Y_min_Class)\n",
      "Y_max_Class=array(Y_max_Class)"
     ],
     "language": "python",
     "metadata": {},
     "outputs": [
      {
       "output_type": "stream",
       "stream": "stdout",
       "text": [
        "For this starting point, classif is better than CSI, choosing another one (277.933333333 < 278.833333333)\n",
        "[-1.04896941 -0.05553034]\n",
        "For this starting point, classif is better than CSI, choosing another one (278.166666667 < 279.033333333)"
       ]
      },
      {
       "output_type": "stream",
       "stream": "stdout",
       "text": [
        "\n",
        "[-1.16950146 -0.05934373]\n",
        "For this starting point, classif is better than CSI, choosing another one (276.866666667 < 277.966666667)"
       ]
      },
      {
       "output_type": "stream",
       "stream": "stdout",
       "text": [
        "\n",
        "[-0.85628068 -0.04285232]\n",
        "For this starting point, classif is better than CSI, choosing another one (265.6 < 278.266666667)"
       ]
      },
      {
       "output_type": "stream",
       "stream": "stdout",
       "text": [
        "\n",
        "[-1.17335603 -0.04621878]\n",
        "For this starting point, classif is better than CSI, choosing another one (277.133333333 < 278.166666667)"
       ]
      },
      {
       "output_type": "stream",
       "stream": "stdout",
       "text": [
        "\n",
        "[-0.88291618 -0.04625699]\n",
        "For this starting point, classif is better than CSI, choosing another one (271.266666667 < 278.266666667)"
       ]
      },
      {
       "output_type": "stream",
       "stream": "stdout",
       "text": [
        "\n",
        "[-0.99299456 -0.04721803]\n",
        "For this starting point, classif is better than CSI, choosing another one (277.8 < 278.7)"
       ]
      },
      {
       "output_type": "stream",
       "stream": "stdout",
       "text": [
        "\n",
        "[-0.90740113 -0.05517681]\n",
        "For this starting point, classif is better than CSI, choosing another one (277.466666667 < 278.233333333)"
       ]
      },
      {
       "output_type": "stream",
       "stream": "stdout",
       "text": [
        "\n",
        "[-1.12656163 -0.04685485]\n",
        "For this starting point, classif is better than CSI, choosing another one (267.366666667 < 279.366666667)"
       ]
      },
      {
       "output_type": "stream",
       "stream": "stdout",
       "text": [
        "\n",
        "[-0.84560281 -0.06416663]\n",
        "For this starting point, classif is better than CSI, choosing another one (277.133333333 < 277.933333333)"
       ]
      },
      {
       "output_type": "stream",
       "stream": "stdout",
       "text": [
        "\n",
        "[-0.98805634 -0.042665  ]\n",
        "For this starting point, classif is better than CSI, choosing another one (277.766666667 < 278.666666667)"
       ]
      },
      {
       "output_type": "stream",
       "stream": "stdout",
       "text": [
        "\n",
        "[-1.04828583 -0.05318975]\n",
        "For this starting point, classif is better than CSI, choosing another one (278.1 < 279.233333333)"
       ]
      },
      {
       "output_type": "stream",
       "stream": "stdout",
       "text": [
        "\n",
        "[-0.83237661 -0.0625174 ]\n",
        "For this starting point, classif is better than CSI, choosing another one (278.1 < 279.3)"
       ]
      },
      {
       "output_type": "stream",
       "stream": "stdout",
       "text": [
        "\n",
        "[-0.801038   -0.06293738]\n",
        "For this starting point, classif is better than CSI, choosing another one (278.266666667 < 279.3)"
       ]
      },
      {
       "output_type": "stream",
       "stream": "stdout",
       "text": [
        "\n",
        "[-0.91824053 -0.06333858]\n",
        "For this starting point, classif is better than CSI, choosing another one (277.666666667 < 278.5)"
       ]
      },
      {
       "output_type": "stream",
       "stream": "stdout",
       "text": [
        "\n",
        "[-1.0826584  -0.05050205]\n",
        "For this starting point, classif is better than CSI, choosing another one (266.666666667 < 278.6)"
       ]
      },
      {
       "output_type": "stream",
       "stream": "stdout",
       "text": [
        "\n",
        "[-0.87899089 -0.05315188]\n",
        "For this starting point, classif is better than CSI, choosing another one (278.066666667 < 278.966666667)"
       ]
      },
      {
       "output_type": "stream",
       "stream": "stdout",
       "text": [
        "\n",
        "[-1.14262138 -0.05763153]\n",
        "For this starting point, classif is better than CSI, choosing another one (277.466666667 < 278.233333333)"
       ]
      },
      {
       "output_type": "stream",
       "stream": "stdout",
       "text": [
        "\n",
        "[-1.12155754 -0.04688646]\n",
        "For this starting point, classif is better than CSI, choosing another one (266.833333333 < 278.666666667)"
       ]
      },
      {
       "output_type": "stream",
       "stream": "stdout",
       "text": [
        "\n",
        "[-1.18955253 -0.05341692]\n",
        "For this starting point, classif is better than CSI, choosing another one (277.4 < 278.4)"
       ]
      },
      {
       "output_type": "stream",
       "stream": "stdout",
       "text": [
        "\n",
        "[-0.85427661 -0.05018222]\n",
        "For this starting point, classif is better than CSI, choosing another one (278.7 < 279.666666667)"
       ]
      },
      {
       "output_type": "stream",
       "stream": "stdout",
       "text": [
        "\n",
        "[-0.96072928 -0.06989773]\n",
        "For this starting point, classif is better than CSI, choosing another one (266.2 < 278.133333333)"
       ]
      },
      {
       "output_type": "stream",
       "stream": "stdout",
       "text": [
        "\n",
        "[-1.10680516 -0.04497842]\n",
        "For this starting point, classif is better than CSI, choosing another one (265.4 < 278.333333333)"
       ]
      },
      {
       "output_type": "stream",
       "stream": "stdout",
       "text": [
        "\n",
        "[-0.83406718 -0.04843102]\n",
        "For this starting point, classif is better than CSI, choosing another one (265.566666667 < 278.2)"
       ]
      },
      {
       "output_type": "stream",
       "stream": "stdout",
       "text": [
        "\n",
        "[-1.04218473 -0.04559339]\n",
        "For this starting point, classif is better than CSI, choosing another one (278.233333333 < 279.1)"
       ]
      },
      {
       "output_type": "stream",
       "stream": "stdout",
       "text": [
        "\n",
        "[-0.96828783 -0.06136588]\n",
        "For this starting point, classif is better than CSI, choosing another one (277.7 < 278.8)"
       ]
      },
      {
       "output_type": "stream",
       "stream": "stdout",
       "text": [
        "\n",
        "[-0.82886459 -0.05616804]\n",
        "For this starting point, classif is better than CSI, choosing another one (266.333333333 < 278.033333333)"
       ]
      },
      {
       "output_type": "stream",
       "stream": "stdout",
       "text": [
        "\n",
        "[-0.87765858 -0.04463846]\n",
        "For this starting point, classif is better than CSI, choosing another one (277.966666667 < 279.133333333)"
       ]
      },
      {
       "output_type": "stream",
       "stream": "stdout",
       "text": [
        "\n",
        "[-0.80579158 -0.06051294]\n",
        "For this starting point, classif is better than CSI, choosing another one (267.8 < 279.7)"
       ]
      },
      {
       "output_type": "stream",
       "stream": "stdout",
       "text": [
        "\n",
        "[-0.80692728 -0.06890262]\n",
        "For this starting point, classif is better than CSI, choosing another one (266.6 < 278.833333333)"
       ]
      },
      {
       "output_type": "stream",
       "stream": "stdout",
       "text": [
        "\n",
        "[-1.0027061  -0.05558539]\n",
        "For this starting point, classif is better than CSI, choosing another one (278.633333333 < 279.633333333)"
       ]
      },
      {
       "output_type": "stream",
       "stream": "stdout",
       "text": [
        "\n",
        "[-1.02417553 -0.06801172]\n",
        "For this starting point, classif is better than CSI, choosing another one (271.9 < 278.433333333)"
       ]
      },
      {
       "output_type": "stream",
       "stream": "stdout",
       "text": [
        "\n",
        "[-1.05669458 -0.05010603]\n",
        "For this starting point, classif is better than CSI, choosing another one (277.6 < 278.5)"
       ]
      },
      {
       "output_type": "stream",
       "stream": "stdout",
       "text": [
        "\n",
        "[-0.96044781 -0.05108372]\n",
        "For this starting point, classif is better than CSI, choosing another one (267.566666667 < 278.766666667)"
       ]
      },
      {
       "output_type": "stream",
       "stream": "stdout",
       "text": [
        "\n",
        "[-0.91603586 -0.05552907]\n",
        "For this starting point, classif is better than CSI, choosing another one (268.233333333 < 279.766666667)"
       ]
      },
      {
       "output_type": "stream",
       "stream": "stdout",
       "text": [
        "\n",
        "[-1.11908494 -0.06997934]\n",
        "For this starting point, classif is better than CSI, choosing another one (277.4 < 278.2)"
       ]
      },
      {
       "output_type": "stream",
       "stream": "stdout",
       "text": [
        "\n",
        "[-1.16010317 -0.04528506]\n",
        "For this starting point, classif is better than CSI, choosing another one (266.533333333 < 278.366666667)"
       ]
      },
      {
       "output_type": "stream",
       "stream": "stdout",
       "text": [
        "\n",
        "[-1.18272468 -0.04841435]\n",
        "For this starting point, classif is better than CSI, choosing another one (266.8 < 278.666666667)"
       ]
      },
      {
       "output_type": "stream",
       "stream": "stdout",
       "text": [
        "\n",
        "[-1.04603457 -0.05402463]\n",
        "For this starting point, classif is better than CSI, choosing another one (277.1 < 277.866666667)"
       ]
      },
      {
       "output_type": "stream",
       "stream": "stdout",
       "text": [
        "\n",
        "[-1.09765668 -0.04053056]\n",
        "For this starting point, classif is better than CSI, choosing another one (277.466666667 < 278.266666667)"
       ]
      },
      {
       "output_type": "stream",
       "stream": "stdout",
       "text": [
        "\n",
        "[-1.09262899 -0.04688262]\n",
        "For this starting point, classif is better than CSI, choosing another one (266.066666667 < 278.266666667)"
       ]
      },
      {
       "output_type": "stream",
       "stream": "stdout",
       "text": [
        "\n",
        "[-0.85366926 -0.04820581]\n",
        "For this starting point, classif is better than CSI, choosing another one (278.633333333 < 279.6)"
       ]
      },
      {
       "output_type": "stream",
       "stream": "stdout",
       "text": [
        "\n",
        "[-0.976009   -0.06849048]\n",
        "For this starting point, classif is better than CSI, choosing another one (276.933333333 < 278.433333333)"
       ]
      },
      {
       "output_type": "stream",
       "stream": "stdout",
       "text": [
        "\n",
        "[-1.07189675 -0.04947153]\n",
        "For this starting point, classif is better than CSI, choosing another one (278.133333333 < 279.1)"
       ]
      },
      {
       "output_type": "stream",
       "stream": "stdout",
       "text": [
        "\n",
        "[-0.93211603 -0.06118106]\n",
        "For this starting point, classif is better than CSI, choosing another one (278.133333333 < 279.066666667)"
       ]
      },
      {
       "output_type": "stream",
       "stream": "stdout",
       "text": [
        "\n",
        "[-0.96570523 -0.05970802]\n",
        "For this starting point, classif is better than CSI, choosing another one (278.3 < 279.233333333)"
       ]
      },
      {
       "output_type": "stream",
       "stream": "stdout",
       "text": [
        "\n",
        "[-1.08644034 -0.06224723]\n",
        "For this starting point, classif is better than CSI, choosing another one (277.266666667 < 278.5)"
       ]
      },
      {
       "output_type": "stream",
       "stream": "stdout",
       "text": [
        "\n",
        "[-0.80675413 -0.05080196]\n",
        "For this starting point, classif is better than CSI, choosing another one (277.3 < 278.1)"
       ]
      },
      {
       "output_type": "stream",
       "stream": "stdout",
       "text": [
        "\n",
        "[-1.16721109 -0.04409129]\n",
        "For this starting point, classif is better than CSI, choosing another one (276.966666667 < 278.166666667)"
       ]
      },
      {
       "output_type": "stream",
       "stream": "stdout",
       "text": [
        "\n",
        "[-0.81368521 -0.04647987]\n",
        "For this starting point, classif is better than CSI, choosing another one (277.9 < 278.833333333)"
       ]
      },
      {
       "output_type": "stream",
       "stream": "stdout",
       "text": [
        "\n",
        "[-0.99956109 -0.05575324]\n",
        "For this starting point, classif is better than CSI, choosing another one (277.6 < 278.433333333)"
       ]
      },
      {
       "output_type": "stream",
       "stream": "stdout",
       "text": [
        "\n",
        "[-1.09935551 -0.04937679]\n",
        "For this starting point, classif is better than CSI, choosing another one (267.433333333 < 279.3)"
       ]
      },
      {
       "output_type": "stream",
       "stream": "stdout",
       "text": [
        "\n",
        "[-1.05376338 -0.0627763 ]\n",
        "For this starting point, classif is better than CSI, choosing another one (278.3 < 279.2)"
       ]
      },
      {
       "output_type": "stream",
       "stream": "stdout",
       "text": [
        "\n",
        "[-1.01880832 -0.06241854]\n",
        "For this starting point, classif is better than CSI, choosing another one (268.2 < 279.3)"
       ]
      },
      {
       "output_type": "stream",
       "stream": "stdout",
       "text": [
        "\n",
        "[-0.90749589 -0.06408384]\n",
        "For this starting point, classif is better than CSI, choosing another one (266.6 < 278.433333333)"
       ]
      },
      {
       "output_type": "stream",
       "stream": "stdout",
       "text": [
        "\n",
        "[-1.11256978 -0.04995292]\n",
        "For this starting point, classif is better than CSI, choosing another one (277.5 < 278.466666667)"
       ]
      },
      {
       "output_type": "stream",
       "stream": "stdout",
       "text": [
        "\n",
        "[-0.85173478 -0.05149988]\n",
        "For this starting point, classif is better than CSI, choosing another one (278.1 < 278.966666667)"
       ]
      },
      {
       "output_type": "stream",
       "stream": "stdout",
       "text": [
        "\n",
        "[-1.15278824 -0.058176  ]\n",
        "For this starting point, classif is better than CSI, choosing another one (265.133333333 < 278.033333333)"
       ]
      },
      {
       "output_type": "stream",
       "stream": "stdout",
       "text": [
        "\n",
        "[-1.1580998 -0.0425976]\n",
        "For this starting point, classif is better than CSI, choosing another one (277.466666667 < 278.566666667)"
       ]
      },
      {
       "output_type": "stream",
       "stream": "stdout",
       "text": [
        "\n",
        "[-0.82846166 -0.05244661]\n",
        "For this starting point, classif is better than CSI, choosing another one (266.533333333 < 278.033333333)"
       ]
      },
      {
       "ename": "KeyboardInterrupt",
       "evalue": "",
       "output_type": "pyerr",
       "traceback": [
        "\u001b[1;31m---------------------------------------------------------------------------\u001b[0m\n\u001b[1;31mKeyboardInterrupt\u001b[0m                         Traceback (most recent call last)",
        "\u001b[1;32m<ipython-input-10-c729c11ad974>\u001b[0m in \u001b[0;36m<module>\u001b[1;34m()\u001b[0m\n\u001b[0;32m     52\u001b[0m             \u001b[0mpolicy_CSI\u001b[0m\u001b[1;33m=\u001b[0m\u001b[0mgreedy_policy\u001b[0m\u001b[1;33m(\u001b[0m\u001b[0momega_CSI\u001b[0m\u001b[1;33m,\u001b[0m \u001b[0mmountain_car_phi\u001b[0m\u001b[1;33m,\u001b[0m \u001b[0mACTION_SPACE\u001b[0m\u001b[1;33m)\u001b[0m\u001b[1;33m\u001b[0m\u001b[0m\n\u001b[0;32m     53\u001b[0m             \u001b[0mperf_CSI\u001b[0m \u001b[1;33m=\u001b[0m \u001b[0mmountain_car_tricky_episode_length\u001b[0m\u001b[1;33m(\u001b[0m\u001b[0mpolicy_CSI\u001b[0m\u001b[1;33m)\u001b[0m\u001b[1;33m\u001b[0m\u001b[0m\n\u001b[1;32m---> 54\u001b[1;33m             \u001b[0mperf_Classif\u001b[0m \u001b[1;33m=\u001b[0m \u001b[0mmountain_car_tricky_episode_length\u001b[0m\u001b[1;33m(\u001b[0m\u001b[0mpi_c\u001b[0m\u001b[1;33m)\u001b[0m\u001b[1;33m\u001b[0m\u001b[0m\n\u001b[0m\u001b[0;32m     55\u001b[0m             \u001b[0mdata_CSI\u001b[0m\u001b[1;33m.\u001b[0m\u001b[0mappend\u001b[0m\u001b[1;33m(\u001b[0m\u001b[0mperf_CSI\u001b[0m\u001b[1;33m)\u001b[0m\u001b[1;33m\u001b[0m\u001b[0m\n\u001b[0;32m     56\u001b[0m             \u001b[0mdata_Classif\u001b[0m\u001b[1;33m.\u001b[0m\u001b[0mappend\u001b[0m\u001b[1;33m(\u001b[0m\u001b[0mperf_Classif\u001b[0m\u001b[1;33m)\u001b[0m\u001b[1;33m\u001b[0m\u001b[0m\n",
        "\u001b[1;32m<ipython-input-10-c729c11ad974>\u001b[0m in \u001b[0;36mmountain_car_tricky_episode_length\u001b[1;34m(policy)\u001b[0m\n\u001b[0;32m     31\u001b[0m     \u001b[1;32mdef\u001b[0m \u001b[0mmountain_car_tricky_episode_length\u001b[0m\u001b[1;33m(\u001b[0m\u001b[0mpolicy\u001b[0m\u001b[1;33m)\u001b[0m\u001b[1;33m:\u001b[0m\u001b[1;33m\u001b[0m\u001b[0m\n\u001b[0;32m     32\u001b[0m         \u001b[1;31m#return mountain_car_episode_length(-0.9,-0.04,policy)\u001b[0m\u001b[1;33m\u001b[0m\u001b[1;33m\u001b[0m\u001b[0m\n\u001b[1;32m---> 33\u001b[1;33m         \u001b[1;32mreturn\u001b[0m \u001b[0mmountain_car_episode_length\u001b[0m\u001b[1;33m(\u001b[0m\u001b[0mstarting_state\u001b[0m\u001b[1;33m[\u001b[0m\u001b[1;36m0\u001b[0m\u001b[1;33m]\u001b[0m\u001b[1;33m,\u001b[0m\u001b[0mstarting_state\u001b[0m\u001b[1;33m[\u001b[0m\u001b[1;36m1\u001b[0m\u001b[1;33m]\u001b[0m\u001b[1;33m,\u001b[0m \u001b[0mpolicy\u001b[0m\u001b[1;33m)\u001b[0m\u001b[1;33m\u001b[0m\u001b[0m\n\u001b[0m\u001b[0;32m     34\u001b[0m     \u001b[1;32mfor\u001b[0m \u001b[0mx\u001b[0m \u001b[1;32min\u001b[0m \u001b[0mX\u001b[0m\u001b[1;33m:\u001b[0m\u001b[1;33m\u001b[0m\u001b[0m\n\u001b[0;32m     35\u001b[0m         \u001b[0mb_Continue\u001b[0m\u001b[1;33m=\u001b[0m\u001b[0mFalse\u001b[0m\u001b[1;33m\u001b[0m\u001b[0m\n",
        "\u001b[1;32m<ipython-input-10-c729c11ad974>\u001b[0m in \u001b[0;36mmountain_car_episode_length\u001b[1;34m(initial_position, initial_speed, policy)\u001b[0m\n\u001b[0;32m      4\u001b[0m     \u001b[0mstate\u001b[0m \u001b[1;33m=\u001b[0m \u001b[0marray\u001b[0m\u001b[1;33m(\u001b[0m\u001b[1;33m[\u001b[0m\u001b[0minitial_position\u001b[0m\u001b[1;33m,\u001b[0m\u001b[0minitial_speed\u001b[0m\u001b[1;33m]\u001b[0m\u001b[1;33m)\u001b[0m\u001b[1;33m\u001b[0m\u001b[0m\n\u001b[0;32m      5\u001b[0m     \u001b[1;32mwhile\u001b[0m \u001b[0manswer\u001b[0m \u001b[1;33m<\u001b[0m \u001b[1;36m300\u001b[0m \u001b[1;32mand\u001b[0m \u001b[0mreward\u001b[0m \u001b[1;33m==\u001b[0m \u001b[1;36m0.\u001b[0m \u001b[1;33m:\u001b[0m\u001b[1;33m\u001b[0m\u001b[0m\n\u001b[1;32m----> 6\u001b[1;33m         \u001b[0maction\u001b[0m \u001b[1;33m=\u001b[0m \u001b[0mpolicy\u001b[0m\u001b[1;33m(\u001b[0m\u001b[0mstate\u001b[0m\u001b[1;33m)\u001b[0m\u001b[1;33m\u001b[0m\u001b[0m\n\u001b[0m\u001b[0;32m      7\u001b[0m         \u001b[0mnext_state\u001b[0m \u001b[1;33m=\u001b[0m \u001b[0mmountain_car_next_state\u001b[0m\u001b[1;33m(\u001b[0m\u001b[0mstate\u001b[0m\u001b[1;33m,\u001b[0m\u001b[0maction\u001b[0m\u001b[1;33m)\u001b[0m\u001b[1;33m\u001b[0m\u001b[0m\n\u001b[0;32m      8\u001b[0m         \u001b[0mreward\u001b[0m \u001b[1;33m=\u001b[0m \u001b[0mmountain_car_reward\u001b[0m\u001b[1;33m(\u001b[0m\u001b[0mhstack\u001b[0m\u001b[1;33m(\u001b[0m\u001b[1;33m[\u001b[0m\u001b[0mstate\u001b[0m\u001b[1;33m,\u001b[0m \u001b[0maction\u001b[0m\u001b[1;33m,\u001b[0m \u001b[0mnext_state\u001b[0m\u001b[1;33m]\u001b[0m\u001b[1;33m)\u001b[0m\u001b[1;33m)\u001b[0m\u001b[1;33m\u001b[0m\u001b[0m\n",
        "\u001b[1;32m<ipython-input-10-c729c11ad974>\u001b[0m in \u001b[0;36m<lambda>\u001b[1;34m(state)\u001b[0m\n\u001b[0;32m     49\u001b[0m             \u001b[0mclf_predict\u001b[0m\u001b[1;33m=\u001b[0m \u001b[1;32mlambda\u001b[0m \u001b[0mstate\u001b[0m \u001b[1;33m:\u001b[0m \u001b[0mclf\u001b[0m\u001b[1;33m.\u001b[0m\u001b[0mpredict\u001b[0m\u001b[1;33m(\u001b[0m\u001b[0msqueeze\u001b[0m\u001b[1;33m(\u001b[0m\u001b[0mstate\u001b[0m\u001b[1;33m)\u001b[0m\u001b[1;33m)\u001b[0m\u001b[1;33m\u001b[0m\u001b[0m\n\u001b[0;32m     50\u001b[0m             \u001b[0mvpredict\u001b[0m \u001b[1;33m=\u001b[0m \u001b[0mnon_scalar_vectorize\u001b[0m\u001b[1;33m(\u001b[0m \u001b[0mclf_predict\u001b[0m\u001b[1;33m,\u001b[0m \u001b[1;33m(\u001b[0m\u001b[1;36m2\u001b[0m\u001b[1;33m,\u001b[0m\u001b[1;33m)\u001b[0m\u001b[1;33m,\u001b[0m \u001b[1;33m(\u001b[0m\u001b[1;36m1\u001b[0m\u001b[1;33m,\u001b[0m\u001b[1;36m1\u001b[0m\u001b[1;33m)\u001b[0m \u001b[1;33m)\u001b[0m\u001b[1;33m\u001b[0m\u001b[0m\n\u001b[1;32m---> 51\u001b[1;33m             \u001b[0mpi_c\u001b[0m \u001b[1;33m=\u001b[0m \u001b[1;32mlambda\u001b[0m \u001b[0mstate\u001b[0m\u001b[1;33m:\u001b[0m \u001b[0mvpredict\u001b[0m\u001b[1;33m(\u001b[0m\u001b[0mstate\u001b[0m\u001b[1;33m)\u001b[0m\u001b[1;33m.\u001b[0m\u001b[0mreshape\u001b[0m\u001b[1;33m(\u001b[0m\u001b[0mstate\u001b[0m\u001b[1;33m.\u001b[0m\u001b[0mshape\u001b[0m\u001b[1;33m[\u001b[0m\u001b[1;33m:\u001b[0m\u001b[1;33m-\u001b[0m\u001b[1;36m1\u001b[0m\u001b[1;33m]\u001b[0m\u001b[1;33m+\u001b[0m\u001b[1;33m(\u001b[0m\u001b[1;36m1\u001b[0m\u001b[1;33m,\u001b[0m\u001b[1;33m)\u001b[0m\u001b[1;33m)\u001b[0m\u001b[1;33m\u001b[0m\u001b[0m\n\u001b[0m\u001b[0;32m     52\u001b[0m             \u001b[0mpolicy_CSI\u001b[0m\u001b[1;33m=\u001b[0m\u001b[0mgreedy_policy\u001b[0m\u001b[1;33m(\u001b[0m\u001b[0momega_CSI\u001b[0m\u001b[1;33m,\u001b[0m \u001b[0mmountain_car_phi\u001b[0m\u001b[1;33m,\u001b[0m \u001b[0mACTION_SPACE\u001b[0m\u001b[1;33m)\u001b[0m\u001b[1;33m\u001b[0m\u001b[0m\n\u001b[0;32m     53\u001b[0m             \u001b[0mperf_CSI\u001b[0m \u001b[1;33m=\u001b[0m \u001b[0mmountain_car_tricky_episode_length\u001b[0m\u001b[1;33m(\u001b[0m\u001b[0mpolicy_CSI\u001b[0m\u001b[1;33m)\u001b[0m\u001b[1;33m\u001b[0m\u001b[0m\n",
        "\u001b[1;32m/home/edouard/Documents/Code/stuff.pyc\u001b[0m in \u001b[0;36mvectorized_func\u001b[1;34m(arg)\u001b[0m\n\u001b[0;32m     18\u001b[0m         \u001b[0mnbinputs\u001b[0m \u001b[1;33m=\u001b[0m \u001b[0mprod\u001b[0m\u001b[1;33m(\u001b[0m\u001b[0marg\u001b[0m\u001b[1;33m.\u001b[0m\u001b[0mshape\u001b[0m\u001b[1;33m)\u001b[0m\u001b[1;33m/\u001b[0m\u001b[0mprod\u001b[0m\u001b[1;33m(\u001b[0m\u001b[0minput_shape\u001b[0m\u001b[1;33m)\u001b[0m\u001b[1;33m\u001b[0m\u001b[0m\n\u001b[0;32m     19\u001b[0m         \u001b[1;32mif\u001b[0m \u001b[0mnbinputs\u001b[0m \u001b[1;33m==\u001b[0m \u001b[1;36m1\u001b[0m\u001b[1;33m:\u001b[0m\u001b[1;33m\u001b[0m\u001b[0m\n\u001b[1;32m---> 20\u001b[1;33m             \u001b[1;32mreturn\u001b[0m \u001b[0mfunc\u001b[0m\u001b[1;33m(\u001b[0m\u001b[0marg\u001b[0m\u001b[1;33m)\u001b[0m\u001b[1;33m\u001b[0m\u001b[0m\n\u001b[0m\u001b[0;32m     21\u001b[0m         \u001b[0mouter_shape\u001b[0m \u001b[1;33m=\u001b[0m \u001b[0marg\u001b[0m\u001b[1;33m.\u001b[0m\u001b[0mshape\u001b[0m\u001b[1;33m[\u001b[0m\u001b[1;33m:\u001b[0m\u001b[0mlen\u001b[0m\u001b[1;33m(\u001b[0m\u001b[0marg\u001b[0m\u001b[1;33m.\u001b[0m\u001b[0mshape\u001b[0m\u001b[1;33m)\u001b[0m\u001b[1;33m-\u001b[0m\u001b[0mlen\u001b[0m\u001b[1;33m(\u001b[0m\u001b[0minput_shape\u001b[0m\u001b[1;33m)\u001b[0m\u001b[1;33m]\u001b[0m\u001b[1;33m\u001b[0m\u001b[0m\n\u001b[0;32m     22\u001b[0m         \u001b[0mouter_shape\u001b[0m \u001b[1;33m=\u001b[0m \u001b[0mouter_shape\u001b[0m \u001b[1;32mif\u001b[0m \u001b[0mouter_shape\u001b[0m \u001b[1;32melse\u001b[0m \u001b[1;33m(\u001b[0m\u001b[1;36m1\u001b[0m\u001b[1;33m,\u001b[0m\u001b[1;33m)\u001b[0m\u001b[1;33m\u001b[0m\u001b[0m\n",
        "\u001b[1;32m<ipython-input-10-c729c11ad974>\u001b[0m in \u001b[0;36m<lambda>\u001b[1;34m(state)\u001b[0m\n\u001b[0;32m     47\u001b[0m             \u001b[1;32mwith\u001b[0m \u001b[0mopen\u001b[0m\u001b[1;33m(\u001b[0m\u001b[0mClassif_file\u001b[0m\u001b[1;33m,\u001b[0m \u001b[1;34m'rb'\u001b[0m\u001b[1;33m)\u001b[0m \u001b[1;32mas\u001b[0m \u001b[0minput\u001b[0m\u001b[1;33m:\u001b[0m\u001b[1;33m\u001b[0m\u001b[0m\n\u001b[0;32m     48\u001b[0m                 \u001b[0mclf\u001b[0m \u001b[1;33m=\u001b[0m \u001b[0mpickle\u001b[0m\u001b[1;33m.\u001b[0m\u001b[0mload\u001b[0m\u001b[1;33m(\u001b[0m\u001b[0minput\u001b[0m\u001b[1;33m)\u001b[0m\u001b[1;33m\u001b[0m\u001b[0m\n\u001b[1;32m---> 49\u001b[1;33m             \u001b[0mclf_predict\u001b[0m\u001b[1;33m=\u001b[0m \u001b[1;32mlambda\u001b[0m \u001b[0mstate\u001b[0m \u001b[1;33m:\u001b[0m \u001b[0mclf\u001b[0m\u001b[1;33m.\u001b[0m\u001b[0mpredict\u001b[0m\u001b[1;33m(\u001b[0m\u001b[0msqueeze\u001b[0m\u001b[1;33m(\u001b[0m\u001b[0mstate\u001b[0m\u001b[1;33m)\u001b[0m\u001b[1;33m)\u001b[0m\u001b[1;33m\u001b[0m\u001b[0m\n\u001b[0m\u001b[0;32m     50\u001b[0m             \u001b[0mvpredict\u001b[0m \u001b[1;33m=\u001b[0m \u001b[0mnon_scalar_vectorize\u001b[0m\u001b[1;33m(\u001b[0m \u001b[0mclf_predict\u001b[0m\u001b[1;33m,\u001b[0m \u001b[1;33m(\u001b[0m\u001b[1;36m2\u001b[0m\u001b[1;33m,\u001b[0m\u001b[1;33m)\u001b[0m\u001b[1;33m,\u001b[0m \u001b[1;33m(\u001b[0m\u001b[1;36m1\u001b[0m\u001b[1;33m,\u001b[0m\u001b[1;36m1\u001b[0m\u001b[1;33m)\u001b[0m \u001b[1;33m)\u001b[0m\u001b[1;33m\u001b[0m\u001b[0m\n\u001b[0;32m     51\u001b[0m             \u001b[0mpi_c\u001b[0m \u001b[1;33m=\u001b[0m \u001b[1;32mlambda\u001b[0m \u001b[0mstate\u001b[0m\u001b[1;33m:\u001b[0m \u001b[0mvpredict\u001b[0m\u001b[1;33m(\u001b[0m\u001b[0mstate\u001b[0m\u001b[1;33m)\u001b[0m\u001b[1;33m.\u001b[0m\u001b[0mreshape\u001b[0m\u001b[1;33m(\u001b[0m\u001b[0mstate\u001b[0m\u001b[1;33m.\u001b[0m\u001b[0mshape\u001b[0m\u001b[1;33m[\u001b[0m\u001b[1;33m:\u001b[0m\u001b[1;33m-\u001b[0m\u001b[1;36m1\u001b[0m\u001b[1;33m]\u001b[0m\u001b[1;33m+\u001b[0m\u001b[1;33m(\u001b[0m\u001b[1;36m1\u001b[0m\u001b[1;33m,\u001b[0m\u001b[1;33m)\u001b[0m\u001b[1;33m)\u001b[0m\u001b[1;33m\u001b[0m\u001b[0m\n",
        "\u001b[1;32m/usr/lib64/python2.7/site-packages/sklearn/svm/base.pyc\u001b[0m in \u001b[0;36mpredict\u001b[1;34m(self, X)\u001b[0m\n\u001b[0;32m    283\u001b[0m         \u001b[0my_pred\u001b[0m \u001b[1;33m:\u001b[0m \u001b[0marray\u001b[0m\u001b[1;33m,\u001b[0m \u001b[0mshape\u001b[0m \u001b[1;33m=\u001b[0m \u001b[1;33m[\u001b[0m\u001b[0mn_samples\u001b[0m\u001b[1;33m]\u001b[0m\u001b[1;33m\u001b[0m\u001b[0m\n\u001b[0;32m    284\u001b[0m         \"\"\"\n\u001b[1;32m--> 285\u001b[1;33m         \u001b[0mX\u001b[0m \u001b[1;33m=\u001b[0m \u001b[0mself\u001b[0m\u001b[1;33m.\u001b[0m\u001b[0m_validate_for_predict\u001b[0m\u001b[1;33m(\u001b[0m\u001b[0mX\u001b[0m\u001b[1;33m)\u001b[0m\u001b[1;33m\u001b[0m\u001b[0m\n\u001b[0m\u001b[0;32m    286\u001b[0m         \u001b[0mpredict\u001b[0m \u001b[1;33m=\u001b[0m \u001b[0mself\u001b[0m\u001b[1;33m.\u001b[0m\u001b[0m_sparse_predict\u001b[0m \u001b[1;32mif\u001b[0m \u001b[0mself\u001b[0m\u001b[1;33m.\u001b[0m\u001b[0m_sparse\u001b[0m \u001b[1;32melse\u001b[0m \u001b[0mself\u001b[0m\u001b[1;33m.\u001b[0m\u001b[0m_dense_predict\u001b[0m\u001b[1;33m\u001b[0m\u001b[0m\n\u001b[0;32m    287\u001b[0m         \u001b[0my\u001b[0m \u001b[1;33m=\u001b[0m \u001b[0mpredict\u001b[0m\u001b[1;33m(\u001b[0m\u001b[0mX\u001b[0m\u001b[1;33m)\u001b[0m\u001b[1;33m\u001b[0m\u001b[0m\n",
        "\u001b[1;32m/usr/lib64/python2.7/site-packages/sklearn/svm/base.pyc\u001b[0m in \u001b[0;36m_validate_for_predict\u001b[1;34m(self, X)\u001b[0m\n\u001b[0;32m    403\u001b[0m             \u001b[0mX\u001b[0m\u001b[1;33m.\u001b[0m\u001b[0msort_indices\u001b[0m\u001b[1;33m(\u001b[0m\u001b[1;33m)\u001b[0m\u001b[1;33m\u001b[0m\u001b[0m\n\u001b[0;32m    404\u001b[0m \u001b[1;33m\u001b[0m\u001b[0m\n\u001b[1;32m--> 405\u001b[1;33m         if (sp.issparse(X) and not self._sparse and\n\u001b[0m\u001b[0;32m    406\u001b[0m                 not hasattr(self.kernel, '__call__')):\n\u001b[0;32m    407\u001b[0m             raise ValueError(\n",
        "\u001b[1;32m/usr/lib64/python2.7/site-packages/scipy/sparse/base.pyc\u001b[0m in \u001b[0;36misspmatrix\u001b[1;34m(x)\u001b[0m\n\u001b[0;32m    552\u001b[0m \u001b[1;33m\u001b[0m\u001b[0m\n\u001b[0;32m    553\u001b[0m \u001b[1;32mdef\u001b[0m \u001b[0misspmatrix\u001b[0m\u001b[1;33m(\u001b[0m\u001b[0mx\u001b[0m\u001b[1;33m)\u001b[0m\u001b[1;33m:\u001b[0m\u001b[1;33m\u001b[0m\u001b[0m\n\u001b[1;32m--> 554\u001b[1;33m     \u001b[1;32mreturn\u001b[0m \u001b[0m_isinstance\u001b[0m\u001b[1;33m(\u001b[0m\u001b[0mx\u001b[0m\u001b[1;33m,\u001b[0m \u001b[0mspmatrix\u001b[0m\u001b[1;33m)\u001b[0m\u001b[1;33m\u001b[0m\u001b[0m\n\u001b[0m\u001b[0;32m    555\u001b[0m \u001b[1;33m\u001b[0m\u001b[0m\n\u001b[0;32m    556\u001b[0m \u001b[0missparse\u001b[0m \u001b[1;33m=\u001b[0m \u001b[0misspmatrix\u001b[0m\u001b[1;33m\u001b[0m\u001b[0m\n",
        "\u001b[1;32m/usr/lib64/python2.7/site-packages/scipy/sparse/sputils.pyc\u001b[0m in \u001b[0;36m_isinstance\u001b[1;34m(x, _class)\u001b[0m\n\u001b[0;32m    118\u001b[0m     \u001b[1;31m# This makes scipy.sparse.sparse.csc_matrix == __main__.csc_matrix.\u001b[0m\u001b[1;33m\u001b[0m\u001b[1;33m\u001b[0m\u001b[0m\n\u001b[0;32m    119\u001b[0m     \u001b[0mc1\u001b[0m \u001b[1;33m=\u001b[0m \u001b[1;33m(\u001b[0m\u001b[1;34m'%s'\u001b[0m \u001b[1;33m%\u001b[0m \u001b[0mx\u001b[0m\u001b[1;33m.\u001b[0m\u001b[0m__class__\u001b[0m\u001b[1;33m)\u001b[0m\u001b[1;33m.\u001b[0m\u001b[0msplit\u001b[0m\u001b[1;33m(\u001b[0m \u001b[1;34m'.'\u001b[0m \u001b[1;33m)\u001b[0m\u001b[1;33m\u001b[0m\u001b[0m\n\u001b[1;32m--> 120\u001b[1;33m     \u001b[0mc2\u001b[0m \u001b[1;33m=\u001b[0m \u001b[1;33m(\u001b[0m\u001b[1;34m'%s'\u001b[0m \u001b[1;33m%\u001b[0m \u001b[0m_class\u001b[0m\u001b[1;33m)\u001b[0m\u001b[1;33m.\u001b[0m\u001b[0msplit\u001b[0m\u001b[1;33m(\u001b[0m \u001b[1;34m'.'\u001b[0m \u001b[1;33m)\u001b[0m\u001b[1;33m\u001b[0m\u001b[0m\n\u001b[0m\u001b[0;32m    121\u001b[0m     \u001b[0maux\u001b[0m \u001b[1;33m=\u001b[0m \u001b[0mc1\u001b[0m\u001b[1;33m[\u001b[0m\u001b[1;33m-\u001b[0m\u001b[1;36m1\u001b[0m\u001b[1;33m]\u001b[0m \u001b[1;33m==\u001b[0m \u001b[0mc2\u001b[0m\u001b[1;33m[\u001b[0m\u001b[1;33m-\u001b[0m\u001b[1;36m1\u001b[0m\u001b[1;33m]\u001b[0m\u001b[1;33m\u001b[0m\u001b[0m\n\u001b[0;32m    122\u001b[0m     \u001b[1;32mreturn\u001b[0m \u001b[0misinstance\u001b[0m\u001b[1;33m(\u001b[0m\u001b[0mx\u001b[0m\u001b[1;33m,\u001b[0m \u001b[0m_class\u001b[0m\u001b[1;33m)\u001b[0m \u001b[1;32mor\u001b[0m \u001b[0maux\u001b[0m\u001b[1;33m\u001b[0m\u001b[0m\n",
        "\u001b[1;31mKeyboardInterrupt\u001b[0m: "
       ]
      },
      {
       "output_type": "stream",
       "stream": "stdout",
       "text": [
        "\n",
        "[-0.8929363  -0.04463891]\n"
       ]
      }
     ],
     "prompt_number": 10
    }
   ],
   "metadata": {}
  }
 ]
}