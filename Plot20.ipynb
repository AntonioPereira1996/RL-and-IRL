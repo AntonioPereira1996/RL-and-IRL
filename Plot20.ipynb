{
 "metadata": {
  "name": "Plot20"
 },
 "nbformat": 3,
 "nbformat_minor": 0,
 "worksheets": [
  {
   "cells": [
    {
     "cell_type": "code",
     "collapsed": false,
     "input": [
      "\n",
      "from numpy import *\n",
      "import scipy\n",
      "import sys\n",
      "from DP import *\n",
      "from DP_mu import *\n",
      "from RWC import *\n",
      "import random\n",
      "\n",
      "class GridWorld(MDP):\n",
      "    card_S = 25\n",
      "    card_A = 4\n",
      "    \n",
      "    def Sgenerator(self):\n",
      "        for x in range(0,5):\n",
      "            for y in range(0,5):\n",
      "                yield [x,y]\n",
      "    S = None\n",
      "    A = range(0,4)\n",
      "    \n",
      "    def s_index(self, state ):\n",
      "        x = state[0]\n",
      "        y = state[1]\n",
      "        index = y*5 + x\n",
      "        return int(index)\n",
      "\n",
      "    def sa_index(self, state, action ):\n",
      "        x = state[0]\n",
      "        y = state[1]\n",
      "        a = action\n",
      "        index = y*5*4 + x*4 + a\n",
      "        return int(index)\n",
      "    \n",
      "    def P(self, a):\n",
      "        \"Returns the matrix of transition probability for action a.\"\n",
      "        P_a = zeros((5*5,5*5))\n",
      "        for state in self.Sgenerator():\n",
      "            current_index = self.s_index( state )\n",
      "            states = next_states( state, a )\n",
      "            for sdash,w in states:\n",
      "                index_dash = self.s_index( sdash )\n",
      "                P_a[current_index, index_dash] += w\n",
      "        return P_a\n",
      "\n",
      "    def R(self):\n",
      "        reward = zeros((5*5*4,1))\n",
      "        indices = [self.sa_index([4,0],a) for a in self.A]\n",
      "        reward[indices] = 1.\n",
      "        return reward\n",
      "\n",
      "    \n",
      "    def __init__(self):\n",
      "        self.S = [s for s in self.Sgenerator()]\n",
      "        m_P = vstack([self.P(a) for a in self.A])\n",
      "        R = self.R()\n",
      "        super().__init__(m_P,R)\n",
      "\n",
      "\n",
      "\n",
      "def psi( s ):\n",
      "    answer = zeros(( 5*5, 1 ))\n",
      "    answer[ s_index( s )] = 1.\n",
      "    return answer\n",
      "\n",
      "def phi( s,a ):\n",
      "    answer = zeros(( 5*5*4, 1 ))\n",
      "    answer[ sa_index( s, a )] = 1.\n",
      "    return answer \n",
      "\n",
      "\n",
      "def next_states( state, action ):\n",
      "    \"Returns the list [[s,w],...] of next possible states and associated probability\"\n",
      "    x = state[0]\n",
      "    y = state[1]\n",
      "    x_south = x\n",
      "    y_south = y + 1 if y!=4 else 4\n",
      "    x_west = x - 1 if x!=0 else 0\n",
      "    y_west = y\n",
      "    x_east = x + 1 if x!=4 else 4\n",
      "    y_east = y \n",
      "    x_north = x\n",
      "    y_north = y - 1 if y!=0 else 0\n",
      "    weights = zeros((1,4)) + .1\n",
      "    weights[0,action] = 0.7\n",
      "    assert abs(sum(weights) - 1.) < 0.00001\n",
      "    states = map( array, [[x_south,y_south],[x_west,y_west],[x_east,y_east],[x_north,y_north]]) #Same order as specified in the textual description of the action space\n",
      "    return zip( states, weights[0] )\n",
      "\n",
      "\n",
      "\n",
      "def GWDP( R, filename ):\n",
      "    return DP( R, S, s_index, A, [P(a) for a in A], lambda x:x, sa_index, filename )\n",
      "\n",
      "def GWDPSA( R, filename ):\n",
      "    return DPSA( R, S, s_index, A, [P(a) for a in A], lambda x:x, sa_index, filename )\n",
      "\n",
      "def evaluate_Pi( Pi ):\n",
      "    sys.stderr.write( \"Mu computation...\\n\" )\n",
      "    Mu = DP_mu( Pi, identity( 5*5 ))\n",
      "    mean_Mu = mean( Mu, 0 )\n",
      "    return dot( mean_Mu, R() )\n",
      "\n",
      "def evaluate_theta( theta, l_psi ):\n",
      "    dicR = {}\n",
      "    for s in Sgenerator():\n",
      "        index = s_index( s )\n",
      "        dicR[ index ] = dot( theta.transpose(), l_psi( s ) )\n",
      "    R_theta = zeros(( len(dicR), 1 ))\n",
      "    for i in dicR:\n",
      "        R_theta[ i ] = dicR[ i ]\n",
      "    sys.stderr.write( \"Pi computation...\\n\" )\n",
      "    Pi = GWDP( R_theta, \"V_agent.mat\" )\n",
      "    return evaluate_Pi( Pi )\n",
      "\n",
      "def evaluate_thetaSA( theta, l_phi ):\n",
      "    dicR = {}\n",
      "    for s in Sgenerator():\n",
      "        for a in A:\n",
      "            index = sa_index( s,a )\n",
      "            dicR[ index ] = dot( theta.transpose(), l_phi( s, a ) )\n",
      "    R_theta = zeros(( len(dicR), 1 ))\n",
      "    for i in dicR:\n",
      "        R_theta[ i ] = dicR[ i ]\n",
      "    sys.stderr.write( \"Pi computation...\\n\" )\n",
      "    Pi = GWDPSA( R_theta, \"V_agent.mat\" )\n",
      "    return evaluate_Pi( Pi )\n",
      "\n",
      "def omega_play( omega, L, M ):\n",
      "    \"Plays M episodes of length L, actig according to the greedy policy described by omega. Returns the transitions.\"\n",
      "    answer = zeros(( L*M, 2+1+2+1+1 ))\n",
      "    reward  = R()\n",
      "    for iep in range(0,M):\n",
      "        #state = array(map( int, array([5,5])*scipy.rand(2)))\n",
      "        state = array([0,4])\n",
      "        eoe = 1\n",
      "        itrans = 0\n",
      "        while eoe == 1:\n",
      "            action = greedy_policy( state, omega, phi, A )\n",
      "            next_state = weighted_choice( next_states( state, action ))\n",
      "            r = reward[ s_index( state ) ]\n",
      "            eoe = 0 if itrans >= L-1 or (state[0]==4 and state[1]==0) else 1 #0 means end of episode.\n",
      "            index = iep*L + itrans\n",
      "            trans = []\n",
      "            [ trans.extend(i) for i in [state, [action], next_state, [r, eoe] ]]\n",
      "            answer[ index, : ] = trans\n",
      "            state = next_state\n",
      "            itrans+=1\n",
      "    return answer\n"
     ],
     "language": "python",
     "metadata": {},
     "outputs": [],
     "prompt_number": 56
    },
    {
     "cell_type": "code",
     "collapsed": false,
     "input": [
      "%load_ext autoreload\n",
      "%autoreload 2"
     ],
     "language": "python",
     "metadata": {},
     "outputs": [],
     "prompt_number": 44
    },
    {
     "cell_type": "code",
     "collapsed": false,
     "input": [
      "print(\"Expert creation...\")\n",
      "GW = GridWorld()\n",
      "Pi_E,V_E,f_Pi_E = GW.optimal_policy()\n",
      "Pi_E,V_E,f_Pi_E "
     ],
     "language": "python",
     "metadata": {},
     "outputs": [
      {
       "output_type": "stream",
       "stream": "stdout",
       "text": [
        "Expert creation...\n",
        "MDP OK3\n",
        "Shape of P (100, 25)\n",
        "Shape of R (100, 1)\n",
        "Card of S 25\n",
        "Card of A 4\n",
        "Card of SA 100\n",
        "Iteration 0, 20\tactions changed."
       ]
      },
      {
       "output_type": "stream",
       "stream": "stdout",
       "text": [
        "\n",
        "Iteration 1, 8\tactions changed.\n",
        "Iteration 2, 2\tactions changed.\n",
        "Iteration 3, 0\tactions changed.\n"
       ]
      },
      {
       "output_type": "pyout",
       "prompt_number": 132,
       "text": [
        "(array([[ 1.,  0.,  0., ...,  0.,  0.,  0.],\n",
        "       [ 0.,  1.,  0., ...,  0.,  0.,  0.],\n",
        "       [ 0.,  0.,  1., ...,  0.,  0.,  0.],\n",
        "       ..., \n",
        "       [ 0.,  0.,  0., ...,  1.,  0.,  0.],\n",
        "       [ 0.,  0.,  0., ...,  0.,  1.,  0.],\n",
        "       [ 0.,  0.,  0., ...,  0.,  0.,  1.]]),\n",
        " array([[ 2.54106432],\n",
        "       [ 2.81570087],\n",
        "       [ 2.98291888],\n",
        "       [ 3.05442182],\n",
        "       [ 3.07890014],\n",
        "       [ 2.90517408],\n",
        "       [ 3.27798302],\n",
        "       [ 3.47007165],\n",
        "       [ 3.54596849],\n",
        "       [ 3.57111135],\n",
        "       [ 3.36507008],\n",
        "       [ 3.89015527],\n",
        "       [ 4.10706876],\n",
        "       [ 4.18629214],\n",
        "       [ 4.21186214],\n",
        "       [ 3.88833646],\n",
        "       [ 4.63911795],\n",
        "       [ 4.86965403],\n",
        "       [ 4.94992254],\n",
        "       [ 4.97560038],\n",
        "       [ 3.47650623],\n",
        "       [ 3.96949973],\n",
        "       [ 4.18572095],\n",
        "       [ 4.26521167],\n",
        "       [ 4.29085035]]),\n",
        " <function DP.<lambda>>)"
       ]
      }
     ],
     "prompt_number": 132
    },
    {
     "cell_type": "code",
     "collapsed": false,
     "input": [
      "V_E.reshape((5,5))\n",
      "array(range(0,25)).reshape((5,5))"
     ],
     "language": "python",
     "metadata": {},
     "outputs": [
      {
       "output_type": "pyout",
       "prompt_number": 68,
       "text": [
        "array([[ 0,  1,  2,  3,  4],\n",
        "       [ 5,  6,  7,  8,  9],\n",
        "       [10, 11, 12, 13, 14],\n",
        "       [15, 16, 17, 18, 19],\n",
        "       [20, 21, 22, 23, 24]])"
       ]
      }
     ],
     "prompt_number": 68
    },
    {
     "cell_type": "code",
     "collapsed": false,
     "input": [
      "#Histogramme de la valeur\n",
      "my_cmap = matplotlib.pyplot.cm.cubehelix\n",
      "B = array(range(0,25))\n",
      "A = zeros((5,5))\n",
      "for x in range(0,5):\n",
      "    for y in range(0,5):\n",
      "        A[4-y,x] = V_E[GW.s_index([x,y])]\n",
      "imshow(A, interpolation='none',cmap=my_cmap)\n",
      "colorbar()\n",
      "A"
     ],
     "language": "python",
     "metadata": {},
     "outputs": [
      {
       "output_type": "pyout",
       "prompt_number": 113,
       "text": [
        "array([[ 3.47650623,  3.96949973,  4.18572095,  4.26521167,  4.29085035],\n",
        "       [ 3.88833646,  4.63911795,  4.86965403,  4.94992254,  4.97560038],\n",
        "       [ 3.36507008,  3.89015527,  4.10706876,  4.18629214,  4.21186214],\n",
        "       [ 2.90517408,  3.27798302,  3.47007165,  3.54596849,  3.57111135],\n",
        "       [ 2.54106432,  2.81570087,  2.98291888,  3.05442182,  3.07890014]])"
       ]
      },
      {
       "output_type": "display_data",
       "png": "[encoded data removed]"
      }
     ],
     "prompt_number": 113
    },
    {
     "cell_type": "code",
     "collapsed": false,
     "input": [
      "#x,y = meshgrid(range(0,5),range(0,5))\n",
      "#scatter(x,y,c=[f_Pi_E(GW.s_index(s)) for s in zip_stack(x,y).reshape(-1,2)],)\n",
      "gca().invert_yaxis()\n",
      "#zip_stack(x,y).reshape(-1,2)\n",
      "#B = [f_Pi_E(GW.s_index(s)) for s in ]\n",
      "A = zeros((5,5))\n",
      "for x in range(0,5):\n",
      "    for y in range(0,5):\n",
      "        A[4-y,x] = f_Pi_E(GW.s_index([x,y]))\n",
      "imshow(A, interpolation='none',cmap=my_cmap)\n",
      "colorbar()"
     ],
     "language": "python",
     "metadata": {},
     "outputs": [
      {
       "output_type": "pyout",
       "prompt_number": 137,
       "text": [
        "<matplotlib.colorbar.Colorbar at 0x106a9e550>"
       ]
      },
      {
       "output_type": "display_data",
       "png": "[encoded data removed]"
      }
     ],
     "prompt_number": 137
    }
   ],
   "metadata": {}
  }
 ]
}