{
 "metadata": {
  "name": "Exp18"
 },
 "nbformat": 3,
 "nbformat_minor": 0,
 "worksheets": [
  {
   "cells": [
    {
     "cell_type": "code",
     "collapsed": false,
     "input": [
      "#SCIRLBoost on the Highway\n",
      "from DP import *\n",
      "from stuff import *\n",
      "from pylab import *\n",
      "from random import *\n",
      "import numpy\n",
      "from rl import *\n",
      "mP = genfromtxt(\"Highway_P.mat\")\n",
      "R = genfromtxt(\"Highway_R.mat\")\n",
      "Gamma = 0.9\n",
      "ACTION_SPACE = range(0,5)\n",
      "Highway = MDP(mP,R)\n",
      "mPi_E, V_E, Pi_E = Highway.optimal_policy()"
     ],
     "language": "python",
     "metadata": {},
     "outputs": [
      {
       "output_type": "stream",
       "stream": "stdout",
       "text": [
        "MDP OK3\n",
        "Shape of P (3645, 729)\n",
        "Shape of R (3645,)\n",
        "Card of S 729\n",
        "Card of A 5\n",
        "Card of SA 3645\n",
        "Iteration 0, 888\tactions changed."
       ]
      },
      {
       "output_type": "stream",
       "stream": "stdout",
       "text": [
        "\n",
        "Iteration 1, 800\tactions changed."
       ]
      },
      {
       "output_type": "stream",
       "stream": "stdout",
       "text": [
        "\n",
        "Iteration 2, 234\tactions changed."
       ]
      },
      {
       "output_type": "stream",
       "stream": "stdout",
       "text": [
        "\n",
        "Iteration 3, 50\tactions changed."
       ]
      },
      {
       "output_type": "stream",
       "stream": "stdout",
       "text": [
        "\n",
        "Iteration 4, 0\tactions changed."
       ]
      },
      {
       "output_type": "stream",
       "stream": "stdout",
       "text": [
        "\n"
       ]
      }
     ],
     "prompt_number": 77
    },
    {
     "cell_type": "code",
     "collapsed": false,
     "input": [
      "#Structured Classifier\n",
      "class GradientDescent(object):\n",
      "    \n",
      "   def alpha( self, t ):\n",
      "      raise NotImplementedError, \"Cannot call abstract method\"\n",
      "\n",
      "   theta_0=None\n",
      "   Threshold=None\n",
      "   T = -1\n",
      "   sign = None\n",
      "        \n",
      "   def run( self, f_grad, f_proj=None, b_norm=False ): #grad is a function of theta\n",
      "      theta = self.theta_0.copy()\n",
      "      best_theta = theta.copy()\n",
      "      best_norm = float(\"inf\")\n",
      "      best_iter = 0\n",
      "      t=0\n",
      "      while True:#Do...while loop\n",
      "         t+=1\n",
      "         DeltaTheta = f_grad( theta )\n",
      "         current_norm = norm( DeltaTheta )\n",
      "         if b_norm and  current_norm > 0.:\n",
      "             DeltaTheta /= norm( DeltaTheta )\n",
      "         theta = theta + self.sign * self.alpha( t )*DeltaTheta\n",
      "         if f_proj:\n",
      "             theta = f_proj( theta )\n",
      "         #print \"Norme du gradient : \"+str(current_norm)+\", pas : \"+str(self.alpha(t))+\", iteration : \"+str(t)\n",
      "\n",
      "         if current_norm < best_norm:\n",
      "             best_norm = current_norm\n",
      "             best_theta = theta.copy()\n",
      "             best_iter = t\n",
      "         if current_norm < self.Threshold or (self.T != -1 and t >= self.T):\n",
      "             break\n",
      "\n",
      "      print \"Gradient de norme : \"+str(best_norm)+\", a l'iteration : \"+str(best_iter)\n",
      "      return best_theta\n",
      "\n",
      "\n",
      "class StructuredClassifier(GradientDescent):\n",
      "    sign=-1.\n",
      "    Threshold=0.01 #Sensible default\n",
      "    T=40 #Sensible default\n",
      "    phi=None\n",
      "    phi_xy=None\n",
      "    inputs=None\n",
      "    labels=None\n",
      "    label_set=None\n",
      "    dic_data={}\n",
      "    x_dim=None\n",
      "    \n",
      "    def alpha(self, t):\n",
      "        return 3./(t+1)#Sensible default\n",
      "    \n",
      "    def __init__(self, data, x_dim, phi, phi_dim, Y):\n",
      "        self.x_dim=x_dim\n",
      "        self.inputs = data[:,:-1]\n",
      "        shape = list(data.shape)\n",
      "        shape[-1] = 1\n",
      "        self.labels = data[:,-1].reshape(shape)\n",
      "        self.phi=phi\n",
      "        self.label_set = Y\n",
      "        self.theta_0 = zeros((phi_dim,1))\n",
      "        self.phi_xy = self.phi(data)\n",
      "        for x,y in zip(self.inputs,self.labels):\n",
      "            self.dic_data[str(x)] = y\n",
      "        print self.inputs.shape\n",
      "    \n",
      "    def structure(self, xy):\n",
      "        return 0. if xy[-1] == self.dic_data[str(xy[:-1])] else 1.\n",
      "        \n",
      "    def structured_decision(self, theta):\n",
      "        def decision( x ):\n",
      "            score = lambda xy: dot(theta.transpose(),self.phi(xy)) + self.structure(xy)\n",
      "            input_label_couples = [hstack([x,y]) for y in self.label_set]\n",
      "            best_label = argmax(input_label_couples, score)[-1]\n",
      "            return best_label\n",
      "        vdecision = non_scalar_vectorize(decision, (self.x_dim,), (1,1))\n",
      "        return lambda x: vdecision(x).reshape(x.shape[:-1]+(1,))\n",
      "    \n",
      "    def gradient(self, theta):\n",
      "        classif_rule = self.structured_decision(theta)\n",
      "        y_star = classif_rule(self.inputs)\n",
      "        #print \"Gradient : \"+str(y_star)\n",
      "        #print str(self.labels)\n",
      "        phi_star = self.phi(hstack([self.inputs,y_star]))\n",
      "        return mean(phi_star-self.phi_xy,axis=0)\n",
      "    \n",
      "    def run(self):\n",
      "        f_grad = lambda theta: self.gradient(theta)\n",
      "        theta = super(StructuredClassifier,self).run( f_grad, b_norm=True)\n",
      "        classif_rule = greedy_policy(theta,self.phi,self.label_set)\n",
      "        return classif_rule,theta"
     ],
     "language": "python",
     "metadata": {},
     "outputs": [],
     "prompt_number": 78
    },
    {
     "cell_type": "code",
     "collapsed": false,
     "input": [
      "rho = lambda : int(rand()*729) #uniform distribtion over S\n",
      "l_D_E = [array(Highway.D_func(Pi_E, 1, 7,  rho)) for i in range(0,7)]\n",
      "D_E = vstack(l_D_E)\n",
      "N = len(D_E)\n",
      "D_sasa = D_E.copy()\n",
      "for i in range(0,N):\n",
      "    D_sasa[i,3] = Pi_E(D_E[i,2]) #Making Sasa from sasr\n",
      "D_sasa"
     ],
     "language": "python",
     "metadata": {},
     "outputs": [
      {
       "output_type": "pyout",
       "prompt_number": 79,
       "text": [
        "array([[121,   3,  97,   3],\n",
        "       [ 97,   3,  73,   1],\n",
        "       [ 73,   1, 319,   1],\n",
        "       [319,   1, 544,   0],\n",
        "       [544,   0, 553,   0],\n",
        "       [553,   0, 562,   0],\n",
        "       [562,   0, 545,   0],\n",
        "       [380,   1, 626,   0],\n",
        "       [626,   0, 635,   3],\n",
        "       [635,   3, 617,   0],\n",
        "       [617,   0, 599,   0],\n",
        "       [599,   0, 608,   0],\n",
        "       [608,   0, 617,   0],\n",
        "       [617,   0, 599,   0],\n",
        "       [468,   3, 447,   3],\n",
        "       [447,   3, 426,   1],\n",
        "       [426,   1, 651,   0],\n",
        "       [651,   0, 660,   0],\n",
        "       [660,   0, 669,   0],\n",
        "       [669,   0, 652,   0],\n",
        "       [652,   0, 661,   0],\n",
        "       [206,   1, 452,   1],\n",
        "       [452,   1, 698,   3],\n",
        "       [698,   3, 653,   3],\n",
        "       [653,   3, 635,   3],\n",
        "       [635,   3, 617,   0],\n",
        "       [617,   0, 599,   0],\n",
        "       [599,   0, 608,   0],\n",
        "       [682,   3, 661,   0],\n",
        "       [661,   0, 670,   0],\n",
        "       [670,   0, 651,   0],\n",
        "       [651,   0, 660,   0],\n",
        "       [660,   0, 669,   0],\n",
        "       [669,   0, 651,   0],\n",
        "       [651,   0, 660,   0],\n",
        "       [700,   3, 651,   0],\n",
        "       [651,   0, 660,   0],\n",
        "       [660,   0, 669,   0],\n",
        "       [669,   0, 651,   0],\n",
        "       [651,   0, 660,   0],\n",
        "       [660,   0, 669,   0],\n",
        "       [669,   0, 651,   0],\n",
        "       [ 14,   4,  44,   4],\n",
        "       [ 44,   4,  74,   1],\n",
        "       [ 74,   1, 320,   1],\n",
        "       [320,   1, 543,   4],\n",
        "       [543,   4, 579,   4],\n",
        "       [579,   4, 615,   0],\n",
        "       [615,   0, 597,   0]])"
       ]
      }
     ],
     "prompt_number": 79
    },
    {
     "cell_type": "code",
     "collapsed": false,
     "input": [
      "dic_Psi = {}\n",
      "for s in D_sasa[:,0]:\n",
      "    if not (str(s) in dic_Psi):\n",
      "        dic_Psi[str(squeeze(s))] = rand()\n",
      "f_Psi = lambda s: dic_Psi[str(squeeze(s))]\n",
      "Psi = zeros((N,1))\n",
      "for i in range(0,N):\n",
      "    Psi[i] = f_Psi(D_sasa[i,0])\n",
      "Psi\n"
     ],
     "language": "python",
     "metadata": {},
     "outputs": [
      {
       "output_type": "pyout",
       "prompt_number": 80,
       "text": [
        "array([[ 0.96262246],\n",
        "       [ 0.13379813],\n",
        "       [ 0.60022087],\n",
        "       [ 0.29381323],\n",
        "       [ 0.10855094],\n",
        "       [ 0.18704993],\n",
        "       [ 0.73681207],\n",
        "       [ 0.42153496],\n",
        "       [ 0.22881334],\n",
        "       [ 0.84062193],\n",
        "       [ 0.86996234],\n",
        "       [ 0.99176091],\n",
        "       [ 0.20342223],\n",
        "       [ 0.86996234],\n",
        "       [ 0.35288494],\n",
        "       [ 0.9691369 ],\n",
        "       [ 0.5701956 ],\n",
        "       [ 0.52433021],\n",
        "       [ 0.00109219],\n",
        "       [ 0.80958   ],\n",
        "       [ 0.18490818],\n",
        "       [ 0.98795906],\n",
        "       [ 0.28104817],\n",
        "       [ 0.72081836],\n",
        "       [ 0.58667901],\n",
        "       [ 0.84062193],\n",
        "       [ 0.86996234],\n",
        "       [ 0.99176091],\n",
        "       [ 0.64891515],\n",
        "       [ 0.77088938],\n",
        "       [ 0.57557993],\n",
        "       [ 0.52433021],\n",
        "       [ 0.00109219],\n",
        "       [ 0.80958   ],\n",
        "       [ 0.52433021],\n",
        "       [ 0.41453811],\n",
        "       [ 0.52433021],\n",
        "       [ 0.00109219],\n",
        "       [ 0.80958   ],\n",
        "       [ 0.52433021],\n",
        "       [ 0.00109219],\n",
        "       [ 0.80958   ],\n",
        "       [ 0.69842336],\n",
        "       [ 0.18645462],\n",
        "       [ 0.78350011],\n",
        "       [ 0.31232937],\n",
        "       [ 0.39913193],\n",
        "       [ 0.38062082],\n",
        "       [ 0.34481237]])"
       ]
      }
     ],
     "prompt_number": 80
    },
    {
     "cell_type": "code",
     "collapsed": false,
     "input": [
      "P = 1\n",
      "theta = zeros((P,1))"
     ],
     "language": "python",
     "metadata": {},
     "outputs": [],
     "prompt_number": 81
    },
    {
     "cell_type": "code",
     "collapsed": false,
     "input": [
      "#while True: #Do..while loop\n",
      "#Precomputing mu with MC and heuristics\n",
      "def MC_mu(episode):\n",
      "    answer = zeros((P,1))\n",
      "    for i in range(0,len(episode)):\n",
      "        answer += pow(Gamma,i) * f_Psi(episode[i])\n",
      "    return answer/float(len(episode))\n",
      "\n",
      "feature_expectations_MC = {}\n",
      "d_mu_MC = {}\n",
      "for episode in l_D_E:\n",
      "    for start_index in range(0,len(episode)):\n",
      "        data_MC=episode[start_index:,:2]\n",
      "        state_action = data_MC[0,:2]\n",
      "        state = data_MC[0,0]\n",
      "        action = data_MC[0,1]\n",
      "        mu = MC_mu(data_MC[:,0])\n",
      "        print state_action\n",
      "        try:\n",
      "            d_mu_MC[str(state_action)].append(mu)\n",
      "        except KeyError:\n",
      "            d_mu_MC[str(state_action)] = [mu]\n",
      "        for other_action in [a for a in ACTION_SPACE if a != action]:\n",
      "            state_action=hstack([state,other_action])\n",
      "            try:\n",
      "                d_mu_MC[str(state_action)].append(Gamma*mu)\n",
      "            except KeyError:\n",
      "                d_mu_MC[str(state_action)]=[Gamma*mu]\n",
      "for sa in d_mu_MC.keys():\n",
      "    feature_expectations_MC[sa] = mean(d_mu_MC[sa],axis=0)\n",
      "#feature_expectations_MC"
     ],
     "language": "python",
     "metadata": {},
     "outputs": [
      {
       "output_type": "stream",
       "stream": "stdout",
       "text": [
        "[121   3]\n",
        "[97  3]\n",
        "[73  1]\n",
        "[319   1]\n",
        "[544   0]\n",
        "[553   0]\n",
        "[562   0]\n",
        "[380   1]\n",
        "[626   0]\n",
        "[635   3]\n",
        "[617   0]\n",
        "[599   0]\n",
        "[608   0]\n",
        "[617   0]\n",
        "[468   3]\n",
        "[447   3]\n",
        "[426   1]\n",
        "[651   0]\n",
        "[660   0]\n",
        "[669   0]\n",
        "[652   0]\n",
        "[206   1]\n",
        "[452   1]\n",
        "[698   3]\n",
        "[653   3]\n",
        "[635   3]\n",
        "[617   0]\n",
        "[599   0]\n",
        "[682   3]\n",
        "[661   0]\n",
        "[670   0]\n",
        "[651   0]\n",
        "[660   0]\n",
        "[669   0]\n",
        "[651   0]\n",
        "[700   3]\n",
        "[651   0]\n",
        "[660   0]\n",
        "[669   0]\n",
        "[651   0]\n",
        "[660   0]\n",
        "[669   0]\n",
        "[14  4]\n",
        "[44  4]\n",
        "[74  1]\n",
        "[320   1]\n",
        "[543   4]\n",
        "[579   4]\n",
        "[615   0]\n"
       ]
      }
     ],
     "prompt_number": 87
    },
    {
     "cell_type": "code",
     "collapsed": false,
     "input": [
      "single_mu = lambda sa:feature_expectations_MC[str(sa)]\n",
      "mu_E = non_scalar_vectorize(single_mu, (2,), (P,1))\n",
      "SCIRL_MC = StructuredClassifier(D_E[:,:2], 1, mu_E, P, ACTION_SPACE)\n",
      "void,theta = SCIRL_MC.run()"
     ],
     "language": "python",
     "metadata": {},
     "outputs": [
      {
       "output_type": "stream",
       "stream": "stdout",
       "text": [
        "(49, 1)\n",
        "Gradient de norme : 0.0469268978192, a l'iteration : 1"
       ]
      },
      {
       "output_type": "stream",
       "stream": "stdout",
       "text": [
        "\n"
       ]
      }
     ],
     "prompt_number": 83
    },
    {
     "cell_type": "code",
     "collapsed": false,
     "input": [
      "pi = SCIRL_MC.structured_decision(theta)\n",
      "a_star = pi(D_sasa[:,0].reshape((N,1)))\n",
      "bool_star = (D_sasa[:,-1].reshape((N,1)) != a_star)\n",
      "D_diff = D_sasa[bool_star]\n",
      "print \"|D_diff| = \"+str(len(D_diff))"
     ],
     "language": "python",
     "metadata": {},
     "outputs": [
      {
       "output_type": "stream",
       "stream": "stdout",
       "text": [
        "|D_diff| = 41\n"
       ]
      }
     ],
     "prompt_number": 84
    },
    {
     "cell_type": "code",
     "collapsed": false,
     "input": [
      "A = zeros((p,N))\n",
      "b = zeros((N,p))\n",
      "\n",
      "for i in range(0,N):\n",
      "    sa = D_sasa[i,:2]\n",
      "    b[i] = feature_expectations_MC[str(sa)].transpose()\n",
      "\n",
      "for line in D_sasa:\n",
      "    sa = line[:2]\n",
      "    sa_dash = line[-2:]\n",
      "    mu = feature_expectations_MC[str(sa)]\n",
      "    mu_dash = feature_expectations_MC[str(sa_dash)]\n",
      "    A += dot(inv(dot(mu,(mu-Gamma*mu_dash).transpose())),b.transpose())\n",
      "print A\n",
      "    "
     ],
     "language": "python",
     "metadata": {},
     "outputs": [
      {
       "ename": "KeyError",
       "evalue": "'[545   0]'",
       "output_type": "pyerr",
       "traceback": [
        "\u001b[1;31m---------------------------------------------------------------------------\u001b[0m\n\u001b[1;31mKeyError\u001b[0m                                  Traceback (most recent call last)",
        "\u001b[1;32m<ipython-input-85-d9cf646aad0e>\u001b[0m in \u001b[0;36m<module>\u001b[1;34m()\u001b[0m\n\u001b[0;32m     10\u001b[0m     \u001b[0msa_dash\u001b[0m \u001b[1;33m=\u001b[0m \u001b[0mline\u001b[0m\u001b[1;33m[\u001b[0m\u001b[1;33m-\u001b[0m\u001b[1;36m2\u001b[0m\u001b[1;33m:\u001b[0m\u001b[1;33m]\u001b[0m\u001b[1;33m\u001b[0m\u001b[0m\n\u001b[0;32m     11\u001b[0m     \u001b[0mmu\u001b[0m \u001b[1;33m=\u001b[0m \u001b[0mfeature_expectations_MC\u001b[0m\u001b[1;33m[\u001b[0m\u001b[0mstr\u001b[0m\u001b[1;33m(\u001b[0m\u001b[0msa\u001b[0m\u001b[1;33m)\u001b[0m\u001b[1;33m]\u001b[0m\u001b[1;33m\u001b[0m\u001b[0m\n\u001b[1;32m---> 12\u001b[1;33m     \u001b[0mmu_dash\u001b[0m \u001b[1;33m=\u001b[0m \u001b[0mfeature_expectations_MC\u001b[0m\u001b[1;33m[\u001b[0m\u001b[0mstr\u001b[0m\u001b[1;33m(\u001b[0m\u001b[0msa_dash\u001b[0m\u001b[1;33m)\u001b[0m\u001b[1;33m]\u001b[0m\u001b[1;33m\u001b[0m\u001b[0m\n\u001b[0m\u001b[0;32m     13\u001b[0m     \u001b[0mA\u001b[0m \u001b[1;33m+=\u001b[0m \u001b[0mdot\u001b[0m\u001b[1;33m(\u001b[0m\u001b[0minv\u001b[0m\u001b[1;33m(\u001b[0m\u001b[0mdot\u001b[0m\u001b[1;33m(\u001b[0m\u001b[0mmu\u001b[0m\u001b[1;33m,\u001b[0m\u001b[1;33m(\u001b[0m\u001b[0mmu\u001b[0m\u001b[1;33m-\u001b[0m\u001b[0mGamma\u001b[0m\u001b[1;33m*\u001b[0m\u001b[0mmu_dash\u001b[0m\u001b[1;33m)\u001b[0m\u001b[1;33m.\u001b[0m\u001b[0mtranspose\u001b[0m\u001b[1;33m(\u001b[0m\u001b[1;33m)\u001b[0m\u001b[1;33m)\u001b[0m\u001b[1;33m)\u001b[0m\u001b[1;33m,\u001b[0m\u001b[0mb\u001b[0m\u001b[1;33m.\u001b[0m\u001b[0mtranspose\u001b[0m\u001b[1;33m(\u001b[0m\u001b[1;33m)\u001b[0m\u001b[1;33m)\u001b[0m\u001b[1;33m\u001b[0m\u001b[0m\n\u001b[0;32m     14\u001b[0m \u001b[1;32mprint\u001b[0m \u001b[0mA\u001b[0m\u001b[1;33m\u001b[0m\u001b[0m\n",
        "\u001b[1;31mKeyError\u001b[0m: '[545   0]'"
       ]
      }
     ],
     "prompt_number": 85
    },
    {
     "cell_type": "code",
     "collapsed": false,
     "input": [
      "print l_D_E[0]"
     ],
     "language": "python",
     "metadata": {},
     "outputs": [
      {
       "output_type": "stream",
       "stream": "stdout",
       "text": [
        "[[121   3  97   0]\n",
        " [ 97   3  73   0]\n",
        " [ 73   1 319   0]\n",
        " [319   1 544   0]\n",
        " [544   0 553   0]\n",
        " [553   0 562   0]\n",
        " [562   0 545   0]]\n"
       ]
      }
     ],
     "prompt_number": 86
    }
   ],
   "metadata": {}
  }
 ]
}